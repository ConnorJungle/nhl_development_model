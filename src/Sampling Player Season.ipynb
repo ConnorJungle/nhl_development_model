{
 "cells": [
  {
   "cell_type": "code",
   "execution_count": 1,
   "metadata": {},
   "outputs": [],
   "source": [
    "from data_processing import *\n",
    "\n",
    "from scoring_lstm import Model\n",
    "\n",
    "from networkx.drawing.nx_agraph import graphviz_layout\n",
    "import matplotlib.lines as mlines\n",
    "import matplotlib.pyplot as plt\n",
    "import networkx as nx\n",
    "import matplotlib\n",
    "\n",
    "from scipy.stats import mode\n",
    "import pandas as pd\n",
    "import numpy as np\n",
    "import warnings\n",
    "import joblib\n",
    "import torch\n",
    "import ast\n",
    "\n",
    "league_model_col_order = ['forward', 'gp', 'draft_pick', 'is_drafted', 'height', 'weight', 'real_season_age',\n",
    "                        'gpg', 'apg', 'ppg', 'perc_team_g', 'perc_team_a', 'perc_team_tp', 'AJHL', \n",
    "                        'Allsvenskan', 'BCHL', 'CCHL', 'Czech', 'Czech2', 'Jr. A SM-liiga', 'KHL', 'Liiga',\n",
    "                        'MHL', 'NCAA', 'NHL', 'NLA', 'OHL', 'OJHL', 'QMJHL', 'SHL', 'SJHL', 'SuperElit', \n",
    "                        'USHL', 'VHL', 'WHL', 18, 19, 20, 21, 22, 23, 'round_1.0', \n",
    "                        'round_2.0', 'round_3.0', 'round_4.0', 'round_5.0', \n",
    "                        'round_6.0', 'round_7.0', 'round_8.0', 'round_9.0']\n",
    "\n",
    "scoring_model_col_order =['forward', 'gp', 'gp_y_plus_1', 'draft_pick', 'is_drafted',\n",
    "                          'height', 'weight', 'real_season_age', 'gpg', 'apg', 'ppg', 'perc_team_g', \n",
    "                          'perc_team_a', 'perc_team_tp', 'AJHL', 'Allsvenskan', 'BCHL', 'CCHL', 'Czech',\n",
    "                          'Czech2', 'Jr. A SM-liiga', 'KHL', 'Liiga', 'MHL', 'NCAA', 'NHL', 'NLA',\n",
    "                          'OHL', 'OJHL', 'QMJHL', 'SHL', 'SJHL', 'SuperElit', 'USHL', 'VHL', 'WHL', \n",
    "                          18, 19, 20, 21, 22, 23, 'round_1.0', 'round_2.0',\n",
    "                          'round_3.0', 'round_4.0', 'round_5.0', 'round_6.0', 'round_7.0',\n",
    "                          'round_8.0', 'round_9.0', 'next_yr_AJHL', 'next_yr_Allsvenskan', \n",
    "                          'next_yr_BCHL', 'next_yr_CCHL', 'next_yr_Czech', 'next_yr_Czech2', \n",
    "                          'next_yr_Jr. A SM-liiga', 'next_yr_KHL', 'next_yr_Liiga', \n",
    "                          'next_yr_MHL', 'next_yr_NCAA', 'next_yr_NHL', 'next_yr_NLA',\n",
    "                          'next_yr_OHL', 'next_yr_OJHL', 'next_yr_QMJHL', \n",
    "                          'next_yr_SHL', 'next_yr_SJHL', 'next_yr_SuperElit', \n",
    "                          'next_yr_USHL', 'next_yr_VHL', 'next_yr_WHL']\n",
    "\n",
    "pd.set_option('max_column', 0)\n",
    "warnings.filterwarnings('ignore')\n",
    "\n",
    "class GeneratePlayer(object):\n",
    "    def __init__(self):\n",
    "        self.dataset = pd.read_csv('../data/player_season_stats.csv')\n",
    "        \n",
    "        self.league_model = joblib.load('../models/predict_next_league.pkl')\n",
    "#         self.scoring_model = joblib.load('../models/scoring_model.pkl')\n",
    "        self.scoring_lstm = Model() \n",
    "        self.scoring_lstm.load_state_dict(torch.load('../models/scoring_lstm_checkpoint.pth'))\n",
    "        self.scoring_lstm.eval()\n",
    "        \n",
    "        self.ppg_model = joblib.load('../models/ppg_team_model.pkl')\n",
    "        self.gpg_model = joblib.load('../models/gpg_team_model.pkl')\n",
    "        self.apg_model = joblib.load('../models/apg_team_model.pkl')\n",
    "        \n",
    "    def initialize_player(self, playerid):\n",
    "        self.playerid = playerid\n",
    "        self.player_df = self.dataset[self.dataset.playerid == int(playerid)]\n",
    "        # for current draft eligibles, impute their average draft position\n",
    "        self.player_df = draft_current_year(self.player_df)\n",
    "        self.player_name = self.player_df.player.iloc[0]\n",
    "        self.current_age = self.player_df.season_age.max()\n",
    "        self.start_age = self.player_df.season_age.max()\n",
    "        self.start_league = self.player_df[self.player_df.season_age == self.player_df.season_age.max()].league.iloc[0]\n",
    "        self.a_proportion = (self.player_df.apg / self.player_df.ppg).median()\n",
    "        self.g_proportion = 1 - self.a_proportion\n",
    "        self.projections = pd.DataFrame()\n",
    "        self.position = self.get_position()\n",
    "        self.scoring_by_position()\n",
    "    \n",
    "    def scoring_by_position(self):\n",
    "    \n",
    "        data = player.dataset\n",
    "\n",
    "        data['primary_position'] = data.position.apply(get_primary_position)\n",
    "\n",
    "        self.position_ppg = data[(data.season_age >= 17)\n",
    "                                 & (data.season_age <= 23)].groupby('primary_position').ppg.mean().to_dict()\n",
    "\n",
    "\n",
    "    def impute_games_played(self):\n",
    "        \n",
    "        team_mask = self.dataset.team.apply(lambda x : len(ast.literal_eval(x)) > 1)\n",
    "\n",
    "        self.gp_dict = self.dataset[(self.dataset.gp < 85)\n",
    "                               & (self.dataset.season_age >= 17)\n",
    "                               & ~(team_mask)\n",
    "                               & (self.dataset.season_age <= 23)].groupby('league').gp.mean().round().to_dict()\n",
    "        \n",
    "        self.gp_full = self.dataset[(self.dataset.gp < 85)\n",
    "                               & (self.dataset.season_age >= 17)\n",
    "                               & ~(team_mask)\n",
    "                               & (self.dataset.season_age <= 23)].groupby('league').gp.apply(lambda x: mode(x)[0][0]).round().to_dict()\n",
    "        \n",
    "    def get_position(self):\n",
    "        \n",
    "        return get_primary_position(self.player_df.position.iloc[0])\n",
    "        \n",
    "    def load_features(self, target):\n",
    "        \n",
    "        self.features, self.target, self.scaler = prepare_features(self.dataset, target)\n",
    "        \n",
    "    def get_player_index(self):\n",
    "    \n",
    "        return (self.player_df.playerid.iloc[0], self.player_df.player.iloc[0])\n",
    "    \n",
    "    def get_league_index(self):\n",
    "        \n",
    "        self.league_index = { i:k for i, k in enumerate(np.unique(self.dataset['league']))}\n",
    "    \n",
    "    def generate_league_season(self, player_df):\n",
    "        \n",
    "        # load entire model feature set\n",
    "        self.load_features('league_y_plus_1')\n",
    "        # instantiate league index\n",
    "        self.get_league_index()\n",
    "        # league to game played mapping\n",
    "        self.impute_games_played()\n",
    "        # Pad player career to get entries for all possible seasons\n",
    "        self.pad_player = pad_data(player_df, [self.get_player_index()])\n",
    "        # Get age of the last played season\n",
    "        self.current_age = self.pad_player.season_age.max()\n",
    "        # create retrieve data from season and produce model features\n",
    "        self.current_season = self.pad_player[self.pad_player.season_age == self.current_age]\n",
    "        self.current_league = self.current_season.league.iloc[0]\n",
    "        self.current_season = prepare_features_single_season(self.current_season, self.scaler, 'league_y_plus_1')\n",
    "        # append model features to entire dataset to inherent all the necessary columns\n",
    "        player_league_features = pd.DataFrame(self.features.loc[self.get_player_index()].append(\n",
    "            self.current_season.droplevel([0,1])).loc[self.current_age])\n",
    "        # predict next year league probabilities for the last played season\n",
    "        league_pred = self.league_model.predict_proba(\n",
    "            player_league_features.T.fillna(0)[league_model_col_order]).round(3)\n",
    "        # write league probabilities to player dataframe to iterate over\n",
    "        league_probs = pd.DataFrame([[self.current_league,\n",
    "                                      self.league_index[idx], \n",
    "                                      np.squeeze(league_pred)[idx]] for idx in np.flatnonzero(league_pred > 0)],\n",
    "                                    columns=['start_league', 'league', 'probability'],\n",
    "                                    index=pd.MultiIndex.from_tuples(\n",
    "                                        [self.get_player_index() + (self.current_age + 1,)\\\n",
    "                                         for i in range(len(np.flatnonzero(league_pred > 0)))],\n",
    "                                        names=['playerid', 'player', 'season_age'])\n",
    "                                   )# incriment year\n",
    "        \n",
    "        # sort by probability\n",
    "        league_probs.sort_values('probability', ascending=False, inplace=True)\n",
    "        # only return values that > 2% probability\n",
    "        league_probs = league_probs[(league_probs.probability >= 0.1) |\n",
    "                                              (league_probs.league == 'NHL')].reset_index().head(3)\n",
    "        # redistribute probabilities \n",
    "        league_probs.probability /= league_probs.probability.sum()\n",
    "    \n",
    "        league_probs['gp'] = league_probs.league.map(self.gp_dict)\n",
    "\n",
    "        self.league_probs = league_probs\n",
    "        \n",
    "    def generate_league_scoring(self, player_df):\n",
    "        # load entire model feature set\n",
    "        self.load_features('ppg_y_plus_1')\n",
    "\n",
    "        for i, (_, sim) in enumerate(self.league_probs.iterrows()):\n",
    "            # create retrieve data from season and produce model features\n",
    "            self.current_season = self.pad_player[self.pad_player.season_age == self.current_age]\n",
    "            self.current_season['gp_y_plus_1'] = sim['gp']\n",
    "            self.current_season = prepare_features_single_season(self.current_season, \n",
    "                                                                       self.scaler, \n",
    "                                                                       'ppg_y_plus_1')\n",
    "            self.current_season['next_yr_{}'.format(sim['league'])] = 1\n",
    "            # player features for lstm\n",
    "            player_league_features = pd.DataFrame(\n",
    "                self.features.loc[self.get_player_index()]\\\n",
    "                                        .append(self.current_season.droplevel([0,1]))\n",
    "            ).fillna(0)[scoring_model_col_order]\n",
    "\n",
    "            # pad sequence for LSTM\n",
    "            player_league_features = pad_sequence(player_league_features).values\n",
    "\n",
    "            with torch.no_grad():\n",
    "                lstm_preds = torch.Tensor([])  # to store our predictions for season t+1\n",
    "                pred_t, _ = self.scoring_lstm(player_league_features,\n",
    "                                                 np.ndarray((player_league_features.shape[0], 1))) # dummy target array\n",
    "                lstm_preds = torch.cat((lstm_preds, pred_t))\n",
    "\n",
    "            self.league_probs.at[i, 'ppg'] = lstm_preds.detach().numpy()[-1]\n",
    "        \n",
    "        # partition ppg into assists and goals\n",
    "        self.league_probs['gpg'] = self.league_probs.ppg * self.g_proportion\n",
    "        self.league_probs['apg'] = self.league_probs.ppg * self.a_proportion\n",
    "        # Append predictions to projections dataframe\n",
    "#         self.projections = self.projections.append(self.league_probs.reset_index())\n",
    "            \n",
    "    def generate_league_scoring_baseline(self):\n",
    "\n",
    "        # load entire model feature set\n",
    "        self.load_features('ppg_y_plus_1')\n",
    "        # instantiate league index\n",
    "        self.get_league_index()\n",
    "        # league to game played mapping\n",
    "        self.impute_games_played()\n",
    "        \n",
    "        # Pad player career to get entries for all possible seasons\n",
    "        pad_player = pad_data(self.player_df, [self.get_player_index()])\n",
    "        self.current_age = pad_player.season_age.max()\n",
    "\n",
    "        for i, (_, sim) in enumerate(self.league_probs.iterrows()):\n",
    "            # create retrieve data from season and produce model features\n",
    "            self.current_season = pad_player[pad_player.season_age == self.current_age]\n",
    "            self.current_season['gp_y_plus_1'] = sim['gp_y_plus_1']\n",
    "            self.current_season = prepare_features_single_season(self.current_season, self.scaler, 'ppg_y_plus_1')\n",
    "            self.current_season['next_yr_{}'.format(sim['league'])] = 1\n",
    "            # append model features to entire dataset to inherent all the necessary columns\n",
    "            player_league_features = pd.DataFrame(self.features.loc[self.get_player_index()].append(\n",
    "                self.current_season.droplevel([0,1])).loc[self.current_age])\n",
    "\n",
    "            scoring_pred = self.scoring_model.predict(\n",
    "                        player_league_features.T.fillna(0)[scoring_model_col_order]).round(3)\n",
    "\n",
    "            self.league_probs.at[i, 'ppg'] = scoring_pred\n",
    "    \n",
    "    def interpolate_team_scoring(self):\n",
    "\n",
    "        features = self.league_probs[['ppg', 'apg', 'gpg']].merge(\n",
    "            pd.get_dummies(self.league_probs.reset_index()['league']),\n",
    "            left_index=True,\n",
    "            right_index=True).merge(\n",
    "            pd.get_dummies(self.league_probs.reset_index()['season_age'].astype(int)),\n",
    "            left_index=True,\n",
    "            right_index=True)\n",
    "\n",
    "        features.index = np.full((features.shape[0],), self.current_age + 1)\n",
    "\n",
    "        X = self.features.loc[self.get_player_index()]\n",
    "        for _, row in features.iterrows():\n",
    "            X = X.append(row.to_frame().T)\n",
    "            \n",
    "        X = X.loc[(self.current_age + 1)]\n",
    "\n",
    "        league_feats = [v for k,v in self.league_index.items()][1:]\n",
    "        age_feats = [i for i in range(18, 24)]\n",
    "        \n",
    "        input_dim = X.shape[0] if X.shape[0] != self.features.shape[1] else 1\n",
    "        \n",
    "        self.league_probs['perc_team_a'] = self.apg_model.predict(\n",
    "            X.fillna(0)[['apg'] + league_feats + age_feats].values.reshape(input_dim, self.apg_model.coef_.shape[0]))\n",
    "        self.league_probs['perc_team_g'] = self.gpg_model.predict(\n",
    "            X.fillna(0)[['gpg'] + league_feats + age_feats].values.reshape(input_dim, self.apg_model.coef_.shape[0]))\n",
    "        self.league_probs['perc_team_tp'] = self.ppg_model.predict(\n",
    "            X.fillna(0)[['ppg'] + league_feats + age_feats].values.reshape(input_dim, self.ppg_model.coef_.shape[0]))\n",
    "    \n",
    "    def recursive_season_concat(self, season, df = pd.DataFrame()):\n",
    "        \n",
    "        prev_season = self.projections[self.projections.node == season['start_node']]\n",
    "        \n",
    "        if prev_season.empty:\n",
    "            \n",
    "            return df.append(season.to_frame().T)\n",
    "\n",
    "        else:\n",
    "            df = df.append(season)\n",
    "#             season = df.loc[df.season_age == df.season_age.min()].squeeze()\n",
    "\n",
    "            return self.recursive_season_concat(prev_season.squeeze(), df).sort_values('season_age')\n",
    "\n",
    "    def fill_player_attributes(self, season):\n",
    "        \n",
    "        df = self.player_df.append(self.recursive_season_concat(season))\n",
    "        df['position'] = df['position'].fillna(method = 'ffill') \n",
    "        df['height'] = df['height'].fillna(method = 'ffill')\n",
    "        df['weight'] = df['weight'].fillna(method = 'ffill')\n",
    "        df['draft_year_eligible'] = df['draft_year_eligible'] .fillna(method = 'ffill') \n",
    "        df['draft_year'] = df['draft_year'] .fillna(method = 'ffill') \n",
    "        df['draft_round'] = df['draft_round'].fillna(method = 'ffill')\n",
    "        df['draft_pick'] = df['draft_pick'].fillna(method = 'ffill')\n",
    "        df['real_season_age'] = (df['real_season_age'].min() + np.arange(0, len(df)))\n",
    "        df['start_year'] = (df['start_year'].min() + np.arange(0, len(df)))\n",
    "        df['end_year'] = (df['end_year'].min() + np.arange(0, len(df)))\n",
    "\n",
    "        return df\n",
    "            \n",
    "    def simulate_player_development(self, node_counter=1): \n",
    "    \n",
    "        while self.current_age + 1 <= 23:\n",
    "\n",
    "            print(f'--- Simulating Seasons --- {self.player_name} --- Age: {int(self.current_age)}')\n",
    "\n",
    "            if node_counter == 1:\n",
    "                self.generate_league_season(self.player_df)\n",
    "                self.generate_league_scoring(self.player_df)\n",
    "                self.interpolate_team_scoring()\n",
    "                self.league_probs['start_node'] = node_counter\n",
    "                self.league_probs['node'] = np.arange(node_counter + 1, node_counter + 1 + len(self.league_probs))\n",
    "\n",
    "                self.current_simulation = self.league_probs\n",
    "                self.projections = self.projections.append(self.current_simulation)\n",
    "                node_counter += len(self.league_probs)\n",
    "                self.current_age += 1\n",
    "                print(f'--- Simulation Complete --- {self.player_name} --- Age: {int(self.current_age)}')\n",
    "\n",
    "            else:\n",
    "                print(f'--- Simulating Seasons --- {self.player_name} --- Age: {int(self.current_age)}')\n",
    "                simulated_seasons = pd.DataFrame()\n",
    "\n",
    "                for _, sim in self.current_simulation.iterrows():\n",
    "                    player_df = self.fill_player_attributes(sim)\n",
    "                    self.generate_league_season(player_df)\n",
    "                    self.generate_league_scoring(player_df)\n",
    "                    self.interpolate_team_scoring()\n",
    "                    self.league_probs['start_node'] = sim['node']\n",
    "                    self.league_probs['node'] = np.arange(node_counter + 1, node_counter + 1 + len(self.league_probs))\n",
    "                    # Append predictions to projections dataframe\n",
    "                    simulated_seasons = simulated_seasons.append(self.league_probs)\n",
    "                    self.projections = self.projections.append(self.league_probs)\n",
    "                    node_counter += len(self.league_probs)\n",
    "\n",
    "                self.current_simulation = simulated_seasons\n",
    "                print(f'--- Simulation Complete --- {self.player_name} --- Age: {int(self.current_age)}')\n",
    "                self.current_age += 1\n",
    "\n",
    "            self.simulate_player_development(node_counter)\n",
    "        \n",
    "        # to calculate epoints let players play full seasons\n",
    "        self.projections['gp'] = self.projections.league.map(self.gp_full)\n",
    "        self.projections['epoints'] = self.projections.ppg * self.projections.gp\n",
    "        \n",
    "    def generate_network_graph(self):\n",
    "        \n",
    "        self.G = nx.convert_matrix.from_pandas_edgelist(self.projections.round(3),\n",
    "                             source='start_node',\n",
    "                             target='node',\n",
    "                             edge_attr=['probability', 'epoints'],\n",
    "                             create_using=nx.DiGraph())\n",
    "        \n",
    "        self.G.nodes[1]['league'] = self.start_league\n",
    "        self.G.nodes[1]['age'] = self.start_age\n",
    "        self.G.nodes[1]['epoints'] = self.player_df[self.player_df.season_age == self.player_df.season_age.max()].tp.values.item()\n",
    "        self.G.nodes[1]['ppg'] = self.player_df[self.player_df.season_age == self.player_df.season_age.max()].round(3).ppg.values.item()\n",
    "        self.G.nodes[1]['cond_prob'] = node_probability(self.G, 1)\n",
    "        self.G.nodes[1]['xvalue'] = round(node_expected_value(self.G, 1),3)\n",
    "        \n",
    "        for n in self.projections.node.values:\n",
    "            self.G.nodes[n]['league'] = self.projections[self.projections.node == n].league.values.item()\n",
    "            self.G.nodes[n]['age'] = self.projections[self.projections.node == n].season_age.values.item()\n",
    "            self.G.nodes[n]['epoints'] = self.projections[self.projections.node == n].epoints.values.item()\n",
    "            self.G.nodes[n]['ppg'] = self.projections[self.projections.node == n].ppg.round(3).values.item()\n",
    "            self.G.nodes[n]['cond_prob'] = node_probability(self.G, n)\n",
    "            self.G.nodes[n]['xvalue'] = round(node_expected_value(self.G, n),3)\n",
    "        \n",
    "        self.calculate_value_metrics()\n",
    "        \n",
    "    def plot_network_graph(self):\n",
    "        \n",
    "        matplotlib.rc('font',family='monospace')\n",
    "\n",
    "        fig, ax = plt.subplots(figsize=(20,10))\n",
    "\n",
    "        # create tree layout and rescale based on age\n",
    "        pos = graphviz_layout(self.G, prog='dot')\n",
    "        # array of ages for y-axis\n",
    "        ages = np.arange(self.start_age,\n",
    "                         self.projections.season_age.astype(int).max() + 1,\n",
    "                         1)\n",
    "        # rescale x,y coordinates\n",
    "        y = np.array([xy[1] for _, xy in pos.items()])\n",
    "        y_rescale = (y.max() / y.min()) / (ages.max() / ages.min())\n",
    "        y_map = { k:v for k,v in zip(sorted(np.unique(y))[::-1], ages)}\n",
    "        pos = {u :(v[0] / y_rescale, y_map[v[1]]) for u,v in pos.items()}\n",
    "\n",
    "        # set params\n",
    "#         node_sizes = [int(self.G.nodes[1]['ppg'] / self.position_ppg[self.position] * 300)] \\\n",
    "#         + [int(v * 300) for v in self.projections.ppg.div(self.position_ppg[self.position]).values.tolist()]\n",
    "        node_sizes = [self.G.nodes[g]['ppg'] / self.position_ppg[self.position] * 500 for g in self.G.nodes]\n",
    "        self.node_sizes = node_sizes\n",
    "\n",
    "        # draw nodes\n",
    "        nodes = nx.draw_networkx_nodes(self.G,\n",
    "                                       pos,\n",
    "                                       node_size=node_sizes,\n",
    "                                       node_color='dodgerblue',\n",
    "                                       ax=ax)\n",
    "        node_labels = nx.get_node_attributes(self.G, 'league')\n",
    "        nx.draw_networkx_labels(self.G,\n",
    "                                pos,\n",
    "                                node_labels,\n",
    "                                font_size=14,\n",
    "                                ax=ax, \n",
    "                                font_family='monospace', \n",
    "                                font_color='black', \n",
    "                                font_weight='bold',)\n",
    "\n",
    "        # draw edges\n",
    "        edges = nx.draw_networkx_edges(self.G,\n",
    "                                       pos, \n",
    "                                       arrowstyle='->', \n",
    "                                       arrowsize=20, \n",
    "                                       edge_cmap=plt.cm.Greys, \n",
    "                                       width=3,\n",
    "                                       ax=ax)\n",
    "        edge_labels = nx.get_edge_attributes(self.G, 'probability')\n",
    "        nx.draw_networkx_edge_labels(self.G, \n",
    "                                     pos, \n",
    "                                     edge_labels, \n",
    "                                     font_size=12,\n",
    "                                     ax=ax, \n",
    "                                     font_family='monospace')\n",
    "\n",
    "        # set alpha value for each edge\n",
    "        for i in range(len(self.projections)):\n",
    "            edges[i].set_alpha(self.projections.probability.values[i])\n",
    "\n",
    "        # colourscale for colourbar\n",
    "        pc = matplotlib.collections.PatchCollection(edges, cmap=plt.cm.Greys)\n",
    "        pc.set_array([(5 + i) / (30 + 4) for i in range(30)])\n",
    "        plt.colorbar(pc).ax.set_title('Transition %')\n",
    "        # create legend for projected points\n",
    "        custom_leg = [mlines.Line2D([0], [0], marker='o', color='dodgerblue', linestyle='None') for _ in range(0,5)]\n",
    "        # 4 part distirubtion\n",
    "        Q1 = np.percentile([self.G.nodes[g]['ppg'] for g in self.G.nodes], 25, interpolation = 'midpoint').round(1) \n",
    "        Q2 = np.percentile([self.G.nodes[g]['ppg'] for g in self.G.nodes], 50, interpolation = 'midpoint').round(1) \n",
    "        Q3 = np.percentile([self.G.nodes[g]['ppg'] for g in self.G.nodes], 75, interpolation = 'midpoint').round(1)\n",
    "        Q4 = np.percentile([self.G.nodes[g]['ppg'] for g in self.G.nodes], 100, interpolation = 'midpoint').round(1)\n",
    "        point_range=[Q1, Q2, Q3, Q4]\n",
    "        self.point_range = point_range\n",
    "        custom_leg = [mlines.Line2D([0], [0],\n",
    "                                    marker='o',\n",
    "                                    color='dodgerblue',\n",
    "                                    markersize=point_range[i] / self.position_ppg[self.position] * 10 ,\n",
    "                                    linestyle='None') for i in range(0,4)]\n",
    "        leg = plt.legend(custom_leg, point_range,\n",
    "                         title = 'Projected Points (PPG)',\n",
    "                         labelspacing=2.5,\n",
    "                         handletextpad=1.5,\n",
    "                         borderpad=1.5,\n",
    "                         ncol=4,)\n",
    "            \n",
    "        ax.annotate('', xytext=(-.075, 0),  xy=(-.075, 1),  xycoords='axes fraction', arrowprops=dict(color='black', width=2))\n",
    "\n",
    "        # axis changes\n",
    "        ax.set_yticks(ages)\n",
    "        ax.tick_params(left=True, bottom=False, labelleft=True, labelbottom=False)\n",
    "        ax.set_ylabel('Season Age', size=16, weight='bold')\n",
    "        ax.set_xlabel('MeaningleX Axis', size=12)\n",
    "        plt.gca().yaxis.grid(True, linestyle='--',)\n",
    "        plt.title(f\"{self.player_name} Player Development\", fontsize=18, fontweight='bold')\n",
    "        footnote = \"\"\"By: Connor Jung @ConnorJungle, Data Source: Elite Prospects\"\"\"\n",
    "        plt.figtext(0.125, 0.05, footnote)\n",
    "        # save image\n",
    "        fname = '_'.join(self.player_name.split()).lower()\n",
    "        plt.savefig(f\"../images/{fname}_{self.playerid}_player_development_network_graph.png\",\n",
    "                    dpi=300,\n",
    "                    bbox_inches='tight',\n",
    "                    pad_inches=1.2,\n",
    "                    format='png')\n",
    "        \n",
    "        plt.show()\n",
    "        \n",
    "    def get_nhl_value(self):\n",
    "\n",
    "        nodes = self.projections[(self.projections.start_node==1)].node\n",
    "\n",
    "        return dict(nhl_expected_value=round(sum([nhl_expected_value(self.G, n) for n in nodes]),2))\n",
    "\n",
    "    def get_nhl_path(self):\n",
    "\n",
    "        nodes = self.projections[(self.projections.season_age==23)\n",
    "                                  & (self.projections.league=='NHL')].node\n",
    "\n",
    "        probs = []\n",
    "        max_prob = 0\n",
    "        max_node = 1\n",
    "\n",
    "        for node in nodes:\n",
    "            node_prob = node_probability(self.G, node)\n",
    "            if node_prob > max_prob:\n",
    "                max_prob = node_prob\n",
    "                max_node = node\n",
    "            probs.append(node_prob)\n",
    "\n",
    "        return dict(nhl_likelihood=round(sum(probs),2), most_likelihood_nhl_node=max_node)\n",
    "        \n",
    "    def calculate_value_metrics(self):\n",
    "            \n",
    "        player_value = dict(playerid = self.playerid,\n",
    "                            player_name = self.player_name,\n",
    "                            position = self.position)\n",
    "\n",
    "        player_value.update(self.get_nhl_path())\n",
    "\n",
    "        player_value.update(self.get_nhl_value())\n",
    "\n",
    "        self.player_value = player_value\n",
    "            \n",
    "    def run(self, playerid):\n",
    "    \n",
    "        self.initialize_player(playerid)\n",
    "        self.simulate_player_development()\n",
    "        self.generate_network_graph()\n",
    "        self.plot_network_graph()\n",
    "\n",
    "        return self.projections\n",
    "        \n",
    "def node_probability(G, node):\n",
    "    \n",
    "    probabilities = []\n",
    "    for n in sorted(nx.ancestors(G, node))[::-1]:\n",
    "        probabilities.append(G.edges[(n, node)]['probability'])\n",
    "        node=n\n",
    "    return np.prod(probabilities)\n",
    "\n",
    "def node_expected_value(G, node):\n",
    "\n",
    "    return sum(G.nodes[node]['epoints'] * G.nodes[node]['cond_prob'] for n in nx.ancestors(G, node) | {node})\n",
    "\n",
    "def nhl_expected_value(G, node):\n",
    "        \n",
    "    return np.sum([G.nodes[node]['epoints'] * G.nodes[node]['cond_prob'] if G.nodes[node]['league'] == 'NHL' else 0] + \\\n",
    "                [G.nodes[n]['epoints'] * G.nodes[n]['cond_prob']\\\n",
    "                   for n in nx.descendants(G, node) if G.nodes[n]['league'] == 'NHL']).round(1)\n"
   ]
  },
  {
   "cell_type": "code",
   "execution_count": 2,
   "metadata": {},
   "outputs": [],
   "source": [
    "player = GeneratePlayer()"
   ]
  },
  {
   "cell_type": "code",
   "execution_count": 3,
   "metadata": {},
   "outputs": [
    {
     "name": "stdout",
     "output_type": "stream",
     "text": [
      "--- Simulating Seasons --- Quinton Byfield --- Age: 18\n",
      "--- Simulation Complete --- Quinton Byfield --- Age: 19\n",
      "--- Simulating Seasons --- Quinton Byfield --- Age: 19\n",
      "--- Simulating Seasons --- Quinton Byfield --- Age: 19\n",
      "--- Simulation Complete --- Quinton Byfield --- Age: 19\n",
      "--- Simulating Seasons --- Quinton Byfield --- Age: 20\n",
      "--- Simulating Seasons --- Quinton Byfield --- Age: 20\n",
      "--- Simulation Complete --- Quinton Byfield --- Age: 20\n",
      "--- Simulating Seasons --- Quinton Byfield --- Age: 21\n",
      "--- Simulating Seasons --- Quinton Byfield --- Age: 21\n",
      "--- Simulation Complete --- Quinton Byfield --- Age: 21\n",
      "--- Simulating Seasons --- Quinton Byfield --- Age: 22\n",
      "--- Simulating Seasons --- Quinton Byfield --- Age: 22\n",
      "--- Simulation Complete --- Quinton Byfield --- Age: 22\n"
     ]
    }
   ],
   "source": [
    "player.initialize_player('503020')\n",
    "player.simulate_player_development(node_counter=1)\n",
    "player.generate_network_graph()"
   ]
  },
  {
   "cell_type": "code",
   "execution_count": 31,
   "metadata": {},
   "outputs": [
    {
     "data": {
      "text/html": [
       "<div>\n",
       "<style scoped>\n",
       "    .dataframe tbody tr th:only-of-type {\n",
       "        vertical-align: middle;\n",
       "    }\n",
       "\n",
       "    .dataframe tbody tr th {\n",
       "        vertical-align: top;\n",
       "    }\n",
       "\n",
       "    .dataframe thead th {\n",
       "        text-align: right;\n",
       "    }\n",
       "</style>\n",
       "<table border=\"1\" class=\"dataframe\">\n",
       "  <thead>\n",
       "    <tr style=\"text-align: right;\">\n",
       "      <th></th>\n",
       "      <th>playerid</th>\n",
       "      <th>player</th>\n",
       "      <th>season_age</th>\n",
       "      <th>start_league</th>\n",
       "      <th>league</th>\n",
       "      <th>probability</th>\n",
       "      <th>gp</th>\n",
       "      <th>ppg</th>\n",
       "      <th>gpg</th>\n",
       "      <th>apg</th>\n",
       "      <th>perc_team_a</th>\n",
       "      <th>perc_team_g</th>\n",
       "      <th>perc_team_tp</th>\n",
       "      <th>start_node</th>\n",
       "      <th>node</th>\n",
       "      <th>epoints</th>\n",
       "    </tr>\n",
       "  </thead>\n",
       "  <tbody>\n",
       "    <tr>\n",
       "      <th>0</th>\n",
       "      <td>503020</td>\n",
       "      <td>Quinton Byfield</td>\n",
       "      <td>19.0</td>\n",
       "      <td>OHL</td>\n",
       "      <td>NHL</td>\n",
       "      <td>0.559411</td>\n",
       "      <td>82.0</td>\n",
       "      <td>0.500954</td>\n",
       "      <td>0.216826</td>\n",
       "      <td>0.284127</td>\n",
       "      <td>0.058175</td>\n",
       "      <td>0.074382</td>\n",
       "      <td>0.063829</td>\n",
       "      <td>1</td>\n",
       "      <td>2</td>\n",
       "      <td>41.078196</td>\n",
       "    </tr>\n",
       "    <tr>\n",
       "      <th>0</th>\n",
       "      <td>503020</td>\n",
       "      <td>Quinton Byfield</td>\n",
       "      <td>20.0</td>\n",
       "      <td>NHL</td>\n",
       "      <td>NHL</td>\n",
       "      <td>1.000000</td>\n",
       "      <td>82.0</td>\n",
       "      <td>0.832750</td>\n",
       "      <td>0.360437</td>\n",
       "      <td>0.472314</td>\n",
       "      <td>0.090814</td>\n",
       "      <td>0.115986</td>\n",
       "      <td>0.099541</td>\n",
       "      <td>2</td>\n",
       "      <td>4</td>\n",
       "      <td>68.285526</td>\n",
       "    </tr>\n",
       "    <tr>\n",
       "      <th>1</th>\n",
       "      <td>503020</td>\n",
       "      <td>Quinton Byfield</td>\n",
       "      <td>20.0</td>\n",
       "      <td>OHL</td>\n",
       "      <td>NHL</td>\n",
       "      <td>0.372632</td>\n",
       "      <td>82.0</td>\n",
       "      <td>1.205543</td>\n",
       "      <td>0.521792</td>\n",
       "      <td>0.683752</td>\n",
       "      <td>0.127401</td>\n",
       "      <td>0.163396</td>\n",
       "      <td>0.139637</td>\n",
       "      <td>3</td>\n",
       "      <td>6</td>\n",
       "      <td>98.854549</td>\n",
       "    </tr>\n",
       "    <tr>\n",
       "      <th>0</th>\n",
       "      <td>503020</td>\n",
       "      <td>Quinton Byfield</td>\n",
       "      <td>21.0</td>\n",
       "      <td>NHL</td>\n",
       "      <td>NHL</td>\n",
       "      <td>1.000000</td>\n",
       "      <td>82.0</td>\n",
       "      <td>0.884847</td>\n",
       "      <td>0.382986</td>\n",
       "      <td>0.501861</td>\n",
       "      <td>0.096777</td>\n",
       "      <td>0.122797</td>\n",
       "      <td>0.105848</td>\n",
       "      <td>4</td>\n",
       "      <td>7</td>\n",
       "      <td>72.557458</td>\n",
       "    </tr>\n",
       "    <tr>\n",
       "      <th>0</th>\n",
       "      <td>503020</td>\n",
       "      <td>Quinton Byfield</td>\n",
       "      <td>21.0</td>\n",
       "      <td>OHL</td>\n",
       "      <td>NHL</td>\n",
       "      <td>1.000000</td>\n",
       "      <td>82.0</td>\n",
       "      <td>0.797082</td>\n",
       "      <td>0.344999</td>\n",
       "      <td>0.452083</td>\n",
       "      <td>0.088163</td>\n",
       "      <td>0.111635</td>\n",
       "      <td>0.096408</td>\n",
       "      <td>5</td>\n",
       "      <td>8</td>\n",
       "      <td>65.360725</td>\n",
       "    </tr>\n",
       "    <tr>\n",
       "      <th>0</th>\n",
       "      <td>503020</td>\n",
       "      <td>Quinton Byfield</td>\n",
       "      <td>21.0</td>\n",
       "      <td>NHL</td>\n",
       "      <td>NHL</td>\n",
       "      <td>1.000000</td>\n",
       "      <td>82.0</td>\n",
       "      <td>1.145235</td>\n",
       "      <td>0.495688</td>\n",
       "      <td>0.649546</td>\n",
       "      <td>0.122332</td>\n",
       "      <td>0.155912</td>\n",
       "      <td>0.133855</td>\n",
       "      <td>6</td>\n",
       "      <td>9</td>\n",
       "      <td>93.909236</td>\n",
       "    </tr>\n",
       "    <tr>\n",
       "      <th>0</th>\n",
       "      <td>503020</td>\n",
       "      <td>Quinton Byfield</td>\n",
       "      <td>22.0</td>\n",
       "      <td>NHL</td>\n",
       "      <td>NHL</td>\n",
       "      <td>1.000000</td>\n",
       "      <td>82.0</td>\n",
       "      <td>0.982071</td>\n",
       "      <td>0.425067</td>\n",
       "      <td>0.557004</td>\n",
       "      <td>0.107472</td>\n",
       "      <td>0.136552</td>\n",
       "      <td>0.117540</td>\n",
       "      <td>7</td>\n",
       "      <td>10</td>\n",
       "      <td>80.529835</td>\n",
       "    </tr>\n",
       "    <tr>\n",
       "      <th>0</th>\n",
       "      <td>503020</td>\n",
       "      <td>Quinton Byfield</td>\n",
       "      <td>22.0</td>\n",
       "      <td>NHL</td>\n",
       "      <td>NHL</td>\n",
       "      <td>1.000000</td>\n",
       "      <td>82.0</td>\n",
       "      <td>0.942583</td>\n",
       "      <td>0.407975</td>\n",
       "      <td>0.534608</td>\n",
       "      <td>0.103596</td>\n",
       "      <td>0.131530</td>\n",
       "      <td>0.113293</td>\n",
       "      <td>8</td>\n",
       "      <td>11</td>\n",
       "      <td>77.291813</td>\n",
       "    </tr>\n",
       "    <tr>\n",
       "      <th>0</th>\n",
       "      <td>503020</td>\n",
       "      <td>Quinton Byfield</td>\n",
       "      <td>22.0</td>\n",
       "      <td>NHL</td>\n",
       "      <td>NHL</td>\n",
       "      <td>1.000000</td>\n",
       "      <td>82.0</td>\n",
       "      <td>1.082762</td>\n",
       "      <td>0.468648</td>\n",
       "      <td>0.614113</td>\n",
       "      <td>0.117354</td>\n",
       "      <td>0.149357</td>\n",
       "      <td>0.128370</td>\n",
       "      <td>9</td>\n",
       "      <td>12</td>\n",
       "      <td>88.786445</td>\n",
       "    </tr>\n",
       "    <tr>\n",
       "      <th>0</th>\n",
       "      <td>503020</td>\n",
       "      <td>Quinton Byfield</td>\n",
       "      <td>23.0</td>\n",
       "      <td>NHL</td>\n",
       "      <td>NHL</td>\n",
       "      <td>1.000000</td>\n",
       "      <td>82.0</td>\n",
       "      <td>1.173167</td>\n",
       "      <td>0.507778</td>\n",
       "      <td>0.665389</td>\n",
       "      <td>0.126547</td>\n",
       "      <td>0.161310</td>\n",
       "      <td>0.138484</td>\n",
       "      <td>10</td>\n",
       "      <td>13</td>\n",
       "      <td>96.199683</td>\n",
       "    </tr>\n",
       "    <tr>\n",
       "      <th>0</th>\n",
       "      <td>503020</td>\n",
       "      <td>Quinton Byfield</td>\n",
       "      <td>23.0</td>\n",
       "      <td>NHL</td>\n",
       "      <td>NHL</td>\n",
       "      <td>1.000000</td>\n",
       "      <td>82.0</td>\n",
       "      <td>1.152646</td>\n",
       "      <td>0.498896</td>\n",
       "      <td>0.653750</td>\n",
       "      <td>0.124533</td>\n",
       "      <td>0.158701</td>\n",
       "      <td>0.136277</td>\n",
       "      <td>11</td>\n",
       "      <td>14</td>\n",
       "      <td>94.516938</td>\n",
       "    </tr>\n",
       "    <tr>\n",
       "      <th>0</th>\n",
       "      <td>503020</td>\n",
       "      <td>Quinton Byfield</td>\n",
       "      <td>23.0</td>\n",
       "      <td>NHL</td>\n",
       "      <td>NHL</td>\n",
       "      <td>1.000000</td>\n",
       "      <td>82.0</td>\n",
       "      <td>1.224070</td>\n",
       "      <td>0.529810</td>\n",
       "      <td>0.694260</td>\n",
       "      <td>0.131543</td>\n",
       "      <td>0.167784</td>\n",
       "      <td>0.143959</td>\n",
       "      <td>12</td>\n",
       "      <td>15</td>\n",
       "      <td>100.373726</td>\n",
       "    </tr>\n",
       "  </tbody>\n",
       "</table>\n",
       "</div>"
      ],
      "text/plain": [
       "   playerid           player  season_age start_league league  probability    gp  ...       apg  perc_team_a  perc_team_g  perc_team_tp  start_node  node     epoints\n",
       "0    503020  Quinton Byfield        19.0          OHL    NHL     0.559411  82.0  ...  0.284127     0.058175     0.074382      0.063829           1     2   41.078196\n",
       "0    503020  Quinton Byfield        20.0          NHL    NHL     1.000000  82.0  ...  0.472314     0.090814     0.115986      0.099541           2     4   68.285526\n",
       "1    503020  Quinton Byfield        20.0          OHL    NHL     0.372632  82.0  ...  0.683752     0.127401     0.163396      0.139637           3     6   98.854549\n",
       "0    503020  Quinton Byfield        21.0          NHL    NHL     1.000000  82.0  ...  0.501861     0.096777     0.122797      0.105848           4     7   72.557458\n",
       "0    503020  Quinton Byfield        21.0          OHL    NHL     1.000000  82.0  ...  0.452083     0.088163     0.111635      0.096408           5     8   65.360725\n",
       "0    503020  Quinton Byfield        21.0          NHL    NHL     1.000000  82.0  ...  0.649546     0.122332     0.155912      0.133855           6     9   93.909236\n",
       "0    503020  Quinton Byfield        22.0          NHL    NHL     1.000000  82.0  ...  0.557004     0.107472     0.136552      0.117540           7    10   80.529835\n",
       "0    503020  Quinton Byfield        22.0          NHL    NHL     1.000000  82.0  ...  0.534608     0.103596     0.131530      0.113293           8    11   77.291813\n",
       "0    503020  Quinton Byfield        22.0          NHL    NHL     1.000000  82.0  ...  0.614113     0.117354     0.149357      0.128370           9    12   88.786445\n",
       "0    503020  Quinton Byfield        23.0          NHL    NHL     1.000000  82.0  ...  0.665389     0.126547     0.161310      0.138484          10    13   96.199683\n",
       "0    503020  Quinton Byfield        23.0          NHL    NHL     1.000000  82.0  ...  0.653750     0.124533     0.158701      0.136277          11    14   94.516938\n",
       "0    503020  Quinton Byfield        23.0          NHL    NHL     1.000000  82.0  ...  0.694260     0.131543     0.167784      0.143959          12    15  100.373726\n",
       "\n",
       "[12 rows x 16 columns]"
      ]
     },
     "execution_count": 31,
     "metadata": {},
     "output_type": "execute_result"
    }
   ],
   "source": [
    "player.projections[player.projections.league == 'NHL']"
   ]
  },
  {
   "cell_type": "code",
   "execution_count": 32,
   "metadata": {},
   "outputs": [
    {
     "data": {
      "text/html": [
       "<div>\n",
       "<style scoped>\n",
       "    .dataframe tbody tr th:only-of-type {\n",
       "        vertical-align: middle;\n",
       "    }\n",
       "\n",
       "    .dataframe tbody tr th {\n",
       "        vertical-align: top;\n",
       "    }\n",
       "\n",
       "    .dataframe thead th {\n",
       "        text-align: right;\n",
       "    }\n",
       "</style>\n",
       "<table border=\"1\" class=\"dataframe\">\n",
       "  <thead>\n",
       "    <tr style=\"text-align: right;\">\n",
       "      <th></th>\n",
       "      <th>playerid</th>\n",
       "      <th>player_name</th>\n",
       "      <th>position</th>\n",
       "      <th>nhl_likelihood</th>\n",
       "      <th>most_likelihood_nhl_node</th>\n",
       "      <th>nhl_expected_value</th>\n",
       "    </tr>\n",
       "  </thead>\n",
       "  <tbody>\n",
       "    <tr>\n",
       "      <th>0</th>\n",
       "      <td>503020</td>\n",
       "      <td>Quinton Byfield</td>\n",
       "      <td>F</td>\n",
       "      <td>1.0</td>\n",
       "      <td>13</td>\n",
       "      <td>328.9</td>\n",
       "    </tr>\n",
       "  </tbody>\n",
       "</table>\n",
       "</div>"
      ],
      "text/plain": [
       "  playerid      player_name position  nhl_likelihood  most_likelihood_nhl_node  nhl_expected_value\n",
       "0   503020  Quinton Byfield        F             1.0                        13               328.9"
      ]
     },
     "execution_count": 32,
     "metadata": {},
     "output_type": "execute_result"
    }
   ],
   "source": [
    "pd.DataFrame([player.player_value])"
   ]
  },
  {
   "cell_type": "code",
   "execution_count": 33,
   "metadata": {},
   "outputs": [
    {
     "data": {
      "image/png": "[encoded data removed]",
      "text/plain": [
       "<Figure size 1440x720 with 2 Axes>"
      ]
     },
     "metadata": {
      "needs_background": "light"
     },
     "output_type": "display_data"
    }
   ],
   "source": [
    "player.plot_network_graph()"
   ]
  },
  {
   "cell_type": "markdown",
   "metadata": {},
   "source": [
    "### NHL path maximization"
   ]
  },
  {
   "cell_type": "code",
   "execution_count": 82,
   "metadata": {},
   "outputs": [],
   "source": [
    "def get_nhl_path(self):\n",
    "\n",
    "    nodes = self.projections[(self.projections.season_age==23)\n",
    "                              & (self.projections.league=='NHL')].node\n",
    "\n",
    "    probs = []\n",
    "    max_prob = 0\n",
    "    max_node = 1\n",
    "    \n",
    "    for node in nodes:\n",
    "        node_prob = node_probability(self.G, node)\n",
    "        if node_prob > max_prob:\n",
    "            max_prob = node_prob\n",
    "            max_node = node\n",
    "        probs.append(node_prob)\n",
    "        \n",
    "    return dict(nhl_likelihood=round(sum(probs),2), most_likelihood_nhl_node=max_node)\n",
    "\n",
    "def nhl_expected_value(G, node):\n",
    "        \n",
    "    return np.sum([G.nodes[n]['epoints'] * G.nodes[n]['cond_prob']\\\n",
    "                   for n in nx.descendants(G, node) if G.nodes[n]['league'] == 'NHL']).round(1)\n",
    "\n",
    "def get_nhl_value(self):\n",
    "\n",
    "    nodes = self.projections[(self.projections.start_node==1)].node\n",
    "        \n",
    "    return dict(nhl_expected_value=round(sum([nhl_expected_value(self.G, n) for n in nodes]),2))"
   ]
  },
  {
   "cell_type": "code",
   "execution_count": 98,
   "metadata": {},
   "outputs": [],
   "source": [
    "player_value = dict(playerid = player.playerid,\n",
    "                    player_name = player.player_name)\n",
    "\n",
    "player_value.update(get_nhl_path(player))\n",
    "\n",
    "player_value.update(get_nhl_value(player))\n",
    "\n",
    "self.player_value = player_value"
   ]
  },
  {
   "cell_type": "code",
   "execution_count": null,
   "metadata": {},
   "outputs": [],
   "source": [
    "player.get"
   ]
  },
  {
   "cell_type": "code",
   "execution_count": null,
   "metadata": {},
   "outputs": [],
   "source": []
  },
  {
   "cell_type": "markdown",
   "metadata": {},
   "source": [
    "# Debugging"
   ]
  },
  {
   "cell_type": "code",
   "execution_count": 73,
   "metadata": {},
   "outputs": [
    {
     "data": {
      "text/html": [
       "<div>\n",
       "<style scoped>\n",
       "    .dataframe tbody tr th:only-of-type {\n",
       "        vertical-align: middle;\n",
       "    }\n",
       "\n",
       "    .dataframe tbody tr th {\n",
       "        vertical-align: top;\n",
       "    }\n",
       "\n",
       "    .dataframe thead th {\n",
       "        text-align: right;\n",
       "    }\n",
       "</style>\n",
       "<table border=\"1\" class=\"dataframe\">\n",
       "  <thead>\n",
       "    <tr style=\"text-align: right;\">\n",
       "      <th></th>\n",
       "      <th>playerid</th>\n",
       "      <th>player</th>\n",
       "      <th>season_age</th>\n",
       "      <th>start_league</th>\n",
       "      <th>league</th>\n",
       "      <th>probability</th>\n",
       "      <th>gp</th>\n",
       "      <th>ppg</th>\n",
       "      <th>gpg</th>\n",
       "      <th>apg</th>\n",
       "      <th>perc_team_a</th>\n",
       "      <th>perc_team_g</th>\n",
       "      <th>perc_team_tp</th>\n",
       "      <th>start_node</th>\n",
       "      <th>node</th>\n",
       "      <th>epoints</th>\n",
       "      <th>nhl_xvalue</th>\n",
       "      <th>xvalue</th>\n",
       "      <th>cond_probability</th>\n",
       "    </tr>\n",
       "  </thead>\n",
       "  <tbody>\n",
       "    <tr>\n",
       "      <th>1</th>\n",
       "      <td>496724</td>\n",
       "      <td>Bobby Brink</td>\n",
       "      <td>20.0</td>\n",
       "      <td>NCAA</td>\n",
       "      <td>NHL</td>\n",
       "      <td>0.098301</td>\n",
       "      <td>82.0</td>\n",
       "      <td>0.540381</td>\n",
       "      <td>0.270190</td>\n",
       "      <td>0.270190</td>\n",
       "      <td>0.055838</td>\n",
       "      <td>0.089469</td>\n",
       "      <td>0.068094</td>\n",
       "      <td>1</td>\n",
       "      <td>3</td>\n",
       "      <td>44.311219</td>\n",
       "      <td>126.0</td>\n",
       "      <td>8.684999</td>\n",
       "      <td>0.098000</td>\n",
       "    </tr>\n",
       "    <tr>\n",
       "      <th>2</th>\n",
       "      <td>496724</td>\n",
       "      <td>Bobby Brink</td>\n",
       "      <td>21.0</td>\n",
       "      <td>NCAA</td>\n",
       "      <td>NHL</td>\n",
       "      <td>0.063941</td>\n",
       "      <td>82.0</td>\n",
       "      <td>0.946245</td>\n",
       "      <td>0.473122</td>\n",
       "      <td>0.473122</td>\n",
       "      <td>0.091804</td>\n",
       "      <td>0.149281</td>\n",
       "      <td>0.112452</td>\n",
       "      <td>2</td>\n",
       "      <td>6</td>\n",
       "      <td>77.592086</td>\n",
       "      <td>59.1</td>\n",
       "      <td>13.437708</td>\n",
       "      <td>0.057728</td>\n",
       "    </tr>\n",
       "    <tr>\n",
       "      <th>0</th>\n",
       "      <td>496724</td>\n",
       "      <td>Bobby Brink</td>\n",
       "      <td>21.0</td>\n",
       "      <td>NHL</td>\n",
       "      <td>NHL</td>\n",
       "      <td>0.888651</td>\n",
       "      <td>82.0</td>\n",
       "      <td>1.317420</td>\n",
       "      <td>0.658710</td>\n",
       "      <td>0.658710</td>\n",
       "      <td>0.123917</td>\n",
       "      <td>0.203812</td>\n",
       "      <td>0.152375</td>\n",
       "      <td>3</td>\n",
       "      <td>7</td>\n",
       "      <td>108.028440</td>\n",
       "      <td>94.7</td>\n",
       "      <td>28.234961</td>\n",
       "      <td>0.087122</td>\n",
       "    </tr>\n",
       "    <tr>\n",
       "      <th>2</th>\n",
       "      <td>496724</td>\n",
       "      <td>Bobby Brink</td>\n",
       "      <td>22.0</td>\n",
       "      <td>NCAA</td>\n",
       "      <td>NHL</td>\n",
       "      <td>0.156823</td>\n",
       "      <td>82.0</td>\n",
       "      <td>1.251578</td>\n",
       "      <td>0.625789</td>\n",
       "      <td>0.625789</td>\n",
       "      <td>0.119374</td>\n",
       "      <td>0.195529</td>\n",
       "      <td>0.146527</td>\n",
       "      <td>4</td>\n",
       "      <td>11</td>\n",
       "      <td>102.629384</td>\n",
       "      <td>59.5</td>\n",
       "      <td>42.903652</td>\n",
       "      <td>0.104511</td>\n",
       "    </tr>\n",
       "    <tr>\n",
       "      <th>1</th>\n",
       "      <td>496724</td>\n",
       "      <td>Bobby Brink</td>\n",
       "      <td>22.0</td>\n",
       "      <td>AHL</td>\n",
       "      <td>NHL</td>\n",
       "      <td>0.207605</td>\n",
       "      <td>82.0</td>\n",
       "      <td>1.008226</td>\n",
       "      <td>0.504113</td>\n",
       "      <td>0.504113</td>\n",
       "      <td>0.098320</td>\n",
       "      <td>0.159778</td>\n",
       "      <td>0.120353</td>\n",
       "      <td>5</td>\n",
       "      <td>13</td>\n",
       "      <td>82.674515</td>\n",
       "      <td>21.1</td>\n",
       "      <td>12.284761</td>\n",
       "      <td>0.037148</td>\n",
       "    </tr>\n",
       "    <tr>\n",
       "      <th>0</th>\n",
       "      <td>496724</td>\n",
       "      <td>Bobby Brink</td>\n",
       "      <td>22.0</td>\n",
       "      <td>NHL</td>\n",
       "      <td>NHL</td>\n",
       "      <td>1.000000</td>\n",
       "      <td>82.0</td>\n",
       "      <td>1.387374</td>\n",
       "      <td>0.693687</td>\n",
       "      <td>0.693687</td>\n",
       "      <td>0.131123</td>\n",
       "      <td>0.215479</td>\n",
       "      <td>0.161133</td>\n",
       "      <td>6</td>\n",
       "      <td>15</td>\n",
       "      <td>113.764642</td>\n",
       "      <td>32.8</td>\n",
       "      <td>26.269621</td>\n",
       "      <td>0.057728</td>\n",
       "    </tr>\n",
       "    <tr>\n",
       "      <th>0</th>\n",
       "      <td>496724</td>\n",
       "      <td>Bobby Brink</td>\n",
       "      <td>22.0</td>\n",
       "      <td>NHL</td>\n",
       "      <td>NHL</td>\n",
       "      <td>1.000000</td>\n",
       "      <td>82.0</td>\n",
       "      <td>1.545481</td>\n",
       "      <td>0.772741</td>\n",
       "      <td>0.772741</td>\n",
       "      <td>0.144803</td>\n",
       "      <td>0.238708</td>\n",
       "      <td>0.178139</td>\n",
       "      <td>7</td>\n",
       "      <td>16</td>\n",
       "      <td>126.729478</td>\n",
       "      <td>50.6</td>\n",
       "      <td>44.163702</td>\n",
       "      <td>0.087122</td>\n",
       "    </tr>\n",
       "    <tr>\n",
       "      <th>1</th>\n",
       "      <td>496724</td>\n",
       "      <td>Bobby Brink</td>\n",
       "      <td>22.0</td>\n",
       "      <td>AHL</td>\n",
       "      <td>NHL</td>\n",
       "      <td>0.196520</td>\n",
       "      <td>82.0</td>\n",
       "      <td>1.073093</td>\n",
       "      <td>0.536547</td>\n",
       "      <td>0.536547</td>\n",
       "      <td>0.103932</td>\n",
       "      <td>0.169308</td>\n",
       "      <td>0.127330</td>\n",
       "      <td>8</td>\n",
       "      <td>18</td>\n",
       "      <td>87.993660</td>\n",
       "      <td>1.2</td>\n",
       "      <td>0.754270</td>\n",
       "      <td>0.002143</td>\n",
       "    </tr>\n",
       "    <tr>\n",
       "      <th>1</th>\n",
       "      <td>496724</td>\n",
       "      <td>Bobby Brink</td>\n",
       "      <td>23.0</td>\n",
       "      <td>NCAA</td>\n",
       "      <td>NHL</td>\n",
       "      <td>0.338776</td>\n",
       "      <td>82.0</td>\n",
       "      <td>1.178850</td>\n",
       "      <td>0.589425</td>\n",
       "      <td>0.589425</td>\n",
       "      <td>0.113402</td>\n",
       "      <td>0.185300</td>\n",
       "      <td>0.139095</td>\n",
       "      <td>9</td>\n",
       "      <td>21</td>\n",
       "      <td>96.665675</td>\n",
       "      <td>0.0</td>\n",
       "      <td>56.607275</td>\n",
       "      <td>0.117120</td>\n",
       "    </tr>\n",
       "    <tr>\n",
       "      <th>1</th>\n",
       "      <td>496724</td>\n",
       "      <td>Bobby Brink</td>\n",
       "      <td>23.0</td>\n",
       "      <td>AHL</td>\n",
       "      <td>NHL</td>\n",
       "      <td>0.255297</td>\n",
       "      <td>82.0</td>\n",
       "      <td>0.933181</td>\n",
       "      <td>0.466591</td>\n",
       "      <td>0.466591</td>\n",
       "      <td>0.092147</td>\n",
       "      <td>0.149208</td>\n",
       "      <td>0.112672</td>\n",
       "      <td>10</td>\n",
       "      <td>24</td>\n",
       "      <td>76.520856</td>\n",
       "      <td>0.0</td>\n",
       "      <td>21.042528</td>\n",
       "      <td>0.054998</td>\n",
       "    </tr>\n",
       "    <tr>\n",
       "      <th>0</th>\n",
       "      <td>496724</td>\n",
       "      <td>Bobby Brink</td>\n",
       "      <td>23.0</td>\n",
       "      <td>NHL</td>\n",
       "      <td>NHL</td>\n",
       "      <td>1.000000</td>\n",
       "      <td>82.0</td>\n",
       "      <td>1.388289</td>\n",
       "      <td>0.694145</td>\n",
       "      <td>0.694145</td>\n",
       "      <td>0.131523</td>\n",
       "      <td>0.216070</td>\n",
       "      <td>0.161622</td>\n",
       "      <td>11</td>\n",
       "      <td>25</td>\n",
       "      <td>113.839735</td>\n",
       "      <td>0.0</td>\n",
       "      <td>59.487598</td>\n",
       "      <td>0.104511</td>\n",
       "    </tr>\n",
       "    <tr>\n",
       "      <th>1</th>\n",
       "      <td>496724</td>\n",
       "      <td>Bobby Brink</td>\n",
       "      <td>23.0</td>\n",
       "      <td>AHL</td>\n",
       "      <td>NHL</td>\n",
       "      <td>0.281585</td>\n",
       "      <td>82.0</td>\n",
       "      <td>0.954779</td>\n",
       "      <td>0.477390</td>\n",
       "      <td>0.477390</td>\n",
       "      <td>0.094016</td>\n",
       "      <td>0.152382</td>\n",
       "      <td>0.114995</td>\n",
       "      <td>12</td>\n",
       "      <td>27</td>\n",
       "      <td>78.291915</td>\n",
       "      <td>0.0</td>\n",
       "      <td>13.268530</td>\n",
       "      <td>0.033895</td>\n",
       "    </tr>\n",
       "    <tr>\n",
       "      <th>0</th>\n",
       "      <td>496724</td>\n",
       "      <td>Bobby Brink</td>\n",
       "      <td>23.0</td>\n",
       "      <td>NHL</td>\n",
       "      <td>NHL</td>\n",
       "      <td>1.000000</td>\n",
       "      <td>82.0</td>\n",
       "      <td>1.387779</td>\n",
       "      <td>0.693889</td>\n",
       "      <td>0.693889</td>\n",
       "      <td>0.131479</td>\n",
       "      <td>0.215995</td>\n",
       "      <td>0.161567</td>\n",
       "      <td>13</td>\n",
       "      <td>28</td>\n",
       "      <td>113.797878</td>\n",
       "      <td>0.0</td>\n",
       "      <td>21.136800</td>\n",
       "      <td>0.037148</td>\n",
       "    </tr>\n",
       "    <tr>\n",
       "      <th>1</th>\n",
       "      <td>496724</td>\n",
       "      <td>Bobby Brink</td>\n",
       "      <td>23.0</td>\n",
       "      <td>NCAA</td>\n",
       "      <td>NHL</td>\n",
       "      <td>0.338776</td>\n",
       "      <td>82.0</td>\n",
       "      <td>1.178432</td>\n",
       "      <td>0.589216</td>\n",
       "      <td>0.589216</td>\n",
       "      <td>0.113366</td>\n",
       "      <td>0.185239</td>\n",
       "      <td>0.139050</td>\n",
       "      <td>14</td>\n",
       "      <td>30</td>\n",
       "      <td>96.631403</td>\n",
       "      <td>0.0</td>\n",
       "      <td>3.481021</td>\n",
       "      <td>0.007205</td>\n",
       "    </tr>\n",
       "    <tr>\n",
       "      <th>0</th>\n",
       "      <td>496724</td>\n",
       "      <td>Bobby Brink</td>\n",
       "      <td>23.0</td>\n",
       "      <td>NHL</td>\n",
       "      <td>NHL</td>\n",
       "      <td>1.000000</td>\n",
       "      <td>82.0</td>\n",
       "      <td>1.385260</td>\n",
       "      <td>0.692630</td>\n",
       "      <td>0.692630</td>\n",
       "      <td>0.131261</td>\n",
       "      <td>0.215625</td>\n",
       "      <td>0.161296</td>\n",
       "      <td>15</td>\n",
       "      <td>32</td>\n",
       "      <td>113.591309</td>\n",
       "      <td>0.0</td>\n",
       "      <td>32.786995</td>\n",
       "      <td>0.057728</td>\n",
       "    </tr>\n",
       "    <tr>\n",
       "      <th>0</th>\n",
       "      <td>496724</td>\n",
       "      <td>Bobby Brink</td>\n",
       "      <td>23.0</td>\n",
       "      <td>NHL</td>\n",
       "      <td>NHL</td>\n",
       "      <td>1.000000</td>\n",
       "      <td>82.0</td>\n",
       "      <td>1.415701</td>\n",
       "      <td>0.707850</td>\n",
       "      <td>0.707850</td>\n",
       "      <td>0.133894</td>\n",
       "      <td>0.220097</td>\n",
       "      <td>0.164570</td>\n",
       "      <td>16</td>\n",
       "      <td>33</td>\n",
       "      <td>116.087475</td>\n",
       "      <td>0.0</td>\n",
       "      <td>50.568865</td>\n",
       "      <td>0.087122</td>\n",
       "    </tr>\n",
       "    <tr>\n",
       "      <th>1</th>\n",
       "      <td>496724</td>\n",
       "      <td>Bobby Brink</td>\n",
       "      <td>23.0</td>\n",
       "      <td>AHL</td>\n",
       "      <td>NHL</td>\n",
       "      <td>0.281585</td>\n",
       "      <td>82.0</td>\n",
       "      <td>0.974098</td>\n",
       "      <td>0.487049</td>\n",
       "      <td>0.487049</td>\n",
       "      <td>0.095687</td>\n",
       "      <td>0.155220</td>\n",
       "      <td>0.117073</td>\n",
       "      <td>17</td>\n",
       "      <td>35</td>\n",
       "      <td>79.876004</td>\n",
       "      <td>0.0</td>\n",
       "      <td>0.829417</td>\n",
       "      <td>0.002077</td>\n",
       "    </tr>\n",
       "    <tr>\n",
       "      <th>0</th>\n",
       "      <td>496724</td>\n",
       "      <td>Bobby Brink</td>\n",
       "      <td>23.0</td>\n",
       "      <td>NHL</td>\n",
       "      <td>NHL</td>\n",
       "      <td>1.000000</td>\n",
       "      <td>82.0</td>\n",
       "      <td>1.390614</td>\n",
       "      <td>0.695307</td>\n",
       "      <td>0.695307</td>\n",
       "      <td>0.131724</td>\n",
       "      <td>0.216411</td>\n",
       "      <td>0.161872</td>\n",
       "      <td>18</td>\n",
       "      <td>36</td>\n",
       "      <td>114.030331</td>\n",
       "      <td>0.0</td>\n",
       "      <td>1.221816</td>\n",
       "      <td>0.002143</td>\n",
       "    </tr>\n",
       "    <tr>\n",
       "      <th>1</th>\n",
       "      <td>496724</td>\n",
       "      <td>Bobby Brink</td>\n",
       "      <td>23.0</td>\n",
       "      <td>NCAA</td>\n",
       "      <td>NHL</td>\n",
       "      <td>0.338776</td>\n",
       "      <td>82.0</td>\n",
       "      <td>1.176404</td>\n",
       "      <td>0.588202</td>\n",
       "      <td>0.588202</td>\n",
       "      <td>0.113190</td>\n",
       "      <td>0.184941</td>\n",
       "      <td>0.138832</td>\n",
       "      <td>19</td>\n",
       "      <td>38</td>\n",
       "      <td>96.465147</td>\n",
       "      <td>0.0</td>\n",
       "      <td>0.225888</td>\n",
       "      <td>0.000468</td>\n",
       "    </tr>\n",
       "  </tbody>\n",
       "</table>\n",
       "</div>"
      ],
      "text/plain": [
       "   playerid       player  season_age start_league league  ...  node     epoints  nhl_xvalue     xvalue  cond_probability\n",
       "1    496724  Bobby Brink        20.0         NCAA    NHL  ...     3   44.311219       126.0   8.684999          0.098000\n",
       "2    496724  Bobby Brink        21.0         NCAA    NHL  ...     6   77.592086        59.1  13.437708          0.057728\n",
       "0    496724  Bobby Brink        21.0          NHL    NHL  ...     7  108.028440        94.7  28.234961          0.087122\n",
       "2    496724  Bobby Brink        22.0         NCAA    NHL  ...    11  102.629384        59.5  42.903652          0.104511\n",
       "1    496724  Bobby Brink        22.0          AHL    NHL  ...    13   82.674515        21.1  12.284761          0.037148\n",
       "0    496724  Bobby Brink        22.0          NHL    NHL  ...    15  113.764642        32.8  26.269621          0.057728\n",
       "0    496724  Bobby Brink        22.0          NHL    NHL  ...    16  126.729478        50.6  44.163702          0.087122\n",
       "1    496724  Bobby Brink        22.0          AHL    NHL  ...    18   87.993660         1.2   0.754270          0.002143\n",
       "1    496724  Bobby Brink        23.0         NCAA    NHL  ...    21   96.665675         0.0  56.607275          0.117120\n",
       "1    496724  Bobby Brink        23.0          AHL    NHL  ...    24   76.520856         0.0  21.042528          0.054998\n",
       "0    496724  Bobby Brink        23.0          NHL    NHL  ...    25  113.839735         0.0  59.487598          0.104511\n",
       "1    496724  Bobby Brink        23.0          AHL    NHL  ...    27   78.291915         0.0  13.268530          0.033895\n",
       "0    496724  Bobby Brink        23.0          NHL    NHL  ...    28  113.797878         0.0  21.136800          0.037148\n",
       "1    496724  Bobby Brink        23.0         NCAA    NHL  ...    30   96.631403         0.0   3.481021          0.007205\n",
       "0    496724  Bobby Brink        23.0          NHL    NHL  ...    32  113.591309         0.0  32.786995          0.057728\n",
       "0    496724  Bobby Brink        23.0          NHL    NHL  ...    33  116.087475         0.0  50.568865          0.087122\n",
       "1    496724  Bobby Brink        23.0          AHL    NHL  ...    35   79.876004         0.0   0.829417          0.002077\n",
       "0    496724  Bobby Brink        23.0          NHL    NHL  ...    36  114.030331         0.0   1.221816          0.002143\n",
       "1    496724  Bobby Brink        23.0         NCAA    NHL  ...    38   96.465147         0.0   0.225888          0.000468\n",
       "\n",
       "[19 rows x 19 columns]"
      ]
     },
     "execution_count": 73,
     "metadata": {},
     "output_type": "execute_result"
    }
   ],
   "source": [
    "player.projections[player.projections.league == 'NHL']"
   ]
  },
  {
   "cell_type": "markdown",
   "metadata": {},
   "source": [
    "### Prepare NetworkX df"
   ]
  },
  {
   "cell_type": "code",
   "execution_count": 101,
   "metadata": {},
   "outputs": [],
   "source": [
    "df = player.projections.copy().round(3)\n",
    "df['start_age'] = df.season_age - 1\n",
    "df['weight'] = df.probability\n",
    "df['epoints'] = df['ppg'] * df['gp']"
   ]
  },
  {
   "cell_type": "markdown",
   "metadata": {},
   "source": [
    "### Using NetworkX to assign Simulated Seasons in Graphs"
   ]
  },
  {
   "cell_type": "code",
   "execution_count": 9,
   "metadata": {},
   "outputs": [
    {
     "data": {
      "text/plain": [
       "Text(0.125, 0.05, 'By: Connor Jung @ConnorJungle, Data Source: Elite Prospects')"
      ]
     },
     "execution_count": 9,
     "metadata": {},
     "output_type": "execute_result"
    },
    {
     "data": {
      "image/png": "[encoded data removed]",
      "text/plain": [
       "<Figure size 1440x720 with 2 Axes>"
      ]
     },
     "metadata": {
      "needs_background": "light"
     },
     "output_type": "display_data"
    }
   ],
   "source": [
    "matplotlib.rc('font',family='monospace')\n",
    "\n",
    "fig, ax = plt.subplots(figsize=(20,10))\n",
    "\n",
    "# create tree layout and rescale based on age\n",
    "pos = graphviz_layout(player.G, prog='dot')\n",
    "# array of ages for y-axis\n",
    "ages = np.arange(player.start_age,\n",
    "                 player.projections.season_age.astype(int).max() + 1,\n",
    "                 1)\n",
    "# rescale x,y coordinates\n",
    "y = np.array([xy[1] for _, xy in pos.items()])\n",
    "y_rescale = (y.max() / y.min()) / (ages.max() / ages.min())\n",
    "y_map = { k:v for k,v in zip(sorted(np.unique(y))[::-1], ages)}\n",
    "pos = {u :(v[0] / y_rescale, y_map[v[1]]) for u,v in pos.items()}\n",
    "\n",
    "node_sizes = [player.G.nodes[g]['ppg'] / player.position_ppg[player.position] * 300 for g in player.G.nodes]\n",
    "player.node_sizes = node_sizes\n",
    "\n",
    "# draw nodes\n",
    "nodes = nx.draw_networkx_nodes(player.G,\n",
    "                               pos,\n",
    "                               node_size=node_sizes,\n",
    "                               node_color='dodgerblue',\n",
    "                               ax=ax)\n",
    "node_labels = nx.get_node_attributes(player.G, 'ppg')\n",
    "nx.draw_networkx_labels(player.G,\n",
    "                        pos,\n",
    "                        node_labels,\n",
    "                        font_size=14,\n",
    "                        ax=ax, \n",
    "                        font_family='monospace', \n",
    "                        font_color='black', \n",
    "                        font_weight='bold',)\n",
    "\n",
    "# draw edges\n",
    "edges = nx.draw_networkx_edges(player.G,\n",
    "                               pos, \n",
    "                               arrowstyle='->', \n",
    "                               arrowsize=20, \n",
    "                               edge_cmap=plt.cm.Greys, \n",
    "                               width=3,\n",
    "                               ax=ax)\n",
    "edge_labels = nx.get_edge_attributes(player.G, 'probability')\n",
    "nx.draw_networkx_edge_labels(player.G, \n",
    "                             pos, \n",
    "                             edge_labels, \n",
    "                             font_size=12,\n",
    "                             ax=ax, \n",
    "                             font_family='monospace')\n",
    "\n",
    "# set alpha value for each edge\n",
    "for i in range(len(player.projections)):\n",
    "    edges[i].set_alpha(player.projections.probability.values[i])\n",
    "\n",
    "# colourscale for colourbar\n",
    "pc = matplotlib.collections.PatchCollection(edges, cmap=plt.cm.Greys)\n",
    "pc.set_array([(5 + i) / (30 + 4) for i in range(30)])\n",
    "plt.colorbar(pc)\n",
    "# create legend for projected points\n",
    "custom_leg = [mlines.Line2D([0], [0], marker='o', color='dodgerblue', linestyle='None') for _ in range(0,5)]\n",
    "# 4 part distirubtion\n",
    "Q1 = np.percentile([player.G.nodes[g]['ppg'] for g in player.G.nodes], 25, interpolation = 'midpoint').round(1) \n",
    "Q2 = np.percentile([player.G.nodes[g]['ppg'] for g in player.G.nodes], 50, interpolation = 'midpoint').round(1) \n",
    "Q3 = np.percentile([player.G.nodes[g]['ppg'] for g in player.G.nodes], 75, interpolation = 'midpoint').round(1)\n",
    "Q4 = np.percentile([player.G.nodes[g]['ppg'] for g in player.G.nodes], 100, interpolation = 'midpoint').round(1)\n",
    "point_range=[Q1, Q2, Q3, Q4]\n",
    "player.point_range = point_range\n",
    "custom_leg = [mlines.Line2D([0], [0],\n",
    "                            marker='o',\n",
    "                            color='dodgerblue',\n",
    "                            markersize=point_range[i] / player.position_ppg[player.position] * 9 ,\n",
    "                            linestyle='None') for i in range(0,4)]\n",
    "leg = plt.legend(custom_leg, point_range,\n",
    "                 title = 'Projected Points (PPG)',\n",
    "#                  markerscale=30,\n",
    "                 labelspacing=2.5,\n",
    "                 handletextpad=1.5,\n",
    "                 borderpad=1.5,\n",
    "                 ncol=4,\n",
    "                 loc=(0.025, .025))\n",
    "\n",
    "ax.annotate('', xytext=(-.075, 0),  xy=(-.075, 1),  xycoords='axes fraction', arrowprops=dict(color='black', width=2))\n",
    "\n",
    "# axis changes\n",
    "ax.set_yticks(ages)\n",
    "ax.tick_params(left=True, bottom=False, labelleft=True, labelbottom=False)\n",
    "ax.set_ylabel('Season Age', size=16, weight='bold')\n",
    "ax.set_xlabel('MeaningleX Axis', size=12)\n",
    "plt.gca().yaxis.grid(True, linestyle='--',)\n",
    "plt.title(f\"{player.player_name} Player Development\", fontsize=18, fontweight='bold')\n",
    "footnote = \"\"\"By: Connor Jung @ConnorJungle, Data Source: Elite Prospects\"\"\"\n",
    "plt.figtext(0.125, 0.05, footnote)"
   ]
  },
  {
   "cell_type": "code",
   "execution_count": 11,
   "metadata": {},
   "outputs": [
    {
     "data": {
      "text/plain": [
       "{1: (3.8333333333333335, 18),\n",
       " 2: (1.6428571428571428, 19),\n",
       " 3: (6.023809523809524, 19),\n",
       " 4: (1.6428571428571428, 20),\n",
       " 5: (6.023809523809524, 20),\n",
       " 6: (10.404761904761905, 20),\n",
       " 7: (1.6428571428571428, 21),\n",
       " 8: (6.023809523809524, 21),\n",
       " 9: (10.404761904761905, 21),\n",
       " 10: (1.6428571428571428, 22),\n",
       " 11: (6.023809523809524, 22),\n",
       " 12: (10.404761904761905, 22),\n",
       " 13: (1.6428571428571428, 23),\n",
       " 14: (6.023809523809524, 23),\n",
       " 15: (10.404761904761905, 23)}"
      ]
     },
     "execution_count": 11,
     "metadata": {},
     "output_type": "execute_result"
    }
   ],
   "source": [
    "pos"
   ]
  },
  {
   "cell_type": "code",
   "execution_count": 10,
   "metadata": {},
   "outputs": [
    {
     "data": {
      "text/plain": [
       "{(1, 2): 0.559,\n",
       " (1, 3): 0.441,\n",
       " (2, 4): 1.0,\n",
       " (3, 5): 0.627,\n",
       " (3, 6): 0.373,\n",
       " (4, 7): 1.0,\n",
       " (5, 8): 1.0,\n",
       " (6, 9): 1.0,\n",
       " (7, 10): 1.0,\n",
       " (8, 11): 1.0,\n",
       " (9, 12): 1.0,\n",
       " (10, 13): 1.0,\n",
       " (11, 14): 1.0,\n",
       " (12, 15): 1.0}"
      ]
     },
     "execution_count": 10,
     "metadata": {},
     "output_type": "execute_result"
    }
   ],
   "source": [
    "edge_labels"
   ]
  },
  {
   "cell_type": "code",
   "execution_count": 220,
   "metadata": {},
   "outputs": [
    {
     "data": {
      "text/html": [
       "<div>\n",
       "<style scoped>\n",
       "    .dataframe tbody tr th:only-of-type {\n",
       "        vertical-align: middle;\n",
       "    }\n",
       "\n",
       "    .dataframe tbody tr th {\n",
       "        vertical-align: top;\n",
       "    }\n",
       "\n",
       "    .dataframe thead th {\n",
       "        text-align: right;\n",
       "    }\n",
       "</style>\n",
       "<table border=\"1\" class=\"dataframe\">\n",
       "  <thead>\n",
       "    <tr style=\"text-align: right;\">\n",
       "      <th></th>\n",
       "      <th>season_age</th>\n",
       "      <th>league</th>\n",
       "      <th>ppg</th>\n",
       "    </tr>\n",
       "  </thead>\n",
       "  <tbody>\n",
       "    <tr>\n",
       "      <th>0</th>\n",
       "      <td>21.0</td>\n",
       "      <td>AHL</td>\n",
       "      <td>0.840226</td>\n",
       "    </tr>\n",
       "    <tr>\n",
       "      <th>1</th>\n",
       "      <td>21.0</td>\n",
       "      <td>NHL</td>\n",
       "      <td>0.668343</td>\n",
       "    </tr>\n",
       "    <tr>\n",
       "      <th>0</th>\n",
       "      <td>22.0</td>\n",
       "      <td>AHL</td>\n",
       "      <td>1.054404</td>\n",
       "    </tr>\n",
       "    <tr>\n",
       "      <th>1</th>\n",
       "      <td>22.0</td>\n",
       "      <td>NHL</td>\n",
       "      <td>1.073548</td>\n",
       "    </tr>\n",
       "    <tr>\n",
       "      <th>2</th>\n",
       "      <td>22.0</td>\n",
       "      <td>NCAA</td>\n",
       "      <td>1.152411</td>\n",
       "    </tr>\n",
       "    <tr>\n",
       "      <th>0</th>\n",
       "      <td>22.0</td>\n",
       "      <td>NHL</td>\n",
       "      <td>1.169795</td>\n",
       "    </tr>\n",
       "    <tr>\n",
       "      <th>0</th>\n",
       "      <td>23.0</td>\n",
       "      <td>AHL</td>\n",
       "      <td>0.904883</td>\n",
       "    </tr>\n",
       "    <tr>\n",
       "      <th>1</th>\n",
       "      <td>23.0</td>\n",
       "      <td>NHL</td>\n",
       "      <td>0.806052</td>\n",
       "    </tr>\n",
       "    <tr>\n",
       "      <th>0</th>\n",
       "      <td>23.0</td>\n",
       "      <td>NHL</td>\n",
       "      <td>1.487392</td>\n",
       "    </tr>\n",
       "    <tr>\n",
       "      <th>0</th>\n",
       "      <td>23.0</td>\n",
       "      <td>NCAA</td>\n",
       "      <td>0.836525</td>\n",
       "    </tr>\n",
       "    <tr>\n",
       "      <th>1</th>\n",
       "      <td>23.0</td>\n",
       "      <td>AHL</td>\n",
       "      <td>0.656868</td>\n",
       "    </tr>\n",
       "    <tr>\n",
       "      <th>2</th>\n",
       "      <td>23.0</td>\n",
       "      <td>NHL</td>\n",
       "      <td>0.681128</td>\n",
       "    </tr>\n",
       "    <tr>\n",
       "      <th>0</th>\n",
       "      <td>23.0</td>\n",
       "      <td>NHL</td>\n",
       "      <td>1.552038</td>\n",
       "    </tr>\n",
       "  </tbody>\n",
       "</table>\n",
       "</div>"
      ],
      "text/plain": [
       "   season_age league       ppg\n",
       "0        21.0    AHL  0.840226\n",
       "1        21.0    NHL  0.668343\n",
       "0        22.0    AHL  1.054404\n",
       "1        22.0    NHL  1.073548\n",
       "2        22.0   NCAA  1.152411\n",
       "0        22.0    NHL  1.169795\n",
       "0        23.0    AHL  0.904883\n",
       "1        23.0    NHL  0.806052\n",
       "0        23.0    NHL  1.487392\n",
       "0        23.0   NCAA  0.836525\n",
       "1        23.0    AHL  0.656868\n",
       "2        23.0    NHL  0.681128\n",
       "0        23.0    NHL  1.552038"
      ]
     },
     "execution_count": 220,
     "metadata": {},
     "output_type": "execute_result"
    }
   ],
   "source": [
    "player.projections[['season_age', 'league', 'ppg']]"
   ]
  },
  {
   "cell_type": "code",
   "execution_count": 94,
   "metadata": {},
   "outputs": [
    {
     "name": "stdout",
     "output_type": "stream",
     "text": [
      "1 262.423\n",
      "2 150.92999999999998\n",
      "3 98.011\n",
      "4 33.326\n",
      "5 74.447\n",
      "6 2.857\n",
      "7 62.615\n",
      "8 0.0\n",
      "9 0.0\n",
      "10 0.0\n",
      "11 0.0\n",
      "12 0.0\n",
      "13 0.0\n",
      "14 0.0\n"
     ]
    }
   ],
   "source": [
    "def nhl_expected_value(G, node):\n",
    "    \n",
    "    value = []\n",
    "    for n in nx.descendants(G, node):\n",
    "        value.append(G.nodes[n]['xvalue'] if G.nodes[n]['league'] == 'NHL' else 0)\n",
    "    return np.sum(value)\n",
    "\n",
    "for i, n in enumerate(player.G.nodes):\n",
    "    print(i+1, nhl_expected_value(player.G, n))"
   ]
  },
  {
   "cell_type": "code",
   "execution_count": 99,
   "metadata": {},
   "outputs": [
    {
     "data": {
      "text/plain": [
       "98.798"
      ]
     },
     "execution_count": 99,
     "metadata": {},
     "output_type": "execute_result"
    }
   ],
   "source": [
    "62.615 + 2.857  + 33.326"
   ]
  },
  {
   "cell_type": "code",
   "execution_count": 42,
   "metadata": {},
   "outputs": [],
   "source": [
    "def node_probability(G, node):\n",
    "    \n",
    "    probabilities = []\n",
    "    for n in sorted(nx.ancestors(G, node))[::-1]:\n",
    "        probabilities.append(G.edges[(n, node)]['probability'])\n",
    "        node=n\n",
    "    return np.prod(probabilities)\n",
    "\n",
    "def node_expected_value(G, node):\n",
    "\n",
    "    return sum(G.nodes[node]['epoints'] * G.nodes[node]['cond_prob'] for n in nx.ancestors(G, node) | {node})\n",
    "\n",
    "def nhl_expected_value(G, node):\n",
    "    \n",
    "    value = []\n",
    "    for n in sorted(nx.descendants(G, node)):\n",
    "        value.append(G.nodes[n]['xvalue'] if G.nodes[n]['league'] == 'NHL' else 0)\n",
    "    return np.sum(value)\n",
    "\n",
    "def nhl_expected_value(G, node):\n",
    "        \n",
    "    return np.sum([G.nodes[n]['xvalue'] for n in nx.descendants(G, node) if G.nodes[n]['league'] == 'NHL']).round(1)"
   ]
  },
  {
   "cell_type": "code",
   "execution_count": 137,
   "metadata": {},
   "outputs": [
    {
     "name": "stdout",
     "output_type": "stream",
     "text": [
      "Node 2 xV: 124.17275200000002\n",
      "Node 3 xV: 15.551628000000001\n",
      "Node 4 xV: 42.511720020000006\n",
      "Node 5 xV: 74.86334856000002\n",
      "Node 6 xV: 32.917013999999995\n",
      "Node 7 xV: 58.35763208\n",
      "Node 8 xV: 14.75639497332\n",
      "Node 9 xV: 48.53716051184\n",
      "Node 10 xV: 33.473712000000006\n"
     ]
    }
   ],
   "source": [
    "df = df.assign(nhl_xvalue=np.nan,xvalue=np.nan,cond_probability=np.nan,)\n",
    "for node in df.node:\n",
    "    df.loc[df.node == node, ['nhl_xvalue']] = node_expected_value(G, node)\n",
    "    df.loc[df.node == node, ['xvalue']] = nhl_expected_value(G, node)\n",
    "    df.loc[df.node == node, ['cond_probability']] = node_probability(G, node)"
   ]
  },
  {
   "cell_type": "markdown",
   "metadata": {},
   "source": [
    "### Linear Model for Team Percentage of Scoring"
   ]
  },
  {
   "cell_type": "code",
   "execution_count": 422,
   "metadata": {},
   "outputs": [],
   "source": [
    "df = pd.read_csv('player_season_stats.csv')\n",
    "X, y, _ = prepare_features(df, 'ppg_y_plus_1')"
   ]
  },
  {
   "cell_type": "code",
   "execution_count": 477,
   "metadata": {},
   "outputs": [],
   "source": [
    "from sklearn.metrics import mean_absolute_error, mean_squared_error\n",
    "from sklearn.linear_model import LinearRegression\n",
    "import seaborn as sns\n",
    "import matplotlib.pyplot as plt\n",
    "import seaborn as sns\n",
    "from scipy import stats\n",
    "import matplotlib.style as style\n",
    "\n",
    "def fit_team_scoring_model(data, scoring_metric):\n",
    "    \n",
    "    df = get_next_season_data(data)\n",
    "\n",
    "    df = df[(df.gp < 85)\n",
    "        & (df.season_age >= 17)\n",
    "        & (df.season_age <= 23)\n",
    "        & (df.gp_y_plus_1.notnull())]\n",
    "    \n",
    "    age = pd.DataFrame(df.season_age)\n",
    "    \n",
    "    df = df.set_index(['playerid', 'player', 'season_age'])\n",
    "    \n",
    "    age.index = df.index\n",
    "    \n",
    "    features = df[[scoring_metric]].merge(\n",
    "        pd.get_dummies(df['league'], drop_first=True),\n",
    "        left_index=True,\n",
    "        right_index=True).merge(\n",
    "        pd.get_dummies(age.season_age, drop_first=True),\n",
    "        left_index=True,\n",
    "        right_index=True)\n",
    "    \n",
    "    label = 'perc_team_tp' if scoring_metric == 'ppg' \\\n",
    "    else 'perc_team_g' if scoring_metric == 'gpg'\\\n",
    "    else 'perc_team_a' \n",
    "    \n",
    "    target = df[label]\n",
    "\n",
    "    lin_model = LinearRegression()\n",
    "\n",
    "    lin_model.fit(features[target.notnull().values], target[target.notnull().values])\n",
    "\n",
    "    print('Mean Absolute Error: ', mean_absolute_error(target[target.notnull().values],\n",
    "                                                       lin_model.predict(features[target.notnull().values])))\n",
    "\n",
    "    print('Mean Squared Error: ', mean_squared_error(target[target.notnull().values],\n",
    "                                                       lin_model.predict(features[target.notnull().values])))\n",
    "\n",
    "    sns.distplot(target[target.notnull().values])\n",
    "    plt.show()\n",
    "\n",
    "    plt.rc('axes', facecolor='#ffffff', edgecolor='#ffffff',\n",
    "           axisbelow=True, grid=True,\n",
    "          )\n",
    "    plt.rc('grid', color='grey', linestyle='dashed')\n",
    "    plt.rc('patch', edgecolor='#ffffff', facecolor='#ffffff')\n",
    "\n",
    "    plt.figure(figsize=(10,5),facecolor=\"#ffffff\")\n",
    "\n",
    "    slope, intercept, r_value, p_value, std_err = stats.linregress(lin_model.predict(features[target.notnull().values]),\n",
    "                                                                   target[target.notnull().values])\n",
    "\n",
    "    sns.regplot(x = lin_model.predict(features[target.notnull().values]),\n",
    "                y = target[target.notnull().values],\n",
    "                line_kws={'label':\"y={0:.1f}x+{1:.1f}, p-value: {2:2f}, R^2: {3:2f}\".format(slope,\n",
    "                                                                                               intercept,\n",
    "                                                                                               p_value, \n",
    "                                                                                               r_value ** 2)})\n",
    "    plt.title('Predicting Percentage of Team TP [Full LR]')\n",
    "    plt.legend()\n",
    "    plt.show()\n",
    "    \n",
    "    joblib.dump(lin_model, f'{scoring_metric}_team_model.pkl')\n",
    "    \n",
    "    return features"
   ]
  },
  {
   "cell_type": "code",
   "execution_count": 478,
   "metadata": {},
   "outputs": [
    {
     "name": "stdout",
     "output_type": "stream",
     "text": [
      "Mean Absolute Error:  0.008165198328830106\n",
      "Mean Squared Error:  0.0001425965256690886\n"
     ]
    },
    {
     "data": {
      "image/png": "[encoded data removed]",
      "text/plain": [
       "<Figure size 432x288 with 1 Axes>"
      ]
     },
     "metadata": {
      "needs_background": "light"
     },
     "output_type": "display_data"
    },
    {
     "data": {
      "image/png": "[encoded data removed]",
      "text/plain": [
       "<Figure size 720x360 with 1 Axes>"
      ]
     },
     "metadata": {},
     "output_type": "display_data"
    },
    {
     "name": "stdout",
     "output_type": "stream",
     "text": [
      "Mean Absolute Error:  0.00850062843903706\n",
      "Mean Squared Error:  0.0001545322927969362\n"
     ]
    },
    {
     "data": {
      "image/png": "[encoded data removed]",
      "text/plain": [
       "<Figure size 432x288 with 1 Axes>"
      ]
     },
     "metadata": {
      "needs_background": "light"
     },
     "output_type": "display_data"
    },
    {
     "data": {
      "image/png": "[encoded data removed]",
      "text/plain": [
       "<Figure size 720x360 with 1 Axes>"
      ]
     },
     "metadata": {},
     "output_type": "display_data"
    },
    {
     "name": "stdout",
     "output_type": "stream",
     "text": [
      "Mean Absolute Error:  0.008348387621897654\n",
      "Mean Squared Error:  0.00016889321315668453\n"
     ]
    },
    {
     "data": {
      "image/png": "[encoded data removed]",
      "text/plain": [
       "<Figure size 432x288 with 1 Axes>"
      ]
     },
     "metadata": {
      "needs_background": "light"
     },
     "output_type": "display_data"
    },
    {
     "data": {
      "image/png": "[encoded data removed]",
      "text/plain": [
       "<Figure size 720x360 with 1 Axes>"
      ]
     },
     "metadata": {},
     "output_type": "display_data"
    }
   ],
   "source": [
    "metric = ['ppg', 'apg', 'gpg']\n",
    "for met in metric:\n",
    "    feats = fit_team_scoring_model(df, met)"
   ]
  },
  {
   "cell_type": "code",
   "execution_count": 223,
   "metadata": {},
   "outputs": [
    {
     "data": {
      "text/plain": [
       "{'directed': True,\n",
       " 'multigraph': False,\n",
       " 'graph': {},\n",
       " 'nodes': [{'league': 'SHL', 'id': 1},\n",
       "  {'league': 'SHL',\n",
       "   'age': 21.0,\n",
       "   'epoints': 23.43,\n",
       "   'cond_prob': 0.783,\n",
       "   'xvalue': 36.691,\n",
       "   'id': 2},\n",
       "  {'league': 'AHL',\n",
       "   'age': 21.0,\n",
       "   'epoints': 42.160000000000004,\n",
       "   'cond_prob': 0.208,\n",
       "   'xvalue': 17.539,\n",
       "   'id': 3},\n",
       "  {'league': 'NHL',\n",
       "   'age': 21.0,\n",
       "   'epoints': 28.208,\n",
       "   'cond_prob': 0.01,\n",
       "   'xvalue': 0.564,\n",
       "   'id': 4},\n",
       "  {'league': 'SHL',\n",
       "   'age': 22.0,\n",
       "   'epoints': 41.14,\n",
       "   'cond_prob': 0.42595200000000005,\n",
       "   'xvalue': 52.571,\n",
       "   'id': 5},\n",
       "  {'league': 'AHL',\n",
       "   'age': 22.0,\n",
       "   'epoints': 56.08,\n",
       "   'cond_prob': 0.317898,\n",
       "   'xvalue': 53.483,\n",
       "   'id': 6},\n",
       "  {'league': 'NHL',\n",
       "   'age': 22.0,\n",
       "   'epoints': 37.72,\n",
       "   'cond_prob': 0.039150000000000004,\n",
       "   'xvalue': 4.43,\n",
       "   'id': 7},\n",
       "  {'league': 'AHL',\n",
       "   'age': 22.0,\n",
       "   'epoints': 68.64,\n",
       "   'cond_prob': 0.178672,\n",
       "   'xvalue': 36.792,\n",
       "   'id': 8},\n",
       "  {'league': 'NHL',\n",
       "   'age': 22.0,\n",
       "   'epoints': 44.362,\n",
       "   'cond_prob': 0.029327999999999996,\n",
       "   'xvalue': 3.903,\n",
       "   'id': 9},\n",
       "  {'league': 'NHL',\n",
       "   'age': 22.0,\n",
       "   'epoints': 60.844,\n",
       "   'cond_prob': 0.00857,\n",
       "   'xvalue': 1.564,\n",
       "   'id': 10},\n",
       "  {'league': 'AHL',\n",
       "   'age': 22.0,\n",
       "   'epoints': 80.07999999999998,\n",
       "   'cond_prob': 0.0014299999999999998,\n",
       "   'xvalue': 0.344,\n",
       "   'id': 11},\n",
       "  {'league': 'AHL',\n",
       "   'age': 23.0,\n",
       "   'epoints': 96.16,\n",
       "   'cond_prob': 0.177621984,\n",
       "   'xvalue': 68.321,\n",
       "   'id': 12},\n",
       "  {'league': 'SHL',\n",
       "   'age': 23.0,\n",
       "   'epoints': 48.51,\n",
       "   'cond_prob': 0.16952889600000004,\n",
       "   'xvalue': 32.895,\n",
       "   'id': 13},\n",
       "  {'league': 'NHL',\n",
       "   'age': 23.0,\n",
       "   'epoints': 62.484,\n",
       "   'cond_prob': 0.07880112,\n",
       "   'xvalue': 19.695,\n",
       "   'id': 14},\n",
       "  {'league': 'AHL',\n",
       "   'age': 23.0,\n",
       "   'epoints': 73.12,\n",
       "   'cond_prob': 0.23206554000000004,\n",
       "   'xvalue': 67.875,\n",
       "   'id': 15},\n",
       "  {'league': 'NHL',\n",
       "   'age': 23.0,\n",
       "   'epoints': 56.498,\n",
       "   'cond_prob': 0.08583246000000001,\n",
       "   'xvalue': 19.397,\n",
       "   'id': 16},\n",
       "  {'league': 'NHL',\n",
       "   'age': 23.0,\n",
       "   'epoints': 74.128,\n",
       "   'cond_prob': 0.039150000000000004,\n",
       "   'xvalue': 11.608,\n",
       "   'id': 17},\n",
       "  {'league': 'AHL',\n",
       "   'age': 23.0,\n",
       "   'epoints': 73.52000000000001,\n",
       "   'cond_prob': 0.12239032,\n",
       "   'xvalue': 35.993,\n",
       "   'id': 18},\n",
       "  {'league': 'NHL',\n",
       "   'age': 23.0,\n",
       "   'epoints': 55.842000000000006,\n",
       "   'cond_prob': 0.05628168,\n",
       "   'xvalue': 12.572,\n",
       "   'id': 19},\n",
       "  {'league': 'NHL',\n",
       "   'age': 23.0,\n",
       "   'epoints': 75.194,\n",
       "   'cond_prob': 0.029327999999999996,\n",
       "   'xvalue': 8.821,\n",
       "   'id': 20},\n",
       "  {'league': 'NHL',\n",
       "   'age': 23.0,\n",
       "   'epoints': 77.89999999999999,\n",
       "   'cond_prob': 0.00857,\n",
       "   'xvalue': 2.67,\n",
       "   'id': 21},\n",
       "  {'league': 'AHL',\n",
       "   'age': 23.0,\n",
       "   'epoints': 73.84,\n",
       "   'cond_prob': 0.0008823099999999999,\n",
       "   'xvalue': 0.261,\n",
       "   'id': 22},\n",
       "  {'league': 'NHL',\n",
       "   'age': 23.0,\n",
       "   'epoints': 55.022000000000006,\n",
       "   'cond_prob': 0.00054769,\n",
       "   'xvalue': 0.121,\n",
       "   'id': 23}],\n",
       " 'links': [{'probability': 0.783, 'epoints': 23.43, 'source': 1, 'target': 2},\n",
       "  {'probability': 0.208,\n",
       "   'epoints': 42.160000000000004,\n",
       "   'source': 1,\n",
       "   'target': 3},\n",
       "  {'probability': 0.01, 'epoints': 28.208, 'source': 1, 'target': 4},\n",
       "  {'probability': 0.544, 'epoints': 41.14, 'source': 2, 'target': 5},\n",
       "  {'probability': 0.406, 'epoints': 56.08, 'source': 2, 'target': 6},\n",
       "  {'probability': 0.05, 'epoints': 37.72, 'source': 2, 'target': 7},\n",
       "  {'probability': 0.859, 'epoints': 68.64, 'source': 3, 'target': 8},\n",
       "  {'probability': 0.141, 'epoints': 44.362, 'source': 3, 'target': 9},\n",
       "  {'probability': 0.857, 'epoints': 60.844, 'source': 4, 'target': 10},\n",
       "  {'probability': 0.143,\n",
       "   'epoints': 80.07999999999998,\n",
       "   'source': 4,\n",
       "   'target': 11},\n",
       "  {'probability': 0.417, 'epoints': 96.16, 'source': 5, 'target': 12},\n",
       "  {'probability': 0.398, 'epoints': 48.51, 'source': 5, 'target': 13},\n",
       "  {'probability': 0.185, 'epoints': 62.484, 'source': 5, 'target': 14},\n",
       "  {'probability': 0.73, 'epoints': 73.12, 'source': 6, 'target': 15},\n",
       "  {'probability': 0.27, 'epoints': 56.498, 'source': 6, 'target': 16},\n",
       "  {'probability': 1.0, 'epoints': 74.128, 'source': 7, 'target': 17},\n",
       "  {'probability': 0.685,\n",
       "   'epoints': 73.52000000000001,\n",
       "   'source': 8,\n",
       "   'target': 18},\n",
       "  {'probability': 0.315,\n",
       "   'epoints': 55.842000000000006,\n",
       "   'source': 8,\n",
       "   'target': 19},\n",
       "  {'probability': 1.0, 'epoints': 75.194, 'source': 9, 'target': 20},\n",
       "  {'probability': 1.0,\n",
       "   'epoints': 77.89999999999999,\n",
       "   'source': 10,\n",
       "   'target': 21},\n",
       "  {'probability': 0.617, 'epoints': 73.84, 'source': 11, 'target': 22},\n",
       "  {'probability': 0.383,\n",
       "   'epoints': 55.022000000000006,\n",
       "   'source': 11,\n",
       "   'target': 23}]}"
      ]
     },
     "execution_count": 223,
     "metadata": {},
     "output_type": "execute_result"
    }
   ],
   "source": [
    "nx.readwrite.json_graph.node_link_data(G)"
   ]
  },
  {
   "cell_type": "code",
   "execution_count": 236,
   "metadata": {},
   "outputs": [],
   "source": [
    "def get_primary_position(val):\n",
    "\n",
    "    match = re.search('[c,w,lw,rw,f]', val.lower())\n",
    "\n",
    "    if match:\n",
    "        return 'F'\n",
    "    else:\n",
    "        return 'D'"
   ]
  },
  {
   "cell_type": "code",
   "execution_count": 237,
   "metadata": {},
   "outputs": [],
   "source": [
    "data = player.dataset\n",
    "data['primary_position'] = data.position.apply(get_primary_position)"
   ]
  },
  {
   "cell_type": "code",
   "execution_count": 243,
   "metadata": {},
   "outputs": [],
   "source": [
    "def scoring_by_position(self):\n",
    "    \n",
    "    data = player.dataset\n",
    "    \n",
    "    data['primary_position'] = data.position.apply(get_primary_position)\n",
    "    \n",
    "    self.position_ppg = data[(data.season_age >= 17)\n",
    "                             & (data.season_age <= 23)].groupby('primary_position').ppg.mean().to_dict()\n",
    "\n"
   ]
  },
  {
   "cell_type": "markdown",
   "metadata": {},
   "source": [
    "# Plotly NxGraph"
   ]
  },
  {
   "cell_type": "code",
   "execution_count": 4,
   "metadata": {},
   "outputs": [],
   "source": [
    "import plotly.graph_objects as go\n",
    "\n",
    "import networkx as nx\n",
    "\n",
    "G = nx.random_geometric_graph(200, 0.125)"
   ]
  },
  {
   "cell_type": "code",
   "execution_count": null,
   "metadata": {},
   "outputs": [],
   "source": []
  },
  {
   "cell_type": "code",
   "execution_count": 8,
   "metadata": {},
   "outputs": [
    {
     "data": {
      "text/plain": [
       "<networkx.classes.digraph.DiGraph at 0x14c853d50>"
      ]
     },
     "execution_count": 8,
     "metadata": {},
     "output_type": "execute_result"
    }
   ],
   "source": [
    "# create tree layout and rescale based on age\n",
    "pos = graphviz_layout(player.G, prog='dot')\n",
    "# array of ages for y-axis\n",
    "ages = np.arange(player.start_age,\n",
    "                 player.projections.season_age.astype(int).max() + 1,\n",
    "                 1)\n",
    "# rescale x,y coordinates\n",
    "y = np.array([xy[1] for _, xy in pos.items()])\n",
    "y_rescale = (y.max() / y.min()) / (ages.max() / ages.min())\n",
    "y_map = { k:v for k,v in zip(sorted(np.unique(y))[::-1], ages)}\n",
    "pos = {u :(v[0] / y_rescale, y_map[v[1]]) for u,v in pos.items()}\n",
    "\n",
    "node_sizes = [player.G.nodes[g]['ppg'] / player.position_ppg[player.position] * 300 for g in player.G.nodes]\n",
    "player.node_sizes = node_sizes\n",
    "\n",
    "# draw nodes\n",
    "nodes = nx.draw_networkx_nodes(player.G,\n",
    "                               pos,\n",
    "                               node_size=node_sizes,\n",
    "                               node_color='dodgerblue',\n",
    "                               ax=ax)\n",
    "node_labels = nx.get_node_attributes(player.G, 'ppg')\n",
    "nx.draw_networkx_labels(player.G,\n",
    "                        pos,\n",
    "                        node_labels,\n",
    "                        font_size=14,\n",
    "                        ax=ax, \n",
    "                        font_family='monospace', \n",
    "                        font_color='black', \n",
    "                        font_weight='bold',)\n",
    "\n",
    "# draw edges\n",
    "edges = nx.draw_networkx_edges(player.G,\n",
    "                               pos, \n",
    "                               arrowstyle='->', \n",
    "                               arrowsize=20, \n",
    "                               edge_cmap=plt.cm.Greys, \n",
    "                               width=3,\n",
    "                               ax=ax)\n",
    "edge_labels = nx.get_edge_attributes(player.G, 'probability')\n",
    "nx.draw_networkx_edge_labels(player.G, \n",
    "                             pos, \n",
    "                             edge_labels, \n",
    "                             font_size=12,\n",
    "                             ax=ax, \n",
    "                             font_family='monospace')\n"
   ]
  },
  {
   "cell_type": "code",
   "execution_count": 36,
   "metadata": {},
   "outputs": [],
   "source": [
    "edge_x = []\n",
    "edge_y = []\n",
    "for edge in player.G.edges():\n",
    "    x0, y0 = pos[edge[0]]\n",
    "    x1, y1 = pos[edge[1]]\n",
    "    edge_x.append(x0)\n",
    "    edge_x.append(x1)\n",
    "    edge_x.append(None)\n",
    "    edge_y.append(y0)\n",
    "    edge_y.append(y1)\n",
    "    edge_y.append(None)\n",
    "\n",
    "edge_trace = go.Scatter(\n",
    "    x=edge_x, y=edge_y,\n",
    "    line=dict(width=0.5, color='#888'),\n",
    "    hoverinfo='none',\n",
    "    mode='lines')\n",
    "\n",
    "node_x = []\n",
    "node_y = []\n",
    "for node in player.G.nodes():\n",
    "    x, y = pos[node]\n",
    "    node_x.append(x)\n",
    "    node_y.append(y)\n"
   ]
  },
  {
   "cell_type": "code",
   "execution_count": 84,
   "metadata": {},
   "outputs": [],
   "source": [
    "node_trace = go.Scatter(\n",
    "    x=node_x, y=node_y,\n",
    "    mode='markers',\n",
    "    hoverinfo='text',\n",
    "    marker=dict(\n",
    "        showscale=True,\n",
    "        # colorscale options\n",
    "        #'Greys' | 'YlGnBu' | 'Greens' | 'YlOrRd' | 'Bluered' | 'RdBu' |\n",
    "        #'Reds' | 'Blues' | 'Picnic' | 'Rainbow' | 'Portland' | 'Jet' |\n",
    "        #'Hot' | 'Blackbody' | 'Earth' | 'Electric' | 'Viridis' |\n",
    "        colorscale='YlGnBu',\n",
    "        reversescale=True,\n",
    "        color=[],\n",
    "        size=20,\n",
    "        colorbar=dict(\n",
    "            thickness=15,\n",
    "            title='Node Connections',\n",
    "            xanchor='left',\n",
    "            titleside='right'\n",
    "        ),\n",
    "        line_width=2))"
   ]
  },
  {
   "cell_type": "code",
   "execution_count": 38,
   "metadata": {},
   "outputs": [],
   "source": [
    "node_adjacencies = []\n",
    "node_text = []\n",
    "for node, adjacencies in enumerate(G.adjacency()):\n",
    "    node_adjacencies.append(len(adjacencies[1]))\n",
    "    node_text.append('# of connections: '+str(len(adjacencies[1])))\n",
    "\n",
    "node_trace.marker.color = node_adjacencies\n",
    "node_trace.text = node_text"
   ]
  },
  {
   "cell_type": "code",
   "execution_count": 113,
   "metadata": {},
   "outputs": [
    {
     "data": {
      "application/vnd.plotly.v1+json": {
       "config": {
        "plotlyServerURL": "https://plot.ly"
       },
       "data": [
        {
         "hoverinfo": "text",
         "marker": {
          "color": [],
          "colorbar": {
           "thickness": 15,
           "title": {
            "side": "right",
            "text": "Node Connections"
           },
           "xanchor": "left"
          },
          "colorscale": [
           [
            0,
            "rgb(255,255,217)"
           ],
           [
            0.125,
            "rgb(237,248,177)"
           ],
           [
            0.25,
            "rgb(199,233,180)"
           ],
           [
            0.375,
            "rgb(127,205,187)"
           ],
           [
            0.5,
            "rgb(65,182,196)"
           ],
           [
            0.625,
            "rgb(29,145,192)"
           ],
           [
            0.75,
            "rgb(34,94,168)"
           ],
           [
            0.875,
            "rgb(37,52,148)"
           ],
           [
            1,
            "rgb(8,29,88)"
           ]
          ],
          "line": {
           "width": 2
          },
          "reversescale": true,
          "showscale": true,
          "size": 20
         },
         "mode": "markers",
         "type": "scatter",
         "x": [
          3.8333333333333335,
          1.6428571428571428,
          6.023809523809524,
          1.6428571428571428,
          6.023809523809524,
          10.404761904761905,
          1.6428571428571428,
          6.023809523809524,
          10.404761904761905,
          1.6428571428571428,
          6.023809523809524,
          10.404761904761905,
          1.6428571428571428,
          6.023809523809524,
          10.404761904761905
         ],
         "y": [
          18,
          19,
          19,
          20,
          20,
          20,
          21,
          21,
          21,
          22,
          22,
          22,
          23,
          23,
          23
         ]
        }
       ],
       "layout": {
        "annotations": [
         {
          "showarrow": false,
          "text": "Python code: <a href='https://plotly.com/ipython-notebooks/network-graphs/'> https://plotly.com/ipython-notebooks/network-graphs/</a>",
          "x": 0.005,
          "xref": "paper",
          "y": -0.005,
          "yref": "paper"
         },
         {
          "arrowcolor": "#cccccc",
          "arrowhead": 3,
          "arrowsize": 1,
          "arrowwidth": 3,
          "ax": 3.8333333333333335,
          "axref": "x",
          "ay": 18,
          "ayref": "y",
          "hovertext": "0.559",
          "showarrow": true,
          "standoff": 10,
          "textangle": 30,
          "x": 1.6428571428571428,
          "xref": "x",
          "y": 19,
          "yref": "y"
         },
         {
          "arrowcolor": "#cccccc",
          "arrowhead": 3,
          "arrowsize": 1,
          "arrowwidth": 3,
          "ax": 3.8333333333333335,
          "axref": "x",
          "ay": 18,
          "ayref": "y",
          "hovertext": "0.441",
          "showarrow": true,
          "standoff": 10,
          "textangle": 30,
          "x": 6.023809523809524,
          "xref": "x",
          "y": 19,
          "yref": "y"
         },
         {
          "arrowcolor": "#cccccc",
          "arrowhead": 3,
          "arrowsize": 1,
          "arrowwidth": 3,
          "ax": 1.6428571428571428,
          "axref": "x",
          "ay": 19,
          "ayref": "y",
          "hovertext": "1.0",
          "showarrow": true,
          "standoff": 10,
          "textangle": 30,
          "x": 1.6428571428571428,
          "xref": "x",
          "y": 20,
          "yref": "y"
         },
         {
          "arrowcolor": "#cccccc",
          "arrowhead": 3,
          "arrowsize": 1,
          "arrowwidth": 3,
          "ax": 6.023809523809524,
          "axref": "x",
          "ay": 19,
          "ayref": "y",
          "hovertext": "0.627",
          "showarrow": true,
          "standoff": 10,
          "textangle": 30,
          "x": 6.023809523809524,
          "xref": "x",
          "y": 20,
          "yref": "y"
         },
         {
          "arrowcolor": "#cccccc",
          "arrowhead": 3,
          "arrowsize": 1,
          "arrowwidth": 3,
          "ax": 6.023809523809524,
          "axref": "x",
          "ay": 19,
          "ayref": "y",
          "hovertext": "0.373",
          "showarrow": true,
          "standoff": 10,
          "textangle": 30,
          "x": 10.404761904761905,
          "xref": "x",
          "y": 20,
          "yref": "y"
         },
         {
          "arrowcolor": "#cccccc",
          "arrowhead": 3,
          "arrowsize": 1,
          "arrowwidth": 3,
          "ax": 1.6428571428571428,
          "axref": "x",
          "ay": 20,
          "ayref": "y",
          "hovertext": "1.0",
          "showarrow": true,
          "standoff": 10,
          "textangle": 30,
          "x": 1.6428571428571428,
          "xref": "x",
          "y": 21,
          "yref": "y"
         },
         {
          "arrowcolor": "#cccccc",
          "arrowhead": 3,
          "arrowsize": 1,
          "arrowwidth": 3,
          "ax": 6.023809523809524,
          "axref": "x",
          "ay": 20,
          "ayref": "y",
          "hovertext": "1.0",
          "showarrow": true,
          "standoff": 10,
          "textangle": 30,
          "x": 6.023809523809524,
          "xref": "x",
          "y": 21,
          "yref": "y"
         },
         {
          "arrowcolor": "#cccccc",
          "arrowhead": 3,
          "arrowsize": 1,
          "arrowwidth": 3,
          "ax": 10.404761904761905,
          "axref": "x",
          "ay": 20,
          "ayref": "y",
          "hovertext": "1.0",
          "showarrow": true,
          "standoff": 10,
          "textangle": 30,
          "x": 10.404761904761905,
          "xref": "x",
          "y": 21,
          "yref": "y"
         },
         {
          "arrowcolor": "#cccccc",
          "arrowhead": 3,
          "arrowsize": 1,
          "arrowwidth": 3,
          "ax": 1.6428571428571428,
          "axref": "x",
          "ay": 21,
          "ayref": "y",
          "hovertext": "1.0",
          "showarrow": true,
          "standoff": 10,
          "textangle": 30,
          "x": 1.6428571428571428,
          "xref": "x",
          "y": 22,
          "yref": "y"
         },
         {
          "arrowcolor": "#cccccc",
          "arrowhead": 3,
          "arrowsize": 1,
          "arrowwidth": 3,
          "ax": 6.023809523809524,
          "axref": "x",
          "ay": 21,
          "ayref": "y",
          "hovertext": "1.0",
          "showarrow": true,
          "standoff": 10,
          "textangle": 30,
          "x": 6.023809523809524,
          "xref": "x",
          "y": 22,
          "yref": "y"
         },
         {
          "arrowcolor": "#cccccc",
          "arrowhead": 3,
          "arrowsize": 1,
          "arrowwidth": 3,
          "ax": 10.404761904761905,
          "axref": "x",
          "ay": 21,
          "ayref": "y",
          "hovertext": "1.0",
          "showarrow": true,
          "standoff": 10,
          "textangle": 30,
          "x": 10.404761904761905,
          "xref": "x",
          "y": 22,
          "yref": "y"
         },
         {
          "arrowcolor": "#cccccc",
          "arrowhead": 3,
          "arrowsize": 1,
          "arrowwidth": 3,
          "ax": 1.6428571428571428,
          "axref": "x",
          "ay": 22,
          "ayref": "y",
          "hovertext": "1.0",
          "showarrow": true,
          "standoff": 10,
          "textangle": 30,
          "x": 1.6428571428571428,
          "xref": "x",
          "y": 23,
          "yref": "y"
         },
         {
          "arrowcolor": "#cccccc",
          "arrowhead": 3,
          "arrowsize": 1,
          "arrowwidth": 3,
          "ax": 6.023809523809524,
          "axref": "x",
          "ay": 22,
          "ayref": "y",
          "hovertext": "1.0",
          "showarrow": true,
          "standoff": 10,
          "textangle": 30,
          "x": 6.023809523809524,
          "xref": "x",
          "y": 23,
          "yref": "y"
         },
         {
          "arrowcolor": "#cccccc",
          "arrowhead": 3,
          "arrowsize": 1,
          "arrowwidth": 3,
          "ax": 10.404761904761905,
          "axref": "x",
          "ay": 22,
          "ayref": "y",
          "hovertext": "1.0",
          "showarrow": true,
          "standoff": 10,
          "textangle": 30,
          "x": 10.404761904761905,
          "xref": "x",
          "y": 23,
          "yref": "y"
         }
        ],
        "hovermode": "closest",
        "margin": {
         "b": 20,
         "l": 5,
         "r": 5,
         "t": 40
        },
        "showlegend": false,
        "template": {
         "data": {
          "bar": [
           {
            "error_x": {
             "color": "#2a3f5f"
            },
            "error_y": {
             "color": "#2a3f5f"
            },
            "marker": {
             "line": {
              "color": "#E5ECF6",
              "width": 0.5
             }
            },
            "type": "bar"
           }
          ],
          "barpolar": [
           {
            "marker": {
             "line": {
              "color": "#E5ECF6",
              "width": 0.5
             }
            },
            "type": "barpolar"
           }
          ],
          "carpet": [
           {
            "aaxis": {
             "endlinecolor": "#2a3f5f",
             "gridcolor": "white",
             "linecolor": "white",
             "minorgridcolor": "white",
             "startlinecolor": "#2a3f5f"
            },
            "baxis": {
             "endlinecolor": "#2a3f5f",
             "gridcolor": "white",
             "linecolor": "white",
             "minorgridcolor": "white",
             "startlinecolor": "#2a3f5f"
            },
            "type": "carpet"
           }
          ],
          "choropleth": [
           {
            "colorbar": {
             "outlinewidth": 0,
             "ticks": ""
            },
            "type": "choropleth"
           }
          ],
          "contour": [
           {
            "colorbar": {
             "outlinewidth": 0,
             "ticks": ""
            },
            "colorscale": [
             [
              0,
              "#0d0887"
             ],
             [
              0.1111111111111111,
              "#46039f"
             ],
             [
              0.2222222222222222,
              "#7201a8"
             ],
             [
              0.3333333333333333,
              "#9c179e"
             ],
             [
              0.4444444444444444,
              "#bd3786"
             ],
             [
              0.5555555555555556,
              "#d8576b"
             ],
             [
              0.6666666666666666,
              "#ed7953"
             ],
             [
              0.7777777777777778,
              "#fb9f3a"
             ],
             [
              0.8888888888888888,
              "#fdca26"
             ],
             [
              1,
              "#f0f921"
             ]
            ],
            "type": "contour"
           }
          ],
          "contourcarpet": [
           {
            "colorbar": {
             "outlinewidth": 0,
             "ticks": ""
            },
            "type": "contourcarpet"
           }
          ],
          "heatmap": [
           {
            "colorbar": {
             "outlinewidth": 0,
             "ticks": ""
            },
            "colorscale": [
             [
              0,
              "#0d0887"
             ],
             [
              0.1111111111111111,
              "#46039f"
             ],
             [
              0.2222222222222222,
              "#7201a8"
             ],
             [
              0.3333333333333333,
              "#9c179e"
             ],
             [
              0.4444444444444444,
              "#bd3786"
             ],
             [
              0.5555555555555556,
              "#d8576b"
             ],
             [
              0.6666666666666666,
              "#ed7953"
             ],
             [
              0.7777777777777778,
              "#fb9f3a"
             ],
             [
              0.8888888888888888,
              "#fdca26"
             ],
             [
              1,
              "#f0f921"
             ]
            ],
            "type": "heatmap"
           }
          ],
          "heatmapgl": [
           {
            "colorbar": {
             "outlinewidth": 0,
             "ticks": ""
            },
            "colorscale": [
             [
              0,
              "#0d0887"
             ],
             [
              0.1111111111111111,
              "#46039f"
             ],
             [
              0.2222222222222222,
              "#7201a8"
             ],
             [
              0.3333333333333333,
              "#9c179e"
             ],
             [
              0.4444444444444444,
              "#bd3786"
             ],
             [
              0.5555555555555556,
              "#d8576b"
             ],
             [
              0.6666666666666666,
              "#ed7953"
             ],
             [
              0.7777777777777778,
              "#fb9f3a"
             ],
             [
              0.8888888888888888,
              "#fdca26"
             ],
             [
              1,
              "#f0f921"
             ]
            ],
            "type": "heatmapgl"
           }
          ],
          "histogram": [
           {
            "marker": {
             "colorbar": {
              "outlinewidth": 0,
              "ticks": ""
             }
            },
            "type": "histogram"
           }
          ],
          "histogram2d": [
           {
            "colorbar": {
             "outlinewidth": 0,
             "ticks": ""
            },
            "colorscale": [
             [
              0,
              "#0d0887"
             ],
             [
              0.1111111111111111,
              "#46039f"
             ],
             [
              0.2222222222222222,
              "#7201a8"
             ],
             [
              0.3333333333333333,
              "#9c179e"
             ],
             [
              0.4444444444444444,
              "#bd3786"
             ],
             [
              0.5555555555555556,
              "#d8576b"
             ],
             [
              0.6666666666666666,
              "#ed7953"
             ],
             [
              0.7777777777777778,
              "#fb9f3a"
             ],
             [
              0.8888888888888888,
              "#fdca26"
             ],
             [
              1,
              "#f0f921"
             ]
            ],
            "type": "histogram2d"
           }
          ],
          "histogram2dcontour": [
           {
            "colorbar": {
             "outlinewidth": 0,
             "ticks": ""
            },
            "colorscale": [
             [
              0,
              "#0d0887"
             ],
             [
              0.1111111111111111,
              "#46039f"
             ],
             [
              0.2222222222222222,
              "#7201a8"
             ],
             [
              0.3333333333333333,
              "#9c179e"
             ],
             [
              0.4444444444444444,
              "#bd3786"
             ],
             [
              0.5555555555555556,
              "#d8576b"
             ],
             [
              0.6666666666666666,
              "#ed7953"
             ],
             [
              0.7777777777777778,
              "#fb9f3a"
             ],
             [
              0.8888888888888888,
              "#fdca26"
             ],
             [
              1,
              "#f0f921"
             ]
            ],
            "type": "histogram2dcontour"
           }
          ],
          "mesh3d": [
           {
            "colorbar": {
             "outlinewidth": 0,
             "ticks": ""
            },
            "type": "mesh3d"
           }
          ],
          "parcoords": [
           {
            "line": {
             "colorbar": {
              "outlinewidth": 0,
              "ticks": ""
             }
            },
            "type": "parcoords"
           }
          ],
          "pie": [
           {
            "automargin": true,
            "type": "pie"
           }
          ],
          "scatter": [
           {
            "marker": {
             "colorbar": {
              "outlinewidth": 0,
              "ticks": ""
             }
            },
            "type": "scatter"
           }
          ],
          "scatter3d": [
           {
            "line": {
             "colorbar": {
              "outlinewidth": 0,
              "ticks": ""
             }
            },
            "marker": {
             "colorbar": {
              "outlinewidth": 0,
              "ticks": ""
             }
            },
            "type": "scatter3d"
           }
          ],
          "scattercarpet": [
           {
            "marker": {
             "colorbar": {
              "outlinewidth": 0,
              "ticks": ""
             }
            },
            "type": "scattercarpet"
           }
          ],
          "scattergeo": [
           {
            "marker": {
             "colorbar": {
              "outlinewidth": 0,
              "ticks": ""
             }
            },
            "type": "scattergeo"
           }
          ],
          "scattergl": [
           {
            "marker": {
             "colorbar": {
              "outlinewidth": 0,
              "ticks": ""
             }
            },
            "type": "scattergl"
           }
          ],
          "scattermapbox": [
           {
            "marker": {
             "colorbar": {
              "outlinewidth": 0,
              "ticks": ""
             }
            },
            "type": "scattermapbox"
           }
          ],
          "scatterpolar": [
           {
            "marker": {
             "colorbar": {
              "outlinewidth": 0,
              "ticks": ""
             }
            },
            "type": "scatterpolar"
           }
          ],
          "scatterpolargl": [
           {
            "marker": {
             "colorbar": {
              "outlinewidth": 0,
              "ticks": ""
             }
            },
            "type": "scatterpolargl"
           }
          ],
          "scatterternary": [
           {
            "marker": {
             "colorbar": {
              "outlinewidth": 0,
              "ticks": ""
             }
            },
            "type": "scatterternary"
           }
          ],
          "surface": [
           {
            "colorbar": {
             "outlinewidth": 0,
             "ticks": ""
            },
            "colorscale": [
             [
              0,
              "#0d0887"
             ],
             [
              0.1111111111111111,
              "#46039f"
             ],
             [
              0.2222222222222222,
              "#7201a8"
             ],
             [
              0.3333333333333333,
              "#9c179e"
             ],
             [
              0.4444444444444444,
              "#bd3786"
             ],
             [
              0.5555555555555556,
              "#d8576b"
             ],
             [
              0.6666666666666666,
              "#ed7953"
             ],
             [
              0.7777777777777778,
              "#fb9f3a"
             ],
             [
              0.8888888888888888,
              "#fdca26"
             ],
             [
              1,
              "#f0f921"
             ]
            ],
            "type": "surface"
           }
          ],
          "table": [
           {
            "cells": {
             "fill": {
              "color": "#EBF0F8"
             },
             "line": {
              "color": "white"
             }
            },
            "header": {
             "fill": {
              "color": "#C8D4E3"
             },
             "line": {
              "color": "white"
             }
            },
            "type": "table"
           }
          ]
         },
         "layout": {
          "annotationdefaults": {
           "arrowcolor": "#2a3f5f",
           "arrowhead": 0,
           "arrowwidth": 1
          },
          "coloraxis": {
           "colorbar": {
            "outlinewidth": 0,
            "ticks": ""
           }
          },
          "colorscale": {
           "diverging": [
            [
             0,
             "#8e0152"
            ],
            [
             0.1,
             "#c51b7d"
            ],
            [
             0.2,
             "#de77ae"
            ],
            [
             0.3,
             "#f1b6da"
            ],
            [
             0.4,
             "#fde0ef"
            ],
            [
             0.5,
             "#f7f7f7"
            ],
            [
             0.6,
             "#e6f5d0"
            ],
            [
             0.7,
             "#b8e186"
            ],
            [
             0.8,
             "#7fbc41"
            ],
            [
             0.9,
             "#4d9221"
            ],
            [
             1,
             "#276419"
            ]
           ],
           "sequential": [
            [
             0,
             "#0d0887"
            ],
            [
             0.1111111111111111,
             "#46039f"
            ],
            [
             0.2222222222222222,
             "#7201a8"
            ],
            [
             0.3333333333333333,
             "#9c179e"
            ],
            [
             0.4444444444444444,
             "#bd3786"
            ],
            [
             0.5555555555555556,
             "#d8576b"
            ],
            [
             0.6666666666666666,
             "#ed7953"
            ],
            [
             0.7777777777777778,
             "#fb9f3a"
            ],
            [
             0.8888888888888888,
             "#fdca26"
            ],
            [
             1,
             "#f0f921"
            ]
           ],
           "sequentialminus": [
            [
             0,
             "#0d0887"
            ],
            [
             0.1111111111111111,
             "#46039f"
            ],
            [
             0.2222222222222222,
             "#7201a8"
            ],
            [
             0.3333333333333333,
             "#9c179e"
            ],
            [
             0.4444444444444444,
             "#bd3786"
            ],
            [
             0.5555555555555556,
             "#d8576b"
            ],
            [
             0.6666666666666666,
             "#ed7953"
            ],
            [
             0.7777777777777778,
             "#fb9f3a"
            ],
            [
             0.8888888888888888,
             "#fdca26"
            ],
            [
             1,
             "#f0f921"
            ]
           ]
          },
          "colorway": [
           "#636efa",
           "#EF553B",
           "#00cc96",
           "#ab63fa",
           "#FFA15A",
           "#19d3f3",
           "#FF6692",
           "#B6E880",
           "#FF97FF",
           "#FECB52"
          ],
          "font": {
           "color": "#2a3f5f"
          },
          "geo": {
           "bgcolor": "white",
           "lakecolor": "white",
           "landcolor": "#E5ECF6",
           "showlakes": true,
           "showland": true,
           "subunitcolor": "white"
          },
          "hoverlabel": {
           "align": "left"
          },
          "hovermode": "closest",
          "mapbox": {
           "style": "light"
          },
          "paper_bgcolor": "white",
          "plot_bgcolor": "#E5ECF6",
          "polar": {
           "angularaxis": {
            "gridcolor": "white",
            "linecolor": "white",
            "ticks": ""
           },
           "bgcolor": "#E5ECF6",
           "radialaxis": {
            "gridcolor": "white",
            "linecolor": "white",
            "ticks": ""
           }
          },
          "scene": {
           "xaxis": {
            "backgroundcolor": "#E5ECF6",
            "gridcolor": "white",
            "gridwidth": 2,
            "linecolor": "white",
            "showbackground": true,
            "ticks": "",
            "zerolinecolor": "white"
           },
           "yaxis": {
            "backgroundcolor": "#E5ECF6",
            "gridcolor": "white",
            "gridwidth": 2,
            "linecolor": "white",
            "showbackground": true,
            "ticks": "",
            "zerolinecolor": "white"
           },
           "zaxis": {
            "backgroundcolor": "#E5ECF6",
            "gridcolor": "white",
            "gridwidth": 2,
            "linecolor": "white",
            "showbackground": true,
            "ticks": "",
            "zerolinecolor": "white"
           }
          },
          "shapedefaults": {
           "line": {
            "color": "#2a3f5f"
           }
          },
          "ternary": {
           "aaxis": {
            "gridcolor": "white",
            "linecolor": "white",
            "ticks": ""
           },
           "baxis": {
            "gridcolor": "white",
            "linecolor": "white",
            "ticks": ""
           },
           "bgcolor": "#E5ECF6",
           "caxis": {
            "gridcolor": "white",
            "linecolor": "white",
            "ticks": ""
           }
          },
          "title": {
           "x": 0.05
          },
          "xaxis": {
           "automargin": true,
           "gridcolor": "white",
           "linecolor": "white",
           "ticks": "",
           "title": {
            "standoff": 15
           },
           "zerolinecolor": "white",
           "zerolinewidth": 2
          },
          "yaxis": {
           "automargin": true,
           "gridcolor": "white",
           "linecolor": "white",
           "ticks": "",
           "title": {
            "standoff": 15
           },
           "zerolinecolor": "white",
           "zerolinewidth": 2
          }
         }
        },
        "title": {
         "font": {
          "size": 16
         },
         "text": "<br>Network graph made with Python"
        },
        "xaxis": {
         "showticklabels": false
        }
       }
      },
      "text/html": [
       "<div>                            <div id=\"61adaf7e-e9f7-4a76-be40-d4debc523cb6\" class=\"plotly-graph-div\" style=\"height:525px; width:100%;\"></div>            <script type=\"text/javascript\">                require([\"plotly\"], function(Plotly) {                    window.PLOTLYENV=window.PLOTLYENV || {};                                    if (document.getElementById(\"61adaf7e-e9f7-4a76-be40-d4debc523cb6\")) {                    Plotly.newPlot(                        \"61adaf7e-e9f7-4a76-be40-d4debc523cb6\",                        [{\"hoverinfo\": \"text\", \"marker\": {\"color\": [], \"colorbar\": {\"thickness\": 15, \"title\": {\"side\": \"right\", \"text\": \"Node Connections\"}, \"xanchor\": \"left\"}, \"colorscale\": [[0.0, \"rgb(255,255,217)\"], [0.125, \"rgb(237,248,177)\"], [0.25, \"rgb(199,233,180)\"], [0.375, \"rgb(127,205,187)\"], [0.5, \"rgb(65,182,196)\"], [0.625, \"rgb(29,145,192)\"], [0.75, \"rgb(34,94,168)\"], [0.875, \"rgb(37,52,148)\"], [1.0, \"rgb(8,29,88)\"]], \"line\": {\"width\": 2}, \"reversescale\": true, \"showscale\": true, \"size\": 20}, \"mode\": \"markers\", \"type\": \"scatter\", \"x\": [3.8333333333333335, 1.6428571428571428, 6.023809523809524, 1.6428571428571428, 6.023809523809524, 10.404761904761905, 1.6428571428571428, 6.023809523809524, 10.404761904761905, 1.6428571428571428, 6.023809523809524, 10.404761904761905, 1.6428571428571428, 6.023809523809524, 10.404761904761905], \"y\": [18, 19, 19, 20, 20, 20, 21, 21, 21, 22, 22, 22, 23, 23, 23]}],                        {\"annotations\": [{\"showarrow\": false, \"text\": \"Python code: <a href='https://plotly.com/ipython-notebooks/network-graphs/'> https://plotly.com/ipython-notebooks/network-graphs/</a>\", \"x\": 0.005, \"xref\": \"paper\", \"y\": -0.005, \"yref\": \"paper\"}, {\"arrowcolor\": \"#cccccc\", \"arrowhead\": 3, \"arrowsize\": 1, \"arrowwidth\": 3, \"ax\": 3.8333333333333335, \"axref\": \"x\", \"ay\": 18, \"ayref\": \"y\", \"hovertext\": \"0.559\", \"showarrow\": true, \"standoff\": 10, \"textangle\": 30, \"x\": 1.6428571428571428, \"xref\": \"x\", \"y\": 19, \"yref\": \"y\"}, {\"arrowcolor\": \"#cccccc\", \"arrowhead\": 3, \"arrowsize\": 1, \"arrowwidth\": 3, \"ax\": 3.8333333333333335, \"axref\": \"x\", \"ay\": 18, \"ayref\": \"y\", \"hovertext\": \"0.441\", \"showarrow\": true, \"standoff\": 10, \"textangle\": 30, \"x\": 6.023809523809524, \"xref\": \"x\", \"y\": 19, \"yref\": \"y\"}, {\"arrowcolor\": \"#cccccc\", \"arrowhead\": 3, \"arrowsize\": 1, \"arrowwidth\": 3, \"ax\": 1.6428571428571428, \"axref\": \"x\", \"ay\": 19, \"ayref\": \"y\", \"hovertext\": \"1.0\", \"showarrow\": true, \"standoff\": 10, \"textangle\": 30, \"x\": 1.6428571428571428, \"xref\": \"x\", \"y\": 20, \"yref\": \"y\"}, {\"arrowcolor\": \"#cccccc\", \"arrowhead\": 3, \"arrowsize\": 1, \"arrowwidth\": 3, \"ax\": 6.023809523809524, \"axref\": \"x\", \"ay\": 19, \"ayref\": \"y\", \"hovertext\": \"0.627\", \"showarrow\": true, \"standoff\": 10, \"textangle\": 30, \"x\": 6.023809523809524, \"xref\": \"x\", \"y\": 20, \"yref\": \"y\"}, {\"arrowcolor\": \"#cccccc\", \"arrowhead\": 3, \"arrowsize\": 1, \"arrowwidth\": 3, \"ax\": 6.023809523809524, \"axref\": \"x\", \"ay\": 19, \"ayref\": \"y\", \"hovertext\": \"0.373\", \"showarrow\": true, \"standoff\": 10, \"textangle\": 30, \"x\": 10.404761904761905, \"xref\": \"x\", \"y\": 20, \"yref\": \"y\"}, {\"arrowcolor\": \"#cccccc\", \"arrowhead\": 3, \"arrowsize\": 1, \"arrowwidth\": 3, \"ax\": 1.6428571428571428, \"axref\": \"x\", \"ay\": 20, \"ayref\": \"y\", \"hovertext\": \"1.0\", \"showarrow\": true, \"standoff\": 10, \"textangle\": 30, \"x\": 1.6428571428571428, \"xref\": \"x\", \"y\": 21, \"yref\": \"y\"}, {\"arrowcolor\": \"#cccccc\", \"arrowhead\": 3, \"arrowsize\": 1, \"arrowwidth\": 3, \"ax\": 6.023809523809524, \"axref\": \"x\", \"ay\": 20, \"ayref\": \"y\", \"hovertext\": \"1.0\", \"showarrow\": true, \"standoff\": 10, \"textangle\": 30, \"x\": 6.023809523809524, \"xref\": \"x\", \"y\": 21, \"yref\": \"y\"}, {\"arrowcolor\": \"#cccccc\", \"arrowhead\": 3, \"arrowsize\": 1, \"arrowwidth\": 3, \"ax\": 10.404761904761905, \"axref\": \"x\", \"ay\": 20, \"ayref\": \"y\", \"hovertext\": \"1.0\", \"showarrow\": true, \"standoff\": 10, \"textangle\": 30, \"x\": 10.404761904761905, \"xref\": \"x\", \"y\": 21, \"yref\": \"y\"}, {\"arrowcolor\": \"#cccccc\", \"arrowhead\": 3, \"arrowsize\": 1, \"arrowwidth\": 3, \"ax\": 1.6428571428571428, \"axref\": \"x\", \"ay\": 21, \"ayref\": \"y\", \"hovertext\": \"1.0\", \"showarrow\": true, \"standoff\": 10, \"textangle\": 30, \"x\": 1.6428571428571428, \"xref\": \"x\", \"y\": 22, \"yref\": \"y\"}, {\"arrowcolor\": \"#cccccc\", \"arrowhead\": 3, \"arrowsize\": 1, \"arrowwidth\": 3, \"ax\": 6.023809523809524, \"axref\": \"x\", \"ay\": 21, \"ayref\": \"y\", \"hovertext\": \"1.0\", \"showarrow\": true, \"standoff\": 10, \"textangle\": 30, \"x\": 6.023809523809524, \"xref\": \"x\", \"y\": 22, \"yref\": \"y\"}, {\"arrowcolor\": \"#cccccc\", \"arrowhead\": 3, \"arrowsize\": 1, \"arrowwidth\": 3, \"ax\": 10.404761904761905, \"axref\": \"x\", \"ay\": 21, \"ayref\": \"y\", \"hovertext\": \"1.0\", \"showarrow\": true, \"standoff\": 10, \"textangle\": 30, \"x\": 10.404761904761905, \"xref\": \"x\", \"y\": 22, \"yref\": \"y\"}, {\"arrowcolor\": \"#cccccc\", \"arrowhead\": 3, \"arrowsize\": 1, \"arrowwidth\": 3, \"ax\": 1.6428571428571428, \"axref\": \"x\", \"ay\": 22, \"ayref\": \"y\", \"hovertext\": \"1.0\", \"showarrow\": true, \"standoff\": 10, \"textangle\": 30, \"x\": 1.6428571428571428, \"xref\": \"x\", \"y\": 23, \"yref\": \"y\"}, {\"arrowcolor\": \"#cccccc\", \"arrowhead\": 3, \"arrowsize\": 1, \"arrowwidth\": 3, \"ax\": 6.023809523809524, \"axref\": \"x\", \"ay\": 22, \"ayref\": \"y\", \"hovertext\": \"1.0\", \"showarrow\": true, \"standoff\": 10, \"textangle\": 30, \"x\": 6.023809523809524, \"xref\": \"x\", \"y\": 23, \"yref\": \"y\"}, {\"arrowcolor\": \"#cccccc\", \"arrowhead\": 3, \"arrowsize\": 1, \"arrowwidth\": 3, \"ax\": 10.404761904761905, \"axref\": \"x\", \"ay\": 22, \"ayref\": \"y\", \"hovertext\": \"1.0\", \"showarrow\": true, \"standoff\": 10, \"textangle\": 30, \"x\": 10.404761904761905, \"xref\": \"x\", \"y\": 23, \"yref\": \"y\"}], \"hovermode\": \"closest\", \"margin\": {\"b\": 20, \"l\": 5, \"r\": 5, \"t\": 40}, \"showlegend\": false, \"template\": {\"data\": {\"bar\": [{\"error_x\": {\"color\": \"#2a3f5f\"}, \"error_y\": {\"color\": \"#2a3f5f\"}, \"marker\": {\"line\": {\"color\": \"#E5ECF6\", \"width\": 0.5}}, \"type\": \"bar\"}], \"barpolar\": [{\"marker\": {\"line\": {\"color\": \"#E5ECF6\", \"width\": 0.5}}, \"type\": \"barpolar\"}], \"carpet\": [{\"aaxis\": {\"endlinecolor\": \"#2a3f5f\", \"gridcolor\": \"white\", \"linecolor\": \"white\", \"minorgridcolor\": \"white\", \"startlinecolor\": \"#2a3f5f\"}, \"baxis\": {\"endlinecolor\": \"#2a3f5f\", \"gridcolor\": \"white\", \"linecolor\": \"white\", \"minorgridcolor\": \"white\", \"startlinecolor\": \"#2a3f5f\"}, \"type\": \"carpet\"}], \"choropleth\": [{\"colorbar\": {\"outlinewidth\": 0, \"ticks\": \"\"}, \"type\": \"choropleth\"}], \"contour\": [{\"colorbar\": {\"outlinewidth\": 0, \"ticks\": \"\"}, \"colorscale\": [[0.0, \"#0d0887\"], [0.1111111111111111, \"#46039f\"], [0.2222222222222222, \"#7201a8\"], [0.3333333333333333, \"#9c179e\"], [0.4444444444444444, \"#bd3786\"], [0.5555555555555556, \"#d8576b\"], [0.6666666666666666, \"#ed7953\"], [0.7777777777777778, \"#fb9f3a\"], [0.8888888888888888, \"#fdca26\"], [1.0, \"#f0f921\"]], \"type\": \"contour\"}], \"contourcarpet\": [{\"colorbar\": {\"outlinewidth\": 0, \"ticks\": \"\"}, \"type\": \"contourcarpet\"}], \"heatmap\": [{\"colorbar\": {\"outlinewidth\": 0, \"ticks\": \"\"}, \"colorscale\": [[0.0, \"#0d0887\"], [0.1111111111111111, \"#46039f\"], [0.2222222222222222, \"#7201a8\"], [0.3333333333333333, \"#9c179e\"], [0.4444444444444444, \"#bd3786\"], [0.5555555555555556, \"#d8576b\"], [0.6666666666666666, \"#ed7953\"], [0.7777777777777778, \"#fb9f3a\"], [0.8888888888888888, \"#fdca26\"], [1.0, \"#f0f921\"]], \"type\": \"heatmap\"}], \"heatmapgl\": [{\"colorbar\": {\"outlinewidth\": 0, \"ticks\": \"\"}, \"colorscale\": [[0.0, \"#0d0887\"], [0.1111111111111111, \"#46039f\"], [0.2222222222222222, \"#7201a8\"], [0.3333333333333333, \"#9c179e\"], [0.4444444444444444, \"#bd3786\"], [0.5555555555555556, \"#d8576b\"], [0.6666666666666666, \"#ed7953\"], [0.7777777777777778, \"#fb9f3a\"], [0.8888888888888888, \"#fdca26\"], [1.0, \"#f0f921\"]], \"type\": \"heatmapgl\"}], \"histogram\": [{\"marker\": {\"colorbar\": {\"outlinewidth\": 0, \"ticks\": \"\"}}, \"type\": \"histogram\"}], \"histogram2d\": [{\"colorbar\": {\"outlinewidth\": 0, \"ticks\": \"\"}, \"colorscale\": [[0.0, \"#0d0887\"], [0.1111111111111111, \"#46039f\"], [0.2222222222222222, \"#7201a8\"], [0.3333333333333333, \"#9c179e\"], [0.4444444444444444, \"#bd3786\"], [0.5555555555555556, \"#d8576b\"], [0.6666666666666666, \"#ed7953\"], [0.7777777777777778, \"#fb9f3a\"], [0.8888888888888888, \"#fdca26\"], [1.0, \"#f0f921\"]], \"type\": \"histogram2d\"}], \"histogram2dcontour\": [{\"colorbar\": {\"outlinewidth\": 0, \"ticks\": \"\"}, \"colorscale\": [[0.0, \"#0d0887\"], [0.1111111111111111, \"#46039f\"], [0.2222222222222222, \"#7201a8\"], [0.3333333333333333, \"#9c179e\"], [0.4444444444444444, \"#bd3786\"], [0.5555555555555556, \"#d8576b\"], [0.6666666666666666, \"#ed7953\"], [0.7777777777777778, \"#fb9f3a\"], [0.8888888888888888, \"#fdca26\"], [1.0, \"#f0f921\"]], \"type\": \"histogram2dcontour\"}], \"mesh3d\": [{\"colorbar\": {\"outlinewidth\": 0, \"ticks\": \"\"}, \"type\": \"mesh3d\"}], \"parcoords\": [{\"line\": {\"colorbar\": {\"outlinewidth\": 0, \"ticks\": \"\"}}, \"type\": \"parcoords\"}], \"pie\": [{\"automargin\": true, \"type\": \"pie\"}], \"scatter\": [{\"marker\": {\"colorbar\": {\"outlinewidth\": 0, \"ticks\": \"\"}}, \"type\": \"scatter\"}], \"scatter3d\": [{\"line\": {\"colorbar\": {\"outlinewidth\": 0, \"ticks\": \"\"}}, \"marker\": {\"colorbar\": {\"outlinewidth\": 0, \"ticks\": \"\"}}, \"type\": \"scatter3d\"}], \"scattercarpet\": [{\"marker\": {\"colorbar\": {\"outlinewidth\": 0, \"ticks\": \"\"}}, \"type\": \"scattercarpet\"}], \"scattergeo\": [{\"marker\": {\"colorbar\": {\"outlinewidth\": 0, \"ticks\": \"\"}}, \"type\": \"scattergeo\"}], \"scattergl\": [{\"marker\": {\"colorbar\": {\"outlinewidth\": 0, \"ticks\": \"\"}}, \"type\": \"scattergl\"}], \"scattermapbox\": [{\"marker\": {\"colorbar\": {\"outlinewidth\": 0, \"ticks\": \"\"}}, \"type\": \"scattermapbox\"}], \"scatterpolar\": [{\"marker\": {\"colorbar\": {\"outlinewidth\": 0, \"ticks\": \"\"}}, \"type\": \"scatterpolar\"}], \"scatterpolargl\": [{\"marker\": {\"colorbar\": {\"outlinewidth\": 0, \"ticks\": \"\"}}, \"type\": \"scatterpolargl\"}], \"scatterternary\": [{\"marker\": {\"colorbar\": {\"outlinewidth\": 0, \"ticks\": \"\"}}, \"type\": \"scatterternary\"}], \"surface\": [{\"colorbar\": {\"outlinewidth\": 0, \"ticks\": \"\"}, \"colorscale\": [[0.0, \"#0d0887\"], [0.1111111111111111, \"#46039f\"], [0.2222222222222222, \"#7201a8\"], [0.3333333333333333, \"#9c179e\"], [0.4444444444444444, \"#bd3786\"], [0.5555555555555556, \"#d8576b\"], [0.6666666666666666, \"#ed7953\"], [0.7777777777777778, \"#fb9f3a\"], [0.8888888888888888, \"#fdca26\"], [1.0, \"#f0f921\"]], \"type\": \"surface\"}], \"table\": [{\"cells\": {\"fill\": {\"color\": \"#EBF0F8\"}, \"line\": {\"color\": \"white\"}}, \"header\": {\"fill\": {\"color\": \"#C8D4E3\"}, \"line\": {\"color\": \"white\"}}, \"type\": \"table\"}]}, \"layout\": {\"annotationdefaults\": {\"arrowcolor\": \"#2a3f5f\", \"arrowhead\": 0, \"arrowwidth\": 1}, \"coloraxis\": {\"colorbar\": {\"outlinewidth\": 0, \"ticks\": \"\"}}, \"colorscale\": {\"diverging\": [[0, \"#8e0152\"], [0.1, \"#c51b7d\"], [0.2, \"#de77ae\"], [0.3, \"#f1b6da\"], [0.4, \"#fde0ef\"], [0.5, \"#f7f7f7\"], [0.6, \"#e6f5d0\"], [0.7, \"#b8e186\"], [0.8, \"#7fbc41\"], [0.9, \"#4d9221\"], [1, \"#276419\"]], \"sequential\": [[0.0, \"#0d0887\"], [0.1111111111111111, \"#46039f\"], [0.2222222222222222, \"#7201a8\"], [0.3333333333333333, \"#9c179e\"], [0.4444444444444444, \"#bd3786\"], [0.5555555555555556, \"#d8576b\"], [0.6666666666666666, \"#ed7953\"], [0.7777777777777778, \"#fb9f3a\"], [0.8888888888888888, \"#fdca26\"], [1.0, \"#f0f921\"]], \"sequentialminus\": [[0.0, \"#0d0887\"], [0.1111111111111111, \"#46039f\"], [0.2222222222222222, \"#7201a8\"], [0.3333333333333333, \"#9c179e\"], [0.4444444444444444, \"#bd3786\"], [0.5555555555555556, \"#d8576b\"], [0.6666666666666666, \"#ed7953\"], [0.7777777777777778, \"#fb9f3a\"], [0.8888888888888888, \"#fdca26\"], [1.0, \"#f0f921\"]]}, \"colorway\": [\"#636efa\", \"#EF553B\", \"#00cc96\", \"#ab63fa\", \"#FFA15A\", \"#19d3f3\", \"#FF6692\", \"#B6E880\", \"#FF97FF\", \"#FECB52\"], \"font\": {\"color\": \"#2a3f5f\"}, \"geo\": {\"bgcolor\": \"white\", \"lakecolor\": \"white\", \"landcolor\": \"#E5ECF6\", \"showlakes\": true, \"showland\": true, \"subunitcolor\": \"white\"}, \"hoverlabel\": {\"align\": \"left\"}, \"hovermode\": \"closest\", \"mapbox\": {\"style\": \"light\"}, \"paper_bgcolor\": \"white\", \"plot_bgcolor\": \"#E5ECF6\", \"polar\": {\"angularaxis\": {\"gridcolor\": \"white\", \"linecolor\": \"white\", \"ticks\": \"\"}, \"bgcolor\": \"#E5ECF6\", \"radialaxis\": {\"gridcolor\": \"white\", \"linecolor\": \"white\", \"ticks\": \"\"}}, \"scene\": {\"xaxis\": {\"backgroundcolor\": \"#E5ECF6\", \"gridcolor\": \"white\", \"gridwidth\": 2, \"linecolor\": \"white\", \"showbackground\": true, \"ticks\": \"\", \"zerolinecolor\": \"white\"}, \"yaxis\": {\"backgroundcolor\": \"#E5ECF6\", \"gridcolor\": \"white\", \"gridwidth\": 2, \"linecolor\": \"white\", \"showbackground\": true, \"ticks\": \"\", \"zerolinecolor\": \"white\"}, \"zaxis\": {\"backgroundcolor\": \"#E5ECF6\", \"gridcolor\": \"white\", \"gridwidth\": 2, \"linecolor\": \"white\", \"showbackground\": true, \"ticks\": \"\", \"zerolinecolor\": \"white\"}}, \"shapedefaults\": {\"line\": {\"color\": \"#2a3f5f\"}}, \"ternary\": {\"aaxis\": {\"gridcolor\": \"white\", \"linecolor\": \"white\", \"ticks\": \"\"}, \"baxis\": {\"gridcolor\": \"white\", \"linecolor\": \"white\", \"ticks\": \"\"}, \"bgcolor\": \"#E5ECF6\", \"caxis\": {\"gridcolor\": \"white\", \"linecolor\": \"white\", \"ticks\": \"\"}}, \"title\": {\"x\": 0.05}, \"xaxis\": {\"automargin\": true, \"gridcolor\": \"white\", \"linecolor\": \"white\", \"ticks\": \"\", \"title\": {\"standoff\": 15}, \"zerolinecolor\": \"white\", \"zerolinewidth\": 2}, \"yaxis\": {\"automargin\": true, \"gridcolor\": \"white\", \"linecolor\": \"white\", \"ticks\": \"\", \"title\": {\"standoff\": 15}, \"zerolinecolor\": \"white\", \"zerolinewidth\": 2}}}, \"title\": {\"font\": {\"size\": 16}, \"text\": \"<br>Network graph made with Python\"}, \"xaxis\": {\"showticklabels\": false}},                        {\"responsive\": true}                    ).then(function(){\n",
       "                            \n",
       "var gd = document.getElementById('61adaf7e-e9f7-4a76-be40-d4debc523cb6');\n",
       "var x = new MutationObserver(function (mutations, observer) {{\n",
       "        var display = window.getComputedStyle(gd).display;\n",
       "        if (!display || display === 'none') {{\n",
       "            console.log([gd, 'removed!']);\n",
       "            Plotly.purge(gd);\n",
       "            observer.disconnect();\n",
       "        }}\n",
       "}});\n",
       "\n",
       "// Listen for the removal of the full notebook cells\n",
       "var notebookContainer = gd.closest('#notebook-container');\n",
       "if (notebookContainer) {{\n",
       "    x.observe(notebookContainer, {childList: true});\n",
       "}}\n",
       "\n",
       "// Listen for the clearing of the current output cell\n",
       "var outputEl = gd.closest('.output');\n",
       "if (outputEl) {{\n",
       "    x.observe(outputEl, {childList: true});\n",
       "}}\n",
       "\n",
       "                        })                };                });            </script>        </div>"
      ]
     },
     "metadata": {},
     "output_type": "display_data"
    }
   ],
   "source": [
    "fig = go.Figure(data=[node_trace],\n",
    "             layout=go.Layout(\n",
    "                title='<br>Network graph made with Python',\n",
    "                titlefont_size=16,\n",
    "                showlegend=False,\n",
    "                hovermode='closest',\n",
    "                margin=dict(b=20,l=5,r=5,t=40),\n",
    "                annotations=[ dict(\n",
    "                    text=\"Python code: <a href='https://plotly.com/ipython-notebooks/network-graphs/'> https://plotly.com/ipython-notebooks/network-graphs/</a>\",\n",
    "                    showarrow=False,\n",
    "                    xref=\"paper\", yref=\"paper\",\n",
    "                    x=0.005, y=-0.005 ) ],\n",
    "                xaxis=dict(showticklabels=False),\n",
    "             )\n",
    "                )\n",
    "for edge in player.G.edges():\n",
    "    fig.add_annotation(\n",
    "      x=pos[edge[1]][0],  # arrows' head\n",
    "      y=pos[edge[1]][1],  # arrows' head\n",
    "      ax=pos[edge[0]][0],  # arrows' tail\n",
    "      ay=pos[edge[0]][1],  # arrows' tail\n",
    "      xref='x1',\n",
    "      yref='y1',\n",
    "      textangle=30,\n",
    "      axref='x1',\n",
    "      ayref='y1',\n",
    "      hovertext=edge_labels[edge],  # if you want only the arrow\n",
    "      showarrow=True,\n",
    "      arrowhead=3,\n",
    "      arrowsize=1,\n",
    "      arrowwidth=3,\n",
    "      arrowcolor='#cccccc',\n",
    "        standoff = 10\n",
    "    )\n",
    "\n",
    "fig.show()"
   ]
  },
  {
   "cell_type": "code",
   "execution_count": 114,
   "metadata": {},
   "outputs": [
    {
     "data": {
      "text/plain": [
       "(12, 15)"
      ]
     },
     "execution_count": 114,
     "metadata": {},
     "output_type": "execute_result"
    }
   ],
   "source": [
    "edge"
   ]
  },
  {
   "cell_type": "code",
   "execution_count": 52,
   "metadata": {},
   "outputs": [
    {
     "data": {
      "text/plain": [
       "(10.404761904761905, 22)"
      ]
     },
     "execution_count": 52,
     "metadata": {},
     "output_type": "execute_result"
    }
   ],
   "source": [
    "pos[edge[0]]"
   ]
  },
  {
   "cell_type": "code",
   "execution_count": 53,
   "metadata": {},
   "outputs": [
    {
     "data": {
      "text/plain": [
       "(10.404761904761905, 22)"
      ]
     },
     "execution_count": 53,
     "metadata": {},
     "output_type": "execute_result"
    }
   ],
   "source": [
    "pos[edge[0]]"
   ]
  },
  {
   "cell_type": "code",
   "execution_count": 55,
   "metadata": {},
   "outputs": [
    {
     "data": {
      "text/plain": [
       "(10.404761904761905, 22)"
      ]
     },
     "execution_count": 55,
     "metadata": {},
     "output_type": "execute_result"
    }
   ],
   "source": [
    "pos[edge[0]]"
   ]
  },
  {
   "cell_type": "code",
   "execution_count": 56,
   "metadata": {},
   "outputs": [
    {
     "data": {
      "text/plain": [
       "(10.404761904761905, 23)"
      ]
     },
     "execution_count": 56,
     "metadata": {},
     "output_type": "execute_result"
    }
   ],
   "source": [
    "pos[edge[1]]"
   ]
  },
  {
   "cell_type": "code",
   "execution_count": 57,
   "metadata": {},
   "outputs": [
    {
     "data": {
      "text/plain": [
       "(12, 15)"
      ]
     },
     "execution_count": 57,
     "metadata": {},
     "output_type": "execute_result"
    }
   ],
   "source": [
    "edge"
   ]
  },
  {
   "cell_type": "code",
   "execution_count": null,
   "metadata": {},
   "outputs": [],
   "source": []
  }
 ],
 "metadata": {
  "kernelspec": {
   "display_name": "Python 3",
   "language": "python",
   "name": "python3"
  },
  "language_info": {
   "codemirror_mode": {
    "name": "ipython",
    "version": 3
   },
   "file_extension": ".py",
   "mimetype": "text/x-python",
   "name": "python",
   "nbconvert_exporter": "python",
   "pygments_lexer": "ipython3",
   "version": "3.7.6"
  }
 },
 "nbformat": 4,
 "nbformat_minor": 2
}
