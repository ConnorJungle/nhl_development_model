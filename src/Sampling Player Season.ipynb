{
 "cells": [
  {
   "cell_type": "code",
   "execution_count": 1,
   "metadata": {},
   "outputs": [],
   "source": [
    "from generate_player_seasons import *\n",
    "\n",
    "from multiprocessing import Pool"
   ]
  },
  {
   "cell_type": "code",
   "execution_count": 2,
   "metadata": {},
   "outputs": [],
   "source": [
    "def get_path_ppg(G, node):\n",
    "    \n",
    "    points = []\n",
    "\n",
    "    # points.append(G.nodes[node]['tp'])\n",
    "    if G.nodes[node]['league'] == 'NHL':\n",
    "        points.append(G.nodes[node]['ppg'])\n",
    "\n",
    "    for n in sorted(nx.ancestors(G, node))[::-1]:\n",
    "        if (n != 1) & (G.nodes[n]['league'] == 'NHL'):\n",
    "            # points.append(G.nodes[n]['tp'])\n",
    "            points.append(G.nodes[n]['ppg'])\n",
    "\n",
    "        node=n\n",
    "\n",
    "    ppg = round(np.mean(points),2)\n",
    "    # return round(np.sum(points) / (64 * len(points)),2)\n",
    "    return 0 if np.isnan(ppg) else ppg \n",
    "\n",
    "def get_player_role(G, dataset, position, floor_node, ceiling_node):\n",
    "\n",
    "    role_order = { 'F' : {v : i for i,v in enumerate(f_role_labels)},\n",
    "                  'D' : {v : i for i,v in enumerate(d_role_labels)},}\n",
    "\n",
    "    nhl_stats = dataset[(dataset['league'] == 'NHL') &\n",
    "              (dataset['season_age'].isin([i for i in range(19,25)]))].groupby(\n",
    "        ['playerid','player', 'league', 'primary_position'])[['gp', 'tp']].sum().reset_index()\n",
    "\n",
    "    nhl_stats['ppg'] = nhl_stats['tp'] / nhl_stats['gp']\n",
    "    \n",
    "    floor = get_path_ppg(G, floor_node)\n",
    "    ceiling = get_path_ppg(G, ceiling_node)\n",
    "    \n",
    "    role_floor = get_role({'league' : 'NHL', 'ppg' : floor}, nhl_stats, position)\n",
    "    role_ceiling = get_role({'league' : 'NHL', 'ppg' : ceiling}, nhl_stats, position)\n",
    "    \n",
    "    label = [role_order[position][i] for i in np.unique([role_floor, role_ceiling])]\n",
    "    \n",
    "    if len(label) > 1:\n",
    "    \n",
    "        text = '-'.join([list(role_order[position].keys())[list(role_order[position].values()).index(min(label))],\n",
    "                         list(role_order[position].keys())[list(role_order[position].values()).index(max(label))]])\n",
    "        text += f' {position}'\n",
    "        \n",
    "        return text\n",
    "    \n",
    "    else:\n",
    "\n",
    "        text = list(role_order[position].keys())[list(role_order[position].values()).index(max(label))]\n",
    "        text += f' {position}'\n",
    "    \n",
    "        return text\n",
    "    \n",
    "    return ''"
   ]
  },
  {
   "cell_type": "code",
   "execution_count": 3,
   "metadata": {},
   "outputs": [],
   "source": [
    "import os \n",
    "from sqlalchemy import create_engine\n",
    "def load_db_credentials():\n",
    "    '''Load database credentials from bash_profile'''\n",
    "\n",
    "    user = os.environ['db_user']\n",
    "    password = os.environ['db_pass']\n",
    "    server = os.environ['db_host']\n",
    "    database = os.environ['db_name']\n",
    "\n",
    "    return user, password, server, database\n",
    "\n",
    "def predict_scoring(features, version=0):\n",
    "    \n",
    "    scoring_lstm = Model() \n",
    "    scoring_lstm.load_state_dict(torch.load(f'../models/boot_lstm_{version}.pth'))\n",
    "    scoring_lstm.eval()\n",
    "\n",
    "    return scoring_lstm(features).detach().numpy()\n",
    "    "
   ]
  },
  {
   "cell_type": "code",
   "execution_count": 4,
   "metadata": {},
   "outputs": [],
   "source": [
    "# load database credentials and create connection\n",
    "user, password, server, database = load_db_credentials()\n",
    "engine = create_engine(f'postgresql://{user}:{password}@{server}:5432/{database}')"
   ]
  },
  {
   "cell_type": "code",
   "execution_count": 5,
   "metadata": {},
   "outputs": [],
   "source": [
    "# player_value = pd.read_sql(f'''select * from summary_projections where playerid = '{playerid}' ''', con=engine)\n",
    "# projections = pd.read_sql(f'''select * from projections where playerid = '{playerid}' ''', con=engine)"
   ]
  },
  {
   "cell_type": "code",
   "execution_count": 31,
   "metadata": {},
   "outputs": [],
   "source": [
    "player = GeneratePlayer()"
   ]
  },
  {
   "cell_type": "code",
   "execution_count": 62,
   "metadata": {},
   "outputs": [],
   "source": [
    "playerid = '99204'\n",
    "player.initialize_player(playerid, start_year=18)"
   ]
  },
  {
   "cell_type": "code",
   "execution_count": 63,
   "metadata": {},
   "outputs": [],
   "source": [
    "player.simulate_player_development(node_counter=1)"
   ]
  },
  {
   "cell_type": "code",
   "execution_count": 64,
   "metadata": {},
   "outputs": [],
   "source": [
    "player.generate_network_graph()"
   ]
  },
  {
   "cell_type": "code",
   "execution_count": 65,
   "metadata": {},
   "outputs": [],
   "source": [
    "import sys\n",
    "sys.path.append('../../apple-model-app/')\n",
    "\n",
    "from helpers import *"
   ]
  },
  {
   "cell_type": "code",
   "execution_count": 66,
   "metadata": {},
   "outputs": [],
   "source": [
    "G = player.G\n",
    "df = player.dataset\n",
    "position = player.position\n",
    "player_name = player.player_name"
   ]
  },
  {
   "cell_type": "code",
   "execution_count": 67,
   "metadata": {},
   "outputs": [],
   "source": [
    "# create tree layout and rescale based on age\n",
    "pos = graphviz_layout(G, prog='dot')\n",
    "# array of ages for y-axis\n",
    "ages = np.arange(min([int(G.nodes[node]['age']) for node in G.nodes]),\n",
    "             max([int(G.nodes[node]['age']) for node in G.nodes]) + 1,\n",
    "             1)\n",
    "# rescale x,y coordinates\n",
    "y = np.array([xy[1] for _, xy in pos.items()])\n",
    "y_rescale = (y.max() / y.min()) / (ages.max() / ages.min())\n",
    "y_map = { k:v for k,v in zip(sorted(np.unique(y))[::-1], ages)}\n",
    "pos = {u :(v[0] / y_rescale, y_map[v[1]]) for u,v in pos.items()}\n",
    "\n",
    "edge_labels = nx.get_edge_attributes(G, 'probability')\n",
    "\n",
    "node_trace = go.Scatter(\n",
    "    x=[pos[node][0] for node in G.nodes()],\n",
    "    y=[pos[node][1] for node in G.nodes()],\n",
    "    mode='markers+text',\n",
    "    text=[\"<b>\" + G.nodes[g]['league'] for g in G.nodes],\n",
    "    hovertemplate=\n",
    "        \"</b><b>%{customdata[1]}</b><br><br>\" +\n",
    "        \"Age: <b>%{y:,.0f}</b><br>\" +\n",
    "        \"League: %{text}</b><br>\" +\n",
    "        \"PPG: <b>%{customdata[0]:,}</b>\" +\n",
    "        \"<extra></extra>\",\n",
    "    customdata=[(round(G.nodes[g]['ppg'], 2), \n",
    "                 G.nodes[g]['role'])  for g in G.nodes],\n",
    "    textposition='middle center',\n",
    "    showlegend=True,\n",
    "    # textfont=dict(size=14,),\n",
    "    marker=dict(\n",
    "#             color=[f'rgba(0, 116, 255, {d})' for d in d],\n",
    "#             color=[G.nodes[g]['role_rank']  for g in G.nodes],\n",
    "#         color=discrete_marker_color(df, G, position, n_bins=11),\n",
    "        size= [30 for g in G.nodes],\n",
    "        cmax=100,\n",
    "        cmin=0,\n",
    "        cmid=50,\n",
    "        colorbar=dict(\n",
    "            title=\"<b>Scoring Role<b> <br />\",\n",
    "            titleside=\"top\",\n",
    "            ticks='outside',\n",
    "            showticklabels=True,\n",
    "            tickvals=f_role_perc[:-1]  if position == 'F' else d_role_perc[:-1],\n",
    "            ticktext=f_role_labels if position == 'F' else d_role_labels\n",
    "        ),\n",
    "        colorscale=custom_plotly_colorscale(sns.diverging_palette(40, 218, s=72, l=69, sep=1 , n=5), 5)\n",
    "        )\n",
    ")\n",
    "\n",
    "fig = go.Figure(data=[node_trace, ],\n",
    "             layout=go.Layout(\n",
    "                #  height=600,\n",
    "                #  width=900,\n",
    "                title=f\"<b>{player_name} Player Development</b>\",\n",
    "                # titlefont_size=18,\n",
    "                font_color='black',\n",
    "                 title_x=0.5,\n",
    "                 plot_bgcolor='rgb(255,255,255)',\n",
    "                 paper_bgcolor='rgba(0,0,0,0)',\n",
    "                showlegend=False,\n",
    "                hovermode='closest',\n",
    "                margin=dict(b=30,l=0,r=0,t=30),\n",
    "                annotations=[ dict(\n",
    "                    text=\"By: Connor Jung <a href='https://twitter.com/ConnorJungle'>@ConnorJungle</a> Data Source: Elite Prospects\",\n",
    "                    showarrow=False,\n",
    "                    xref=\"paper\", yref=\"paper\",\n",
    "                    x=0.005, y=-0.005 ) ],\n",
    "                 yaxis=dict(title='<b>Season Age</b>', tickvals=ages, showline=True, linewidth=2, linecolor='black', mirror=True),\n",
    "                xaxis=dict(showticklabels=False, title='MeaningleX Axis', showline=True, linewidth=2, linecolor='black', mirror=True),\n",
    "             )\n",
    "               )\n",
    "\n",
    "for edge in G.edges():\n",
    "\n",
    "    fig.add_annotation(\n",
    "      x=(pos[edge[1]][0] + pos[edge[0]][0]) / 2,  # arrows' tail\n",
    "      y=(pos[edge[1]][1] + pos[edge[0]][1]) / 2,  # arrows' tail\n",
    "#         xanchor=\"right\",\n",
    "#         yanchor=\"bottom\",\n",
    "        showarrow=False,\n",
    "        bordercolor=\"lightslategrey\",\n",
    "        borderwidth=2,\n",
    "        borderpad=1,\n",
    "      text= \"{:.0%}\".format(edge_labels[edge])\n",
    "    )\n",
    "\n",
    "    fig.add_annotation(\n",
    "      x=pos[edge[1]][0],  # arrows' head\n",
    "      y=pos[edge[1]][1],  # arrows' head\n",
    "      ax=pos[edge[0]][0],  # arrows' tail\n",
    "      ay=pos[edge[0]][1],  # arrows' tail\n",
    "      xref='x1',\n",
    "      yref='y1',\n",
    "      axref='x1',\n",
    "      ayref='y1',\n",
    "        opacity=0.3,\n",
    "      showarrow=True,\n",
    "      arrowhead=3,\n",
    "      arrowsize=1,\n",
    "      arrowwidth=3,\n",
    "      arrowcolor='lightslategrey',\n",
    "        standoff = 15\n",
    "    )\n",
    "\n",
    "for y in np.unique([v[1] for k,v in pos.items()]):\n",
    "    fig.add_shape(\n",
    "            # Line Horizontal\n",
    "                type=\"line\",\n",
    "                y0=y,\n",
    "                x1=max([v[0] for k,v in pos.items()]) + (max([v[0] for k,v in pos.items()]) * 0.10) ,\n",
    "                x0=min([v[0] for k,v in pos.items()]) - (max([v[0] for k,v in pos.items()]) * 0.10) ,\n",
    "                y1=y,\n",
    "                layer='below',\n",
    "                line=dict(\n",
    "                    color=\"rgba(212, 212, 212, 1)\",\n",
    "                    width=2,\n",
    "                    dash=\"dashdot\",\n",
    "                ))"
   ]
  },
  {
   "cell_type": "code",
   "execution_count": 68,
   "metadata": {},
   "outputs": [
    {
     "data": {
      "application/vnd.plotly.v1+json": {
       "config": {
        "displayModeBar": false,
        "plotlyServerURL": "https://plot.ly"
       },
       "data": [
        {
         "customdata": [
          [
           1.7,
           "Elite"
          ],
          [
           0.68,
           "Top 6"
          ],
          [
           1.83,
           "Elite"
          ],
          [
           0.7,
           "Top Line"
          ],
          [
           0.59,
           "Top 6"
          ],
          [
           1.59,
           "Elite"
          ],
          [
           0.73,
           "Top Line"
          ],
          [
           0.62,
           "Top 6"
          ],
          [
           0.63,
           "Top 6"
          ],
          [
           0.88,
           "Top Line"
          ],
          [
           0.79,
           "Top Line"
          ],
          [
           0.66,
           "Top 6"
          ],
          [
           0.6,
           "Top 6"
          ],
          [
           0.58,
           "Top 6"
          ],
          [
           0.86,
           "Top Line"
          ],
          [
           0.82,
           "Top Line"
          ],
          [
           0.69,
           "Top Line"
          ],
          [
           0.63,
           "Top 6"
          ],
          [
           0.57,
           "Top 6"
          ],
          [
           0.52,
           "Top 6"
          ],
          [
           0.82,
           "Top Line"
          ]
         ],
         "hovertemplate": "</b><b>%{customdata[1]}</b><br><br>Age: <b>%{y:,.0f}</b><br>League: %{text}</b><br>PPG: <b>%{customdata[0]:,}</b><extra></extra>",
         "marker": {
          "cmax": 100,
          "cmid": 50,
          "cmin": 0,
          "colorbar": {
           "showticklabels": true,
           "ticks": "outside",
           "ticktext": [
            "Depth",
            "Top 9",
            "Top 6",
            "Top Line",
            "Elite"
           ],
           "tickvals": [
            10,
            24,
            49,
            74,
            90
           ],
           "title": {
            "side": "top",
            "text": "<b>Scoring Role<b> <br />"
           }
          },
          "colorscale": [
           [
            0,
            "rgb(226.06995056569855, 151.98902910018683, 88.52963359305723)"
           ],
           [
            0.25,
            "rgb(238.84475609578178, 197.47616605439813, 162.03889468850892)"
           ],
           [
            0.5,
            "rgb(238.98870305061774, 244.05915241102275, 245.51129694938223)"
           ],
           [
            0.75,
            "rgb(165.67498251184972, 212.5546074901419, 225.98063475789655)"
           ],
           [
            1,
            "rgb(96.42629022339513, 179.64906761305474, 203.48354323117755)"
           ]
          ],
          "size": [
           30,
           30,
           30,
           30,
           30,
           30,
           30,
           30,
           30,
           30,
           30,
           30,
           30,
           30,
           30,
           30,
           30,
           30,
           30,
           30,
           30
          ]
         },
         "mode": "markers+text",
         "showlegend": true,
         "text": [
          "<b>QMJHL",
          "<b>NHL",
          "<b>QMJHL",
          "<b>NHL",
          "<b>NHL",
          "<b>QMJHL",
          "<b>NHL",
          "<b>NHL",
          "<b>NHL",
          "<b>AHL",
          "<b>NHL",
          "<b>NHL",
          "<b>NHL",
          "<b>NHL",
          "<b>AHL",
          "<b>NHL",
          "<b>NHL",
          "<b>NHL",
          "<b>NHL",
          "<b>NHL",
          "<b>AHL"
         ],
         "textposition": "middle center",
         "type": "scatter",
         "x": [
          3.8333333333333335,
          1.6428571428571428,
          6.023809523809524,
          1.6428571428571428,
          6.023809523809524,
          10.404761904761905,
          1.6428571428571428,
          6.023809523809524,
          10.404761904761905,
          14.785714285714285,
          1.6428571428571428,
          6.023809523809524,
          10.404761904761905,
          14.785714285714285,
          19.166666666666668,
          1.6428571428571428,
          6.023809523809524,
          10.404761904761905,
          14.785714285714285,
          19.166666666666668,
          23.547619047619047
         ],
         "y": [
          18,
          19,
          19,
          20,
          20,
          20,
          21,
          21,
          21,
          21,
          22,
          22,
          22,
          22,
          22,
          23,
          23,
          23,
          23,
          23,
          23
         ]
        }
       ],
       "layout": {
        "annotations": [
         {
          "showarrow": false,
          "text": "By: Connor Jung <a href='https://twitter.com/ConnorJungle'>@ConnorJungle</a> Data Source: Elite Prospects",
          "x": 0.005,
          "xref": "paper",
          "y": -0.005,
          "yref": "paper"
         },
         {
          "bordercolor": "lightslategrey",
          "borderpad": 1,
          "borderwidth": 2,
          "showarrow": false,
          "text": "55%",
          "x": 2.738095238095238,
          "y": 18.5
         },
         {
          "arrowcolor": "lightslategrey",
          "arrowhead": 3,
          "arrowsize": 1,
          "arrowwidth": 3,
          "ax": 3.8333333333333335,
          "axref": "x",
          "ay": 18,
          "ayref": "y",
          "opacity": 0.3,
          "showarrow": true,
          "standoff": 15,
          "x": 1.6428571428571428,
          "xref": "x",
          "y": 19,
          "yref": "y"
         },
         {
          "bordercolor": "lightslategrey",
          "borderpad": 1,
          "borderwidth": 2,
          "showarrow": false,
          "text": "45%",
          "x": 4.928571428571429,
          "y": 18.5
         },
         {
          "arrowcolor": "lightslategrey",
          "arrowhead": 3,
          "arrowsize": 1,
          "arrowwidth": 3,
          "ax": 3.8333333333333335,
          "axref": "x",
          "ay": 18,
          "ayref": "y",
          "opacity": 0.3,
          "showarrow": true,
          "standoff": 15,
          "x": 6.023809523809524,
          "xref": "x",
          "y": 19,
          "yref": "y"
         },
         {
          "bordercolor": "lightslategrey",
          "borderpad": 1,
          "borderwidth": 2,
          "showarrow": false,
          "text": "100%",
          "x": 1.6428571428571428,
          "y": 19.5
         },
         {
          "arrowcolor": "lightslategrey",
          "arrowhead": 3,
          "arrowsize": 1,
          "arrowwidth": 3,
          "ax": 1.6428571428571428,
          "axref": "x",
          "ay": 19,
          "ayref": "y",
          "opacity": 0.3,
          "showarrow": true,
          "standoff": 15,
          "x": 1.6428571428571428,
          "xref": "x",
          "y": 20,
          "yref": "y"
         },
         {
          "bordercolor": "lightslategrey",
          "borderpad": 1,
          "borderwidth": 2,
          "showarrow": false,
          "text": "87%",
          "x": 6.023809523809524,
          "y": 19.5
         },
         {
          "arrowcolor": "lightslategrey",
          "arrowhead": 3,
          "arrowsize": 1,
          "arrowwidth": 3,
          "ax": 6.023809523809524,
          "axref": "x",
          "ay": 19,
          "ayref": "y",
          "opacity": 0.3,
          "showarrow": true,
          "standoff": 15,
          "x": 6.023809523809524,
          "xref": "x",
          "y": 20,
          "yref": "y"
         },
         {
          "bordercolor": "lightslategrey",
          "borderpad": 1,
          "borderwidth": 2,
          "showarrow": false,
          "text": "13%",
          "x": 8.214285714285715,
          "y": 19.5
         },
         {
          "arrowcolor": "lightslategrey",
          "arrowhead": 3,
          "arrowsize": 1,
          "arrowwidth": 3,
          "ax": 6.023809523809524,
          "axref": "x",
          "ay": 19,
          "ayref": "y",
          "opacity": 0.3,
          "showarrow": true,
          "standoff": 15,
          "x": 10.404761904761905,
          "xref": "x",
          "y": 20,
          "yref": "y"
         },
         {
          "bordercolor": "lightslategrey",
          "borderpad": 1,
          "borderwidth": 2,
          "showarrow": false,
          "text": "100%",
          "x": 1.6428571428571428,
          "y": 20.5
         },
         {
          "arrowcolor": "lightslategrey",
          "arrowhead": 3,
          "arrowsize": 1,
          "arrowwidth": 3,
          "ax": 1.6428571428571428,
          "axref": "x",
          "ay": 20,
          "ayref": "y",
          "opacity": 0.3,
          "showarrow": true,
          "standoff": 15,
          "x": 1.6428571428571428,
          "xref": "x",
          "y": 21,
          "yref": "y"
         },
         {
          "bordercolor": "lightslategrey",
          "borderpad": 1,
          "borderwidth": 2,
          "showarrow": false,
          "text": "100%",
          "x": 6.023809523809524,
          "y": 20.5
         },
         {
          "arrowcolor": "lightslategrey",
          "arrowhead": 3,
          "arrowsize": 1,
          "arrowwidth": 3,
          "ax": 6.023809523809524,
          "axref": "x",
          "ay": 20,
          "ayref": "y",
          "opacity": 0.3,
          "showarrow": true,
          "standoff": 15,
          "x": 6.023809523809524,
          "xref": "x",
          "y": 21,
          "yref": "y"
         },
         {
          "bordercolor": "lightslategrey",
          "borderpad": 1,
          "borderwidth": 2,
          "showarrow": false,
          "text": "61%",
          "x": 10.404761904761905,
          "y": 20.5
         },
         {
          "arrowcolor": "lightslategrey",
          "arrowhead": 3,
          "arrowsize": 1,
          "arrowwidth": 3,
          "ax": 10.404761904761905,
          "axref": "x",
          "ay": 20,
          "ayref": "y",
          "opacity": 0.3,
          "showarrow": true,
          "standoff": 15,
          "x": 10.404761904761905,
          "xref": "x",
          "y": 21,
          "yref": "y"
         },
         {
          "bordercolor": "lightslategrey",
          "borderpad": 1,
          "borderwidth": 2,
          "showarrow": false,
          "text": "39%",
          "x": 12.595238095238095,
          "y": 20.5
         },
         {
          "arrowcolor": "lightslategrey",
          "arrowhead": 3,
          "arrowsize": 1,
          "arrowwidth": 3,
          "ax": 10.404761904761905,
          "axref": "x",
          "ay": 20,
          "ayref": "y",
          "opacity": 0.3,
          "showarrow": true,
          "standoff": 15,
          "x": 14.785714285714285,
          "xref": "x",
          "y": 21,
          "yref": "y"
         },
         {
          "bordercolor": "lightslategrey",
          "borderpad": 1,
          "borderwidth": 2,
          "showarrow": false,
          "text": "100%",
          "x": 1.6428571428571428,
          "y": 21.5
         },
         {
          "arrowcolor": "lightslategrey",
          "arrowhead": 3,
          "arrowsize": 1,
          "arrowwidth": 3,
          "ax": 1.6428571428571428,
          "axref": "x",
          "ay": 21,
          "ayref": "y",
          "opacity": 0.3,
          "showarrow": true,
          "standoff": 15,
          "x": 1.6428571428571428,
          "xref": "x",
          "y": 22,
          "yref": "y"
         },
         {
          "bordercolor": "lightslategrey",
          "borderpad": 1,
          "borderwidth": 2,
          "showarrow": false,
          "text": "100%",
          "x": 6.023809523809524,
          "y": 21.5
         },
         {
          "arrowcolor": "lightslategrey",
          "arrowhead": 3,
          "arrowsize": 1,
          "arrowwidth": 3,
          "ax": 6.023809523809524,
          "axref": "x",
          "ay": 21,
          "ayref": "y",
          "opacity": 0.3,
          "showarrow": true,
          "standoff": 15,
          "x": 6.023809523809524,
          "xref": "x",
          "y": 22,
          "yref": "y"
         },
         {
          "bordercolor": "lightslategrey",
          "borderpad": 1,
          "borderwidth": 2,
          "showarrow": false,
          "text": "100%",
          "x": 10.404761904761905,
          "y": 21.5
         },
         {
          "arrowcolor": "lightslategrey",
          "arrowhead": 3,
          "arrowsize": 1,
          "arrowwidth": 3,
          "ax": 10.404761904761905,
          "axref": "x",
          "ay": 21,
          "ayref": "y",
          "opacity": 0.3,
          "showarrow": true,
          "standoff": 15,
          "x": 10.404761904761905,
          "xref": "x",
          "y": 22,
          "yref": "y"
         },
         {
          "bordercolor": "lightslategrey",
          "borderpad": 1,
          "borderwidth": 2,
          "showarrow": false,
          "text": "77%",
          "x": 14.785714285714285,
          "y": 21.5
         },
         {
          "arrowcolor": "lightslategrey",
          "arrowhead": 3,
          "arrowsize": 1,
          "arrowwidth": 3,
          "ax": 14.785714285714285,
          "axref": "x",
          "ay": 21,
          "ayref": "y",
          "opacity": 0.3,
          "showarrow": true,
          "standoff": 15,
          "x": 14.785714285714285,
          "xref": "x",
          "y": 22,
          "yref": "y"
         },
         {
          "bordercolor": "lightslategrey",
          "borderpad": 1,
          "borderwidth": 2,
          "showarrow": false,
          "text": "23%",
          "x": 16.976190476190474,
          "y": 21.5
         },
         {
          "arrowcolor": "lightslategrey",
          "arrowhead": 3,
          "arrowsize": 1,
          "arrowwidth": 3,
          "ax": 14.785714285714285,
          "axref": "x",
          "ay": 21,
          "ayref": "y",
          "opacity": 0.3,
          "showarrow": true,
          "standoff": 15,
          "x": 19.166666666666668,
          "xref": "x",
          "y": 22,
          "yref": "y"
         },
         {
          "bordercolor": "lightslategrey",
          "borderpad": 1,
          "borderwidth": 2,
          "showarrow": false,
          "text": "100%",
          "x": 1.6428571428571428,
          "y": 22.5
         },
         {
          "arrowcolor": "lightslategrey",
          "arrowhead": 3,
          "arrowsize": 1,
          "arrowwidth": 3,
          "ax": 1.6428571428571428,
          "axref": "x",
          "ay": 22,
          "ayref": "y",
          "opacity": 0.3,
          "showarrow": true,
          "standoff": 15,
          "x": 1.6428571428571428,
          "xref": "x",
          "y": 23,
          "yref": "y"
         },
         {
          "bordercolor": "lightslategrey",
          "borderpad": 1,
          "borderwidth": 2,
          "showarrow": false,
          "text": "100%",
          "x": 6.023809523809524,
          "y": 22.5
         },
         {
          "arrowcolor": "lightslategrey",
          "arrowhead": 3,
          "arrowsize": 1,
          "arrowwidth": 3,
          "ax": 6.023809523809524,
          "axref": "x",
          "ay": 22,
          "ayref": "y",
          "opacity": 0.3,
          "showarrow": true,
          "standoff": 15,
          "x": 6.023809523809524,
          "xref": "x",
          "y": 23,
          "yref": "y"
         },
         {
          "bordercolor": "lightslategrey",
          "borderpad": 1,
          "borderwidth": 2,
          "showarrow": false,
          "text": "100%",
          "x": 10.404761904761905,
          "y": 22.5
         },
         {
          "arrowcolor": "lightslategrey",
          "arrowhead": 3,
          "arrowsize": 1,
          "arrowwidth": 3,
          "ax": 10.404761904761905,
          "axref": "x",
          "ay": 22,
          "ayref": "y",
          "opacity": 0.3,
          "showarrow": true,
          "standoff": 15,
          "x": 10.404761904761905,
          "xref": "x",
          "y": 23,
          "yref": "y"
         },
         {
          "bordercolor": "lightslategrey",
          "borderpad": 1,
          "borderwidth": 2,
          "showarrow": false,
          "text": "100%",
          "x": 14.785714285714285,
          "y": 22.5
         },
         {
          "arrowcolor": "lightslategrey",
          "arrowhead": 3,
          "arrowsize": 1,
          "arrowwidth": 3,
          "ax": 14.785714285714285,
          "axref": "x",
          "ay": 22,
          "ayref": "y",
          "opacity": 0.3,
          "showarrow": true,
          "standoff": 15,
          "x": 14.785714285714285,
          "xref": "x",
          "y": 23,
          "yref": "y"
         },
         {
          "bordercolor": "lightslategrey",
          "borderpad": 1,
          "borderwidth": 2,
          "showarrow": false,
          "text": "81%",
          "x": 19.166666666666668,
          "y": 22.5
         },
         {
          "arrowcolor": "lightslategrey",
          "arrowhead": 3,
          "arrowsize": 1,
          "arrowwidth": 3,
          "ax": 19.166666666666668,
          "axref": "x",
          "ay": 22,
          "ayref": "y",
          "opacity": 0.3,
          "showarrow": true,
          "standoff": 15,
          "x": 19.166666666666668,
          "xref": "x",
          "y": 23,
          "yref": "y"
         },
         {
          "bordercolor": "lightslategrey",
          "borderpad": 1,
          "borderwidth": 2,
          "showarrow": false,
          "text": "19%",
          "x": 21.357142857142858,
          "y": 22.5
         },
         {
          "arrowcolor": "lightslategrey",
          "arrowhead": 3,
          "arrowsize": 1,
          "arrowwidth": 3,
          "ax": 19.166666666666668,
          "axref": "x",
          "ay": 22,
          "ayref": "y",
          "opacity": 0.3,
          "showarrow": true,
          "standoff": 15,
          "x": 23.547619047619047,
          "xref": "x",
          "y": 23,
          "yref": "y"
         }
        ],
        "font": {
         "color": "black"
        },
        "hovermode": "closest",
        "margin": {
         "b": 30,
         "l": 0,
         "r": 0,
         "t": 30
        },
        "paper_bgcolor": "rgba(0,0,0,0)",
        "plot_bgcolor": "rgb(255,255,255)",
        "shapes": [
         {
          "layer": "below",
          "line": {
           "color": "rgba(212, 212, 212, 1)",
           "dash": "dashdot",
           "width": 2
          },
          "type": "line",
          "x0": -0.711904761904762,
          "x1": 25.902380952380952,
          "y0": 18,
          "y1": 18
         },
         {
          "layer": "below",
          "line": {
           "color": "rgba(212, 212, 212, 1)",
           "dash": "dashdot",
           "width": 2
          },
          "type": "line",
          "x0": -0.711904761904762,
          "x1": 25.902380952380952,
          "y0": 19,
          "y1": 19
         },
         {
          "layer": "below",
          "line": {
           "color": "rgba(212, 212, 212, 1)",
           "dash": "dashdot",
           "width": 2
          },
          "type": "line",
          "x0": -0.711904761904762,
          "x1": 25.902380952380952,
          "y0": 20,
          "y1": 20
         },
         {
          "layer": "below",
          "line": {
           "color": "rgba(212, 212, 212, 1)",
           "dash": "dashdot",
           "width": 2
          },
          "type": "line",
          "x0": -0.711904761904762,
          "x1": 25.902380952380952,
          "y0": 21,
          "y1": 21
         },
         {
          "layer": "below",
          "line": {
           "color": "rgba(212, 212, 212, 1)",
           "dash": "dashdot",
           "width": 2
          },
          "type": "line",
          "x0": -0.711904761904762,
          "x1": 25.902380952380952,
          "y0": 22,
          "y1": 22
         },
         {
          "layer": "below",
          "line": {
           "color": "rgba(212, 212, 212, 1)",
           "dash": "dashdot",
           "width": 2
          },
          "type": "line",
          "x0": -0.711904761904762,
          "x1": 25.902380952380952,
          "y0": 23,
          "y1": 23
         }
        ],
        "showlegend": false,
        "template": {
         "data": {
          "bar": [
           {
            "error_x": {
             "color": "#2a3f5f"
            },
            "error_y": {
             "color": "#2a3f5f"
            },
            "marker": {
             "line": {
              "color": "#E5ECF6",
              "width": 0.5
             }
            },
            "type": "bar"
           }
          ],
          "barpolar": [
           {
            "marker": {
             "line": {
              "color": "#E5ECF6",
              "width": 0.5
             }
            },
            "type": "barpolar"
           }
          ],
          "carpet": [
           {
            "aaxis": {
             "endlinecolor": "#2a3f5f",
             "gridcolor": "white",
             "linecolor": "white",
             "minorgridcolor": "white",
             "startlinecolor": "#2a3f5f"
            },
            "baxis": {
             "endlinecolor": "#2a3f5f",
             "gridcolor": "white",
             "linecolor": "white",
             "minorgridcolor": "white",
             "startlinecolor": "#2a3f5f"
            },
            "type": "carpet"
           }
          ],
          "choropleth": [
           {
            "colorbar": {
             "outlinewidth": 0,
             "ticks": ""
            },
            "type": "choropleth"
           }
          ],
          "contour": [
           {
            "colorbar": {
             "outlinewidth": 0,
             "ticks": ""
            },
            "colorscale": [
             [
              0,
              "#0d0887"
             ],
             [
              0.1111111111111111,
              "#46039f"
             ],
             [
              0.2222222222222222,
              "#7201a8"
             ],
             [
              0.3333333333333333,
              "#9c179e"
             ],
             [
              0.4444444444444444,
              "#bd3786"
             ],
             [
              0.5555555555555556,
              "#d8576b"
             ],
             [
              0.6666666666666666,
              "#ed7953"
             ],
             [
              0.7777777777777778,
              "#fb9f3a"
             ],
             [
              0.8888888888888888,
              "#fdca26"
             ],
             [
              1,
              "#f0f921"
             ]
            ],
            "type": "contour"
           }
          ],
          "contourcarpet": [
           {
            "colorbar": {
             "outlinewidth": 0,
             "ticks": ""
            },
            "type": "contourcarpet"
           }
          ],
          "heatmap": [
           {
            "colorbar": {
             "outlinewidth": 0,
             "ticks": ""
            },
            "colorscale": [
             [
              0,
              "#0d0887"
             ],
             [
              0.1111111111111111,
              "#46039f"
             ],
             [
              0.2222222222222222,
              "#7201a8"
             ],
             [
              0.3333333333333333,
              "#9c179e"
             ],
             [
              0.4444444444444444,
              "#bd3786"
             ],
             [
              0.5555555555555556,
              "#d8576b"
             ],
             [
              0.6666666666666666,
              "#ed7953"
             ],
             [
              0.7777777777777778,
              "#fb9f3a"
             ],
             [
              0.8888888888888888,
              "#fdca26"
             ],
             [
              1,
              "#f0f921"
             ]
            ],
            "type": "heatmap"
           }
          ],
          "heatmapgl": [
           {
            "colorbar": {
             "outlinewidth": 0,
             "ticks": ""
            },
            "colorscale": [
             [
              0,
              "#0d0887"
             ],
             [
              0.1111111111111111,
              "#46039f"
             ],
             [
              0.2222222222222222,
              "#7201a8"
             ],
             [
              0.3333333333333333,
              "#9c179e"
             ],
             [
              0.4444444444444444,
              "#bd3786"
             ],
             [
              0.5555555555555556,
              "#d8576b"
             ],
             [
              0.6666666666666666,
              "#ed7953"
             ],
             [
              0.7777777777777778,
              "#fb9f3a"
             ],
             [
              0.8888888888888888,
              "#fdca26"
             ],
             [
              1,
              "#f0f921"
             ]
            ],
            "type": "heatmapgl"
           }
          ],
          "histogram": [
           {
            "marker": {
             "colorbar": {
              "outlinewidth": 0,
              "ticks": ""
             }
            },
            "type": "histogram"
           }
          ],
          "histogram2d": [
           {
            "colorbar": {
             "outlinewidth": 0,
             "ticks": ""
            },
            "colorscale": [
             [
              0,
              "#0d0887"
             ],
             [
              0.1111111111111111,
              "#46039f"
             ],
             [
              0.2222222222222222,
              "#7201a8"
             ],
             [
              0.3333333333333333,
              "#9c179e"
             ],
             [
              0.4444444444444444,
              "#bd3786"
             ],
             [
              0.5555555555555556,
              "#d8576b"
             ],
             [
              0.6666666666666666,
              "#ed7953"
             ],
             [
              0.7777777777777778,
              "#fb9f3a"
             ],
             [
              0.8888888888888888,
              "#fdca26"
             ],
             [
              1,
              "#f0f921"
             ]
            ],
            "type": "histogram2d"
           }
          ],
          "histogram2dcontour": [
           {
            "colorbar": {
             "outlinewidth": 0,
             "ticks": ""
            },
            "colorscale": [
             [
              0,
              "#0d0887"
             ],
             [
              0.1111111111111111,
              "#46039f"
             ],
             [
              0.2222222222222222,
              "#7201a8"
             ],
             [
              0.3333333333333333,
              "#9c179e"
             ],
             [
              0.4444444444444444,
              "#bd3786"
             ],
             [
              0.5555555555555556,
              "#d8576b"
             ],
             [
              0.6666666666666666,
              "#ed7953"
             ],
             [
              0.7777777777777778,
              "#fb9f3a"
             ],
             [
              0.8888888888888888,
              "#fdca26"
             ],
             [
              1,
              "#f0f921"
             ]
            ],
            "type": "histogram2dcontour"
           }
          ],
          "mesh3d": [
           {
            "colorbar": {
             "outlinewidth": 0,
             "ticks": ""
            },
            "type": "mesh3d"
           }
          ],
          "parcoords": [
           {
            "line": {
             "colorbar": {
              "outlinewidth": 0,
              "ticks": ""
             }
            },
            "type": "parcoords"
           }
          ],
          "pie": [
           {
            "automargin": true,
            "type": "pie"
           }
          ],
          "scatter": [
           {
            "marker": {
             "colorbar": {
              "outlinewidth": 0,
              "ticks": ""
             }
            },
            "type": "scatter"
           }
          ],
          "scatter3d": [
           {
            "line": {
             "colorbar": {
              "outlinewidth": 0,
              "ticks": ""
             }
            },
            "marker": {
             "colorbar": {
              "outlinewidth": 0,
              "ticks": ""
             }
            },
            "type": "scatter3d"
           }
          ],
          "scattercarpet": [
           {
            "marker": {
             "colorbar": {
              "outlinewidth": 0,
              "ticks": ""
             }
            },
            "type": "scattercarpet"
           }
          ],
          "scattergeo": [
           {
            "marker": {
             "colorbar": {
              "outlinewidth": 0,
              "ticks": ""
             }
            },
            "type": "scattergeo"
           }
          ],
          "scattergl": [
           {
            "marker": {
             "colorbar": {
              "outlinewidth": 0,
              "ticks": ""
             }
            },
            "type": "scattergl"
           }
          ],
          "scattermapbox": [
           {
            "marker": {
             "colorbar": {
              "outlinewidth": 0,
              "ticks": ""
             }
            },
            "type": "scattermapbox"
           }
          ],
          "scatterpolar": [
           {
            "marker": {
             "colorbar": {
              "outlinewidth": 0,
              "ticks": ""
             }
            },
            "type": "scatterpolar"
           }
          ],
          "scatterpolargl": [
           {
            "marker": {
             "colorbar": {
              "outlinewidth": 0,
              "ticks": ""
             }
            },
            "type": "scatterpolargl"
           }
          ],
          "scatterternary": [
           {
            "marker": {
             "colorbar": {
              "outlinewidth": 0,
              "ticks": ""
             }
            },
            "type": "scatterternary"
           }
          ],
          "surface": [
           {
            "colorbar": {
             "outlinewidth": 0,
             "ticks": ""
            },
            "colorscale": [
             [
              0,
              "#0d0887"
             ],
             [
              0.1111111111111111,
              "#46039f"
             ],
             [
              0.2222222222222222,
              "#7201a8"
             ],
             [
              0.3333333333333333,
              "#9c179e"
             ],
             [
              0.4444444444444444,
              "#bd3786"
             ],
             [
              0.5555555555555556,
              "#d8576b"
             ],
             [
              0.6666666666666666,
              "#ed7953"
             ],
             [
              0.7777777777777778,
              "#fb9f3a"
             ],
             [
              0.8888888888888888,
              "#fdca26"
             ],
             [
              1,
              "#f0f921"
             ]
            ],
            "type": "surface"
           }
          ],
          "table": [
           {
            "cells": {
             "fill": {
              "color": "#EBF0F8"
             },
             "line": {
              "color": "white"
             }
            },
            "header": {
             "fill": {
              "color": "#C8D4E3"
             },
             "line": {
              "color": "white"
             }
            },
            "type": "table"
           }
          ]
         },
         "layout": {
          "annotationdefaults": {
           "arrowcolor": "#2a3f5f",
           "arrowhead": 0,
           "arrowwidth": 1
          },
          "coloraxis": {
           "colorbar": {
            "outlinewidth": 0,
            "ticks": ""
           }
          },
          "colorscale": {
           "diverging": [
            [
             0,
             "#8e0152"
            ],
            [
             0.1,
             "#c51b7d"
            ],
            [
             0.2,
             "#de77ae"
            ],
            [
             0.3,
             "#f1b6da"
            ],
            [
             0.4,
             "#fde0ef"
            ],
            [
             0.5,
             "#f7f7f7"
            ],
            [
             0.6,
             "#e6f5d0"
            ],
            [
             0.7,
             "#b8e186"
            ],
            [
             0.8,
             "#7fbc41"
            ],
            [
             0.9,
             "#4d9221"
            ],
            [
             1,
             "#276419"
            ]
           ],
           "sequential": [
            [
             0,
             "#0d0887"
            ],
            [
             0.1111111111111111,
             "#46039f"
            ],
            [
             0.2222222222222222,
             "#7201a8"
            ],
            [
             0.3333333333333333,
             "#9c179e"
            ],
            [
             0.4444444444444444,
             "#bd3786"
            ],
            [
             0.5555555555555556,
             "#d8576b"
            ],
            [
             0.6666666666666666,
             "#ed7953"
            ],
            [
             0.7777777777777778,
             "#fb9f3a"
            ],
            [
             0.8888888888888888,
             "#fdca26"
            ],
            [
             1,
             "#f0f921"
            ]
           ],
           "sequentialminus": [
            [
             0,
             "#0d0887"
            ],
            [
             0.1111111111111111,
             "#46039f"
            ],
            [
             0.2222222222222222,
             "#7201a8"
            ],
            [
             0.3333333333333333,
             "#9c179e"
            ],
            [
             0.4444444444444444,
             "#bd3786"
            ],
            [
             0.5555555555555556,
             "#d8576b"
            ],
            [
             0.6666666666666666,
             "#ed7953"
            ],
            [
             0.7777777777777778,
             "#fb9f3a"
            ],
            [
             0.8888888888888888,
             "#fdca26"
            ],
            [
             1,
             "#f0f921"
            ]
           ]
          },
          "colorway": [
           "#636efa",
           "#EF553B",
           "#00cc96",
           "#ab63fa",
           "#FFA15A",
           "#19d3f3",
           "#FF6692",
           "#B6E880",
           "#FF97FF",
           "#FECB52"
          ],
          "font": {
           "color": "#2a3f5f"
          },
          "geo": {
           "bgcolor": "white",
           "lakecolor": "white",
           "landcolor": "#E5ECF6",
           "showlakes": true,
           "showland": true,
           "subunitcolor": "white"
          },
          "hoverlabel": {
           "align": "left"
          },
          "hovermode": "closest",
          "mapbox": {
           "style": "light"
          },
          "paper_bgcolor": "white",
          "plot_bgcolor": "#E5ECF6",
          "polar": {
           "angularaxis": {
            "gridcolor": "white",
            "linecolor": "white",
            "ticks": ""
           },
           "bgcolor": "#E5ECF6",
           "radialaxis": {
            "gridcolor": "white",
            "linecolor": "white",
            "ticks": ""
           }
          },
          "scene": {
           "xaxis": {
            "backgroundcolor": "#E5ECF6",
            "gridcolor": "white",
            "gridwidth": 2,
            "linecolor": "white",
            "showbackground": true,
            "ticks": "",
            "zerolinecolor": "white"
           },
           "yaxis": {
            "backgroundcolor": "#E5ECF6",
            "gridcolor": "white",
            "gridwidth": 2,
            "linecolor": "white",
            "showbackground": true,
            "ticks": "",
            "zerolinecolor": "white"
           },
           "zaxis": {
            "backgroundcolor": "#E5ECF6",
            "gridcolor": "white",
            "gridwidth": 2,
            "linecolor": "white",
            "showbackground": true,
            "ticks": "",
            "zerolinecolor": "white"
           }
          },
          "shapedefaults": {
           "line": {
            "color": "#2a3f5f"
           }
          },
          "ternary": {
           "aaxis": {
            "gridcolor": "white",
            "linecolor": "white",
            "ticks": ""
           },
           "baxis": {
            "gridcolor": "white",
            "linecolor": "white",
            "ticks": ""
           },
           "bgcolor": "#E5ECF6",
           "caxis": {
            "gridcolor": "white",
            "linecolor": "white",
            "ticks": ""
           }
          },
          "title": {
           "x": 0.05
          },
          "xaxis": {
           "automargin": true,
           "gridcolor": "white",
           "linecolor": "white",
           "ticks": "",
           "title": {
            "standoff": 15
           },
           "zerolinecolor": "white",
           "zerolinewidth": 2
          },
          "yaxis": {
           "automargin": true,
           "gridcolor": "white",
           "linecolor": "white",
           "ticks": "",
           "title": {
            "standoff": 15
           },
           "zerolinecolor": "white",
           "zerolinewidth": 2
          }
         }
        },
        "title": {
         "text": "<b>Nathan MacKinnon Player Development</b>",
         "x": 0.5
        },
        "xaxis": {
         "linecolor": "black",
         "linewidth": 2,
         "mirror": true,
         "showline": true,
         "showticklabels": false,
         "title": {
          "text": "MeaningleX Axis"
         }
        },
        "yaxis": {
         "linecolor": "black",
         "linewidth": 2,
         "mirror": true,
         "showline": true,
         "tickvals": [
          18,
          19,
          20,
          21,
          22,
          23
         ],
         "title": {
          "text": "<b>Season Age</b>"
         }
        }
       }
      },
      "text/html": [
       "<div>                            <div id=\"129c5f04-0972-47b1-8e23-5a6bf3568ece\" class=\"plotly-graph-div\" style=\"height:525px; width:100%;\"></div>            <script type=\"text/javascript\">                require([\"plotly\"], function(Plotly) {                    window.PLOTLYENV=window.PLOTLYENV || {};                                    if (document.getElementById(\"129c5f04-0972-47b1-8e23-5a6bf3568ece\")) {                    Plotly.newPlot(                        \"129c5f04-0972-47b1-8e23-5a6bf3568ece\",                        [{\"customdata\": [[1.7, \"Elite\"], [0.68, \"Top 6\"], [1.83, \"Elite\"], [0.7, \"Top Line\"], [0.59, \"Top 6\"], [1.59, \"Elite\"], [0.73, \"Top Line\"], [0.62, \"Top 6\"], [0.63, \"Top 6\"], [0.88, \"Top Line\"], [0.79, \"Top Line\"], [0.66, \"Top 6\"], [0.6, \"Top 6\"], [0.58, \"Top 6\"], [0.86, \"Top Line\"], [0.82, \"Top Line\"], [0.69, \"Top Line\"], [0.63, \"Top 6\"], [0.57, \"Top 6\"], [0.52, \"Top 6\"], [0.82, \"Top Line\"]], \"hovertemplate\": \"</b><b>%{customdata[1]}</b><br><br>Age: <b>%{y:,.0f}</b><br>League: %{text}</b><br>PPG: <b>%{customdata[0]:,}</b><extra></extra>\", \"marker\": {\"cmax\": 100, \"cmid\": 50, \"cmin\": 0, \"colorbar\": {\"showticklabels\": true, \"ticks\": \"outside\", \"ticktext\": [\"Depth\", \"Top 9\", \"Top 6\", \"Top Line\", \"Elite\"], \"tickvals\": [10, 24, 49, 74, 90], \"title\": {\"side\": \"top\", \"text\": \"<b>Scoring Role<b> <br />\"}}, \"colorscale\": [[0.0, \"rgb(226.06995056569855, 151.98902910018683, 88.52963359305723)\"], [0.25, \"rgb(238.84475609578178, 197.47616605439813, 162.03889468850892)\"], [0.5, \"rgb(238.98870305061774, 244.05915241102275, 245.51129694938223)\"], [0.75, \"rgb(165.67498251184972, 212.5546074901419, 225.98063475789655)\"], [1.0, \"rgb(96.42629022339513, 179.64906761305474, 203.48354323117755)\"]], \"size\": [30, 30, 30, 30, 30, 30, 30, 30, 30, 30, 30, 30, 30, 30, 30, 30, 30, 30, 30, 30, 30]}, \"mode\": \"markers+text\", \"showlegend\": true, \"text\": [\"<b>QMJHL\", \"<b>NHL\", \"<b>QMJHL\", \"<b>NHL\", \"<b>NHL\", \"<b>QMJHL\", \"<b>NHL\", \"<b>NHL\", \"<b>NHL\", \"<b>AHL\", \"<b>NHL\", \"<b>NHL\", \"<b>NHL\", \"<b>NHL\", \"<b>AHL\", \"<b>NHL\", \"<b>NHL\", \"<b>NHL\", \"<b>NHL\", \"<b>NHL\", \"<b>AHL\"], \"textposition\": \"middle center\", \"type\": \"scatter\", \"x\": [3.8333333333333335, 1.6428571428571428, 6.023809523809524, 1.6428571428571428, 6.023809523809524, 10.404761904761905, 1.6428571428571428, 6.023809523809524, 10.404761904761905, 14.785714285714285, 1.6428571428571428, 6.023809523809524, 10.404761904761905, 14.785714285714285, 19.166666666666668, 1.6428571428571428, 6.023809523809524, 10.404761904761905, 14.785714285714285, 19.166666666666668, 23.547619047619047], \"y\": [18, 19, 19, 20, 20, 20, 21, 21, 21, 21, 22, 22, 22, 22, 22, 23, 23, 23, 23, 23, 23]}],                        {\"annotations\": [{\"showarrow\": false, \"text\": \"By: Connor Jung <a href='https://twitter.com/ConnorJungle'>@ConnorJungle</a> Data Source: Elite Prospects\", \"x\": 0.005, \"xref\": \"paper\", \"y\": -0.005, \"yref\": \"paper\"}, {\"bordercolor\": \"lightslategrey\", \"borderpad\": 1, \"borderwidth\": 2, \"showarrow\": false, \"text\": \"55%\", \"x\": 2.738095238095238, \"y\": 18.5}, {\"arrowcolor\": \"lightslategrey\", \"arrowhead\": 3, \"arrowsize\": 1, \"arrowwidth\": 3, \"ax\": 3.8333333333333335, \"axref\": \"x\", \"ay\": 18, \"ayref\": \"y\", \"opacity\": 0.3, \"showarrow\": true, \"standoff\": 15, \"x\": 1.6428571428571428, \"xref\": \"x\", \"y\": 19, \"yref\": \"y\"}, {\"bordercolor\": \"lightslategrey\", \"borderpad\": 1, \"borderwidth\": 2, \"showarrow\": false, \"text\": \"45%\", \"x\": 4.928571428571429, \"y\": 18.5}, {\"arrowcolor\": \"lightslategrey\", \"arrowhead\": 3, \"arrowsize\": 1, \"arrowwidth\": 3, \"ax\": 3.8333333333333335, \"axref\": \"x\", \"ay\": 18, \"ayref\": \"y\", \"opacity\": 0.3, \"showarrow\": true, \"standoff\": 15, \"x\": 6.023809523809524, \"xref\": \"x\", \"y\": 19, \"yref\": \"y\"}, {\"bordercolor\": \"lightslategrey\", \"borderpad\": 1, \"borderwidth\": 2, \"showarrow\": false, \"text\": \"100%\", \"x\": 1.6428571428571428, \"y\": 19.5}, {\"arrowcolor\": \"lightslategrey\", \"arrowhead\": 3, \"arrowsize\": 1, \"arrowwidth\": 3, \"ax\": 1.6428571428571428, \"axref\": \"x\", \"ay\": 19, \"ayref\": \"y\", \"opacity\": 0.3, \"showarrow\": true, \"standoff\": 15, \"x\": 1.6428571428571428, \"xref\": \"x\", \"y\": 20, \"yref\": \"y\"}, {\"bordercolor\": \"lightslategrey\", \"borderpad\": 1, \"borderwidth\": 2, \"showarrow\": false, \"text\": \"87%\", \"x\": 6.023809523809524, \"y\": 19.5}, {\"arrowcolor\": \"lightslategrey\", \"arrowhead\": 3, \"arrowsize\": 1, \"arrowwidth\": 3, \"ax\": 6.023809523809524, \"axref\": \"x\", \"ay\": 19, \"ayref\": \"y\", \"opacity\": 0.3, \"showarrow\": true, \"standoff\": 15, \"x\": 6.023809523809524, \"xref\": \"x\", \"y\": 20, \"yref\": \"y\"}, {\"bordercolor\": \"lightslategrey\", \"borderpad\": 1, \"borderwidth\": 2, \"showarrow\": false, \"text\": \"13%\", \"x\": 8.214285714285715, \"y\": 19.5}, {\"arrowcolor\": \"lightslategrey\", \"arrowhead\": 3, \"arrowsize\": 1, \"arrowwidth\": 3, \"ax\": 6.023809523809524, \"axref\": \"x\", \"ay\": 19, \"ayref\": \"y\", \"opacity\": 0.3, \"showarrow\": true, \"standoff\": 15, \"x\": 10.404761904761905, \"xref\": \"x\", \"y\": 20, \"yref\": \"y\"}, {\"bordercolor\": \"lightslategrey\", \"borderpad\": 1, \"borderwidth\": 2, \"showarrow\": false, \"text\": \"100%\", \"x\": 1.6428571428571428, \"y\": 20.5}, {\"arrowcolor\": \"lightslategrey\", \"arrowhead\": 3, \"arrowsize\": 1, \"arrowwidth\": 3, \"ax\": 1.6428571428571428, \"axref\": \"x\", \"ay\": 20, \"ayref\": \"y\", \"opacity\": 0.3, \"showarrow\": true, \"standoff\": 15, \"x\": 1.6428571428571428, \"xref\": \"x\", \"y\": 21, \"yref\": \"y\"}, {\"bordercolor\": \"lightslategrey\", \"borderpad\": 1, \"borderwidth\": 2, \"showarrow\": false, \"text\": \"100%\", \"x\": 6.023809523809524, \"y\": 20.5}, {\"arrowcolor\": \"lightslategrey\", \"arrowhead\": 3, \"arrowsize\": 1, \"arrowwidth\": 3, \"ax\": 6.023809523809524, \"axref\": \"x\", \"ay\": 20, \"ayref\": \"y\", \"opacity\": 0.3, \"showarrow\": true, \"standoff\": 15, \"x\": 6.023809523809524, \"xref\": \"x\", \"y\": 21, \"yref\": \"y\"}, {\"bordercolor\": \"lightslategrey\", \"borderpad\": 1, \"borderwidth\": 2, \"showarrow\": false, \"text\": \"61%\", \"x\": 10.404761904761905, \"y\": 20.5}, {\"arrowcolor\": \"lightslategrey\", \"arrowhead\": 3, \"arrowsize\": 1, \"arrowwidth\": 3, \"ax\": 10.404761904761905, \"axref\": \"x\", \"ay\": 20, \"ayref\": \"y\", \"opacity\": 0.3, \"showarrow\": true, \"standoff\": 15, \"x\": 10.404761904761905, \"xref\": \"x\", \"y\": 21, \"yref\": \"y\"}, {\"bordercolor\": \"lightslategrey\", \"borderpad\": 1, \"borderwidth\": 2, \"showarrow\": false, \"text\": \"39%\", \"x\": 12.595238095238095, \"y\": 20.5}, {\"arrowcolor\": \"lightslategrey\", \"arrowhead\": 3, \"arrowsize\": 1, \"arrowwidth\": 3, \"ax\": 10.404761904761905, \"axref\": \"x\", \"ay\": 20, \"ayref\": \"y\", \"opacity\": 0.3, \"showarrow\": true, \"standoff\": 15, \"x\": 14.785714285714285, \"xref\": \"x\", \"y\": 21, \"yref\": \"y\"}, {\"bordercolor\": \"lightslategrey\", \"borderpad\": 1, \"borderwidth\": 2, \"showarrow\": false, \"text\": \"100%\", \"x\": 1.6428571428571428, \"y\": 21.5}, {\"arrowcolor\": \"lightslategrey\", \"arrowhead\": 3, \"arrowsize\": 1, \"arrowwidth\": 3, \"ax\": 1.6428571428571428, \"axref\": \"x\", \"ay\": 21, \"ayref\": \"y\", \"opacity\": 0.3, \"showarrow\": true, \"standoff\": 15, \"x\": 1.6428571428571428, \"xref\": \"x\", \"y\": 22, \"yref\": \"y\"}, {\"bordercolor\": \"lightslategrey\", \"borderpad\": 1, \"borderwidth\": 2, \"showarrow\": false, \"text\": \"100%\", \"x\": 6.023809523809524, \"y\": 21.5}, {\"arrowcolor\": \"lightslategrey\", \"arrowhead\": 3, \"arrowsize\": 1, \"arrowwidth\": 3, \"ax\": 6.023809523809524, \"axref\": \"x\", \"ay\": 21, \"ayref\": \"y\", \"opacity\": 0.3, \"showarrow\": true, \"standoff\": 15, \"x\": 6.023809523809524, \"xref\": \"x\", \"y\": 22, \"yref\": \"y\"}, {\"bordercolor\": \"lightslategrey\", \"borderpad\": 1, \"borderwidth\": 2, \"showarrow\": false, \"text\": \"100%\", \"x\": 10.404761904761905, \"y\": 21.5}, {\"arrowcolor\": \"lightslategrey\", \"arrowhead\": 3, \"arrowsize\": 1, \"arrowwidth\": 3, \"ax\": 10.404761904761905, \"axref\": \"x\", \"ay\": 21, \"ayref\": \"y\", \"opacity\": 0.3, \"showarrow\": true, \"standoff\": 15, \"x\": 10.404761904761905, \"xref\": \"x\", \"y\": 22, \"yref\": \"y\"}, {\"bordercolor\": \"lightslategrey\", \"borderpad\": 1, \"borderwidth\": 2, \"showarrow\": false, \"text\": \"77%\", \"x\": 14.785714285714285, \"y\": 21.5}, {\"arrowcolor\": \"lightslategrey\", \"arrowhead\": 3, \"arrowsize\": 1, \"arrowwidth\": 3, \"ax\": 14.785714285714285, \"axref\": \"x\", \"ay\": 21, \"ayref\": \"y\", \"opacity\": 0.3, \"showarrow\": true, \"standoff\": 15, \"x\": 14.785714285714285, \"xref\": \"x\", \"y\": 22, \"yref\": \"y\"}, {\"bordercolor\": \"lightslategrey\", \"borderpad\": 1, \"borderwidth\": 2, \"showarrow\": false, \"text\": \"23%\", \"x\": 16.976190476190474, \"y\": 21.5}, {\"arrowcolor\": \"lightslategrey\", \"arrowhead\": 3, \"arrowsize\": 1, \"arrowwidth\": 3, \"ax\": 14.785714285714285, \"axref\": \"x\", \"ay\": 21, \"ayref\": \"y\", \"opacity\": 0.3, \"showarrow\": true, \"standoff\": 15, \"x\": 19.166666666666668, \"xref\": \"x\", \"y\": 22, \"yref\": \"y\"}, {\"bordercolor\": \"lightslategrey\", \"borderpad\": 1, \"borderwidth\": 2, \"showarrow\": false, \"text\": \"100%\", \"x\": 1.6428571428571428, \"y\": 22.5}, {\"arrowcolor\": \"lightslategrey\", \"arrowhead\": 3, \"arrowsize\": 1, \"arrowwidth\": 3, \"ax\": 1.6428571428571428, \"axref\": \"x\", \"ay\": 22, \"ayref\": \"y\", \"opacity\": 0.3, \"showarrow\": true, \"standoff\": 15, \"x\": 1.6428571428571428, \"xref\": \"x\", \"y\": 23, \"yref\": \"y\"}, {\"bordercolor\": \"lightslategrey\", \"borderpad\": 1, \"borderwidth\": 2, \"showarrow\": false, \"text\": \"100%\", \"x\": 6.023809523809524, \"y\": 22.5}, {\"arrowcolor\": \"lightslategrey\", \"arrowhead\": 3, \"arrowsize\": 1, \"arrowwidth\": 3, \"ax\": 6.023809523809524, \"axref\": \"x\", \"ay\": 22, \"ayref\": \"y\", \"opacity\": 0.3, \"showarrow\": true, \"standoff\": 15, \"x\": 6.023809523809524, \"xref\": \"x\", \"y\": 23, \"yref\": \"y\"}, {\"bordercolor\": \"lightslategrey\", \"borderpad\": 1, \"borderwidth\": 2, \"showarrow\": false, \"text\": \"100%\", \"x\": 10.404761904761905, \"y\": 22.5}, {\"arrowcolor\": \"lightslategrey\", \"arrowhead\": 3, \"arrowsize\": 1, \"arrowwidth\": 3, \"ax\": 10.404761904761905, \"axref\": \"x\", \"ay\": 22, \"ayref\": \"y\", \"opacity\": 0.3, \"showarrow\": true, \"standoff\": 15, \"x\": 10.404761904761905, \"xref\": \"x\", \"y\": 23, \"yref\": \"y\"}, {\"bordercolor\": \"lightslategrey\", \"borderpad\": 1, \"borderwidth\": 2, \"showarrow\": false, \"text\": \"100%\", \"x\": 14.785714285714285, \"y\": 22.5}, {\"arrowcolor\": \"lightslategrey\", \"arrowhead\": 3, \"arrowsize\": 1, \"arrowwidth\": 3, \"ax\": 14.785714285714285, \"axref\": \"x\", \"ay\": 22, \"ayref\": \"y\", \"opacity\": 0.3, \"showarrow\": true, \"standoff\": 15, \"x\": 14.785714285714285, \"xref\": \"x\", \"y\": 23, \"yref\": \"y\"}, {\"bordercolor\": \"lightslategrey\", \"borderpad\": 1, \"borderwidth\": 2, \"showarrow\": false, \"text\": \"81%\", \"x\": 19.166666666666668, \"y\": 22.5}, {\"arrowcolor\": \"lightslategrey\", \"arrowhead\": 3, \"arrowsize\": 1, \"arrowwidth\": 3, \"ax\": 19.166666666666668, \"axref\": \"x\", \"ay\": 22, \"ayref\": \"y\", \"opacity\": 0.3, \"showarrow\": true, \"standoff\": 15, \"x\": 19.166666666666668, \"xref\": \"x\", \"y\": 23, \"yref\": \"y\"}, {\"bordercolor\": \"lightslategrey\", \"borderpad\": 1, \"borderwidth\": 2, \"showarrow\": false, \"text\": \"19%\", \"x\": 21.357142857142858, \"y\": 22.5}, {\"arrowcolor\": \"lightslategrey\", \"arrowhead\": 3, \"arrowsize\": 1, \"arrowwidth\": 3, \"ax\": 19.166666666666668, \"axref\": \"x\", \"ay\": 22, \"ayref\": \"y\", \"opacity\": 0.3, \"showarrow\": true, \"standoff\": 15, \"x\": 23.547619047619047, \"xref\": \"x\", \"y\": 23, \"yref\": \"y\"}], \"font\": {\"color\": \"black\"}, \"hovermode\": \"closest\", \"margin\": {\"b\": 30, \"l\": 0, \"r\": 0, \"t\": 30}, \"paper_bgcolor\": \"rgba(0,0,0,0)\", \"plot_bgcolor\": \"rgb(255,255,255)\", \"shapes\": [{\"layer\": \"below\", \"line\": {\"color\": \"rgba(212, 212, 212, 1)\", \"dash\": \"dashdot\", \"width\": 2}, \"type\": \"line\", \"x0\": -0.711904761904762, \"x1\": 25.902380952380952, \"y0\": 18, \"y1\": 18}, {\"layer\": \"below\", \"line\": {\"color\": \"rgba(212, 212, 212, 1)\", \"dash\": \"dashdot\", \"width\": 2}, \"type\": \"line\", \"x0\": -0.711904761904762, \"x1\": 25.902380952380952, \"y0\": 19, \"y1\": 19}, {\"layer\": \"below\", \"line\": {\"color\": \"rgba(212, 212, 212, 1)\", \"dash\": \"dashdot\", \"width\": 2}, \"type\": \"line\", \"x0\": -0.711904761904762, \"x1\": 25.902380952380952, \"y0\": 20, \"y1\": 20}, {\"layer\": \"below\", \"line\": {\"color\": \"rgba(212, 212, 212, 1)\", \"dash\": \"dashdot\", \"width\": 2}, \"type\": \"line\", \"x0\": -0.711904761904762, \"x1\": 25.902380952380952, \"y0\": 21, \"y1\": 21}, {\"layer\": \"below\", \"line\": {\"color\": \"rgba(212, 212, 212, 1)\", \"dash\": \"dashdot\", \"width\": 2}, \"type\": \"line\", \"x0\": -0.711904761904762, \"x1\": 25.902380952380952, \"y0\": 22, \"y1\": 22}, {\"layer\": \"below\", \"line\": {\"color\": \"rgba(212, 212, 212, 1)\", \"dash\": \"dashdot\", \"width\": 2}, \"type\": \"line\", \"x0\": -0.711904761904762, \"x1\": 25.902380952380952, \"y0\": 23, \"y1\": 23}], \"showlegend\": false, \"template\": {\"data\": {\"bar\": [{\"error_x\": {\"color\": \"#2a3f5f\"}, \"error_y\": {\"color\": \"#2a3f5f\"}, \"marker\": {\"line\": {\"color\": \"#E5ECF6\", \"width\": 0.5}}, \"type\": \"bar\"}], \"barpolar\": [{\"marker\": {\"line\": {\"color\": \"#E5ECF6\", \"width\": 0.5}}, \"type\": \"barpolar\"}], \"carpet\": [{\"aaxis\": {\"endlinecolor\": \"#2a3f5f\", \"gridcolor\": \"white\", \"linecolor\": \"white\", \"minorgridcolor\": \"white\", \"startlinecolor\": \"#2a3f5f\"}, \"baxis\": {\"endlinecolor\": \"#2a3f5f\", \"gridcolor\": \"white\", \"linecolor\": \"white\", \"minorgridcolor\": \"white\", \"startlinecolor\": \"#2a3f5f\"}, \"type\": \"carpet\"}], \"choropleth\": [{\"colorbar\": {\"outlinewidth\": 0, \"ticks\": \"\"}, \"type\": \"choropleth\"}], \"contour\": [{\"colorbar\": {\"outlinewidth\": 0, \"ticks\": \"\"}, \"colorscale\": [[0.0, \"#0d0887\"], [0.1111111111111111, \"#46039f\"], [0.2222222222222222, \"#7201a8\"], [0.3333333333333333, \"#9c179e\"], [0.4444444444444444, \"#bd3786\"], [0.5555555555555556, \"#d8576b\"], [0.6666666666666666, \"#ed7953\"], [0.7777777777777778, \"#fb9f3a\"], [0.8888888888888888, \"#fdca26\"], [1.0, \"#f0f921\"]], \"type\": \"contour\"}], \"contourcarpet\": [{\"colorbar\": {\"outlinewidth\": 0, \"ticks\": \"\"}, \"type\": \"contourcarpet\"}], \"heatmap\": [{\"colorbar\": {\"outlinewidth\": 0, \"ticks\": \"\"}, \"colorscale\": [[0.0, \"#0d0887\"], [0.1111111111111111, \"#46039f\"], [0.2222222222222222, \"#7201a8\"], [0.3333333333333333, \"#9c179e\"], [0.4444444444444444, \"#bd3786\"], [0.5555555555555556, \"#d8576b\"], [0.6666666666666666, \"#ed7953\"], [0.7777777777777778, \"#fb9f3a\"], [0.8888888888888888, \"#fdca26\"], [1.0, \"#f0f921\"]], \"type\": \"heatmap\"}], \"heatmapgl\": [{\"colorbar\": {\"outlinewidth\": 0, \"ticks\": \"\"}, \"colorscale\": [[0.0, \"#0d0887\"], [0.1111111111111111, \"#46039f\"], [0.2222222222222222, \"#7201a8\"], [0.3333333333333333, \"#9c179e\"], [0.4444444444444444, \"#bd3786\"], [0.5555555555555556, \"#d8576b\"], [0.6666666666666666, \"#ed7953\"], [0.7777777777777778, \"#fb9f3a\"], [0.8888888888888888, \"#fdca26\"], [1.0, \"#f0f921\"]], \"type\": \"heatmapgl\"}], \"histogram\": [{\"marker\": {\"colorbar\": {\"outlinewidth\": 0, \"ticks\": \"\"}}, \"type\": \"histogram\"}], \"histogram2d\": [{\"colorbar\": {\"outlinewidth\": 0, \"ticks\": \"\"}, \"colorscale\": [[0.0, \"#0d0887\"], [0.1111111111111111, \"#46039f\"], [0.2222222222222222, \"#7201a8\"], [0.3333333333333333, \"#9c179e\"], [0.4444444444444444, \"#bd3786\"], [0.5555555555555556, \"#d8576b\"], [0.6666666666666666, \"#ed7953\"], [0.7777777777777778, \"#fb9f3a\"], [0.8888888888888888, \"#fdca26\"], [1.0, \"#f0f921\"]], \"type\": \"histogram2d\"}], \"histogram2dcontour\": [{\"colorbar\": {\"outlinewidth\": 0, \"ticks\": \"\"}, \"colorscale\": [[0.0, \"#0d0887\"], [0.1111111111111111, \"#46039f\"], [0.2222222222222222, \"#7201a8\"], [0.3333333333333333, \"#9c179e\"], [0.4444444444444444, \"#bd3786\"], [0.5555555555555556, \"#d8576b\"], [0.6666666666666666, \"#ed7953\"], [0.7777777777777778, \"#fb9f3a\"], [0.8888888888888888, \"#fdca26\"], [1.0, \"#f0f921\"]], \"type\": \"histogram2dcontour\"}], \"mesh3d\": [{\"colorbar\": {\"outlinewidth\": 0, \"ticks\": \"\"}, \"type\": \"mesh3d\"}], \"parcoords\": [{\"line\": {\"colorbar\": {\"outlinewidth\": 0, \"ticks\": \"\"}}, \"type\": \"parcoords\"}], \"pie\": [{\"automargin\": true, \"type\": \"pie\"}], \"scatter\": [{\"marker\": {\"colorbar\": {\"outlinewidth\": 0, \"ticks\": \"\"}}, \"type\": \"scatter\"}], \"scatter3d\": [{\"line\": {\"colorbar\": {\"outlinewidth\": 0, \"ticks\": \"\"}}, \"marker\": {\"colorbar\": {\"outlinewidth\": 0, \"ticks\": \"\"}}, \"type\": \"scatter3d\"}], \"scattercarpet\": [{\"marker\": {\"colorbar\": {\"outlinewidth\": 0, \"ticks\": \"\"}}, \"type\": \"scattercarpet\"}], \"scattergeo\": [{\"marker\": {\"colorbar\": {\"outlinewidth\": 0, \"ticks\": \"\"}}, \"type\": \"scattergeo\"}], \"scattergl\": [{\"marker\": {\"colorbar\": {\"outlinewidth\": 0, \"ticks\": \"\"}}, \"type\": \"scattergl\"}], \"scattermapbox\": [{\"marker\": {\"colorbar\": {\"outlinewidth\": 0, \"ticks\": \"\"}}, \"type\": \"scattermapbox\"}], \"scatterpolar\": [{\"marker\": {\"colorbar\": {\"outlinewidth\": 0, \"ticks\": \"\"}}, \"type\": \"scatterpolar\"}], \"scatterpolargl\": [{\"marker\": {\"colorbar\": {\"outlinewidth\": 0, \"ticks\": \"\"}}, \"type\": \"scatterpolargl\"}], \"scatterternary\": [{\"marker\": {\"colorbar\": {\"outlinewidth\": 0, \"ticks\": \"\"}}, \"type\": \"scatterternary\"}], \"surface\": [{\"colorbar\": {\"outlinewidth\": 0, \"ticks\": \"\"}, \"colorscale\": [[0.0, \"#0d0887\"], [0.1111111111111111, \"#46039f\"], [0.2222222222222222, \"#7201a8\"], [0.3333333333333333, \"#9c179e\"], [0.4444444444444444, \"#bd3786\"], [0.5555555555555556, \"#d8576b\"], [0.6666666666666666, \"#ed7953\"], [0.7777777777777778, \"#fb9f3a\"], [0.8888888888888888, \"#fdca26\"], [1.0, \"#f0f921\"]], \"type\": \"surface\"}], \"table\": [{\"cells\": {\"fill\": {\"color\": \"#EBF0F8\"}, \"line\": {\"color\": \"white\"}}, \"header\": {\"fill\": {\"color\": \"#C8D4E3\"}, \"line\": {\"color\": \"white\"}}, \"type\": \"table\"}]}, \"layout\": {\"annotationdefaults\": {\"arrowcolor\": \"#2a3f5f\", \"arrowhead\": 0, \"arrowwidth\": 1}, \"coloraxis\": {\"colorbar\": {\"outlinewidth\": 0, \"ticks\": \"\"}}, \"colorscale\": {\"diverging\": [[0, \"#8e0152\"], [0.1, \"#c51b7d\"], [0.2, \"#de77ae\"], [0.3, \"#f1b6da\"], [0.4, \"#fde0ef\"], [0.5, \"#f7f7f7\"], [0.6, \"#e6f5d0\"], [0.7, \"#b8e186\"], [0.8, \"#7fbc41\"], [0.9, \"#4d9221\"], [1, \"#276419\"]], \"sequential\": [[0.0, \"#0d0887\"], [0.1111111111111111, \"#46039f\"], [0.2222222222222222, \"#7201a8\"], [0.3333333333333333, \"#9c179e\"], [0.4444444444444444, \"#bd3786\"], [0.5555555555555556, \"#d8576b\"], [0.6666666666666666, \"#ed7953\"], [0.7777777777777778, \"#fb9f3a\"], [0.8888888888888888, \"#fdca26\"], [1.0, \"#f0f921\"]], \"sequentialminus\": [[0.0, \"#0d0887\"], [0.1111111111111111, \"#46039f\"], [0.2222222222222222, \"#7201a8\"], [0.3333333333333333, \"#9c179e\"], [0.4444444444444444, \"#bd3786\"], [0.5555555555555556, \"#d8576b\"], [0.6666666666666666, \"#ed7953\"], [0.7777777777777778, \"#fb9f3a\"], [0.8888888888888888, \"#fdca26\"], [1.0, \"#f0f921\"]]}, \"colorway\": [\"#636efa\", \"#EF553B\", \"#00cc96\", \"#ab63fa\", \"#FFA15A\", \"#19d3f3\", \"#FF6692\", \"#B6E880\", \"#FF97FF\", \"#FECB52\"], \"font\": {\"color\": \"#2a3f5f\"}, \"geo\": {\"bgcolor\": \"white\", \"lakecolor\": \"white\", \"landcolor\": \"#E5ECF6\", \"showlakes\": true, \"showland\": true, \"subunitcolor\": \"white\"}, \"hoverlabel\": {\"align\": \"left\"}, \"hovermode\": \"closest\", \"mapbox\": {\"style\": \"light\"}, \"paper_bgcolor\": \"white\", \"plot_bgcolor\": \"#E5ECF6\", \"polar\": {\"angularaxis\": {\"gridcolor\": \"white\", \"linecolor\": \"white\", \"ticks\": \"\"}, \"bgcolor\": \"#E5ECF6\", \"radialaxis\": {\"gridcolor\": \"white\", \"linecolor\": \"white\", \"ticks\": \"\"}}, \"scene\": {\"xaxis\": {\"backgroundcolor\": \"#E5ECF6\", \"gridcolor\": \"white\", \"gridwidth\": 2, \"linecolor\": \"white\", \"showbackground\": true, \"ticks\": \"\", \"zerolinecolor\": \"white\"}, \"yaxis\": {\"backgroundcolor\": \"#E5ECF6\", \"gridcolor\": \"white\", \"gridwidth\": 2, \"linecolor\": \"white\", \"showbackground\": true, \"ticks\": \"\", \"zerolinecolor\": \"white\"}, \"zaxis\": {\"backgroundcolor\": \"#E5ECF6\", \"gridcolor\": \"white\", \"gridwidth\": 2, \"linecolor\": \"white\", \"showbackground\": true, \"ticks\": \"\", \"zerolinecolor\": \"white\"}}, \"shapedefaults\": {\"line\": {\"color\": \"#2a3f5f\"}}, \"ternary\": {\"aaxis\": {\"gridcolor\": \"white\", \"linecolor\": \"white\", \"ticks\": \"\"}, \"baxis\": {\"gridcolor\": \"white\", \"linecolor\": \"white\", \"ticks\": \"\"}, \"bgcolor\": \"#E5ECF6\", \"caxis\": {\"gridcolor\": \"white\", \"linecolor\": \"white\", \"ticks\": \"\"}}, \"title\": {\"x\": 0.05}, \"xaxis\": {\"automargin\": true, \"gridcolor\": \"white\", \"linecolor\": \"white\", \"ticks\": \"\", \"title\": {\"standoff\": 15}, \"zerolinecolor\": \"white\", \"zerolinewidth\": 2}, \"yaxis\": {\"automargin\": true, \"gridcolor\": \"white\", \"linecolor\": \"white\", \"ticks\": \"\", \"title\": {\"standoff\": 15}, \"zerolinecolor\": \"white\", \"zerolinewidth\": 2}}}, \"title\": {\"text\": \"<b>Nathan MacKinnon Player Development</b>\", \"x\": 0.5}, \"xaxis\": {\"linecolor\": \"black\", \"linewidth\": 2, \"mirror\": true, \"showline\": true, \"showticklabels\": false, \"title\": {\"text\": \"MeaningleX Axis\"}}, \"yaxis\": {\"linecolor\": \"black\", \"linewidth\": 2, \"mirror\": true, \"showline\": true, \"tickvals\": [18, 19, 20, 21, 22, 23], \"title\": {\"text\": \"<b>Season Age</b>\"}}},                        {\"displayModeBar\": false, \"responsive\": true}                    ).then(function(){\n",
       "                            \n",
       "var gd = document.getElementById('129c5f04-0972-47b1-8e23-5a6bf3568ece');\n",
       "var x = new MutationObserver(function (mutations, observer) {{\n",
       "        var display = window.getComputedStyle(gd).display;\n",
       "        if (!display || display === 'none') {{\n",
       "            console.log([gd, 'removed!']);\n",
       "            Plotly.purge(gd);\n",
       "            observer.disconnect();\n",
       "        }}\n",
       "}});\n",
       "\n",
       "// Listen for the removal of the full notebook cells\n",
       "var notebookContainer = gd.closest('#notebook-container');\n",
       "if (notebookContainer) {{\n",
       "    x.observe(notebookContainer, {childList: true});\n",
       "}}\n",
       "\n",
       "// Listen for the clearing of the current output cell\n",
       "var outputEl = gd.closest('.output');\n",
       "if (outputEl) {{\n",
       "    x.observe(outputEl, {childList: true});\n",
       "}}\n",
       "\n",
       "                        })                };                });            </script>        </div>"
      ]
     },
     "metadata": {},
     "output_type": "display_data"
    }
   ],
   "source": [
    "fig.show(config={\"displayModeBar\": False})"
   ]
  },
  {
   "cell_type": "code",
   "execution_count": 54,
   "metadata": {},
   "outputs": [],
   "source": [
    "player.generate_league_season(player.player_df)\n",
    "player_df = player.player_df.copy()"
   ]
  },
  {
   "cell_type": "code",
   "execution_count": 13,
   "metadata": {},
   "outputs": [
    {
     "data": {
      "text/plain": [
       "'Top 6 F'"
      ]
     },
     "execution_count": 13,
     "metadata": {},
     "output_type": "execute_result"
    }
   ],
   "source": [
    "get_player_role(player.G,\n",
    "                player.dataset,\n",
    "                player.position,\n",
    "                player.player_value['most_likely_nhl_node'],\n",
    "                player.player_value['nhl_maximizing_node'])"
   ]
  },
  {
   "cell_type": "code",
   "execution_count": 14,
   "metadata": {},
   "outputs": [],
   "source": [
    "def get_nhl_path_ceiling(projections, G):\n",
    "    nodes = projections[(projections.season_age == projections.season_age.max())].node\n",
    "    max_points = 0\n",
    "    max_node = 1\n",
    "    for node in nodes:\n",
    "        node_points = nhl_value(G, node)\n",
    "        if node_points > max_points:\n",
    "            max_points = node_points\n",
    "            max_node = node\n",
    "    ceiling_prob = round(node_probability(G, max_node),2)\n",
    "    return dict(nhl_ceiling=round(max_points, 0), nhl_maximizing_node=max_node, nhl_ceiling_prob=float(ceiling_prob))\n",
    "\n",
    "def get_nhl_path(projections, G):\n",
    "\n",
    "    nodes = projections[(projections.season_age == projections.season_age.max())\n",
    "                        & (projections.league=='NHL')].node\n",
    "\n",
    "    probs = []\n",
    "    max_prob = 0\n",
    "    max_node = 1\n",
    "\n",
    "    for node in nodes:\n",
    "        node_prob = node_probability(G, node)\n",
    "        if node_prob > max_prob:\n",
    "            max_prob = node_prob\n",
    "            max_node = node\n",
    "        probs.append(node_prob)\n",
    "\n",
    "    return dict(nhl_likelihood=round(sum(probs),2),\n",
    "                    most_likely_nhl_node=max_node,\n",
    "                    most_likely_nhl_prob=round(float(node_probability(G, max_node)),2),\n",
    "                    nhl_floor=int(nhl_value(G, max_node))\n",
    "                    )"
   ]
  },
  {
   "cell_type": "code",
   "execution_count": 15,
   "metadata": {},
   "outputs": [
    {
     "data": {
      "text/plain": [
       "{'nhl_likelihood': 1.0,\n",
       " 'most_likely_nhl_node': 5,\n",
       " 'most_likely_nhl_prob': 1.0,\n",
       " 'nhl_floor': 130}"
      ]
     },
     "execution_count": 15,
     "metadata": {},
     "output_type": "execute_result"
    }
   ],
   "source": [
    "get_nhl_path(player.projections, player.G)"
   ]
  },
  {
   "cell_type": "code",
   "execution_count": 16,
   "metadata": {},
   "outputs": [
    {
     "data": {
      "text/plain": [
       "{'nhl_ceiling': 130.0, 'nhl_maximizing_node': 5, 'nhl_ceiling_prob': 1.0}"
      ]
     },
     "execution_count": 16,
     "metadata": {},
     "output_type": "execute_result"
    }
   ],
   "source": [
    "get_nhl_path_ceiling(player.projections, player.G)"
   ]
  },
  {
   "cell_type": "code",
   "execution_count": 9,
   "metadata": {},
   "outputs": [
    {
     "name": "stdout",
     "output_type": "stream",
     "text": [
      "0  seconds after data prep\n",
      "0  seconds after feature engineering\n",
      "0  seconds after creating multi process\n",
      "0  seconds after prediction\n",
      "0  total seconds\n"
     ]
    }
   ],
   "source": [
    "import time\n",
    "\n",
    "player.league_probs['scoring_distribution'] = [[] for _ in range(len(player.league_probs))]\n",
    "\n",
    "for i, sim in player.league_probs.iterrows():\n",
    "    start = time.time()\n",
    "    # get next year data\n",
    "    player_df['gp_y_plus_1'] = player_df.gp.shift(-1)\n",
    "    player_df['league_y_plus_1'] = player_df.league.shift(-1)\n",
    "    player_df.loc[player_df.gp_y_plus_1.isnull(), 'gp_y_plus_1'] = sim['gp']\n",
    "    player_df.loc[player_df.league_y_plus_1.isnull(), 'league_y_plus_1'] = sim['league']\n",
    "\n",
    "    print(round(time.time() - start), ' seconds after data prep')\n",
    "    # prepare dataset for lstm\n",
    "    features = prepare_features_single_season(player_df, \n",
    "                                            player.scoring_scaler, \n",
    "                                            'ppg_y_plus_1')\n",
    "\n",
    "    # fill dummy values\n",
    "    features[[col for col in player.scoring_features if col not in features.columns]] = 0\n",
    "\n",
    "    # get the season index we want to extract\n",
    "    current_season_index = features.shape[0] - 1\n",
    "\n",
    "    print(round(time.time() - start), ' seconds after feature engineering')\n",
    "    # pass player season sequences to lstm for prediction\n",
    "    # start process to get predictions for all model versions create posterior distribution\n",
    "    pool = Pool(processes=8)\n",
    "\n",
    "    print(round(time.time() - start), ' seconds after creating multi process')\n",
    "\n",
    "    sequence = features[player.scoring_features].values\n",
    "    preds = [item[current_season_index].item() for item in \n",
    "                pool.starmap(predict_scoring, [(sequence, i) for i in range(100)])]\n",
    "    \n",
    "    pool.close()\n",
    "    print(round(time.time() - start), ' seconds after prediction')\n",
    "\n",
    "    player.league_probs.at[i, 'ppg'] = np.mean(preds)\n",
    "    player.league_probs.at[i, 'scoring_distribution'] = preds\n",
    "    print(round(time.time() - start), ' total seconds')"
   ]
  },
  {
   "cell_type": "code",
   "execution_count": null,
   "metadata": {},
   "outputs": [],
   "source": []
  },
  {
   "cell_type": "code",
   "execution_count": 153,
   "metadata": {},
   "outputs": [],
   "source": [
    "def discrete_background_color_bins(df, n_bins=5, columns='all'):\n",
    "\n",
    "    bounds = [i * (1.0 / n_bins) for i in range(n_bins + 1)]\n",
    "\n",
    "    if columns == 'all':\n",
    "        if 'id' in df:\n",
    "            df_numeric_columns = df.select_dtypes('number').drop(['id'], axis=1)\n",
    "        else:\n",
    "            df_numeric_columns = df.select_dtypes('number')\n",
    "    else:\n",
    "        df_numeric_columns = df[columns]\n",
    "\n",
    "    styles = []\n",
    "    legend = []\n",
    "\n",
    "    for column in df_numeric_columns:\n",
    "        \n",
    "        for i in range(1, len(bounds)):\n",
    "            min_bound = np.percentile(df[column], bounds[i - 1] * 100)\n",
    "            max_bound = np.percentile(df[column], bounds[i] * 100)\n",
    "            backgroundColor = custom_plotly_colorscale(sns.diverging_palette(40, 218, s=72, l=69, n=n_bins), n_bins)[i - 1][1]\n",
    "            color = 'black' \n",
    "\n",
    "            styles.append({\n",
    "                'if': {\n",
    "                    'filter_query': (\n",
    "                        '{{{column}}} >= {min_bound}' +\n",
    "                        (' && {{{column}}} < {max_bound}' if (i < len(bounds) - 1) else '')\n",
    "                    ).format(column=column, min_bound=min_bound, max_bound=max_bound),\n",
    "                    'column_id': column\n",
    "                },\n",
    "                'backgroundColor': backgroundColor,\n",
    "                'color': color\n",
    "            })\n",
    "\n",
    "            legend.append(\n",
    "                html.Div(style={'display': 'inline-block', 'width': '60px'}, children=[\n",
    "                    html.Div(\n",
    "                        style={\n",
    "                            'backgroundColor': backgroundColor,\n",
    "                            'borderLeft': '1px rgb(50, 50, 50) solid',\n",
    "                            'height': '10px',\n",
    "                        }\n",
    "                    ),\n",
    "                    html.Small(round(bounds[i - 1] * 100), style={'paddingLeft': '2px'})\n",
    "                ])\n",
    "            )\n",
    "\n",
    "    return (styles, html.Div(legend, style={'padding': '5px 0 5px 0'}))\n"
   ]
  },
  {
   "cell_type": "code",
   "execution_count": null,
   "metadata": {},
   "outputs": [],
   "source": []
  },
  {
   "cell_type": "markdown",
   "metadata": {},
   "source": [
    "### lollipop graph"
   ]
  },
  {
   "cell_type": "code",
   "execution_count": 290,
   "metadata": {},
   "outputs": [],
   "source": [
    "floor = player.player_value['nhl_floor'] \n",
    "ceiling = player.player_value['nhl_ceiling']"
   ]
  },
  {
   "cell_type": "code",
   "execution_count": 289,
   "metadata": {},
   "outputs": [
    {
     "data": {
      "text/plain": [
       "'Elite F'"
      ]
     },
     "execution_count": 289,
     "metadata": {},
     "output_type": "execute_result"
    }
   ],
   "source": [
    "get_player_role(player.dataset, player.position, floor, ceiling)"
   ]
  },
  {
   "cell_type": "code",
   "execution_count": 92,
   "metadata": {},
   "outputs": [],
   "source": [
    "color_palette = custom_plotly_colorscale(sns.diverging_palette(40, 218, s=72, l=69, n=7), 7)"
   ]
  },
  {
   "cell_type": "code",
   "execution_count": 253,
   "metadata": {},
   "outputs": [],
   "source": []
  },
  {
   "cell_type": "code",
   "execution_count": 257,
   "metadata": {},
   "outputs": [
    {
     "data": {
      "application/vnd.plotly.v1+json": {
       "config": {
        "plotlyServerURL": "https://plot.ly"
       },
       "data": [
        {
         "marker": {
          "color": "black",
          "size": 10
         },
         "mode": "markers",
         "type": "scatter",
         "x": [
          0
         ],
         "y": [
          1
         ]
        }
       ],
       "layout": {
        "annotations": [
         {
          "align": "center",
          "arrowcolor": "rgb(226.06995056569855, 151.98902910018683, 88.52963359305723)",
          "arrowhead": 2,
          "arrowsize": 1,
          "arrowwidth": 2,
          "ax": 30,
          "ay": 40,
          "bgcolor": "rgb(226.06995056569855, 151.98902910018683, 88.52963359305723)",
          "bordercolor": "rgb(226.06995056569855, 151.98902910018683, 88.52963359305723)",
          "borderpad": 4,
          "borderwidth": 2,
          "font": {
           "color": "black",
           "family": "Overpass, monospace",
           "size": 16
          },
          "opacity": 0.8,
          "showarrow": true,
          "text": "Floor",
          "x": 278.3,
          "xref": "x",
          "y": 0,
          "yref": "y"
         },
         {
          "align": "center",
          "arrowcolor": "rgb(96.42629022339513, 179.64906761305474, 203.48354323117755)",
          "arrowhead": 2,
          "arrowsize": 1,
          "arrowwidth": 2,
          "ax": -30,
          "ay": -40,
          "bgcolor": "rgb(96.42629022339513, 179.64906761305474, 203.48354323117755)",
          "bordercolor": "rgb(96.42629022339513, 179.64906761305474, 203.48354323117755)",
          "borderpad": 4,
          "borderwidth": 2,
          "font": {
           "color": "black",
           "family": "Overpass, monospace",
           "size": 16
          },
          "opacity": 0.8,
          "showarrow": true,
          "text": "Ceiling",
          "x": 278,
          "xref": "x",
          "y": 2,
          "yref": "y"
         }
        ],
        "hovermode": "closest",
        "plot_bgcolor": "rgb(255,255,255)",
        "shapes": [
         {
          "line": {
           "color": "rgb(226.06995056569855, 151.98902910018683, 88.52963359305723)",
           "width": 10
          },
          "type": "line",
          "x0": 278.3,
          "x1": 278.3,
          "y0": 2,
          "y1": 0
         },
         {
          "line": {
           "color": "rgb(96.42629022339513, 179.64906761305474, 203.48354323117755)",
           "width": 10
          },
          "type": "line",
          "x0": 278,
          "x1": 278,
          "y0": 2,
          "y1": 0
         },
         {
          "line": {
           "color": "black",
           "width": 3
          },
          "type": "line",
          "x0": -25,
          "x1": 0,
          "y0": 1,
          "y1": 1
         },
         {
          "line": {
           "color": "rgb(226.06995056569855, 151.98902910018683, 88.52963359305723)",
           "dash": "dashdot",
           "width": 3
          },
          "type": "line",
          "x0": 5,
          "x1": 278.3,
          "y0": 1,
          "y1": 1
         },
         {
          "line": {
           "color": "rgb(96.42629022339513, 179.64906761305474, 203.48354323117755)",
           "dash": "dashdot",
           "width": 3
          },
          "type": "line",
          "x0": 283.3,
          "x1": 278,
          "y0": 1,
          "y1": 1
         }
        ],
        "showlegend": false,
        "template": {
         "data": {
          "bar": [
           {
            "error_x": {
             "color": "#2a3f5f"
            },
            "error_y": {
             "color": "#2a3f5f"
            },
            "marker": {
             "line": {
              "color": "#E5ECF6",
              "width": 0.5
             }
            },
            "type": "bar"
           }
          ],
          "barpolar": [
           {
            "marker": {
             "line": {
              "color": "#E5ECF6",
              "width": 0.5
             }
            },
            "type": "barpolar"
           }
          ],
          "carpet": [
           {
            "aaxis": {
             "endlinecolor": "#2a3f5f",
             "gridcolor": "white",
             "linecolor": "white",
             "minorgridcolor": "white",
             "startlinecolor": "#2a3f5f"
            },
            "baxis": {
             "endlinecolor": "#2a3f5f",
             "gridcolor": "white",
             "linecolor": "white",
             "minorgridcolor": "white",
             "startlinecolor": "#2a3f5f"
            },
            "type": "carpet"
           }
          ],
          "choropleth": [
           {
            "colorbar": {
             "outlinewidth": 0,
             "ticks": ""
            },
            "type": "choropleth"
           }
          ],
          "contour": [
           {
            "colorbar": {
             "outlinewidth": 0,
             "ticks": ""
            },
            "colorscale": [
             [
              0,
              "#0d0887"
             ],
             [
              0.1111111111111111,
              "#46039f"
             ],
             [
              0.2222222222222222,
              "#7201a8"
             ],
             [
              0.3333333333333333,
              "#9c179e"
             ],
             [
              0.4444444444444444,
              "#bd3786"
             ],
             [
              0.5555555555555556,
              "#d8576b"
             ],
             [
              0.6666666666666666,
              "#ed7953"
             ],
             [
              0.7777777777777778,
              "#fb9f3a"
             ],
             [
              0.8888888888888888,
              "#fdca26"
             ],
             [
              1,
              "#f0f921"
             ]
            ],
            "type": "contour"
           }
          ],
          "contourcarpet": [
           {
            "colorbar": {
             "outlinewidth": 0,
             "ticks": ""
            },
            "type": "contourcarpet"
           }
          ],
          "heatmap": [
           {
            "colorbar": {
             "outlinewidth": 0,
             "ticks": ""
            },
            "colorscale": [
             [
              0,
              "#0d0887"
             ],
             [
              0.1111111111111111,
              "#46039f"
             ],
             [
              0.2222222222222222,
              "#7201a8"
             ],
             [
              0.3333333333333333,
              "#9c179e"
             ],
             [
              0.4444444444444444,
              "#bd3786"
             ],
             [
              0.5555555555555556,
              "#d8576b"
             ],
             [
              0.6666666666666666,
              "#ed7953"
             ],
             [
              0.7777777777777778,
              "#fb9f3a"
             ],
             [
              0.8888888888888888,
              "#fdca26"
             ],
             [
              1,
              "#f0f921"
             ]
            ],
            "type": "heatmap"
           }
          ],
          "heatmapgl": [
           {
            "colorbar": {
             "outlinewidth": 0,
             "ticks": ""
            },
            "colorscale": [
             [
              0,
              "#0d0887"
             ],
             [
              0.1111111111111111,
              "#46039f"
             ],
             [
              0.2222222222222222,
              "#7201a8"
             ],
             [
              0.3333333333333333,
              "#9c179e"
             ],
             [
              0.4444444444444444,
              "#bd3786"
             ],
             [
              0.5555555555555556,
              "#d8576b"
             ],
             [
              0.6666666666666666,
              "#ed7953"
             ],
             [
              0.7777777777777778,
              "#fb9f3a"
             ],
             [
              0.8888888888888888,
              "#fdca26"
             ],
             [
              1,
              "#f0f921"
             ]
            ],
            "type": "heatmapgl"
           }
          ],
          "histogram": [
           {
            "marker": {
             "colorbar": {
              "outlinewidth": 0,
              "ticks": ""
             }
            },
            "type": "histogram"
           }
          ],
          "histogram2d": [
           {
            "colorbar": {
             "outlinewidth": 0,
             "ticks": ""
            },
            "colorscale": [
             [
              0,
              "#0d0887"
             ],
             [
              0.1111111111111111,
              "#46039f"
             ],
             [
              0.2222222222222222,
              "#7201a8"
             ],
             [
              0.3333333333333333,
              "#9c179e"
             ],
             [
              0.4444444444444444,
              "#bd3786"
             ],
             [
              0.5555555555555556,
              "#d8576b"
             ],
             [
              0.6666666666666666,
              "#ed7953"
             ],
             [
              0.7777777777777778,
              "#fb9f3a"
             ],
             [
              0.8888888888888888,
              "#fdca26"
             ],
             [
              1,
              "#f0f921"
             ]
            ],
            "type": "histogram2d"
           }
          ],
          "histogram2dcontour": [
           {
            "colorbar": {
             "outlinewidth": 0,
             "ticks": ""
            },
            "colorscale": [
             [
              0,
              "#0d0887"
             ],
             [
              0.1111111111111111,
              "#46039f"
             ],
             [
              0.2222222222222222,
              "#7201a8"
             ],
             [
              0.3333333333333333,
              "#9c179e"
             ],
             [
              0.4444444444444444,
              "#bd3786"
             ],
             [
              0.5555555555555556,
              "#d8576b"
             ],
             [
              0.6666666666666666,
              "#ed7953"
             ],
             [
              0.7777777777777778,
              "#fb9f3a"
             ],
             [
              0.8888888888888888,
              "#fdca26"
             ],
             [
              1,
              "#f0f921"
             ]
            ],
            "type": "histogram2dcontour"
           }
          ],
          "mesh3d": [
           {
            "colorbar": {
             "outlinewidth": 0,
             "ticks": ""
            },
            "type": "mesh3d"
           }
          ],
          "parcoords": [
           {
            "line": {
             "colorbar": {
              "outlinewidth": 0,
              "ticks": ""
             }
            },
            "type": "parcoords"
           }
          ],
          "pie": [
           {
            "automargin": true,
            "type": "pie"
           }
          ],
          "scatter": [
           {
            "marker": {
             "colorbar": {
              "outlinewidth": 0,
              "ticks": ""
             }
            },
            "type": "scatter"
           }
          ],
          "scatter3d": [
           {
            "line": {
             "colorbar": {
              "outlinewidth": 0,
              "ticks": ""
             }
            },
            "marker": {
             "colorbar": {
              "outlinewidth": 0,
              "ticks": ""
             }
            },
            "type": "scatter3d"
           }
          ],
          "scattercarpet": [
           {
            "marker": {
             "colorbar": {
              "outlinewidth": 0,
              "ticks": ""
             }
            },
            "type": "scattercarpet"
           }
          ],
          "scattergeo": [
           {
            "marker": {
             "colorbar": {
              "outlinewidth": 0,
              "ticks": ""
             }
            },
            "type": "scattergeo"
           }
          ],
          "scattergl": [
           {
            "marker": {
             "colorbar": {
              "outlinewidth": 0,
              "ticks": ""
             }
            },
            "type": "scattergl"
           }
          ],
          "scattermapbox": [
           {
            "marker": {
             "colorbar": {
              "outlinewidth": 0,
              "ticks": ""
             }
            },
            "type": "scattermapbox"
           }
          ],
          "scatterpolar": [
           {
            "marker": {
             "colorbar": {
              "outlinewidth": 0,
              "ticks": ""
             }
            },
            "type": "scatterpolar"
           }
          ],
          "scatterpolargl": [
           {
            "marker": {
             "colorbar": {
              "outlinewidth": 0,
              "ticks": ""
             }
            },
            "type": "scatterpolargl"
           }
          ],
          "scatterternary": [
           {
            "marker": {
             "colorbar": {
              "outlinewidth": 0,
              "ticks": ""
             }
            },
            "type": "scatterternary"
           }
          ],
          "surface": [
           {
            "colorbar": {
             "outlinewidth": 0,
             "ticks": ""
            },
            "colorscale": [
             [
              0,
              "#0d0887"
             ],
             [
              0.1111111111111111,
              "#46039f"
             ],
             [
              0.2222222222222222,
              "#7201a8"
             ],
             [
              0.3333333333333333,
              "#9c179e"
             ],
             [
              0.4444444444444444,
              "#bd3786"
             ],
             [
              0.5555555555555556,
              "#d8576b"
             ],
             [
              0.6666666666666666,
              "#ed7953"
             ],
             [
              0.7777777777777778,
              "#fb9f3a"
             ],
             [
              0.8888888888888888,
              "#fdca26"
             ],
             [
              1,
              "#f0f921"
             ]
            ],
            "type": "surface"
           }
          ],
          "table": [
           {
            "cells": {
             "fill": {
              "color": "#EBF0F8"
             },
             "line": {
              "color": "white"
             }
            },
            "header": {
             "fill": {
              "color": "#C8D4E3"
             },
             "line": {
              "color": "white"
             }
            },
            "type": "table"
           }
          ]
         },
         "layout": {
          "annotationdefaults": {
           "arrowcolor": "#2a3f5f",
           "arrowhead": 0,
           "arrowwidth": 1
          },
          "coloraxis": {
           "colorbar": {
            "outlinewidth": 0,
            "ticks": ""
           }
          },
          "colorscale": {
           "diverging": [
            [
             0,
             "#8e0152"
            ],
            [
             0.1,
             "#c51b7d"
            ],
            [
             0.2,
             "#de77ae"
            ],
            [
             0.3,
             "#f1b6da"
            ],
            [
             0.4,
             "#fde0ef"
            ],
            [
             0.5,
             "#f7f7f7"
            ],
            [
             0.6,
             "#e6f5d0"
            ],
            [
             0.7,
             "#b8e186"
            ],
            [
             0.8,
             "#7fbc41"
            ],
            [
             0.9,
             "#4d9221"
            ],
            [
             1,
             "#276419"
            ]
           ],
           "sequential": [
            [
             0,
             "#0d0887"
            ],
            [
             0.1111111111111111,
             "#46039f"
            ],
            [
             0.2222222222222222,
             "#7201a8"
            ],
            [
             0.3333333333333333,
             "#9c179e"
            ],
            [
             0.4444444444444444,
             "#bd3786"
            ],
            [
             0.5555555555555556,
             "#d8576b"
            ],
            [
             0.6666666666666666,
             "#ed7953"
            ],
            [
             0.7777777777777778,
             "#fb9f3a"
            ],
            [
             0.8888888888888888,
             "#fdca26"
            ],
            [
             1,
             "#f0f921"
            ]
           ],
           "sequentialminus": [
            [
             0,
             "#0d0887"
            ],
            [
             0.1111111111111111,
             "#46039f"
            ],
            [
             0.2222222222222222,
             "#7201a8"
            ],
            [
             0.3333333333333333,
             "#9c179e"
            ],
            [
             0.4444444444444444,
             "#bd3786"
            ],
            [
             0.5555555555555556,
             "#d8576b"
            ],
            [
             0.6666666666666666,
             "#ed7953"
            ],
            [
             0.7777777777777778,
             "#fb9f3a"
            ],
            [
             0.8888888888888888,
             "#fdca26"
            ],
            [
             1,
             "#f0f921"
            ]
           ]
          },
          "colorway": [
           "#636efa",
           "#EF553B",
           "#00cc96",
           "#ab63fa",
           "#FFA15A",
           "#19d3f3",
           "#FF6692",
           "#B6E880",
           "#FF97FF",
           "#FECB52"
          ],
          "font": {
           "color": "#2a3f5f"
          },
          "geo": {
           "bgcolor": "white",
           "lakecolor": "white",
           "landcolor": "#E5ECF6",
           "showlakes": true,
           "showland": true,
           "subunitcolor": "white"
          },
          "hoverlabel": {
           "align": "left"
          },
          "hovermode": "closest",
          "mapbox": {
           "style": "light"
          },
          "paper_bgcolor": "white",
          "plot_bgcolor": "#E5ECF6",
          "polar": {
           "angularaxis": {
            "gridcolor": "white",
            "linecolor": "white",
            "ticks": ""
           },
           "bgcolor": "#E5ECF6",
           "radialaxis": {
            "gridcolor": "white",
            "linecolor": "white",
            "ticks": ""
           }
          },
          "scene": {
           "xaxis": {
            "backgroundcolor": "#E5ECF6",
            "gridcolor": "white",
            "gridwidth": 2,
            "linecolor": "white",
            "showbackground": true,
            "ticks": "",
            "zerolinecolor": "white"
           },
           "yaxis": {
            "backgroundcolor": "#E5ECF6",
            "gridcolor": "white",
            "gridwidth": 2,
            "linecolor": "white",
            "showbackground": true,
            "ticks": "",
            "zerolinecolor": "white"
           },
           "zaxis": {
            "backgroundcolor": "#E5ECF6",
            "gridcolor": "white",
            "gridwidth": 2,
            "linecolor": "white",
            "showbackground": true,
            "ticks": "",
            "zerolinecolor": "white"
           }
          },
          "shapedefaults": {
           "line": {
            "color": "#2a3f5f"
           }
          },
          "ternary": {
           "aaxis": {
            "gridcolor": "white",
            "linecolor": "white",
            "ticks": ""
           },
           "baxis": {
            "gridcolor": "white",
            "linecolor": "white",
            "ticks": ""
           },
           "bgcolor": "#E5ECF6",
           "caxis": {
            "gridcolor": "white",
            "linecolor": "white",
            "ticks": ""
           }
          },
          "title": {
           "x": 0.05
          },
          "xaxis": {
           "automargin": true,
           "gridcolor": "white",
           "linecolor": "white",
           "ticks": "",
           "title": {
            "standoff": 15
           },
           "zerolinecolor": "white",
           "zerolinewidth": 2
          },
          "yaxis": {
           "automargin": true,
           "gridcolor": "white",
           "linecolor": "white",
           "ticks": "",
           "title": {
            "standoff": 15
           },
           "zerolinecolor": "white",
           "zerolinewidth": 2
          }
         }
        },
        "xaxis": {
         "autorange": false,
         "linecolor": "black",
         "linewidth": 2,
         "mirror": true,
         "range": [
          -25,
          303
         ],
         "showline": true,
         "ticks": "outside",
         "title": {
          "text": "NHL Points"
         }
        },
        "yaxis": {
         "linecolor": "black",
         "linewidth": 2,
         "mirror": true,
         "range": [
          -0.5,
          2.5
         ],
         "showline": true,
         "showticklabels": false
        }
       }
      },
      "text/html": [
       "<div>                            <div id=\"067c04f7-9df0-4be3-8ba5-116e1d39ec7d\" class=\"plotly-graph-div\" style=\"height:525px; width:100%;\"></div>            <script type=\"text/javascript\">                require([\"plotly\"], function(Plotly) {                    window.PLOTLYENV=window.PLOTLYENV || {};                                    if (document.getElementById(\"067c04f7-9df0-4be3-8ba5-116e1d39ec7d\")) {                    Plotly.newPlot(                        \"067c04f7-9df0-4be3-8ba5-116e1d39ec7d\",                        [{\"marker\": {\"color\": \"black\", \"size\": 10}, \"mode\": \"markers\", \"type\": \"scatter\", \"x\": [0], \"y\": [1]}],                        {\"annotations\": [{\"align\": \"center\", \"arrowcolor\": \"rgb(226.06995056569855, 151.98902910018683, 88.52963359305723)\", \"arrowhead\": 2, \"arrowsize\": 1, \"arrowwidth\": 2, \"ax\": 30, \"ay\": 40, \"bgcolor\": \"rgb(226.06995056569855, 151.98902910018683, 88.52963359305723)\", \"bordercolor\": \"rgb(226.06995056569855, 151.98902910018683, 88.52963359305723)\", \"borderpad\": 4, \"borderwidth\": 2, \"font\": {\"color\": \"black\", \"family\": \"Overpass, monospace\", \"size\": 16}, \"opacity\": 0.8, \"showarrow\": true, \"text\": \"Floor\", \"x\": 278.3, \"xref\": \"x\", \"y\": 0, \"yref\": \"y\"}, {\"align\": \"center\", \"arrowcolor\": \"rgb(96.42629022339513, 179.64906761305474, 203.48354323117755)\", \"arrowhead\": 2, \"arrowsize\": 1, \"arrowwidth\": 2, \"ax\": -30, \"ay\": -40, \"bgcolor\": \"rgb(96.42629022339513, 179.64906761305474, 203.48354323117755)\", \"bordercolor\": \"rgb(96.42629022339513, 179.64906761305474, 203.48354323117755)\", \"borderpad\": 4, \"borderwidth\": 2, \"font\": {\"color\": \"black\", \"family\": \"Overpass, monospace\", \"size\": 16}, \"opacity\": 0.8, \"showarrow\": true, \"text\": \"Ceiling\", \"x\": 278.0, \"xref\": \"x\", \"y\": 2, \"yref\": \"y\"}], \"hovermode\": \"closest\", \"plot_bgcolor\": \"rgb(255,255,255)\", \"shapes\": [{\"line\": {\"color\": \"rgb(226.06995056569855, 151.98902910018683, 88.52963359305723)\", \"width\": 10}, \"type\": \"line\", \"x0\": 278.3, \"x1\": 278.3, \"y0\": 2, \"y1\": 0}, {\"line\": {\"color\": \"rgb(96.42629022339513, 179.64906761305474, 203.48354323117755)\", \"width\": 10}, \"type\": \"line\", \"x0\": 278.0, \"x1\": 278.0, \"y0\": 2, \"y1\": 0}, {\"line\": {\"color\": \"black\", \"width\": 3}, \"type\": \"line\", \"x0\": -25, \"x1\": 0, \"y0\": 1, \"y1\": 1}, {\"line\": {\"color\": \"rgb(226.06995056569855, 151.98902910018683, 88.52963359305723)\", \"dash\": \"dashdot\", \"width\": 3}, \"type\": \"line\", \"x0\": 5, \"x1\": 278.3, \"y0\": 1, \"y1\": 1}, {\"line\": {\"color\": \"rgb(96.42629022339513, 179.64906761305474, 203.48354323117755)\", \"dash\": \"dashdot\", \"width\": 3}, \"type\": \"line\", \"x0\": 283.3, \"x1\": 278.0, \"y0\": 1, \"y1\": 1}], \"showlegend\": false, \"template\": {\"data\": {\"bar\": [{\"error_x\": {\"color\": \"#2a3f5f\"}, \"error_y\": {\"color\": \"#2a3f5f\"}, \"marker\": {\"line\": {\"color\": \"#E5ECF6\", \"width\": 0.5}}, \"type\": \"bar\"}], \"barpolar\": [{\"marker\": {\"line\": {\"color\": \"#E5ECF6\", \"width\": 0.5}}, \"type\": \"barpolar\"}], \"carpet\": [{\"aaxis\": {\"endlinecolor\": \"#2a3f5f\", \"gridcolor\": \"white\", \"linecolor\": \"white\", \"minorgridcolor\": \"white\", \"startlinecolor\": \"#2a3f5f\"}, \"baxis\": {\"endlinecolor\": \"#2a3f5f\", \"gridcolor\": \"white\", \"linecolor\": \"white\", \"minorgridcolor\": \"white\", \"startlinecolor\": \"#2a3f5f\"}, \"type\": \"carpet\"}], \"choropleth\": [{\"colorbar\": {\"outlinewidth\": 0, \"ticks\": \"\"}, \"type\": \"choropleth\"}], \"contour\": [{\"colorbar\": {\"outlinewidth\": 0, \"ticks\": \"\"}, \"colorscale\": [[0.0, \"#0d0887\"], [0.1111111111111111, \"#46039f\"], [0.2222222222222222, \"#7201a8\"], [0.3333333333333333, \"#9c179e\"], [0.4444444444444444, \"#bd3786\"], [0.5555555555555556, \"#d8576b\"], [0.6666666666666666, \"#ed7953\"], [0.7777777777777778, \"#fb9f3a\"], [0.8888888888888888, \"#fdca26\"], [1.0, \"#f0f921\"]], \"type\": \"contour\"}], \"contourcarpet\": [{\"colorbar\": {\"outlinewidth\": 0, \"ticks\": \"\"}, \"type\": \"contourcarpet\"}], \"heatmap\": [{\"colorbar\": {\"outlinewidth\": 0, \"ticks\": \"\"}, \"colorscale\": [[0.0, \"#0d0887\"], [0.1111111111111111, \"#46039f\"], [0.2222222222222222, \"#7201a8\"], [0.3333333333333333, \"#9c179e\"], [0.4444444444444444, \"#bd3786\"], [0.5555555555555556, \"#d8576b\"], [0.6666666666666666, \"#ed7953\"], [0.7777777777777778, \"#fb9f3a\"], [0.8888888888888888, \"#fdca26\"], [1.0, \"#f0f921\"]], \"type\": \"heatmap\"}], \"heatmapgl\": [{\"colorbar\": {\"outlinewidth\": 0, \"ticks\": \"\"}, \"colorscale\": [[0.0, \"#0d0887\"], [0.1111111111111111, \"#46039f\"], [0.2222222222222222, \"#7201a8\"], [0.3333333333333333, \"#9c179e\"], [0.4444444444444444, \"#bd3786\"], [0.5555555555555556, \"#d8576b\"], [0.6666666666666666, \"#ed7953\"], [0.7777777777777778, \"#fb9f3a\"], [0.8888888888888888, \"#fdca26\"], [1.0, \"#f0f921\"]], \"type\": \"heatmapgl\"}], \"histogram\": [{\"marker\": {\"colorbar\": {\"outlinewidth\": 0, \"ticks\": \"\"}}, \"type\": \"histogram\"}], \"histogram2d\": [{\"colorbar\": {\"outlinewidth\": 0, \"ticks\": \"\"}, \"colorscale\": [[0.0, \"#0d0887\"], [0.1111111111111111, \"#46039f\"], [0.2222222222222222, \"#7201a8\"], [0.3333333333333333, \"#9c179e\"], [0.4444444444444444, \"#bd3786\"], [0.5555555555555556, \"#d8576b\"], [0.6666666666666666, \"#ed7953\"], [0.7777777777777778, \"#fb9f3a\"], [0.8888888888888888, \"#fdca26\"], [1.0, \"#f0f921\"]], \"type\": \"histogram2d\"}], \"histogram2dcontour\": [{\"colorbar\": {\"outlinewidth\": 0, \"ticks\": \"\"}, \"colorscale\": [[0.0, \"#0d0887\"], [0.1111111111111111, \"#46039f\"], [0.2222222222222222, \"#7201a8\"], [0.3333333333333333, \"#9c179e\"], [0.4444444444444444, \"#bd3786\"], [0.5555555555555556, \"#d8576b\"], [0.6666666666666666, \"#ed7953\"], [0.7777777777777778, \"#fb9f3a\"], [0.8888888888888888, \"#fdca26\"], [1.0, \"#f0f921\"]], \"type\": \"histogram2dcontour\"}], \"mesh3d\": [{\"colorbar\": {\"outlinewidth\": 0, \"ticks\": \"\"}, \"type\": \"mesh3d\"}], \"parcoords\": [{\"line\": {\"colorbar\": {\"outlinewidth\": 0, \"ticks\": \"\"}}, \"type\": \"parcoords\"}], \"pie\": [{\"automargin\": true, \"type\": \"pie\"}], \"scatter\": [{\"marker\": {\"colorbar\": {\"outlinewidth\": 0, \"ticks\": \"\"}}, \"type\": \"scatter\"}], \"scatter3d\": [{\"line\": {\"colorbar\": {\"outlinewidth\": 0, \"ticks\": \"\"}}, \"marker\": {\"colorbar\": {\"outlinewidth\": 0, \"ticks\": \"\"}}, \"type\": \"scatter3d\"}], \"scattercarpet\": [{\"marker\": {\"colorbar\": {\"outlinewidth\": 0, \"ticks\": \"\"}}, \"type\": \"scattercarpet\"}], \"scattergeo\": [{\"marker\": {\"colorbar\": {\"outlinewidth\": 0, \"ticks\": \"\"}}, \"type\": \"scattergeo\"}], \"scattergl\": [{\"marker\": {\"colorbar\": {\"outlinewidth\": 0, \"ticks\": \"\"}}, \"type\": \"scattergl\"}], \"scattermapbox\": [{\"marker\": {\"colorbar\": {\"outlinewidth\": 0, \"ticks\": \"\"}}, \"type\": \"scattermapbox\"}], \"scatterpolar\": [{\"marker\": {\"colorbar\": {\"outlinewidth\": 0, \"ticks\": \"\"}}, \"type\": \"scatterpolar\"}], \"scatterpolargl\": [{\"marker\": {\"colorbar\": {\"outlinewidth\": 0, \"ticks\": \"\"}}, \"type\": \"scatterpolargl\"}], \"scatterternary\": [{\"marker\": {\"colorbar\": {\"outlinewidth\": 0, \"ticks\": \"\"}}, \"type\": \"scatterternary\"}], \"surface\": [{\"colorbar\": {\"outlinewidth\": 0, \"ticks\": \"\"}, \"colorscale\": [[0.0, \"#0d0887\"], [0.1111111111111111, \"#46039f\"], [0.2222222222222222, \"#7201a8\"], [0.3333333333333333, \"#9c179e\"], [0.4444444444444444, \"#bd3786\"], [0.5555555555555556, \"#d8576b\"], [0.6666666666666666, \"#ed7953\"], [0.7777777777777778, \"#fb9f3a\"], [0.8888888888888888, \"#fdca26\"], [1.0, \"#f0f921\"]], \"type\": \"surface\"}], \"table\": [{\"cells\": {\"fill\": {\"color\": \"#EBF0F8\"}, \"line\": {\"color\": \"white\"}}, \"header\": {\"fill\": {\"color\": \"#C8D4E3\"}, \"line\": {\"color\": \"white\"}}, \"type\": \"table\"}]}, \"layout\": {\"annotationdefaults\": {\"arrowcolor\": \"#2a3f5f\", \"arrowhead\": 0, \"arrowwidth\": 1}, \"coloraxis\": {\"colorbar\": {\"outlinewidth\": 0, \"ticks\": \"\"}}, \"colorscale\": {\"diverging\": [[0, \"#8e0152\"], [0.1, \"#c51b7d\"], [0.2, \"#de77ae\"], [0.3, \"#f1b6da\"], [0.4, \"#fde0ef\"], [0.5, \"#f7f7f7\"], [0.6, \"#e6f5d0\"], [0.7, \"#b8e186\"], [0.8, \"#7fbc41\"], [0.9, \"#4d9221\"], [1, \"#276419\"]], \"sequential\": [[0.0, \"#0d0887\"], [0.1111111111111111, \"#46039f\"], [0.2222222222222222, \"#7201a8\"], [0.3333333333333333, \"#9c179e\"], [0.4444444444444444, \"#bd3786\"], [0.5555555555555556, \"#d8576b\"], [0.6666666666666666, \"#ed7953\"], [0.7777777777777778, \"#fb9f3a\"], [0.8888888888888888, \"#fdca26\"], [1.0, \"#f0f921\"]], \"sequentialminus\": [[0.0, \"#0d0887\"], [0.1111111111111111, \"#46039f\"], [0.2222222222222222, \"#7201a8\"], [0.3333333333333333, \"#9c179e\"], [0.4444444444444444, \"#bd3786\"], [0.5555555555555556, \"#d8576b\"], [0.6666666666666666, \"#ed7953\"], [0.7777777777777778, \"#fb9f3a\"], [0.8888888888888888, \"#fdca26\"], [1.0, \"#f0f921\"]]}, \"colorway\": [\"#636efa\", \"#EF553B\", \"#00cc96\", \"#ab63fa\", \"#FFA15A\", \"#19d3f3\", \"#FF6692\", \"#B6E880\", \"#FF97FF\", \"#FECB52\"], \"font\": {\"color\": \"#2a3f5f\"}, \"geo\": {\"bgcolor\": \"white\", \"lakecolor\": \"white\", \"landcolor\": \"#E5ECF6\", \"showlakes\": true, \"showland\": true, \"subunitcolor\": \"white\"}, \"hoverlabel\": {\"align\": \"left\"}, \"hovermode\": \"closest\", \"mapbox\": {\"style\": \"light\"}, \"paper_bgcolor\": \"white\", \"plot_bgcolor\": \"#E5ECF6\", \"polar\": {\"angularaxis\": {\"gridcolor\": \"white\", \"linecolor\": \"white\", \"ticks\": \"\"}, \"bgcolor\": \"#E5ECF6\", \"radialaxis\": {\"gridcolor\": \"white\", \"linecolor\": \"white\", \"ticks\": \"\"}}, \"scene\": {\"xaxis\": {\"backgroundcolor\": \"#E5ECF6\", \"gridcolor\": \"white\", \"gridwidth\": 2, \"linecolor\": \"white\", \"showbackground\": true, \"ticks\": \"\", \"zerolinecolor\": \"white\"}, \"yaxis\": {\"backgroundcolor\": \"#E5ECF6\", \"gridcolor\": \"white\", \"gridwidth\": 2, \"linecolor\": \"white\", \"showbackground\": true, \"ticks\": \"\", \"zerolinecolor\": \"white\"}, \"zaxis\": {\"backgroundcolor\": \"#E5ECF6\", \"gridcolor\": \"white\", \"gridwidth\": 2, \"linecolor\": \"white\", \"showbackground\": true, \"ticks\": \"\", \"zerolinecolor\": \"white\"}}, \"shapedefaults\": {\"line\": {\"color\": \"#2a3f5f\"}}, \"ternary\": {\"aaxis\": {\"gridcolor\": \"white\", \"linecolor\": \"white\", \"ticks\": \"\"}, \"baxis\": {\"gridcolor\": \"white\", \"linecolor\": \"white\", \"ticks\": \"\"}, \"bgcolor\": \"#E5ECF6\", \"caxis\": {\"gridcolor\": \"white\", \"linecolor\": \"white\", \"ticks\": \"\"}}, \"title\": {\"x\": 0.05}, \"xaxis\": {\"automargin\": true, \"gridcolor\": \"white\", \"linecolor\": \"white\", \"ticks\": \"\", \"title\": {\"standoff\": 15}, \"zerolinecolor\": \"white\", \"zerolinewidth\": 2}, \"yaxis\": {\"automargin\": true, \"gridcolor\": \"white\", \"linecolor\": \"white\", \"ticks\": \"\", \"title\": {\"standoff\": 15}, \"zerolinecolor\": \"white\", \"zerolinewidth\": 2}}}, \"xaxis\": {\"autorange\": false, \"linecolor\": \"black\", \"linewidth\": 2, \"mirror\": true, \"range\": [-25, 303.0], \"showline\": true, \"ticks\": \"outside\", \"title\": {\"text\": \"NHL Points\"}}, \"yaxis\": {\"linecolor\": \"black\", \"linewidth\": 2, \"mirror\": true, \"range\": [-0.5, 2.5], \"showline\": true, \"showticklabels\": false}},                        {\"responsive\": true}                    ).then(function(){\n",
       "                            \n",
       "var gd = document.getElementById('067c04f7-9df0-4be3-8ba5-116e1d39ec7d');\n",
       "var x = new MutationObserver(function (mutations, observer) {{\n",
       "        var display = window.getComputedStyle(gd).display;\n",
       "        if (!display || display === 'none') {{\n",
       "            console.log([gd, 'removed!']);\n",
       "            Plotly.purge(gd);\n",
       "            observer.disconnect();\n",
       "        }}\n",
       "}});\n",
       "\n",
       "// Listen for the removal of the full notebook cells\n",
       "var notebookContainer = gd.closest('#notebook-container');\n",
       "if (notebookContainer) {{\n",
       "    x.observe(notebookContainer, {childList: true});\n",
       "}}\n",
       "\n",
       "// Listen for the clearing of the current output cell\n",
       "var outputEl = gd.closest('.output');\n",
       "if (outputEl) {{\n",
       "    x.observe(outputEl, {childList: true});\n",
       "}}\n",
       "\n",
       "                        })                };                });            </script>        </div>"
      ]
     },
     "metadata": {},
     "output_type": "display_data"
    }
   ],
   "source": [
    "def get_potential_graph(player_df, floor, ceiling):\n",
    "\n",
    "    try:\n",
    "        nhl_pts = player_df.groupby('league').tp.sum()['NHL']\n",
    "\n",
    "    except KeyError:\n",
    "        nhl_pts = 0\n",
    "\n",
    "    # Create a dataframe\n",
    "    value1 = floor\n",
    "    value2 = ceiling\n",
    "\n",
    "    # Add title and axis names\n",
    "    data = go.Scatter(\n",
    "            x=[nhl_pts],\n",
    "            y=[1],\n",
    "            mode='markers',\n",
    "            marker=dict(color='black', \n",
    "                       size=10)\n",
    "        )\n",
    "\n",
    "    x = [value1, value2]\n",
    "    y_upper = [1]\n",
    "    y_lower = [1]\n",
    "\n",
    "    # annotations\n",
    "    anno = [dict(x=value1,\n",
    "            y=0,\n",
    "            xref=\"x\",\n",
    "            yref=\"y\",\n",
    "            text=\"Floor\",\n",
    "            showarrow=True,\n",
    "            font=dict(\n",
    "                family=\"Overpass, monospace\",\n",
    "                size=16,\n",
    "                color=\"black\"\n",
    "                ),\n",
    "            align=\"center\",\n",
    "            arrowhead=2,\n",
    "            arrowsize=1,\n",
    "            arrowwidth=2,\n",
    "            arrowcolor=color_palette[0][1],\n",
    "            ax=30,\n",
    "            ay=40,\n",
    "            bordercolor=color_palette[0][1],\n",
    "            borderwidth=2,\n",
    "            borderpad=4,\n",
    "            bgcolor=color_palette[0][1],\n",
    "            opacity=0.8),\n",
    "           dict(x=value2,\n",
    "            y=2,\n",
    "            xref=\"x\",\n",
    "            yref=\"y\",\n",
    "            text=\"Ceiling\",\n",
    "            showarrow=True,\n",
    "            font=dict(\n",
    "                family=\"Overpass, monospace\",\n",
    "                size=16,\n",
    "                color=\"black\"\n",
    "                ),\n",
    "            align=\"center\",\n",
    "            arrowhead=2,\n",
    "            arrowsize=1,\n",
    "            arrowwidth=2,\n",
    "            arrowcolor=color_palette[-1][1],\n",
    "            ax=-30,\n",
    "            ay=-40,\n",
    "            bordercolor=color_palette[-1][1],\n",
    "            borderwidth=2,\n",
    "            borderpad=4,\n",
    "            bgcolor=color_palette[-1][1],\n",
    "            opacity=0.8)]\n",
    "\n",
    "    # Horizontal line shape\n",
    "    shapes=[dict(\n",
    "            type='line',\n",
    "            x0 = value1,\n",
    "            y0 = 2,\n",
    "            x1 = value1,\n",
    "            y1 = 0,\n",
    "            line = dict(\n",
    "                color =color_palette[0][1],\n",
    "                width = 10\n",
    "            )\n",
    "    ),\n",
    "            dict(\n",
    "            type='line',\n",
    "            x0 = value2,\n",
    "            y0 = 2,\n",
    "            x1 = value2,\n",
    "            y1 = 0,\n",
    "            line = dict(\n",
    "                color =color_palette[-1][1],\n",
    "                width = 10\n",
    "            )\n",
    "    ),\n",
    "            dict(\n",
    "            type='line',\n",
    "            x0 = -25,\n",
    "            y0 = 1,\n",
    "            x1 = 0,\n",
    "            y1 = 1,\n",
    "            line = dict(\n",
    "                color ='black',\n",
    "                width = 3\n",
    "            )\n",
    "    ),\n",
    "            dict(\n",
    "            type='line',\n",
    "            x0 = nhl_pts + 5,\n",
    "            y0 = 1,\n",
    "            x1 = value1,\n",
    "            y1 = 1,\n",
    "            line = dict(\n",
    "                color =color_palette[0][1],\n",
    "                width = 3,\n",
    "                dash=\"dashdot\"\n",
    "            )\n",
    "    ),\n",
    "            dict(\n",
    "            type='line',\n",
    "            x0 = max([value1, nhl_pts]) + 5,\n",
    "            y0 = 1,\n",
    "            x1 = value2,\n",
    "            y1 = 1,\n",
    "            line = dict(\n",
    "                color =color_palette[-1][1],\n",
    "                width = 3,\n",
    "                dash=\"dashdot\"\n",
    "            )\n",
    "    )\n",
    "           ]\n",
    "\n",
    "\n",
    "    layout = go.Layout(\n",
    "        shapes = shapes,\n",
    "        annotations=anno,\n",
    "        xaxis = dict(title='NHL Points',range=[-25, max([value2, nhl_pts]) + 25], autorange=False, ticks='outside',  showline=True, linewidth=2, linecolor='black', mirror=True),\n",
    "        yaxis = dict(range=[-0.5, 2.5],  showline=True, linewidth=2, linecolor='black', mirror=True, showticklabels=False,),\n",
    "        plot_bgcolor='rgb(255,255,255)',\n",
    "        showlegend=False,\n",
    "        hovermode='closest',\n",
    "    )\n",
    "\n",
    "    # Plot the chart\n",
    "    fig = go.Figure(data=[data],\n",
    "                    layout=layout\n",
    "                   )\n",
    "\n",
    "    return fig\n"
   ]
  },
  {
   "cell_type": "markdown",
   "metadata": {},
   "source": [
    "### Player Cards"
   ]
  },
  {
   "cell_type": "code",
   "execution_count": 294,
   "metadata": {},
   "outputs": [
    {
     "data": {
      "text/plain": [
       "[100, 85, 99, 82, 95, 87, 97, 97, 99]"
      ]
     },
     "execution_count": 294,
     "metadata": {},
     "output_type": "execute_result"
    }
   ],
   "source": [
    "[player.G.nodes[g]['role_rank']  for g in player.G.nodes]"
   ]
  },
  {
   "cell_type": "markdown",
   "metadata": {},
   "source": [
    "### NHL path maximization"
   ]
  },
  {
   "cell_type": "code",
   "execution_count": 82,
   "metadata": {},
   "outputs": [],
   "source": [
    "def get_nhl_path(self):\n",
    "\n",
    "    nodes = self.projections[(self.projections.season_age==23)\n",
    "                              & (self.projections.league=='NHL')].node\n",
    "\n",
    "    probs = []\n",
    "    max_prob = 0\n",
    "    max_node = 1\n",
    "    \n",
    "    for node in nodes:\n",
    "        node_prob = node_probability(self.G, node)\n",
    "        if node_prob > max_prob:\n",
    "            max_prob = node_prob\n",
    "            max_node = node\n",
    "        probs.append(node_prob)\n",
    "        \n",
    "    return dict(nhl_likelihood=round(sum(probs),2), most_likelihood_nhl_node=max_node)\n",
    "\n",
    "def nhl_expected_value(G, node):\n",
    "        \n",
    "    return np.sum([G.nodes[n]['tp'] * G.nodes[n]['cond_prob']\\\n",
    "                   for n in nx.descendants(G, node) if G.nodes[n]['league'] == 'NHL']).round(1)\n",
    "\n",
    "def get_nhl_value(self):\n",
    "\n",
    "    nodes = self.projections[(self.projections.start_node==1)].node\n",
    "        \n",
    "    return dict(nhl_expected_value=round(sum([nhl_expected_value(self.G, n) for n in nodes]),2))"
   ]
  },
  {
   "cell_type": "code",
   "execution_count": 98,
   "metadata": {},
   "outputs": [],
   "source": [
    "player_value = dict(playerid = player.playerid,\n",
    "                    player_name = player.player_name)\n",
    "\n",
    "player_value.update(get_nhl_path(player))\n",
    "\n",
    "player_value.update(get_nhl_value(player))\n",
    "\n",
    "self.player_value = player_value"
   ]
  },
  {
   "cell_type": "markdown",
   "metadata": {},
   "source": [
    "# Debugging"
   ]
  },
  {
   "cell_type": "code",
   "execution_count": 73,
   "metadata": {},
   "outputs": [
    {
     "data": {
      "text/html": [
       "<div>\n",
       "<style scoped>\n",
       "    .dataframe tbody tr th:only-of-type {\n",
       "        vertical-align: middle;\n",
       "    }\n",
       "\n",
       "    .dataframe tbody tr th {\n",
       "        vertical-align: top;\n",
       "    }\n",
       "\n",
       "    .dataframe thead th {\n",
       "        text-align: right;\n",
       "    }\n",
       "</style>\n",
       "<table border=\"1\" class=\"dataframe\">\n",
       "  <thead>\n",
       "    <tr style=\"text-align: right;\">\n",
       "      <th></th>\n",
       "      <th>playerid</th>\n",
       "      <th>player</th>\n",
       "      <th>season_age</th>\n",
       "      <th>start_league</th>\n",
       "      <th>league</th>\n",
       "      <th>probability</th>\n",
       "      <th>gp</th>\n",
       "      <th>ppg</th>\n",
       "      <th>gpg</th>\n",
       "      <th>apg</th>\n",
       "      <th>perc_team_a</th>\n",
       "      <th>perc_team_g</th>\n",
       "      <th>perc_team_tp</th>\n",
       "      <th>start_node</th>\n",
       "      <th>node</th>\n",
       "      <th>epoints</th>\n",
       "      <th>nhl_xvalue</th>\n",
       "      <th>xvalue</th>\n",
       "      <th>cond_probability</th>\n",
       "    </tr>\n",
       "  </thead>\n",
       "  <tbody>\n",
       "    <tr>\n",
       "      <th>1</th>\n",
       "      <td>496724</td>\n",
       "      <td>Bobby Brink</td>\n",
       "      <td>20.0</td>\n",
       "      <td>NCAA</td>\n",
       "      <td>NHL</td>\n",
       "      <td>0.098301</td>\n",
       "      <td>82.0</td>\n",
       "      <td>0.540381</td>\n",
       "      <td>0.270190</td>\n",
       "      <td>0.270190</td>\n",
       "      <td>0.055838</td>\n",
       "      <td>0.089469</td>\n",
       "      <td>0.068094</td>\n",
       "      <td>1</td>\n",
       "      <td>3</td>\n",
       "      <td>44.311219</td>\n",
       "      <td>126.0</td>\n",
       "      <td>8.684999</td>\n",
       "      <td>0.098000</td>\n",
       "    </tr>\n",
       "    <tr>\n",
       "      <th>2</th>\n",
       "      <td>496724</td>\n",
       "      <td>Bobby Brink</td>\n",
       "      <td>21.0</td>\n",
       "      <td>NCAA</td>\n",
       "      <td>NHL</td>\n",
       "      <td>0.063941</td>\n",
       "      <td>82.0</td>\n",
       "      <td>0.946245</td>\n",
       "      <td>0.473122</td>\n",
       "      <td>0.473122</td>\n",
       "      <td>0.091804</td>\n",
       "      <td>0.149281</td>\n",
       "      <td>0.112452</td>\n",
       "      <td>2</td>\n",
       "      <td>6</td>\n",
       "      <td>77.592086</td>\n",
       "      <td>59.1</td>\n",
       "      <td>13.437708</td>\n",
       "      <td>0.057728</td>\n",
       "    </tr>\n",
       "    <tr>\n",
       "      <th>0</th>\n",
       "      <td>496724</td>\n",
       "      <td>Bobby Brink</td>\n",
       "      <td>21.0</td>\n",
       "      <td>NHL</td>\n",
       "      <td>NHL</td>\n",
       "      <td>0.888651</td>\n",
       "      <td>82.0</td>\n",
       "      <td>1.317420</td>\n",
       "      <td>0.658710</td>\n",
       "      <td>0.658710</td>\n",
       "      <td>0.123917</td>\n",
       "      <td>0.203812</td>\n",
       "      <td>0.152375</td>\n",
       "      <td>3</td>\n",
       "      <td>7</td>\n",
       "      <td>108.028440</td>\n",
       "      <td>94.7</td>\n",
       "      <td>28.234961</td>\n",
       "      <td>0.087122</td>\n",
       "    </tr>\n",
       "    <tr>\n",
       "      <th>2</th>\n",
       "      <td>496724</td>\n",
       "      <td>Bobby Brink</td>\n",
       "      <td>22.0</td>\n",
       "      <td>NCAA</td>\n",
       "      <td>NHL</td>\n",
       "      <td>0.156823</td>\n",
       "      <td>82.0</td>\n",
       "      <td>1.251578</td>\n",
       "      <td>0.625789</td>\n",
       "      <td>0.625789</td>\n",
       "      <td>0.119374</td>\n",
       "      <td>0.195529</td>\n",
       "      <td>0.146527</td>\n",
       "      <td>4</td>\n",
       "      <td>11</td>\n",
       "      <td>102.629384</td>\n",
       "      <td>59.5</td>\n",
       "      <td>42.903652</td>\n",
       "      <td>0.104511</td>\n",
       "    </tr>\n",
       "    <tr>\n",
       "      <th>1</th>\n",
       "      <td>496724</td>\n",
       "      <td>Bobby Brink</td>\n",
       "      <td>22.0</td>\n",
       "      <td>AHL</td>\n",
       "      <td>NHL</td>\n",
       "      <td>0.207605</td>\n",
       "      <td>82.0</td>\n",
       "      <td>1.008226</td>\n",
       "      <td>0.504113</td>\n",
       "      <td>0.504113</td>\n",
       "      <td>0.098320</td>\n",
       "      <td>0.159778</td>\n",
       "      <td>0.120353</td>\n",
       "      <td>5</td>\n",
       "      <td>13</td>\n",
       "      <td>82.674515</td>\n",
       "      <td>21.1</td>\n",
       "      <td>12.284761</td>\n",
       "      <td>0.037148</td>\n",
       "    </tr>\n",
       "    <tr>\n",
       "      <th>0</th>\n",
       "      <td>496724</td>\n",
       "      <td>Bobby Brink</td>\n",
       "      <td>22.0</td>\n",
       "      <td>NHL</td>\n",
       "      <td>NHL</td>\n",
       "      <td>1.000000</td>\n",
       "      <td>82.0</td>\n",
       "      <td>1.387374</td>\n",
       "      <td>0.693687</td>\n",
       "      <td>0.693687</td>\n",
       "      <td>0.131123</td>\n",
       "      <td>0.215479</td>\n",
       "      <td>0.161133</td>\n",
       "      <td>6</td>\n",
       "      <td>15</td>\n",
       "      <td>113.764642</td>\n",
       "      <td>32.8</td>\n",
       "      <td>26.269621</td>\n",
       "      <td>0.057728</td>\n",
       "    </tr>\n",
       "    <tr>\n",
       "      <th>0</th>\n",
       "      <td>496724</td>\n",
       "      <td>Bobby Brink</td>\n",
       "      <td>22.0</td>\n",
       "      <td>NHL</td>\n",
       "      <td>NHL</td>\n",
       "      <td>1.000000</td>\n",
       "      <td>82.0</td>\n",
       "      <td>1.545481</td>\n",
       "      <td>0.772741</td>\n",
       "      <td>0.772741</td>\n",
       "      <td>0.144803</td>\n",
       "      <td>0.238708</td>\n",
       "      <td>0.178139</td>\n",
       "      <td>7</td>\n",
       "      <td>16</td>\n",
       "      <td>126.729478</td>\n",
       "      <td>50.6</td>\n",
       "      <td>44.163702</td>\n",
       "      <td>0.087122</td>\n",
       "    </tr>\n",
       "    <tr>\n",
       "      <th>1</th>\n",
       "      <td>496724</td>\n",
       "      <td>Bobby Brink</td>\n",
       "      <td>22.0</td>\n",
       "      <td>AHL</td>\n",
       "      <td>NHL</td>\n",
       "      <td>0.196520</td>\n",
       "      <td>82.0</td>\n",
       "      <td>1.073093</td>\n",
       "      <td>0.536547</td>\n",
       "      <td>0.536547</td>\n",
       "      <td>0.103932</td>\n",
       "      <td>0.169308</td>\n",
       "      <td>0.127330</td>\n",
       "      <td>8</td>\n",
       "      <td>18</td>\n",
       "      <td>87.993660</td>\n",
       "      <td>1.2</td>\n",
       "      <td>0.754270</td>\n",
       "      <td>0.002143</td>\n",
       "    </tr>\n",
       "    <tr>\n",
       "      <th>1</th>\n",
       "      <td>496724</td>\n",
       "      <td>Bobby Brink</td>\n",
       "      <td>23.0</td>\n",
       "      <td>NCAA</td>\n",
       "      <td>NHL</td>\n",
       "      <td>0.338776</td>\n",
       "      <td>82.0</td>\n",
       "      <td>1.178850</td>\n",
       "      <td>0.589425</td>\n",
       "      <td>0.589425</td>\n",
       "      <td>0.113402</td>\n",
       "      <td>0.185300</td>\n",
       "      <td>0.139095</td>\n",
       "      <td>9</td>\n",
       "      <td>21</td>\n",
       "      <td>96.665675</td>\n",
       "      <td>0.0</td>\n",
       "      <td>56.607275</td>\n",
       "      <td>0.117120</td>\n",
       "    </tr>\n",
       "    <tr>\n",
       "      <th>1</th>\n",
       "      <td>496724</td>\n",
       "      <td>Bobby Brink</td>\n",
       "      <td>23.0</td>\n",
       "      <td>AHL</td>\n",
       "      <td>NHL</td>\n",
       "      <td>0.255297</td>\n",
       "      <td>82.0</td>\n",
       "      <td>0.933181</td>\n",
       "      <td>0.466591</td>\n",
       "      <td>0.466591</td>\n",
       "      <td>0.092147</td>\n",
       "      <td>0.149208</td>\n",
       "      <td>0.112672</td>\n",
       "      <td>10</td>\n",
       "      <td>24</td>\n",
       "      <td>76.520856</td>\n",
       "      <td>0.0</td>\n",
       "      <td>21.042528</td>\n",
       "      <td>0.054998</td>\n",
       "    </tr>\n",
       "    <tr>\n",
       "      <th>0</th>\n",
       "      <td>496724</td>\n",
       "      <td>Bobby Brink</td>\n",
       "      <td>23.0</td>\n",
       "      <td>NHL</td>\n",
       "      <td>NHL</td>\n",
       "      <td>1.000000</td>\n",
       "      <td>82.0</td>\n",
       "      <td>1.388289</td>\n",
       "      <td>0.694145</td>\n",
       "      <td>0.694145</td>\n",
       "      <td>0.131523</td>\n",
       "      <td>0.216070</td>\n",
       "      <td>0.161622</td>\n",
       "      <td>11</td>\n",
       "      <td>25</td>\n",
       "      <td>113.839735</td>\n",
       "      <td>0.0</td>\n",
       "      <td>59.487598</td>\n",
       "      <td>0.104511</td>\n",
       "    </tr>\n",
       "    <tr>\n",
       "      <th>1</th>\n",
       "      <td>496724</td>\n",
       "      <td>Bobby Brink</td>\n",
       "      <td>23.0</td>\n",
       "      <td>AHL</td>\n",
       "      <td>NHL</td>\n",
       "      <td>0.281585</td>\n",
       "      <td>82.0</td>\n",
       "      <td>0.954779</td>\n",
       "      <td>0.477390</td>\n",
       "      <td>0.477390</td>\n",
       "      <td>0.094016</td>\n",
       "      <td>0.152382</td>\n",
       "      <td>0.114995</td>\n",
       "      <td>12</td>\n",
       "      <td>27</td>\n",
       "      <td>78.291915</td>\n",
       "      <td>0.0</td>\n",
       "      <td>13.268530</td>\n",
       "      <td>0.033895</td>\n",
       "    </tr>\n",
       "    <tr>\n",
       "      <th>0</th>\n",
       "      <td>496724</td>\n",
       "      <td>Bobby Brink</td>\n",
       "      <td>23.0</td>\n",
       "      <td>NHL</td>\n",
       "      <td>NHL</td>\n",
       "      <td>1.000000</td>\n",
       "      <td>82.0</td>\n",
       "      <td>1.387779</td>\n",
       "      <td>0.693889</td>\n",
       "      <td>0.693889</td>\n",
       "      <td>0.131479</td>\n",
       "      <td>0.215995</td>\n",
       "      <td>0.161567</td>\n",
       "      <td>13</td>\n",
       "      <td>28</td>\n",
       "      <td>113.797878</td>\n",
       "      <td>0.0</td>\n",
       "      <td>21.136800</td>\n",
       "      <td>0.037148</td>\n",
       "    </tr>\n",
       "    <tr>\n",
       "      <th>1</th>\n",
       "      <td>496724</td>\n",
       "      <td>Bobby Brink</td>\n",
       "      <td>23.0</td>\n",
       "      <td>NCAA</td>\n",
       "      <td>NHL</td>\n",
       "      <td>0.338776</td>\n",
       "      <td>82.0</td>\n",
       "      <td>1.178432</td>\n",
       "      <td>0.589216</td>\n",
       "      <td>0.589216</td>\n",
       "      <td>0.113366</td>\n",
       "      <td>0.185239</td>\n",
       "      <td>0.139050</td>\n",
       "      <td>14</td>\n",
       "      <td>30</td>\n",
       "      <td>96.631403</td>\n",
       "      <td>0.0</td>\n",
       "      <td>3.481021</td>\n",
       "      <td>0.007205</td>\n",
       "    </tr>\n",
       "    <tr>\n",
       "      <th>0</th>\n",
       "      <td>496724</td>\n",
       "      <td>Bobby Brink</td>\n",
       "      <td>23.0</td>\n",
       "      <td>NHL</td>\n",
       "      <td>NHL</td>\n",
       "      <td>1.000000</td>\n",
       "      <td>82.0</td>\n",
       "      <td>1.385260</td>\n",
       "      <td>0.692630</td>\n",
       "      <td>0.692630</td>\n",
       "      <td>0.131261</td>\n",
       "      <td>0.215625</td>\n",
       "      <td>0.161296</td>\n",
       "      <td>15</td>\n",
       "      <td>32</td>\n",
       "      <td>113.591309</td>\n",
       "      <td>0.0</td>\n",
       "      <td>32.786995</td>\n",
       "      <td>0.057728</td>\n",
       "    </tr>\n",
       "    <tr>\n",
       "      <th>0</th>\n",
       "      <td>496724</td>\n",
       "      <td>Bobby Brink</td>\n",
       "      <td>23.0</td>\n",
       "      <td>NHL</td>\n",
       "      <td>NHL</td>\n",
       "      <td>1.000000</td>\n",
       "      <td>82.0</td>\n",
       "      <td>1.415701</td>\n",
       "      <td>0.707850</td>\n",
       "      <td>0.707850</td>\n",
       "      <td>0.133894</td>\n",
       "      <td>0.220097</td>\n",
       "      <td>0.164570</td>\n",
       "      <td>16</td>\n",
       "      <td>33</td>\n",
       "      <td>116.087475</td>\n",
       "      <td>0.0</td>\n",
       "      <td>50.568865</td>\n",
       "      <td>0.087122</td>\n",
       "    </tr>\n",
       "    <tr>\n",
       "      <th>1</th>\n",
       "      <td>496724</td>\n",
       "      <td>Bobby Brink</td>\n",
       "      <td>23.0</td>\n",
       "      <td>AHL</td>\n",
       "      <td>NHL</td>\n",
       "      <td>0.281585</td>\n",
       "      <td>82.0</td>\n",
       "      <td>0.974098</td>\n",
       "      <td>0.487049</td>\n",
       "      <td>0.487049</td>\n",
       "      <td>0.095687</td>\n",
       "      <td>0.155220</td>\n",
       "      <td>0.117073</td>\n",
       "      <td>17</td>\n",
       "      <td>35</td>\n",
       "      <td>79.876004</td>\n",
       "      <td>0.0</td>\n",
       "      <td>0.829417</td>\n",
       "      <td>0.002077</td>\n",
       "    </tr>\n",
       "    <tr>\n",
       "      <th>0</th>\n",
       "      <td>496724</td>\n",
       "      <td>Bobby Brink</td>\n",
       "      <td>23.0</td>\n",
       "      <td>NHL</td>\n",
       "      <td>NHL</td>\n",
       "      <td>1.000000</td>\n",
       "      <td>82.0</td>\n",
       "      <td>1.390614</td>\n",
       "      <td>0.695307</td>\n",
       "      <td>0.695307</td>\n",
       "      <td>0.131724</td>\n",
       "      <td>0.216411</td>\n",
       "      <td>0.161872</td>\n",
       "      <td>18</td>\n",
       "      <td>36</td>\n",
       "      <td>114.030331</td>\n",
       "      <td>0.0</td>\n",
       "      <td>1.221816</td>\n",
       "      <td>0.002143</td>\n",
       "    </tr>\n",
       "    <tr>\n",
       "      <th>1</th>\n",
       "      <td>496724</td>\n",
       "      <td>Bobby Brink</td>\n",
       "      <td>23.0</td>\n",
       "      <td>NCAA</td>\n",
       "      <td>NHL</td>\n",
       "      <td>0.338776</td>\n",
       "      <td>82.0</td>\n",
       "      <td>1.176404</td>\n",
       "      <td>0.588202</td>\n",
       "      <td>0.588202</td>\n",
       "      <td>0.113190</td>\n",
       "      <td>0.184941</td>\n",
       "      <td>0.138832</td>\n",
       "      <td>19</td>\n",
       "      <td>38</td>\n",
       "      <td>96.465147</td>\n",
       "      <td>0.0</td>\n",
       "      <td>0.225888</td>\n",
       "      <td>0.000468</td>\n",
       "    </tr>\n",
       "  </tbody>\n",
       "</table>\n",
       "</div>"
      ],
      "text/plain": [
       "   playerid       player  season_age start_league league  ...  node     epoints  nhl_xvalue     xvalue  cond_probability\n",
       "1    496724  Bobby Brink        20.0         NCAA    NHL  ...     3   44.311219       126.0   8.684999          0.098000\n",
       "2    496724  Bobby Brink        21.0         NCAA    NHL  ...     6   77.592086        59.1  13.437708          0.057728\n",
       "0    496724  Bobby Brink        21.0          NHL    NHL  ...     7  108.028440        94.7  28.234961          0.087122\n",
       "2    496724  Bobby Brink        22.0         NCAA    NHL  ...    11  102.629384        59.5  42.903652          0.104511\n",
       "1    496724  Bobby Brink        22.0          AHL    NHL  ...    13   82.674515        21.1  12.284761          0.037148\n",
       "0    496724  Bobby Brink        22.0          NHL    NHL  ...    15  113.764642        32.8  26.269621          0.057728\n",
       "0    496724  Bobby Brink        22.0          NHL    NHL  ...    16  126.729478        50.6  44.163702          0.087122\n",
       "1    496724  Bobby Brink        22.0          AHL    NHL  ...    18   87.993660         1.2   0.754270          0.002143\n",
       "1    496724  Bobby Brink        23.0         NCAA    NHL  ...    21   96.665675         0.0  56.607275          0.117120\n",
       "1    496724  Bobby Brink        23.0          AHL    NHL  ...    24   76.520856         0.0  21.042528          0.054998\n",
       "0    496724  Bobby Brink        23.0          NHL    NHL  ...    25  113.839735         0.0  59.487598          0.104511\n",
       "1    496724  Bobby Brink        23.0          AHL    NHL  ...    27   78.291915         0.0  13.268530          0.033895\n",
       "0    496724  Bobby Brink        23.0          NHL    NHL  ...    28  113.797878         0.0  21.136800          0.037148\n",
       "1    496724  Bobby Brink        23.0         NCAA    NHL  ...    30   96.631403         0.0   3.481021          0.007205\n",
       "0    496724  Bobby Brink        23.0          NHL    NHL  ...    32  113.591309         0.0  32.786995          0.057728\n",
       "0    496724  Bobby Brink        23.0          NHL    NHL  ...    33  116.087475         0.0  50.568865          0.087122\n",
       "1    496724  Bobby Brink        23.0          AHL    NHL  ...    35   79.876004         0.0   0.829417          0.002077\n",
       "0    496724  Bobby Brink        23.0          NHL    NHL  ...    36  114.030331         0.0   1.221816          0.002143\n",
       "1    496724  Bobby Brink        23.0         NCAA    NHL  ...    38   96.465147         0.0   0.225888          0.000468\n",
       "\n",
       "[19 rows x 19 columns]"
      ]
     },
     "execution_count": 73,
     "metadata": {},
     "output_type": "execute_result"
    }
   ],
   "source": [
    "player.projections[player.projections.league == 'NHL']"
   ]
  },
  {
   "cell_type": "markdown",
   "metadata": {},
   "source": [
    "### Prepare NetworkX df"
   ]
  },
  {
   "cell_type": "code",
   "execution_count": 101,
   "metadata": {},
   "outputs": [],
   "source": [
    "df = player.projections.copy().round(3)\n",
    "df['start_age'] = df.season_age - 1\n",
    "df['weight'] = df.probability\n",
    "df['epoints'] = df['ppg'] * df['gp']"
   ]
  },
  {
   "cell_type": "markdown",
   "metadata": {},
   "source": [
    "### Using NetworkX to assign Simulated Seasons in Graphs"
   ]
  },
  {
   "cell_type": "code",
   "execution_count": 9,
   "metadata": {},
   "outputs": [
    {
     "data": {
      "text/plain": [
       "Text(0.125, 0.05, 'By: Connor Jung @ConnorJungle, Data Source: Elite Prospects')"
      ]
     },
     "execution_count": 9,
     "metadata": {},
     "output_type": "execute_result"
    },
    {
     "data": {
      "image/png": "[encoded data removed]",
      "text/plain": [
       "<Figure size 1440x720 with 2 Axes>"
      ]
     },
     "metadata": {
      "needs_background": "light"
     },
     "output_type": "display_data"
    }
   ],
   "source": [
    "matplotlib.rc('font',family='monospace')\n",
    "\n",
    "fig, ax = plt.subplots(figsize=(20,10))\n",
    "\n",
    "# create tree layout and rescale based on age\n",
    "pos = graphviz_layout(player.G, prog='dot')\n",
    "# array of ages for y-axis\n",
    "ages = np.arange(player.start_age,\n",
    "                 player.projections.season_age.astype(int).max() + 1,\n",
    "                 1)\n",
    "# rescale x,y coordinates\n",
    "y = np.array([xy[1] for _, xy in pos.items()])\n",
    "y_rescale = (y.max() / y.min()) / (ages.max() / ages.min())\n",
    "y_map = { k:v for k,v in zip(sorted(np.unique(y))[::-1], ages)}\n",
    "pos = {u :(v[0] / y_rescale, y_map[v[1]]) for u,v in pos.items()}\n",
    "\n",
    "node_sizes = [player.G.nodes[g]['ppg'] / player.position_ppg[player.position] * 300 for g in player.G.nodes]\n",
    "player.node_sizes = node_sizes\n",
    "\n",
    "# draw nodes\n",
    "nodes = nx.draw_networkx_nodes(player.G,\n",
    "                               pos,\n",
    "                               node_size=node_sizes,\n",
    "                               node_color='dodgerblue',\n",
    "                               ax=ax)\n",
    "node_labels = nx.get_node_attributes(player.G, 'ppg')\n",
    "nx.draw_networkx_labels(player.G,\n",
    "                        pos,\n",
    "                        node_labels,\n",
    "                        font_size=14,\n",
    "                        ax=ax, \n",
    "                        font_family='monospace', \n",
    "                        font_color='black', \n",
    "                        font_weight='bold',)\n",
    "\n",
    "# draw edges\n",
    "edges = nx.draw_networkx_edges(player.G,\n",
    "                               pos, \n",
    "                               arrowstyle='->', \n",
    "                               arrowsize=20, \n",
    "                               edge_cmap=plt.cm.Greys, \n",
    "                               width=3,\n",
    "                               ax=ax)\n",
    "edge_labels = nx.get_edge_attributes(player.G, 'probability')\n",
    "nx.draw_networkx_edge_labels(player.G, \n",
    "                             pos, \n",
    "                             edge_labels, \n",
    "                             font_size=12,\n",
    "                             ax=ax, \n",
    "                             font_family='monospace')\n",
    "\n",
    "# set alpha value for each edge\n",
    "for i in range(len(player.projections)):\n",
    "    edges[i].set_alpha(player.projections.probability.values[i])\n",
    "\n",
    "# colourscale for colourbar\n",
    "pc = matplotlib.collections.PatchCollection(edges, cmap=plt.cm.Greys)\n",
    "pc.set_array([(5 + i) / (30 + 4) for i in range(30)])\n",
    "plt.colorbar(pc)\n",
    "# create legend for projected points\n",
    "custom_leg = [mlines.Line2D([0], [0], marker='o', color='dodgerblue', linestyle='None') for _ in range(0,5)]\n",
    "# 4 part distirubtion\n",
    "Q1 = np.percentile([player.G.nodes[g]['ppg'] for g in player.G.nodes], 25, interpolation = 'midpoint').round(1) \n",
    "Q2 = np.percentile([player.G.nodes[g]['ppg'] for g in player.G.nodes], 50, interpolation = 'midpoint').round(1) \n",
    "Q3 = np.percentile([player.G.nodes[g]['ppg'] for g in player.G.nodes], 75, interpolation = 'midpoint').round(1)\n",
    "Q4 = np.percentile([player.G.nodes[g]['ppg'] for g in player.G.nodes], 100, interpolation = 'midpoint').round(1)\n",
    "point_range=[Q1, Q2, Q3, Q4]\n",
    "player.point_range = point_range\n",
    "custom_leg = [mlines.Line2D([0], [0],\n",
    "                            marker='o',\n",
    "                            color='dodgerblue',\n",
    "                            markersize=point_range[i] / player.position_ppg[player.position] * 9 ,\n",
    "                            linestyle='None') for i in range(0,4)]\n",
    "leg = plt.legend(custom_leg, point_range,\n",
    "                 title = 'Projected Points (PPG)',\n",
    "#                  markerscale=30,\n",
    "                 labelspacing=2.5,\n",
    "                 handletextpad=1.5,\n",
    "                 borderpad=1.5,\n",
    "                 ncol=4,\n",
    "                 loc=(0.025, .025))\n",
    "\n",
    "ax.annotate('', xytext=(-.075, 0),  xy=(-.075, 1),  xycoords='axes fraction', arrowprops=dict(color='black', width=2))\n",
    "\n",
    "# axis changes\n",
    "ax.set_yticks(ages)\n",
    "ax.tick_params(left=True, bottom=False, labelleft=True, labelbottom=False)\n",
    "ax.set_ylabel('Season Age', size=16, weight='bold')\n",
    "ax.set_xlabel('MeaningleX Axis', size=12)\n",
    "plt.gca().yaxis.grid(True, linestyle='--',)\n",
    "plt.title(f\"{player.player_name} Player Development\", fontsize=18, fontweight='bold')\n",
    "footnote = \"\"\"By: Connor Jung @ConnorJungle, Data Source: Elite Prospects\"\"\"\n",
    "plt.figtext(0.125, 0.05, footnote)"
   ]
  },
  {
   "cell_type": "code",
   "execution_count": 94,
   "metadata": {},
   "outputs": [
    {
     "name": "stdout",
     "output_type": "stream",
     "text": [
      "1 262.423\n",
      "2 150.92999999999998\n",
      "3 98.011\n",
      "4 33.326\n",
      "5 74.447\n",
      "6 2.857\n",
      "7 62.615\n",
      "8 0.0\n",
      "9 0.0\n",
      "10 0.0\n",
      "11 0.0\n",
      "12 0.0\n",
      "13 0.0\n",
      "14 0.0\n"
     ]
    }
   ],
   "source": [
    "def nhl_expected_value(G, node):\n",
    "    \n",
    "    value = []\n",
    "    for n in nx.descendants(G, node):\n",
    "        value.append(G.nodes[n]['xvalue'] if G.nodes[n]['league'] == 'NHL' else 0)\n",
    "    return np.sum(value)\n",
    "\n",
    "for i, n in enumerate(player.G.nodes):\n",
    "    print(i+1, nhl_expected_value(player.G, n))"
   ]
  },
  {
   "cell_type": "code",
   "execution_count": 99,
   "metadata": {},
   "outputs": [
    {
     "data": {
      "text/plain": [
       "98.798"
      ]
     },
     "execution_count": 99,
     "metadata": {},
     "output_type": "execute_result"
    }
   ],
   "source": [
    "62.615 + 2.857  + 33.326"
   ]
  },
  {
   "cell_type": "code",
   "execution_count": 42,
   "metadata": {},
   "outputs": [],
   "source": [
    "def node_probability(G, node):\n",
    "    \n",
    "    probabilities = []\n",
    "    for n in sorted(nx.ancestors(G, node))[::-1]:\n",
    "        probabilities.append(G.edges[(n, node)]['probability'])\n",
    "        node=n\n",
    "    return np.prod(probabilities)\n",
    "\n",
    "def node_expected_value(G, node):\n",
    "\n",
    "    return sum(G.nodes[node]['epoints'] * G.nodes[node]['cond_prob'] for n in nx.ancestors(G, node) | {node})\n",
    "\n",
    "def nhl_expected_value(G, node):\n",
    "    \n",
    "    value = []\n",
    "    for n in sorted(nx.descendants(G, node)):\n",
    "        value.append(G.nodes[n]['xvalue'] if G.nodes[n]['league'] == 'NHL' else 0)\n",
    "    return np.sum(value)\n",
    "\n",
    "def nhl_expected_value(G, node):\n",
    "        \n",
    "    return np.sum([G.nodes[n]['xvalue'] for n in nx.descendants(G, node) if G.nodes[n]['league'] == 'NHL']).round(1)"
   ]
  },
  {
   "cell_type": "code",
   "execution_count": 137,
   "metadata": {},
   "outputs": [
    {
     "name": "stdout",
     "output_type": "stream",
     "text": [
      "Node 2 xV: 124.17275200000002\n",
      "Node 3 xV: 15.551628000000001\n",
      "Node 4 xV: 42.511720020000006\n",
      "Node 5 xV: 74.86334856000002\n",
      "Node 6 xV: 32.917013999999995\n",
      "Node 7 xV: 58.35763208\n",
      "Node 8 xV: 14.75639497332\n",
      "Node 9 xV: 48.53716051184\n",
      "Node 10 xV: 33.473712000000006\n"
     ]
    }
   ],
   "source": [
    "df = df.assign(nhl_xvalue=np.nan,xvalue=np.nan,cond_probability=np.nan,)\n",
    "for node in df.node:\n",
    "    df.loc[df.node == node, ['nhl_xvalue']] = node_expected_value(G, node)\n",
    "    df.loc[df.node == node, ['xvalue']] = nhl_expected_value(G, node)\n",
    "    df.loc[df.node == node, ['cond_probability']] = node_probability(G, node)"
   ]
  },
  {
   "cell_type": "markdown",
   "metadata": {},
   "source": [
    "### Linear Model for Team Percentage of Scoring"
   ]
  },
  {
   "cell_type": "code",
   "execution_count": 76,
   "metadata": {},
   "outputs": [],
   "source": [
    "import pandas as pd\n",
    "\n",
    "df = pd.read_csv('../data/player_season_stats_v3.csv')\n",
    "X, y, _ = prepare_features(df, 'ppg_y_plus_1')"
   ]
  },
  {
   "cell_type": "code",
   "execution_count": 77,
   "metadata": {},
   "outputs": [],
   "source": [
    "from sklearn.metrics import mean_absolute_error, mean_squared_error\n",
    "from sklearn.linear_model import LinearRegression\n",
    "import seaborn as sns\n",
    "import matplotlib.pyplot as plt\n",
    "import seaborn as sns\n",
    "from scipy import stats\n",
    "import matplotlib.style as style\n",
    "\n",
    "def fit_team_scoring_model(data, scoring_metric):\n",
    "    \n",
    "    df = get_next_season_data(data)\n",
    "\n",
    "    df = df[(df.gp < 85)\n",
    "        & (df.gp > 30)\n",
    "        & (df.season_age >= 17)\n",
    "        & (df.season_age <= 24)\n",
    "        & (df.gp_y_plus_1.notnull())]\n",
    "    \n",
    "    age = pd.DataFrame(df.season_age)\n",
    "    \n",
    "    df = df.set_index(['playerid', 'player', 'season_age'])\n",
    "    \n",
    "    age.index = df.index\n",
    "    \n",
    "    features = df[[scoring_metric]].merge(\n",
    "        pd.get_dummies(df['league'], drop_first=True),\n",
    "        left_index=True,\n",
    "        right_index=True).merge(\n",
    "        pd.get_dummies(age.season_age, drop_first=True),\n",
    "        left_index=True,\n",
    "        right_index=True)\n",
    "    \n",
    "    label = 'perc_team_tp' if scoring_metric == 'ppg' \\\n",
    "    else 'perc_team_g' if scoring_metric == 'gpg'\\\n",
    "    else 'perc_team_a' \n",
    "    \n",
    "    print(features.shape)\n",
    "    \n",
    "    target = df[label]\n",
    "\n",
    "    lin_model = LinearRegression()\n",
    "\n",
    "    lin_model.fit(features[target.notnull().values], target[target.notnull().values])\n",
    "\n",
    "    print('Mean Absolute Error: ', mean_absolute_error(target[target.notnull().values],\n",
    "                                                       lin_model.predict(features[target.notnull().values])))\n",
    "\n",
    "    print('Mean Squared Error: ', mean_squared_error(target[target.notnull().values],\n",
    "                                                       lin_model.predict(features[target.notnull().values])))\n",
    "\n",
    "    sns.distplot(target[target.notnull().values])\n",
    "    plt.show()\n",
    "\n",
    "    plt.rc('axes', facecolor='#ffffff', edgecolor='#ffffff',\n",
    "           axisbelow=True, grid=True,\n",
    "          )\n",
    "    plt.rc('grid', color='grey', linestyle='dashed')\n",
    "    plt.rc('patch', edgecolor='#ffffff', facecolor='#ffffff')\n",
    "\n",
    "    plt.figure(figsize=(10,5),facecolor=\"#ffffff\")\n",
    "\n",
    "    slope, intercept, r_value, p_value, std_err = stats.linregress(lin_model.predict(features[target.notnull().values]),\n",
    "                                                                   target[target.notnull().values])\n",
    "\n",
    "    sns.regplot(x = lin_model.predict(features[target.notnull().values]),\n",
    "                y = target[target.notnull().values],\n",
    "                line_kws={'label':\"y={0:.1f}x+{1:.1f}, p-value: {2:2f}, R^2: {3:2f}\".format(slope,\n",
    "                                                                                               intercept,\n",
    "                                                                                               p_value, \n",
    "                                                                                               r_value ** 2)})\n",
    "    plt.title('Predicting Percentage of Team TP [Full LR]')\n",
    "    plt.legend()\n",
    "    plt.show()\n",
    "    \n",
    "    joblib.dump(lin_model, f'../models/{scoring_metric}_team_model.pkl')\n",
    "    \n",
    "    return features"
   ]
  },
  {
   "cell_type": "code",
   "execution_count": 78,
   "metadata": {},
   "outputs": [
    {
     "name": "stdout",
     "output_type": "stream",
     "text": [
      "(68936, 35)\n",
      "Mean Absolute Error:  0.008144816851405647\n",
      "Mean Squared Error:  0.00013299582806643843\n"
     ]
    },
    {
     "data": {
      "image/png": "[encoded data removed]",
      "text/plain": [
       "<Figure size 432x288 with 1 Axes>"
      ]
     },
     "metadata": {
      "needs_background": "light"
     },
     "output_type": "display_data"
    },
    {
     "data": {
      "image/png": "[encoded data removed]",
      "text/plain": [
       "<Figure size 720x360 with 1 Axes>"
      ]
     },
     "metadata": {},
     "output_type": "display_data"
    },
    {
     "name": "stdout",
     "output_type": "stream",
     "text": [
      "(68936, 35)\n",
      "Mean Absolute Error:  0.00840731749713245\n",
      "Mean Squared Error:  0.00014379513080150111\n"
     ]
    },
    {
     "data": {
      "image/png": "[encoded data removed]",
      "text/plain": [
       "<Figure size 432x288 with 1 Axes>"
      ]
     },
     "metadata": {
      "needs_background": "light"
     },
     "output_type": "display_data"
    },
    {
     "data": {
      "image/png": "[encoded data removed]",
      "text/plain": [
       "<Figure size 720x360 with 1 Axes>"
      ]
     },
     "metadata": {},
     "output_type": "display_data"
    },
    {
     "name": "stdout",
     "output_type": "stream",
     "text": [
      "(68936, 35)\n",
      "Mean Absolute Error:  0.008483355596414307\n",
      "Mean Squared Error:  0.00015962756766618228\n"
     ]
    },
    {
     "data": {
      "image/png": "[encoded data removed]",
      "text/plain": [
       "<Figure size 432x288 with 1 Axes>"
      ]
     },
     "metadata": {
      "needs_background": "light"
     },
     "output_type": "display_data"
    },
    {
     "data": {
      "image/png": "[encoded data removed]",
      "text/plain": [
       "<Figure size 720x360 with 1 Axes>"
      ]
     },
     "metadata": {},
     "output_type": "display_data"
    }
   ],
   "source": [
    "metric = ['ppg', 'apg', 'gpg']\n",
    "for met in metric:\n",
    "    feats = fit_team_scoring_model(df, met)"
   ]
  },
  {
   "cell_type": "code",
   "execution_count": 236,
   "metadata": {},
   "outputs": [],
   "source": [
    "def get_primary_position(val):\n",
    "\n",
    "    match = re.search('[c,w,lw,rw,f]', val.lower())\n",
    "\n",
    "    if match:\n",
    "        return 'F'\n",
    "    else:\n",
    "        return 'D'"
   ]
  },
  {
   "cell_type": "code",
   "execution_count": 237,
   "metadata": {},
   "outputs": [],
   "source": [
    "data = player.dataset\n",
    "data['primary_position'] = data.position.apply(get_primary_position)"
   ]
  },
  {
   "cell_type": "code",
   "execution_count": 243,
   "metadata": {},
   "outputs": [],
   "source": [
    "def scoring_by_position(self):\n",
    "    \n",
    "    data = player.dataset\n",
    "    \n",
    "    data['primary_position'] = data.position.apply(get_primary_position)\n",
    "    \n",
    "    self.position_ppg = data[(data.season_age >= 17)\n",
    "                             & (data.season_age <= 23)].groupby('primary_position').ppg.mean().to_dict()\n",
    "\n"
   ]
  },
  {
   "cell_type": "markdown",
   "metadata": {},
   "source": [
    "# Plotly NxGraph"
   ]
  },
  {
   "cell_type": "code",
   "execution_count": 783,
   "metadata": {},
   "outputs": [],
   "source": [
    "import plotly.graph_objects as go\n",
    "from scipy import stats\n",
    "import networkx as nx\n",
    "\n",
    "G = nx.random_geometric_graph(200, 0.125)"
   ]
  },
  {
   "cell_type": "code",
   "execution_count": 963,
   "metadata": {},
   "outputs": [
    {
     "data": {
      "text/plain": [
       "{(1.0, 1.0): Text(3.8333333333333335, 18.0, 'nan'),\n",
       " (1.0, 2.0): Text(2.738095238095238, 18.5, '0.559'),\n",
       " (1.0, 3.0): Text(4.928571428571429, 18.5, '0.441'),\n",
       " (2.0, 4.0): Text(1.6428571428571428, 19.5, '1.0'),\n",
       " (3.0, 5.0): Text(6.023809523809524, 19.5, '0.627'),\n",
       " (3.0, 6.0): Text(8.214285714285715, 19.5, '0.373'),\n",
       " (4.0, 7.0): Text(1.6428571428571428, 20.5, '1.0'),\n",
       " (5.0, 8.0): Text(6.023809523809524, 20.5, '1.0'),\n",
       " (6.0, 9.0): Text(10.404761904761905, 20.5, '1.0'),\n",
       " (7.0, 10.0): Text(1.6428571428571428, 21.5, '1.0'),\n",
       " (8.0, 11.0): Text(6.023809523809524, 21.5, '1.0'),\n",
       " (9.0, 12.0): Text(10.404761904761905, 21.5, '1.0'),\n",
       " (10.0, 13.0): Text(1.6428571428571428, 22.5, '1.0'),\n",
       " (11.0, 14.0): Text(6.023809523809524, 22.5, '1.0'),\n",
       " (12.0, 15.0): Text(10.404761904761905, 22.5, '1.0')}"
      ]
     },
     "execution_count": 963,
     "metadata": {},
     "output_type": "execute_result"
    }
   ],
   "source": [
    "# create tree layout and rescale based on age\n",
    "pos = graphviz_layout(player.G, prog='dot')\n",
    "# array of ages for y-axis\n",
    "ages = np.arange(player.start_age,\n",
    "                 player.projections.season_age.astype(int).max() + 1,\n",
    "                 1)\n",
    "# rescale x,y coordinates\n",
    "y = np.array([xy[1] for _, xy in pos.items()])\n",
    "y_rescale = (y.max() / y.min()) / (ages.max() / ages.min())\n",
    "y_map = { k:v for k,v in zip(sorted(np.unique(y))[::-1], ages)}\n",
    "pos = {u :(v[0] / y_rescale, y_map[v[1]]) for u,v in pos.items()}\n",
    "\n",
    "node_sizes = [player.G.nodes[g]['ppg'] / player.position_ppg[player.position] * 300 for g in player.G.nodes]\n",
    "player.node_sizes = node_sizes\n",
    "\n",
    "# draw nodes\n",
    "nodes = nx.draw_networkx_nodes(player.G,\n",
    "                               pos,\n",
    "                               node_size=node_sizes,\n",
    "                               node_color='dodgerblue',\n",
    "                               ax=ax)\n",
    "node_labels = nx.get_node_attributes(player.G, 'ppg')\n",
    "nx.draw_networkx_labels(player.G,\n",
    "                        pos,\n",
    "                        node_labels,\n",
    "                        font_size=14,\n",
    "                        ax=ax, \n",
    "                        font_family='monospace', \n",
    "                        font_color='black', \n",
    "                        font_weight='bold',)\n",
    "\n",
    "# draw edges\n",
    "edges = nx.draw_networkx_edges(player.G,\n",
    "                               pos, \n",
    "                               arrowstyle='->', \n",
    "                               arrowsize=20, \n",
    "                               edge_cmap=plt.cm.Greys, \n",
    "                               width=3,\n",
    "                               ax=ax)\n",
    "edge_labels = nx.get_edge_attributes(player.G, 'probability')\n",
    "nx.draw_networkx_edge_labels(player.G, \n",
    "                             pos, \n",
    "                             edge_labels, \n",
    "                             font_size=12,\n",
    "                             ax=ax, \n",
    "                             font_family='monospace')\n"
   ]
  },
  {
   "cell_type": "code",
   "execution_count": 428,
   "metadata": {},
   "outputs": [],
   "source": [
    "edge_x = []\n",
    "edge_y = []\n",
    "for edge in player.G.edges():\n",
    "    x0, y0 = pos[edge[0]]\n",
    "    x1, y1 = pos[edge[1]]\n",
    "    edge_x.append(x0)\n",
    "    edge_x.append(x1)\n",
    "    edge_x.append(None)\n",
    "    edge_y.append(y0)\n",
    "    edge_y.append(y1)\n",
    "    edge_y.append(None)\n",
    "\n",
    "edge_trace = go.Scatter(\n",
    "    x=edge_x, y=edge_y,\n",
    "    line=dict(width=0.5, color=f'rgba(30, 117, 255, 1)'),\n",
    "    hoverinfo='none',\n",
    "    mode='lines')\n",
    "\n",
    "node_x = []\n",
    "node_y = []\n",
    "labels = []\n",
    "for node in player.G.nodes():\n",
    "    x, y = pos[node]\n",
    "    labels.append(\"<b>\" + nx.get_node_attributes(player.G, 'league')[node]) \n",
    "    node_x.append(x)\n",
    "    node_y.append(y)\n"
   ]
  },
  {
   "cell_type": "code",
   "execution_count": 35,
   "metadata": {},
   "outputs": [],
   "source": [
    "def get_development_graph(player):\n",
    "    \n",
    "    # create tree layout and rescale based on age\n",
    "    pos = graphviz_layout(player.G, prog='dot')\n",
    "    # array of ages for y-axis\n",
    "    ages = np.arange(player.start_age,\n",
    "                     player.projections.season_age.astype(int).max() + 1,\n",
    "                     1)\n",
    "    # rescale x,y coordinates\n",
    "    y = np.array([xy[1] for _, xy in pos.items()])\n",
    "    y_rescale = (y.max() / y.min()) / (ages.max() / ages.min())\n",
    "    y_map = { k:v for k,v in zip(sorted(np.unique(y))[::-1], ages)}\n",
    "    pos = {u :(v[0] / y_rescale, y_map[v[1]]) for u,v in pos.items()}\n",
    "    \n",
    "    edge_labels = nx.get_edge_attributes(player.G, 'probability')\n",
    "    \n",
    "    node_trace = go.Scatter(\n",
    "        x=[pos[node][0] for node in player.G.nodes()],\n",
    "        y=[pos[node][1] for node in player.G.nodes()],\n",
    "        mode='markers+text',\n",
    "        text=[\"<b>\" + player.G.nodes[g]['league'] for g in player.G.nodes],\n",
    "        hovertemplate=\n",
    "            \"</b><b>%{customdata[1]}</b><br><br>\" +\n",
    "            \"Age: <b>%{y:,.0f}</b><br>\" +\n",
    "            \"League: %{text}</b><br>\" +\n",
    "            \"PPG: <b>%{customdata[0]:,}</b>\" +\n",
    "            \"<extra></extra>\",\n",
    "        customdata=[(round(player.G.nodes[g]['ppg'], 2), \n",
    "                     player.G.nodes[g]['role'])  for g in player.G.nodes],\n",
    "        textposition='middle center',\n",
    "        showlegend=True,\n",
    "        textfont=dict(size=14,),\n",
    "        marker=dict(\n",
    "#             color=[f'rgba(0, 116, 255, {d})' for d in d],\n",
    "            color=[player.G.nodes[g]['role_rank']  for g in player.G.nodes],\n",
    "            size= [(player.G.nodes[g]['role_rank'] / 50) * 20 for g in player.G.nodes],\n",
    "            cmax=100,\n",
    "            cmin=0,\n",
    "            cmid=30,\n",
    "            colorbar=dict(\n",
    "                title=\"<b>Scoring Role<b> <br />\",\n",
    "                titleside=\"top\",\n",
    "                ticks='outside',\n",
    "                showticklabels=True,\n",
    "                tickvals=[29, 49, 74, 89, 95],\n",
    "                ticktext=['Depth', 'Top 9', 'Top 6', 'Top Line', 'Elite']\n",
    "            ),\n",
    "            colorscale='rdbu'\n",
    "            )\n",
    "    )\n",
    "\n",
    "    legend = go.Scatter(x=[None], y=[None],\n",
    "                       marker=dict(\n",
    "            size=0,\n",
    "            cmax=1,\n",
    "            cmin=0,\n",
    "            color=[0,1],\n",
    "            colorbar=dict(\n",
    "                title=\"<b>Transition %<b> <br />\",\n",
    "                titleside=\"top\",\n",
    "            ),\n",
    "            colorscale=\"Greys\"\n",
    "        ),\n",
    "                        showlegend=True,\n",
    "        mode=\"markers\")\n",
    "\n",
    "    fig = go.Figure(data=[node_trace, ],\n",
    "                 layout=go.Layout(\n",
    "                     font=dict(family='overpass, monospace') , \n",
    "                    title=f\"<b>{player.player_name} Player Development</b>\",\n",
    "                    titlefont_size=18,\n",
    "                     title_x=0.5,\n",
    "                     plot_bgcolor='rgb(255,255,255)',\n",
    "                    showlegend=False,\n",
    "                    hovermode='closest',\n",
    "                    margin=dict(b=20,l=5,r=5,t=40),\n",
    "                    annotations=[ dict(\n",
    "                        text=\"By: Connor Jung <a href='https://twitter.com/ConnorJungle'>@ConnorJungle</a> Data Source: Elite Prospects\",\n",
    "                        showarrow=False,\n",
    "                        xref=\"paper\", yref=\"paper\",\n",
    "                        x=0.005, y=-0.005 ) ],\n",
    "                     yaxis=dict(title='<b>Season Age</b>', showline=True, linewidth=2, linecolor='black', mirror=True),\n",
    "                    xaxis=dict(showticklabels=False, title='MeaningleX Axis', showline=True, linewidth=2, linecolor='black', mirror=True),\n",
    "                 )\n",
    "                   )\n",
    "\n",
    "    for edge in player.G.edges():\n",
    "\n",
    "        fig.add_annotation(\n",
    "          x=(pos[edge[1]][0] + pos[edge[0]][0]) / 2,  # arrows' tail\n",
    "          y=(pos[edge[1]][1] + pos[edge[0]][1]) / 2,  # arrows' tail\n",
    "    #         xanchor=\"right\",\n",
    "    #         yanchor=\"bottom\",\n",
    "            showarrow=False,\n",
    "            bordercolor=\"lightslategrey\",\n",
    "            borderwidth=2,\n",
    "            borderpad=1,\n",
    "          text= \"{:.0%}\".format(edge_labels[edge])\n",
    "        )\n",
    "\n",
    "        fig.add_annotation(\n",
    "          x=pos[edge[1]][0],  # arrows' head\n",
    "          y=pos[edge[1]][1],  # arrows' head\n",
    "          ax=pos[edge[0]][0],  # arrows' tail\n",
    "          ay=pos[edge[0]][1],  # arrows' tail\n",
    "          xref='x1',\n",
    "          yref='y1',\n",
    "          axref='x1',\n",
    "          ayref='y1',\n",
    "            opacity=0.3,\n",
    "          showarrow=True,\n",
    "          arrowhead=3,\n",
    "          arrowsize=1,\n",
    "          arrowwidth=3,\n",
    "          arrowcolor='lightslategrey',\n",
    "            standoff = 15\n",
    "        )\n",
    "\n",
    "    for y in np.unique([v[1] for k,v in pos.items()]):\n",
    "        fig.add_shape(\n",
    "                # Line Horizontal\n",
    "                    type=\"line\",\n",
    "                    y0=y,\n",
    "                    x1=max([v[0] for k,v in pos.items()]) + (max([v[0] for k,v in pos.items()]) * 0.10) ,\n",
    "                    x0=min([v[0] for k,v in pos.items()]) - (max([v[0] for k,v in pos.items()]) * 0.10) ,\n",
    "                    y1=y,\n",
    "                    layer='below',\n",
    "                    line=dict(\n",
    "                        color=\"rgba(212, 212, 212, 1)\",\n",
    "                        width=2,\n",
    "                        dash=\"dashdot\",\n",
    "                    ))\n",
    "\n",
    "    \n",
    "    return fig.show(config = {'displayModeBar': False})"
   ]
  },
  {
   "cell_type": "code",
   "execution_count": 36,
   "metadata": {
    "scrolled": false
   },
   "outputs": [
    {
     "data": {
      "application/vnd.plotly.v1+json": {
       "config": {
        "displayModeBar": false,
        "plotlyServerURL": "https://plot.ly"
       },
       "data": [
        {
         "customdata": [
          [
           1.69,
           "Elite"
          ],
          [
           2.1,
           "Elite"
          ],
          [
           0.69,
           "Top Line"
          ],
          [
           2.08,
           "Elite"
          ],
          [
           0.48,
           "Top 6"
          ],
          [
           0.64,
           "Top 6"
          ],
          [
           0.54,
           "Top 6"
          ],
          [
           1.56,
           "Elite"
          ],
          [
           0.65,
           "Top Line"
          ],
          [
           0.69,
           "Top Line"
          ],
          [
           0.73,
           "Top Line"
          ],
          [
           0.56,
           "Top 6"
          ],
          [
           0.82,
           "Top Line"
          ],
          [
           0.78,
           "Top Line"
          ],
          [
           0.8,
           "Top Line"
          ],
          [
           0.68,
           "Top Line"
          ],
          [
           0.66,
           "Top Line"
          ],
          [
           0.53,
           "Top 6"
          ],
          [
           0.8,
           "Top Line"
          ],
          [
           0.69,
           "Top Line"
          ],
          [
           0.7,
           "Top Line"
          ]
         ],
         "hovertemplate": "</b><b>%{customdata[1]}</b><br><br>Age: <b>%{y:,.0f}</b><br>League: %{text}</b><br>PPG: <b>%{customdata[0]:,}</b><extra></extra>",
         "marker": {
          "cmax": 100,
          "cmid": 30,
          "cmin": 0,
          "color": [
           99,
           100,
           79,
           100,
           57,
           75,
           64,
           99,
           76,
           79,
           82,
           66,
           89,
           86,
           87,
           78,
           76,
           63,
           87,
           79,
           80
          ],
          "colorbar": {
           "showticklabels": true,
           "ticks": "outside",
           "ticktext": [
            "Depth",
            "Top 9",
            "Top 6",
            "Top Line",
            "Elite"
           ],
           "tickvals": [
            29,
            49,
            74,
            89,
            95
           ],
           "title": {
            "side": "top",
            "text": "<b>Scoring Role<b> <br />"
           }
          },
          "colorscale": [
           [
            0,
            "rgb(103,0,31)"
           ],
           [
            0.1,
            "rgb(178,24,43)"
           ],
           [
            0.2,
            "rgb(214,96,77)"
           ],
           [
            0.3,
            "rgb(244,165,130)"
           ],
           [
            0.4,
            "rgb(253,219,199)"
           ],
           [
            0.5,
            "rgb(247,247,247)"
           ],
           [
            0.6,
            "rgb(209,229,240)"
           ],
           [
            0.7,
            "rgb(146,197,222)"
           ],
           [
            0.8,
            "rgb(67,147,195)"
           ],
           [
            0.9,
            "rgb(33,102,172)"
           ],
           [
            1,
            "rgb(5,48,97)"
           ]
          ],
          "size": [
           39.6,
           40,
           31.6,
           40,
           22.799999999999997,
           30,
           25.6,
           39.6,
           30.4,
           31.6,
           32.8,
           26.400000000000002,
           35.6,
           34.4,
           34.8,
           31.200000000000003,
           30.4,
           25.2,
           34.8,
           31.6,
           32
          ]
         },
         "mode": "markers+text",
         "showlegend": true,
         "text": [
          "<b>WHL",
          "<b>WHL",
          "<b>NHL",
          "<b>WHL",
          "<b>NHL",
          "<b>NHL",
          "<b>NHL",
          "<b>WHL",
          "<b>NHL",
          "<b>NHL",
          "<b>NHL",
          "<b>NHL",
          "<b>AHL",
          "<b>NHL",
          "<b>NHL",
          "<b>NHL",
          "<b>NHL",
          "<b>NHL",
          "<b>AHL",
          "<b>NHL",
          "<b>NHL"
         ],
         "textfont": {
          "size": 14
         },
         "textposition": "middle center",
         "type": "scatter",
         "x": [
          21.357142857142858,
          19.166666666666668,
          23.547619047619047,
          8.214285714285714,
          19.166666666666668,
          23.547619047619047,
          3.8333333333333335,
          8.214285714285714,
          19.166666666666668,
          23.547619047619047,
          1.6428571428571428,
          6.023809523809524,
          10.404761904761905,
          19.166666666666668,
          23.547619047619047,
          1.6428571428571428,
          6.023809523809524,
          10.404761904761905,
          14.785714285714285,
          19.166666666666668,
          23.547619047619047
         ],
         "y": [
          18,
          19,
          19,
          20,
          20,
          20,
          21,
          21,
          21,
          21,
          22,
          22,
          22,
          22,
          22,
          23,
          23,
          23,
          23,
          23,
          23
         ]
        }
       ],
       "layout": {
        "annotations": [
         {
          "showarrow": false,
          "text": "By: Connor Jung <a href='https://twitter.com/ConnorJungle'>@ConnorJungle</a> Data Source: Elite Prospects",
          "x": 0.005,
          "xref": "paper",
          "y": -0.005,
          "yref": "paper"
         },
         {
          "bordercolor": "lightslategrey",
          "borderpad": 1,
          "borderwidth": 2,
          "showarrow": false,
          "text": "81%",
          "x": 20.261904761904763,
          "y": 18.5
         },
         {
          "arrowcolor": "lightslategrey",
          "arrowhead": 3,
          "arrowsize": 1,
          "arrowwidth": 3,
          "ax": 21.357142857142858,
          "axref": "x",
          "ay": 18,
          "ayref": "y",
          "opacity": 0.3,
          "showarrow": true,
          "standoff": 15,
          "x": 19.166666666666668,
          "xref": "x",
          "y": 19,
          "yref": "y"
         },
         {
          "bordercolor": "lightslategrey",
          "borderpad": 1,
          "borderwidth": 2,
          "showarrow": false,
          "text": "19%",
          "x": 22.452380952380953,
          "y": 18.5
         },
         {
          "arrowcolor": "lightslategrey",
          "arrowhead": 3,
          "arrowsize": 1,
          "arrowwidth": 3,
          "ax": 21.357142857142858,
          "axref": "x",
          "ay": 18,
          "ayref": "y",
          "opacity": 0.3,
          "showarrow": true,
          "standoff": 15,
          "x": 23.547619047619047,
          "xref": "x",
          "y": 19,
          "yref": "y"
         },
         {
          "bordercolor": "lightslategrey",
          "borderpad": 1,
          "borderwidth": 2,
          "showarrow": false,
          "text": "72%",
          "x": 13.69047619047619,
          "y": 19.5
         },
         {
          "arrowcolor": "lightslategrey",
          "arrowhead": 3,
          "arrowsize": 1,
          "arrowwidth": 3,
          "ax": 19.166666666666668,
          "axref": "x",
          "ay": 19,
          "ayref": "y",
          "opacity": 0.3,
          "showarrow": true,
          "standoff": 15,
          "x": 8.214285714285714,
          "xref": "x",
          "y": 20,
          "yref": "y"
         },
         {
          "bordercolor": "lightslategrey",
          "borderpad": 1,
          "borderwidth": 2,
          "showarrow": false,
          "text": "28%",
          "x": 19.166666666666668,
          "y": 19.5
         },
         {
          "arrowcolor": "lightslategrey",
          "arrowhead": 3,
          "arrowsize": 1,
          "arrowwidth": 3,
          "ax": 19.166666666666668,
          "axref": "x",
          "ay": 19,
          "ayref": "y",
          "opacity": 0.3,
          "showarrow": true,
          "standoff": 15,
          "x": 19.166666666666668,
          "xref": "x",
          "y": 20,
          "yref": "y"
         },
         {
          "bordercolor": "lightslategrey",
          "borderpad": 1,
          "borderwidth": 2,
          "showarrow": false,
          "text": "100%",
          "x": 23.547619047619047,
          "y": 19.5
         },
         {
          "arrowcolor": "lightslategrey",
          "arrowhead": 3,
          "arrowsize": 1,
          "arrowwidth": 3,
          "ax": 23.547619047619047,
          "axref": "x",
          "ay": 19,
          "ayref": "y",
          "opacity": 0.3,
          "showarrow": true,
          "standoff": 15,
          "x": 23.547619047619047,
          "xref": "x",
          "y": 20,
          "yref": "y"
         },
         {
          "bordercolor": "lightslategrey",
          "borderpad": 1,
          "borderwidth": 2,
          "showarrow": false,
          "text": "82%",
          "x": 6.023809523809524,
          "y": 20.5
         },
         {
          "arrowcolor": "lightslategrey",
          "arrowhead": 3,
          "arrowsize": 1,
          "arrowwidth": 3,
          "ax": 8.214285714285714,
          "axref": "x",
          "ay": 20,
          "ayref": "y",
          "opacity": 0.3,
          "showarrow": true,
          "standoff": 15,
          "x": 3.8333333333333335,
          "xref": "x",
          "y": 21,
          "yref": "y"
         },
         {
          "bordercolor": "lightslategrey",
          "borderpad": 1,
          "borderwidth": 2,
          "showarrow": false,
          "text": "18%",
          "x": 8.214285714285714,
          "y": 20.5
         },
         {
          "arrowcolor": "lightslategrey",
          "arrowhead": 3,
          "arrowsize": 1,
          "arrowwidth": 3,
          "ax": 8.214285714285714,
          "axref": "x",
          "ay": 20,
          "ayref": "y",
          "opacity": 0.3,
          "showarrow": true,
          "standoff": 15,
          "x": 8.214285714285714,
          "xref": "x",
          "y": 21,
          "yref": "y"
         },
         {
          "bordercolor": "lightslategrey",
          "borderpad": 1,
          "borderwidth": 2,
          "showarrow": false,
          "text": "100%",
          "x": 19.166666666666668,
          "y": 20.5
         },
         {
          "arrowcolor": "lightslategrey",
          "arrowhead": 3,
          "arrowsize": 1,
          "arrowwidth": 3,
          "ax": 19.166666666666668,
          "axref": "x",
          "ay": 20,
          "ayref": "y",
          "opacity": 0.3,
          "showarrow": true,
          "standoff": 15,
          "x": 19.166666666666668,
          "xref": "x",
          "y": 21,
          "yref": "y"
         },
         {
          "bordercolor": "lightslategrey",
          "borderpad": 1,
          "borderwidth": 2,
          "showarrow": false,
          "text": "100%",
          "x": 23.547619047619047,
          "y": 20.5
         },
         {
          "arrowcolor": "lightslategrey",
          "arrowhead": 3,
          "arrowsize": 1,
          "arrowwidth": 3,
          "ax": 23.547619047619047,
          "axref": "x",
          "ay": 20,
          "ayref": "y",
          "opacity": 0.3,
          "showarrow": true,
          "standoff": 15,
          "x": 23.547619047619047,
          "xref": "x",
          "y": 21,
          "yref": "y"
         },
         {
          "bordercolor": "lightslategrey",
          "borderpad": 1,
          "borderwidth": 2,
          "showarrow": false,
          "text": "100%",
          "x": 2.738095238095238,
          "y": 21.5
         },
         {
          "arrowcolor": "lightslategrey",
          "arrowhead": 3,
          "arrowsize": 1,
          "arrowwidth": 3,
          "ax": 3.8333333333333335,
          "axref": "x",
          "ay": 21,
          "ayref": "y",
          "opacity": 0.3,
          "showarrow": true,
          "standoff": 15,
          "x": 1.6428571428571428,
          "xref": "x",
          "y": 22,
          "yref": "y"
         },
         {
          "bordercolor": "lightslategrey",
          "borderpad": 1,
          "borderwidth": 2,
          "showarrow": false,
          "text": "82%",
          "x": 7.119047619047619,
          "y": 21.5
         },
         {
          "arrowcolor": "lightslategrey",
          "arrowhead": 3,
          "arrowsize": 1,
          "arrowwidth": 3,
          "ax": 8.214285714285714,
          "axref": "x",
          "ay": 21,
          "ayref": "y",
          "opacity": 0.3,
          "showarrow": true,
          "standoff": 15,
          "x": 6.023809523809524,
          "xref": "x",
          "y": 22,
          "yref": "y"
         },
         {
          "bordercolor": "lightslategrey",
          "borderpad": 1,
          "borderwidth": 2,
          "showarrow": false,
          "text": "18%",
          "x": 9.30952380952381,
          "y": 21.5
         },
         {
          "arrowcolor": "lightslategrey",
          "arrowhead": 3,
          "arrowsize": 1,
          "arrowwidth": 3,
          "ax": 8.214285714285714,
          "axref": "x",
          "ay": 21,
          "ayref": "y",
          "opacity": 0.3,
          "showarrow": true,
          "standoff": 15,
          "x": 10.404761904761905,
          "xref": "x",
          "y": 22,
          "yref": "y"
         },
         {
          "bordercolor": "lightslategrey",
          "borderpad": 1,
          "borderwidth": 2,
          "showarrow": false,
          "text": "100%",
          "x": 19.166666666666668,
          "y": 21.5
         },
         {
          "arrowcolor": "lightslategrey",
          "arrowhead": 3,
          "arrowsize": 1,
          "arrowwidth": 3,
          "ax": 19.166666666666668,
          "axref": "x",
          "ay": 21,
          "ayref": "y",
          "opacity": 0.3,
          "showarrow": true,
          "standoff": 15,
          "x": 19.166666666666668,
          "xref": "x",
          "y": 22,
          "yref": "y"
         },
         {
          "bordercolor": "lightslategrey",
          "borderpad": 1,
          "borderwidth": 2,
          "showarrow": false,
          "text": "100%",
          "x": 23.547619047619047,
          "y": 21.5
         },
         {
          "arrowcolor": "lightslategrey",
          "arrowhead": 3,
          "arrowsize": 1,
          "arrowwidth": 3,
          "ax": 23.547619047619047,
          "axref": "x",
          "ay": 21,
          "ayref": "y",
          "opacity": 0.3,
          "showarrow": true,
          "standoff": 15,
          "x": 23.547619047619047,
          "xref": "x",
          "y": 22,
          "yref": "y"
         },
         {
          "bordercolor": "lightslategrey",
          "borderpad": 1,
          "borderwidth": 2,
          "showarrow": false,
          "text": "100%",
          "x": 1.6428571428571428,
          "y": 22.5
         },
         {
          "arrowcolor": "lightslategrey",
          "arrowhead": 3,
          "arrowsize": 1,
          "arrowwidth": 3,
          "ax": 1.6428571428571428,
          "axref": "x",
          "ay": 22,
          "ayref": "y",
          "opacity": 0.3,
          "showarrow": true,
          "standoff": 15,
          "x": 1.6428571428571428,
          "xref": "x",
          "y": 23,
          "yref": "y"
         },
         {
          "bordercolor": "lightslategrey",
          "borderpad": 1,
          "borderwidth": 2,
          "showarrow": false,
          "text": "100%",
          "x": 6.023809523809524,
          "y": 22.5
         },
         {
          "arrowcolor": "lightslategrey",
          "arrowhead": 3,
          "arrowsize": 1,
          "arrowwidth": 3,
          "ax": 6.023809523809524,
          "axref": "x",
          "ay": 22,
          "ayref": "y",
          "opacity": 0.3,
          "showarrow": true,
          "standoff": 15,
          "x": 6.023809523809524,
          "xref": "x",
          "y": 23,
          "yref": "y"
         },
         {
          "bordercolor": "lightslategrey",
          "borderpad": 1,
          "borderwidth": 2,
          "showarrow": false,
          "text": "83%",
          "x": 10.404761904761905,
          "y": 22.5
         },
         {
          "arrowcolor": "lightslategrey",
          "arrowhead": 3,
          "arrowsize": 1,
          "arrowwidth": 3,
          "ax": 10.404761904761905,
          "axref": "x",
          "ay": 22,
          "ayref": "y",
          "opacity": 0.3,
          "showarrow": true,
          "standoff": 15,
          "x": 10.404761904761905,
          "xref": "x",
          "y": 23,
          "yref": "y"
         },
         {
          "bordercolor": "lightslategrey",
          "borderpad": 1,
          "borderwidth": 2,
          "showarrow": false,
          "text": "17%",
          "x": 12.595238095238095,
          "y": 22.5
         },
         {
          "arrowcolor": "lightslategrey",
          "arrowhead": 3,
          "arrowsize": 1,
          "arrowwidth": 3,
          "ax": 10.404761904761905,
          "axref": "x",
          "ay": 22,
          "ayref": "y",
          "opacity": 0.3,
          "showarrow": true,
          "standoff": 15,
          "x": 14.785714285714285,
          "xref": "x",
          "y": 23,
          "yref": "y"
         },
         {
          "bordercolor": "lightslategrey",
          "borderpad": 1,
          "borderwidth": 2,
          "showarrow": false,
          "text": "100%",
          "x": 19.166666666666668,
          "y": 22.5
         },
         {
          "arrowcolor": "lightslategrey",
          "arrowhead": 3,
          "arrowsize": 1,
          "arrowwidth": 3,
          "ax": 19.166666666666668,
          "axref": "x",
          "ay": 22,
          "ayref": "y",
          "opacity": 0.3,
          "showarrow": true,
          "standoff": 15,
          "x": 19.166666666666668,
          "xref": "x",
          "y": 23,
          "yref": "y"
         },
         {
          "bordercolor": "lightslategrey",
          "borderpad": 1,
          "borderwidth": 2,
          "showarrow": false,
          "text": "100%",
          "x": 23.547619047619047,
          "y": 22.5
         },
         {
          "arrowcolor": "lightslategrey",
          "arrowhead": 3,
          "arrowsize": 1,
          "arrowwidth": 3,
          "ax": 23.547619047619047,
          "axref": "x",
          "ay": 22,
          "ayref": "y",
          "opacity": 0.3,
          "showarrow": true,
          "standoff": 15,
          "x": 23.547619047619047,
          "xref": "x",
          "y": 23,
          "yref": "y"
         }
        ],
        "font": {
         "family": "overpass, monospace"
        },
        "hovermode": "closest",
        "margin": {
         "b": 20,
         "l": 5,
         "r": 5,
         "t": 40
        },
        "plot_bgcolor": "rgb(255,255,255)",
        "shapes": [
         {
          "layer": "below",
          "line": {
           "color": "rgba(212, 212, 212, 1)",
           "dash": "dashdot",
           "width": 2
          },
          "type": "line",
          "x0": -0.711904761904762,
          "x1": 25.902380952380952,
          "y0": 18,
          "y1": 18
         },
         {
          "layer": "below",
          "line": {
           "color": "rgba(212, 212, 212, 1)",
           "dash": "dashdot",
           "width": 2
          },
          "type": "line",
          "x0": -0.711904761904762,
          "x1": 25.902380952380952,
          "y0": 19,
          "y1": 19
         },
         {
          "layer": "below",
          "line": {
           "color": "rgba(212, 212, 212, 1)",
           "dash": "dashdot",
           "width": 2
          },
          "type": "line",
          "x0": -0.711904761904762,
          "x1": 25.902380952380952,
          "y0": 20,
          "y1": 20
         },
         {
          "layer": "below",
          "line": {
           "color": "rgba(212, 212, 212, 1)",
           "dash": "dashdot",
           "width": 2
          },
          "type": "line",
          "x0": -0.711904761904762,
          "x1": 25.902380952380952,
          "y0": 21,
          "y1": 21
         },
         {
          "layer": "below",
          "line": {
           "color": "rgba(212, 212, 212, 1)",
           "dash": "dashdot",
           "width": 2
          },
          "type": "line",
          "x0": -0.711904761904762,
          "x1": 25.902380952380952,
          "y0": 22,
          "y1": 22
         },
         {
          "layer": "below",
          "line": {
           "color": "rgba(212, 212, 212, 1)",
           "dash": "dashdot",
           "width": 2
          },
          "type": "line",
          "x0": -0.711904761904762,
          "x1": 25.902380952380952,
          "y0": 23,
          "y1": 23
         }
        ],
        "showlegend": false,
        "template": {
         "data": {
          "bar": [
           {
            "error_x": {
             "color": "#2a3f5f"
            },
            "error_y": {
             "color": "#2a3f5f"
            },
            "marker": {
             "line": {
              "color": "#E5ECF6",
              "width": 0.5
             }
            },
            "type": "bar"
           }
          ],
          "barpolar": [
           {
            "marker": {
             "line": {
              "color": "#E5ECF6",
              "width": 0.5
             }
            },
            "type": "barpolar"
           }
          ],
          "carpet": [
           {
            "aaxis": {
             "endlinecolor": "#2a3f5f",
             "gridcolor": "white",
             "linecolor": "white",
             "minorgridcolor": "white",
             "startlinecolor": "#2a3f5f"
            },
            "baxis": {
             "endlinecolor": "#2a3f5f",
             "gridcolor": "white",
             "linecolor": "white",
             "minorgridcolor": "white",
             "startlinecolor": "#2a3f5f"
            },
            "type": "carpet"
           }
          ],
          "choropleth": [
           {
            "colorbar": {
             "outlinewidth": 0,
             "ticks": ""
            },
            "type": "choropleth"
           }
          ],
          "contour": [
           {
            "colorbar": {
             "outlinewidth": 0,
             "ticks": ""
            },
            "colorscale": [
             [
              0,
              "#0d0887"
             ],
             [
              0.1111111111111111,
              "#46039f"
             ],
             [
              0.2222222222222222,
              "#7201a8"
             ],
             [
              0.3333333333333333,
              "#9c179e"
             ],
             [
              0.4444444444444444,
              "#bd3786"
             ],
             [
              0.5555555555555556,
              "#d8576b"
             ],
             [
              0.6666666666666666,
              "#ed7953"
             ],
             [
              0.7777777777777778,
              "#fb9f3a"
             ],
             [
              0.8888888888888888,
              "#fdca26"
             ],
             [
              1,
              "#f0f921"
             ]
            ],
            "type": "contour"
           }
          ],
          "contourcarpet": [
           {
            "colorbar": {
             "outlinewidth": 0,
             "ticks": ""
            },
            "type": "contourcarpet"
           }
          ],
          "heatmap": [
           {
            "colorbar": {
             "outlinewidth": 0,
             "ticks": ""
            },
            "colorscale": [
             [
              0,
              "#0d0887"
             ],
             [
              0.1111111111111111,
              "#46039f"
             ],
             [
              0.2222222222222222,
              "#7201a8"
             ],
             [
              0.3333333333333333,
              "#9c179e"
             ],
             [
              0.4444444444444444,
              "#bd3786"
             ],
             [
              0.5555555555555556,
              "#d8576b"
             ],
             [
              0.6666666666666666,
              "#ed7953"
             ],
             [
              0.7777777777777778,
              "#fb9f3a"
             ],
             [
              0.8888888888888888,
              "#fdca26"
             ],
             [
              1,
              "#f0f921"
             ]
            ],
            "type": "heatmap"
           }
          ],
          "heatmapgl": [
           {
            "colorbar": {
             "outlinewidth": 0,
             "ticks": ""
            },
            "colorscale": [
             [
              0,
              "#0d0887"
             ],
             [
              0.1111111111111111,
              "#46039f"
             ],
             [
              0.2222222222222222,
              "#7201a8"
             ],
             [
              0.3333333333333333,
              "#9c179e"
             ],
             [
              0.4444444444444444,
              "#bd3786"
             ],
             [
              0.5555555555555556,
              "#d8576b"
             ],
             [
              0.6666666666666666,
              "#ed7953"
             ],
             [
              0.7777777777777778,
              "#fb9f3a"
             ],
             [
              0.8888888888888888,
              "#fdca26"
             ],
             [
              1,
              "#f0f921"
             ]
            ],
            "type": "heatmapgl"
           }
          ],
          "histogram": [
           {
            "marker": {
             "colorbar": {
              "outlinewidth": 0,
              "ticks": ""
             }
            },
            "type": "histogram"
           }
          ],
          "histogram2d": [
           {
            "colorbar": {
             "outlinewidth": 0,
             "ticks": ""
            },
            "colorscale": [
             [
              0,
              "#0d0887"
             ],
             [
              0.1111111111111111,
              "#46039f"
             ],
             [
              0.2222222222222222,
              "#7201a8"
             ],
             [
              0.3333333333333333,
              "#9c179e"
             ],
             [
              0.4444444444444444,
              "#bd3786"
             ],
             [
              0.5555555555555556,
              "#d8576b"
             ],
             [
              0.6666666666666666,
              "#ed7953"
             ],
             [
              0.7777777777777778,
              "#fb9f3a"
             ],
             [
              0.8888888888888888,
              "#fdca26"
             ],
             [
              1,
              "#f0f921"
             ]
            ],
            "type": "histogram2d"
           }
          ],
          "histogram2dcontour": [
           {
            "colorbar": {
             "outlinewidth": 0,
             "ticks": ""
            },
            "colorscale": [
             [
              0,
              "#0d0887"
             ],
             [
              0.1111111111111111,
              "#46039f"
             ],
             [
              0.2222222222222222,
              "#7201a8"
             ],
             [
              0.3333333333333333,
              "#9c179e"
             ],
             [
              0.4444444444444444,
              "#bd3786"
             ],
             [
              0.5555555555555556,
              "#d8576b"
             ],
             [
              0.6666666666666666,
              "#ed7953"
             ],
             [
              0.7777777777777778,
              "#fb9f3a"
             ],
             [
              0.8888888888888888,
              "#fdca26"
             ],
             [
              1,
              "#f0f921"
             ]
            ],
            "type": "histogram2dcontour"
           }
          ],
          "mesh3d": [
           {
            "colorbar": {
             "outlinewidth": 0,
             "ticks": ""
            },
            "type": "mesh3d"
           }
          ],
          "parcoords": [
           {
            "line": {
             "colorbar": {
              "outlinewidth": 0,
              "ticks": ""
             }
            },
            "type": "parcoords"
           }
          ],
          "pie": [
           {
            "automargin": true,
            "type": "pie"
           }
          ],
          "scatter": [
           {
            "marker": {
             "colorbar": {
              "outlinewidth": 0,
              "ticks": ""
             }
            },
            "type": "scatter"
           }
          ],
          "scatter3d": [
           {
            "line": {
             "colorbar": {
              "outlinewidth": 0,
              "ticks": ""
             }
            },
            "marker": {
             "colorbar": {
              "outlinewidth": 0,
              "ticks": ""
             }
            },
            "type": "scatter3d"
           }
          ],
          "scattercarpet": [
           {
            "marker": {
             "colorbar": {
              "outlinewidth": 0,
              "ticks": ""
             }
            },
            "type": "scattercarpet"
           }
          ],
          "scattergeo": [
           {
            "marker": {
             "colorbar": {
              "outlinewidth": 0,
              "ticks": ""
             }
            },
            "type": "scattergeo"
           }
          ],
          "scattergl": [
           {
            "marker": {
             "colorbar": {
              "outlinewidth": 0,
              "ticks": ""
             }
            },
            "type": "scattergl"
           }
          ],
          "scattermapbox": [
           {
            "marker": {
             "colorbar": {
              "outlinewidth": 0,
              "ticks": ""
             }
            },
            "type": "scattermapbox"
           }
          ],
          "scatterpolar": [
           {
            "marker": {
             "colorbar": {
              "outlinewidth": 0,
              "ticks": ""
             }
            },
            "type": "scatterpolar"
           }
          ],
          "scatterpolargl": [
           {
            "marker": {
             "colorbar": {
              "outlinewidth": 0,
              "ticks": ""
             }
            },
            "type": "scatterpolargl"
           }
          ],
          "scatterternary": [
           {
            "marker": {
             "colorbar": {
              "outlinewidth": 0,
              "ticks": ""
             }
            },
            "type": "scatterternary"
           }
          ],
          "surface": [
           {
            "colorbar": {
             "outlinewidth": 0,
             "ticks": ""
            },
            "colorscale": [
             [
              0,
              "#0d0887"
             ],
             [
              0.1111111111111111,
              "#46039f"
             ],
             [
              0.2222222222222222,
              "#7201a8"
             ],
             [
              0.3333333333333333,
              "#9c179e"
             ],
             [
              0.4444444444444444,
              "#bd3786"
             ],
             [
              0.5555555555555556,
              "#d8576b"
             ],
             [
              0.6666666666666666,
              "#ed7953"
             ],
             [
              0.7777777777777778,
              "#fb9f3a"
             ],
             [
              0.8888888888888888,
              "#fdca26"
             ],
             [
              1,
              "#f0f921"
             ]
            ],
            "type": "surface"
           }
          ],
          "table": [
           {
            "cells": {
             "fill": {
              "color": "#EBF0F8"
             },
             "line": {
              "color": "white"
             }
            },
            "header": {
             "fill": {
              "color": "#C8D4E3"
             },
             "line": {
              "color": "white"
             }
            },
            "type": "table"
           }
          ]
         },
         "layout": {
          "annotationdefaults": {
           "arrowcolor": "#2a3f5f",
           "arrowhead": 0,
           "arrowwidth": 1
          },
          "coloraxis": {
           "colorbar": {
            "outlinewidth": 0,
            "ticks": ""
           }
          },
          "colorscale": {
           "diverging": [
            [
             0,
             "#8e0152"
            ],
            [
             0.1,
             "#c51b7d"
            ],
            [
             0.2,
             "#de77ae"
            ],
            [
             0.3,
             "#f1b6da"
            ],
            [
             0.4,
             "#fde0ef"
            ],
            [
             0.5,
             "#f7f7f7"
            ],
            [
             0.6,
             "#e6f5d0"
            ],
            [
             0.7,
             "#b8e186"
            ],
            [
             0.8,
             "#7fbc41"
            ],
            [
             0.9,
             "#4d9221"
            ],
            [
             1,
             "#276419"
            ]
           ],
           "sequential": [
            [
             0,
             "#0d0887"
            ],
            [
             0.1111111111111111,
             "#46039f"
            ],
            [
             0.2222222222222222,
             "#7201a8"
            ],
            [
             0.3333333333333333,
             "#9c179e"
            ],
            [
             0.4444444444444444,
             "#bd3786"
            ],
            [
             0.5555555555555556,
             "#d8576b"
            ],
            [
             0.6666666666666666,
             "#ed7953"
            ],
            [
             0.7777777777777778,
             "#fb9f3a"
            ],
            [
             0.8888888888888888,
             "#fdca26"
            ],
            [
             1,
             "#f0f921"
            ]
           ],
           "sequentialminus": [
            [
             0,
             "#0d0887"
            ],
            [
             0.1111111111111111,
             "#46039f"
            ],
            [
             0.2222222222222222,
             "#7201a8"
            ],
            [
             0.3333333333333333,
             "#9c179e"
            ],
            [
             0.4444444444444444,
             "#bd3786"
            ],
            [
             0.5555555555555556,
             "#d8576b"
            ],
            [
             0.6666666666666666,
             "#ed7953"
            ],
            [
             0.7777777777777778,
             "#fb9f3a"
            ],
            [
             0.8888888888888888,
             "#fdca26"
            ],
            [
             1,
             "#f0f921"
            ]
           ]
          },
          "colorway": [
           "#636efa",
           "#EF553B",
           "#00cc96",
           "#ab63fa",
           "#FFA15A",
           "#19d3f3",
           "#FF6692",
           "#B6E880",
           "#FF97FF",
           "#FECB52"
          ],
          "font": {
           "color": "#2a3f5f"
          },
          "geo": {
           "bgcolor": "white",
           "lakecolor": "white",
           "landcolor": "#E5ECF6",
           "showlakes": true,
           "showland": true,
           "subunitcolor": "white"
          },
          "hoverlabel": {
           "align": "left"
          },
          "hovermode": "closest",
          "mapbox": {
           "style": "light"
          },
          "paper_bgcolor": "white",
          "plot_bgcolor": "#E5ECF6",
          "polar": {
           "angularaxis": {
            "gridcolor": "white",
            "linecolor": "white",
            "ticks": ""
           },
           "bgcolor": "#E5ECF6",
           "radialaxis": {
            "gridcolor": "white",
            "linecolor": "white",
            "ticks": ""
           }
          },
          "scene": {
           "xaxis": {
            "backgroundcolor": "#E5ECF6",
            "gridcolor": "white",
            "gridwidth": 2,
            "linecolor": "white",
            "showbackground": true,
            "ticks": "",
            "zerolinecolor": "white"
           },
           "yaxis": {
            "backgroundcolor": "#E5ECF6",
            "gridcolor": "white",
            "gridwidth": 2,
            "linecolor": "white",
            "showbackground": true,
            "ticks": "",
            "zerolinecolor": "white"
           },
           "zaxis": {
            "backgroundcolor": "#E5ECF6",
            "gridcolor": "white",
            "gridwidth": 2,
            "linecolor": "white",
            "showbackground": true,
            "ticks": "",
            "zerolinecolor": "white"
           }
          },
          "shapedefaults": {
           "line": {
            "color": "#2a3f5f"
           }
          },
          "ternary": {
           "aaxis": {
            "gridcolor": "white",
            "linecolor": "white",
            "ticks": ""
           },
           "baxis": {
            "gridcolor": "white",
            "linecolor": "white",
            "ticks": ""
           },
           "bgcolor": "#E5ECF6",
           "caxis": {
            "gridcolor": "white",
            "linecolor": "white",
            "ticks": ""
           }
          },
          "title": {
           "x": 0.05
          },
          "xaxis": {
           "automargin": true,
           "gridcolor": "white",
           "linecolor": "white",
           "ticks": "",
           "title": {
            "standoff": 15
           },
           "zerolinecolor": "white",
           "zerolinewidth": 2
          },
          "yaxis": {
           "automargin": true,
           "gridcolor": "white",
           "linecolor": "white",
           "ticks": "",
           "title": {
            "standoff": 15
           },
           "zerolinecolor": "white",
           "zerolinewidth": 2
          }
         }
        },
        "title": {
         "font": {
          "size": 18
         },
         "text": "<b>Seth Jarvis Player Development</b>",
         "x": 0.5
        },
        "xaxis": {
         "linecolor": "black",
         "linewidth": 2,
         "mirror": true,
         "showline": true,
         "showticklabels": false,
         "title": {
          "text": "MeaningleX Axis"
         }
        },
        "yaxis": {
         "linecolor": "black",
         "linewidth": 2,
         "mirror": true,
         "showline": true,
         "title": {
          "text": "<b>Season Age</b>"
         }
        }
       }
      },
      "text/html": [
       "<div>                            <div id=\"6d02fc61-c3c1-47bd-8d04-4a9b20153d6f\" class=\"plotly-graph-div\" style=\"height:525px; width:100%;\"></div>            <script type=\"text/javascript\">                require([\"plotly\"], function(Plotly) {                    window.PLOTLYENV=window.PLOTLYENV || {};                                    if (document.getElementById(\"6d02fc61-c3c1-47bd-8d04-4a9b20153d6f\")) {                    Plotly.newPlot(                        \"6d02fc61-c3c1-47bd-8d04-4a9b20153d6f\",                        [{\"customdata\": [[1.69, \"Elite\"], [2.1, \"Elite\"], [0.69, \"Top Line\"], [2.08, \"Elite\"], [0.48, \"Top 6\"], [0.64, \"Top 6\"], [0.54, \"Top 6\"], [1.56, \"Elite\"], [0.65, \"Top Line\"], [0.69, \"Top Line\"], [0.73, \"Top Line\"], [0.56, \"Top 6\"], [0.82, \"Top Line\"], [0.78, \"Top Line\"], [0.8, \"Top Line\"], [0.68, \"Top Line\"], [0.66, \"Top Line\"], [0.53, \"Top 6\"], [0.8, \"Top Line\"], [0.69, \"Top Line\"], [0.7, \"Top Line\"]], \"hovertemplate\": \"</b><b>%{customdata[1]}</b><br><br>Age: <b>%{y:,.0f}</b><br>League: %{text}</b><br>PPG: <b>%{customdata[0]:,}</b><extra></extra>\", \"marker\": {\"cmax\": 100, \"cmid\": 30, \"cmin\": 0, \"color\": [99, 100, 79, 100, 57, 75, 64, 99, 76, 79, 82, 66, 89, 86, 87, 78, 76, 63, 87, 79, 80], \"colorbar\": {\"showticklabels\": true, \"ticks\": \"outside\", \"ticktext\": [\"Depth\", \"Top 9\", \"Top 6\", \"Top Line\", \"Elite\"], \"tickvals\": [29, 49, 74, 89, 95], \"title\": {\"side\": \"top\", \"text\": \"<b>Scoring Role<b> <br />\"}}, \"colorscale\": [[0.0, \"rgb(103,0,31)\"], [0.1, \"rgb(178,24,43)\"], [0.2, \"rgb(214,96,77)\"], [0.3, \"rgb(244,165,130)\"], [0.4, \"rgb(253,219,199)\"], [0.5, \"rgb(247,247,247)\"], [0.6, \"rgb(209,229,240)\"], [0.7, \"rgb(146,197,222)\"], [0.8, \"rgb(67,147,195)\"], [0.9, \"rgb(33,102,172)\"], [1.0, \"rgb(5,48,97)\"]], \"size\": [39.6, 40.0, 31.6, 40.0, 22.799999999999997, 30.0, 25.6, 39.6, 30.4, 31.6, 32.8, 26.400000000000002, 35.6, 34.4, 34.8, 31.200000000000003, 30.4, 25.2, 34.8, 31.6, 32.0]}, \"mode\": \"markers+text\", \"showlegend\": true, \"text\": [\"<b>WHL\", \"<b>WHL\", \"<b>NHL\", \"<b>WHL\", \"<b>NHL\", \"<b>NHL\", \"<b>NHL\", \"<b>WHL\", \"<b>NHL\", \"<b>NHL\", \"<b>NHL\", \"<b>NHL\", \"<b>AHL\", \"<b>NHL\", \"<b>NHL\", \"<b>NHL\", \"<b>NHL\", \"<b>NHL\", \"<b>AHL\", \"<b>NHL\", \"<b>NHL\"], \"textfont\": {\"size\": 14}, \"textposition\": \"middle center\", \"type\": \"scatter\", \"x\": [21.357142857142858, 19.166666666666668, 23.547619047619047, 8.214285714285714, 19.166666666666668, 23.547619047619047, 3.8333333333333335, 8.214285714285714, 19.166666666666668, 23.547619047619047, 1.6428571428571428, 6.023809523809524, 10.404761904761905, 19.166666666666668, 23.547619047619047, 1.6428571428571428, 6.023809523809524, 10.404761904761905, 14.785714285714285, 19.166666666666668, 23.547619047619047], \"y\": [18, 19, 19, 20, 20, 20, 21, 21, 21, 21, 22, 22, 22, 22, 22, 23, 23, 23, 23, 23, 23]}],                        {\"annotations\": [{\"showarrow\": false, \"text\": \"By: Connor Jung <a href='https://twitter.com/ConnorJungle'>@ConnorJungle</a> Data Source: Elite Prospects\", \"x\": 0.005, \"xref\": \"paper\", \"y\": -0.005, \"yref\": \"paper\"}, {\"bordercolor\": \"lightslategrey\", \"borderpad\": 1, \"borderwidth\": 2, \"showarrow\": false, \"text\": \"81%\", \"x\": 20.261904761904763, \"y\": 18.5}, {\"arrowcolor\": \"lightslategrey\", \"arrowhead\": 3, \"arrowsize\": 1, \"arrowwidth\": 3, \"ax\": 21.357142857142858, \"axref\": \"x\", \"ay\": 18, \"ayref\": \"y\", \"opacity\": 0.3, \"showarrow\": true, \"standoff\": 15, \"x\": 19.166666666666668, \"xref\": \"x\", \"y\": 19, \"yref\": \"y\"}, {\"bordercolor\": \"lightslategrey\", \"borderpad\": 1, \"borderwidth\": 2, \"showarrow\": false, \"text\": \"19%\", \"x\": 22.452380952380953, \"y\": 18.5}, {\"arrowcolor\": \"lightslategrey\", \"arrowhead\": 3, \"arrowsize\": 1, \"arrowwidth\": 3, \"ax\": 21.357142857142858, \"axref\": \"x\", \"ay\": 18, \"ayref\": \"y\", \"opacity\": 0.3, \"showarrow\": true, \"standoff\": 15, \"x\": 23.547619047619047, \"xref\": \"x\", \"y\": 19, \"yref\": \"y\"}, {\"bordercolor\": \"lightslategrey\", \"borderpad\": 1, \"borderwidth\": 2, \"showarrow\": false, \"text\": \"72%\", \"x\": 13.69047619047619, \"y\": 19.5}, {\"arrowcolor\": \"lightslategrey\", \"arrowhead\": 3, \"arrowsize\": 1, \"arrowwidth\": 3, \"ax\": 19.166666666666668, \"axref\": \"x\", \"ay\": 19, \"ayref\": \"y\", \"opacity\": 0.3, \"showarrow\": true, \"standoff\": 15, \"x\": 8.214285714285714, \"xref\": \"x\", \"y\": 20, \"yref\": \"y\"}, {\"bordercolor\": \"lightslategrey\", \"borderpad\": 1, \"borderwidth\": 2, \"showarrow\": false, \"text\": \"28%\", \"x\": 19.166666666666668, \"y\": 19.5}, {\"arrowcolor\": \"lightslategrey\", \"arrowhead\": 3, \"arrowsize\": 1, \"arrowwidth\": 3, \"ax\": 19.166666666666668, \"axref\": \"x\", \"ay\": 19, \"ayref\": \"y\", \"opacity\": 0.3, \"showarrow\": true, \"standoff\": 15, \"x\": 19.166666666666668, \"xref\": \"x\", \"y\": 20, \"yref\": \"y\"}, {\"bordercolor\": \"lightslategrey\", \"borderpad\": 1, \"borderwidth\": 2, \"showarrow\": false, \"text\": \"100%\", \"x\": 23.547619047619047, \"y\": 19.5}, {\"arrowcolor\": \"lightslategrey\", \"arrowhead\": 3, \"arrowsize\": 1, \"arrowwidth\": 3, \"ax\": 23.547619047619047, \"axref\": \"x\", \"ay\": 19, \"ayref\": \"y\", \"opacity\": 0.3, \"showarrow\": true, \"standoff\": 15, \"x\": 23.547619047619047, \"xref\": \"x\", \"y\": 20, \"yref\": \"y\"}, {\"bordercolor\": \"lightslategrey\", \"borderpad\": 1, \"borderwidth\": 2, \"showarrow\": false, \"text\": \"82%\", \"x\": 6.023809523809524, \"y\": 20.5}, {\"arrowcolor\": \"lightslategrey\", \"arrowhead\": 3, \"arrowsize\": 1, \"arrowwidth\": 3, \"ax\": 8.214285714285714, \"axref\": \"x\", \"ay\": 20, \"ayref\": \"y\", \"opacity\": 0.3, \"showarrow\": true, \"standoff\": 15, \"x\": 3.8333333333333335, \"xref\": \"x\", \"y\": 21, \"yref\": \"y\"}, {\"bordercolor\": \"lightslategrey\", \"borderpad\": 1, \"borderwidth\": 2, \"showarrow\": false, \"text\": \"18%\", \"x\": 8.214285714285714, \"y\": 20.5}, {\"arrowcolor\": \"lightslategrey\", \"arrowhead\": 3, \"arrowsize\": 1, \"arrowwidth\": 3, \"ax\": 8.214285714285714, \"axref\": \"x\", \"ay\": 20, \"ayref\": \"y\", \"opacity\": 0.3, \"showarrow\": true, \"standoff\": 15, \"x\": 8.214285714285714, \"xref\": \"x\", \"y\": 21, \"yref\": \"y\"}, {\"bordercolor\": \"lightslategrey\", \"borderpad\": 1, \"borderwidth\": 2, \"showarrow\": false, \"text\": \"100%\", \"x\": 19.166666666666668, \"y\": 20.5}, {\"arrowcolor\": \"lightslategrey\", \"arrowhead\": 3, \"arrowsize\": 1, \"arrowwidth\": 3, \"ax\": 19.166666666666668, \"axref\": \"x\", \"ay\": 20, \"ayref\": \"y\", \"opacity\": 0.3, \"showarrow\": true, \"standoff\": 15, \"x\": 19.166666666666668, \"xref\": \"x\", \"y\": 21, \"yref\": \"y\"}, {\"bordercolor\": \"lightslategrey\", \"borderpad\": 1, \"borderwidth\": 2, \"showarrow\": false, \"text\": \"100%\", \"x\": 23.547619047619047, \"y\": 20.5}, {\"arrowcolor\": \"lightslategrey\", \"arrowhead\": 3, \"arrowsize\": 1, \"arrowwidth\": 3, \"ax\": 23.547619047619047, \"axref\": \"x\", \"ay\": 20, \"ayref\": \"y\", \"opacity\": 0.3, \"showarrow\": true, \"standoff\": 15, \"x\": 23.547619047619047, \"xref\": \"x\", \"y\": 21, \"yref\": \"y\"}, {\"bordercolor\": \"lightslategrey\", \"borderpad\": 1, \"borderwidth\": 2, \"showarrow\": false, \"text\": \"100%\", \"x\": 2.738095238095238, \"y\": 21.5}, {\"arrowcolor\": \"lightslategrey\", \"arrowhead\": 3, \"arrowsize\": 1, \"arrowwidth\": 3, \"ax\": 3.8333333333333335, \"axref\": \"x\", \"ay\": 21, \"ayref\": \"y\", \"opacity\": 0.3, \"showarrow\": true, \"standoff\": 15, \"x\": 1.6428571428571428, \"xref\": \"x\", \"y\": 22, \"yref\": \"y\"}, {\"bordercolor\": \"lightslategrey\", \"borderpad\": 1, \"borderwidth\": 2, \"showarrow\": false, \"text\": \"82%\", \"x\": 7.119047619047619, \"y\": 21.5}, {\"arrowcolor\": \"lightslategrey\", \"arrowhead\": 3, \"arrowsize\": 1, \"arrowwidth\": 3, \"ax\": 8.214285714285714, \"axref\": \"x\", \"ay\": 21, \"ayref\": \"y\", \"opacity\": 0.3, \"showarrow\": true, \"standoff\": 15, \"x\": 6.023809523809524, \"xref\": \"x\", \"y\": 22, \"yref\": \"y\"}, {\"bordercolor\": \"lightslategrey\", \"borderpad\": 1, \"borderwidth\": 2, \"showarrow\": false, \"text\": \"18%\", \"x\": 9.30952380952381, \"y\": 21.5}, {\"arrowcolor\": \"lightslategrey\", \"arrowhead\": 3, \"arrowsize\": 1, \"arrowwidth\": 3, \"ax\": 8.214285714285714, \"axref\": \"x\", \"ay\": 21, \"ayref\": \"y\", \"opacity\": 0.3, \"showarrow\": true, \"standoff\": 15, \"x\": 10.404761904761905, \"xref\": \"x\", \"y\": 22, \"yref\": \"y\"}, {\"bordercolor\": \"lightslategrey\", \"borderpad\": 1, \"borderwidth\": 2, \"showarrow\": false, \"text\": \"100%\", \"x\": 19.166666666666668, \"y\": 21.5}, {\"arrowcolor\": \"lightslategrey\", \"arrowhead\": 3, \"arrowsize\": 1, \"arrowwidth\": 3, \"ax\": 19.166666666666668, \"axref\": \"x\", \"ay\": 21, \"ayref\": \"y\", \"opacity\": 0.3, \"showarrow\": true, \"standoff\": 15, \"x\": 19.166666666666668, \"xref\": \"x\", \"y\": 22, \"yref\": \"y\"}, {\"bordercolor\": \"lightslategrey\", \"borderpad\": 1, \"borderwidth\": 2, \"showarrow\": false, \"text\": \"100%\", \"x\": 23.547619047619047, \"y\": 21.5}, {\"arrowcolor\": \"lightslategrey\", \"arrowhead\": 3, \"arrowsize\": 1, \"arrowwidth\": 3, \"ax\": 23.547619047619047, \"axref\": \"x\", \"ay\": 21, \"ayref\": \"y\", \"opacity\": 0.3, \"showarrow\": true, \"standoff\": 15, \"x\": 23.547619047619047, \"xref\": \"x\", \"y\": 22, \"yref\": \"y\"}, {\"bordercolor\": \"lightslategrey\", \"borderpad\": 1, \"borderwidth\": 2, \"showarrow\": false, \"text\": \"100%\", \"x\": 1.6428571428571428, \"y\": 22.5}, {\"arrowcolor\": \"lightslategrey\", \"arrowhead\": 3, \"arrowsize\": 1, \"arrowwidth\": 3, \"ax\": 1.6428571428571428, \"axref\": \"x\", \"ay\": 22, \"ayref\": \"y\", \"opacity\": 0.3, \"showarrow\": true, \"standoff\": 15, \"x\": 1.6428571428571428, \"xref\": \"x\", \"y\": 23, \"yref\": \"y\"}, {\"bordercolor\": \"lightslategrey\", \"borderpad\": 1, \"borderwidth\": 2, \"showarrow\": false, \"text\": \"100%\", \"x\": 6.023809523809524, \"y\": 22.5}, {\"arrowcolor\": \"lightslategrey\", \"arrowhead\": 3, \"arrowsize\": 1, \"arrowwidth\": 3, \"ax\": 6.023809523809524, \"axref\": \"x\", \"ay\": 22, \"ayref\": \"y\", \"opacity\": 0.3, \"showarrow\": true, \"standoff\": 15, \"x\": 6.023809523809524, \"xref\": \"x\", \"y\": 23, \"yref\": \"y\"}, {\"bordercolor\": \"lightslategrey\", \"borderpad\": 1, \"borderwidth\": 2, \"showarrow\": false, \"text\": \"83%\", \"x\": 10.404761904761905, \"y\": 22.5}, {\"arrowcolor\": \"lightslategrey\", \"arrowhead\": 3, \"arrowsize\": 1, \"arrowwidth\": 3, \"ax\": 10.404761904761905, \"axref\": \"x\", \"ay\": 22, \"ayref\": \"y\", \"opacity\": 0.3, \"showarrow\": true, \"standoff\": 15, \"x\": 10.404761904761905, \"xref\": \"x\", \"y\": 23, \"yref\": \"y\"}, {\"bordercolor\": \"lightslategrey\", \"borderpad\": 1, \"borderwidth\": 2, \"showarrow\": false, \"text\": \"17%\", \"x\": 12.595238095238095, \"y\": 22.5}, {\"arrowcolor\": \"lightslategrey\", \"arrowhead\": 3, \"arrowsize\": 1, \"arrowwidth\": 3, \"ax\": 10.404761904761905, \"axref\": \"x\", \"ay\": 22, \"ayref\": \"y\", \"opacity\": 0.3, \"showarrow\": true, \"standoff\": 15, \"x\": 14.785714285714285, \"xref\": \"x\", \"y\": 23, \"yref\": \"y\"}, {\"bordercolor\": \"lightslategrey\", \"borderpad\": 1, \"borderwidth\": 2, \"showarrow\": false, \"text\": \"100%\", \"x\": 19.166666666666668, \"y\": 22.5}, {\"arrowcolor\": \"lightslategrey\", \"arrowhead\": 3, \"arrowsize\": 1, \"arrowwidth\": 3, \"ax\": 19.166666666666668, \"axref\": \"x\", \"ay\": 22, \"ayref\": \"y\", \"opacity\": 0.3, \"showarrow\": true, \"standoff\": 15, \"x\": 19.166666666666668, \"xref\": \"x\", \"y\": 23, \"yref\": \"y\"}, {\"bordercolor\": \"lightslategrey\", \"borderpad\": 1, \"borderwidth\": 2, \"showarrow\": false, \"text\": \"100%\", \"x\": 23.547619047619047, \"y\": 22.5}, {\"arrowcolor\": \"lightslategrey\", \"arrowhead\": 3, \"arrowsize\": 1, \"arrowwidth\": 3, \"ax\": 23.547619047619047, \"axref\": \"x\", \"ay\": 22, \"ayref\": \"y\", \"opacity\": 0.3, \"showarrow\": true, \"standoff\": 15, \"x\": 23.547619047619047, \"xref\": \"x\", \"y\": 23, \"yref\": \"y\"}], \"font\": {\"family\": \"overpass, monospace\"}, \"hovermode\": \"closest\", \"margin\": {\"b\": 20, \"l\": 5, \"r\": 5, \"t\": 40}, \"plot_bgcolor\": \"rgb(255,255,255)\", \"shapes\": [{\"layer\": \"below\", \"line\": {\"color\": \"rgba(212, 212, 212, 1)\", \"dash\": \"dashdot\", \"width\": 2}, \"type\": \"line\", \"x0\": -0.711904761904762, \"x1\": 25.902380952380952, \"y0\": 18, \"y1\": 18}, {\"layer\": \"below\", \"line\": {\"color\": \"rgba(212, 212, 212, 1)\", \"dash\": \"dashdot\", \"width\": 2}, \"type\": \"line\", \"x0\": -0.711904761904762, \"x1\": 25.902380952380952, \"y0\": 19, \"y1\": 19}, {\"layer\": \"below\", \"line\": {\"color\": \"rgba(212, 212, 212, 1)\", \"dash\": \"dashdot\", \"width\": 2}, \"type\": \"line\", \"x0\": -0.711904761904762, \"x1\": 25.902380952380952, \"y0\": 20, \"y1\": 20}, {\"layer\": \"below\", \"line\": {\"color\": \"rgba(212, 212, 212, 1)\", \"dash\": \"dashdot\", \"width\": 2}, \"type\": \"line\", \"x0\": -0.711904761904762, \"x1\": 25.902380952380952, \"y0\": 21, \"y1\": 21}, {\"layer\": \"below\", \"line\": {\"color\": \"rgba(212, 212, 212, 1)\", \"dash\": \"dashdot\", \"width\": 2}, \"type\": \"line\", \"x0\": -0.711904761904762, \"x1\": 25.902380952380952, \"y0\": 22, \"y1\": 22}, {\"layer\": \"below\", \"line\": {\"color\": \"rgba(212, 212, 212, 1)\", \"dash\": \"dashdot\", \"width\": 2}, \"type\": \"line\", \"x0\": -0.711904761904762, \"x1\": 25.902380952380952, \"y0\": 23, \"y1\": 23}], \"showlegend\": false, \"template\": {\"data\": {\"bar\": [{\"error_x\": {\"color\": \"#2a3f5f\"}, \"error_y\": {\"color\": \"#2a3f5f\"}, \"marker\": {\"line\": {\"color\": \"#E5ECF6\", \"width\": 0.5}}, \"type\": \"bar\"}], \"barpolar\": [{\"marker\": {\"line\": {\"color\": \"#E5ECF6\", \"width\": 0.5}}, \"type\": \"barpolar\"}], \"carpet\": [{\"aaxis\": {\"endlinecolor\": \"#2a3f5f\", \"gridcolor\": \"white\", \"linecolor\": \"white\", \"minorgridcolor\": \"white\", \"startlinecolor\": \"#2a3f5f\"}, \"baxis\": {\"endlinecolor\": \"#2a3f5f\", \"gridcolor\": \"white\", \"linecolor\": \"white\", \"minorgridcolor\": \"white\", \"startlinecolor\": \"#2a3f5f\"}, \"type\": \"carpet\"}], \"choropleth\": [{\"colorbar\": {\"outlinewidth\": 0, \"ticks\": \"\"}, \"type\": \"choropleth\"}], \"contour\": [{\"colorbar\": {\"outlinewidth\": 0, \"ticks\": \"\"}, \"colorscale\": [[0.0, \"#0d0887\"], [0.1111111111111111, \"#46039f\"], [0.2222222222222222, \"#7201a8\"], [0.3333333333333333, \"#9c179e\"], [0.4444444444444444, \"#bd3786\"], [0.5555555555555556, \"#d8576b\"], [0.6666666666666666, \"#ed7953\"], [0.7777777777777778, \"#fb9f3a\"], [0.8888888888888888, \"#fdca26\"], [1.0, \"#f0f921\"]], \"type\": \"contour\"}], \"contourcarpet\": [{\"colorbar\": {\"outlinewidth\": 0, \"ticks\": \"\"}, \"type\": \"contourcarpet\"}], \"heatmap\": [{\"colorbar\": {\"outlinewidth\": 0, \"ticks\": \"\"}, \"colorscale\": [[0.0, \"#0d0887\"], [0.1111111111111111, \"#46039f\"], [0.2222222222222222, \"#7201a8\"], [0.3333333333333333, \"#9c179e\"], [0.4444444444444444, \"#bd3786\"], [0.5555555555555556, \"#d8576b\"], [0.6666666666666666, \"#ed7953\"], [0.7777777777777778, \"#fb9f3a\"], [0.8888888888888888, \"#fdca26\"], [1.0, \"#f0f921\"]], \"type\": \"heatmap\"}], \"heatmapgl\": [{\"colorbar\": {\"outlinewidth\": 0, \"ticks\": \"\"}, \"colorscale\": [[0.0, \"#0d0887\"], [0.1111111111111111, \"#46039f\"], [0.2222222222222222, \"#7201a8\"], [0.3333333333333333, \"#9c179e\"], [0.4444444444444444, \"#bd3786\"], [0.5555555555555556, \"#d8576b\"], [0.6666666666666666, \"#ed7953\"], [0.7777777777777778, \"#fb9f3a\"], [0.8888888888888888, \"#fdca26\"], [1.0, \"#f0f921\"]], \"type\": \"heatmapgl\"}], \"histogram\": [{\"marker\": {\"colorbar\": {\"outlinewidth\": 0, \"ticks\": \"\"}}, \"type\": \"histogram\"}], \"histogram2d\": [{\"colorbar\": {\"outlinewidth\": 0, \"ticks\": \"\"}, \"colorscale\": [[0.0, \"#0d0887\"], [0.1111111111111111, \"#46039f\"], [0.2222222222222222, \"#7201a8\"], [0.3333333333333333, \"#9c179e\"], [0.4444444444444444, \"#bd3786\"], [0.5555555555555556, \"#d8576b\"], [0.6666666666666666, \"#ed7953\"], [0.7777777777777778, \"#fb9f3a\"], [0.8888888888888888, \"#fdca26\"], [1.0, \"#f0f921\"]], \"type\": \"histogram2d\"}], \"histogram2dcontour\": [{\"colorbar\": {\"outlinewidth\": 0, \"ticks\": \"\"}, \"colorscale\": [[0.0, \"#0d0887\"], [0.1111111111111111, \"#46039f\"], [0.2222222222222222, \"#7201a8\"], [0.3333333333333333, \"#9c179e\"], [0.4444444444444444, \"#bd3786\"], [0.5555555555555556, \"#d8576b\"], [0.6666666666666666, \"#ed7953\"], [0.7777777777777778, \"#fb9f3a\"], [0.8888888888888888, \"#fdca26\"], [1.0, \"#f0f921\"]], \"type\": \"histogram2dcontour\"}], \"mesh3d\": [{\"colorbar\": {\"outlinewidth\": 0, \"ticks\": \"\"}, \"type\": \"mesh3d\"}], \"parcoords\": [{\"line\": {\"colorbar\": {\"outlinewidth\": 0, \"ticks\": \"\"}}, \"type\": \"parcoords\"}], \"pie\": [{\"automargin\": true, \"type\": \"pie\"}], \"scatter\": [{\"marker\": {\"colorbar\": {\"outlinewidth\": 0, \"ticks\": \"\"}}, \"type\": \"scatter\"}], \"scatter3d\": [{\"line\": {\"colorbar\": {\"outlinewidth\": 0, \"ticks\": \"\"}}, \"marker\": {\"colorbar\": {\"outlinewidth\": 0, \"ticks\": \"\"}}, \"type\": \"scatter3d\"}], \"scattercarpet\": [{\"marker\": {\"colorbar\": {\"outlinewidth\": 0, \"ticks\": \"\"}}, \"type\": \"scattercarpet\"}], \"scattergeo\": [{\"marker\": {\"colorbar\": {\"outlinewidth\": 0, \"ticks\": \"\"}}, \"type\": \"scattergeo\"}], \"scattergl\": [{\"marker\": {\"colorbar\": {\"outlinewidth\": 0, \"ticks\": \"\"}}, \"type\": \"scattergl\"}], \"scattermapbox\": [{\"marker\": {\"colorbar\": {\"outlinewidth\": 0, \"ticks\": \"\"}}, \"type\": \"scattermapbox\"}], \"scatterpolar\": [{\"marker\": {\"colorbar\": {\"outlinewidth\": 0, \"ticks\": \"\"}}, \"type\": \"scatterpolar\"}], \"scatterpolargl\": [{\"marker\": {\"colorbar\": {\"outlinewidth\": 0, \"ticks\": \"\"}}, \"type\": \"scatterpolargl\"}], \"scatterternary\": [{\"marker\": {\"colorbar\": {\"outlinewidth\": 0, \"ticks\": \"\"}}, \"type\": \"scatterternary\"}], \"surface\": [{\"colorbar\": {\"outlinewidth\": 0, \"ticks\": \"\"}, \"colorscale\": [[0.0, \"#0d0887\"], [0.1111111111111111, \"#46039f\"], [0.2222222222222222, \"#7201a8\"], [0.3333333333333333, \"#9c179e\"], [0.4444444444444444, \"#bd3786\"], [0.5555555555555556, \"#d8576b\"], [0.6666666666666666, \"#ed7953\"], [0.7777777777777778, \"#fb9f3a\"], [0.8888888888888888, \"#fdca26\"], [1.0, \"#f0f921\"]], \"type\": \"surface\"}], \"table\": [{\"cells\": {\"fill\": {\"color\": \"#EBF0F8\"}, \"line\": {\"color\": \"white\"}}, \"header\": {\"fill\": {\"color\": \"#C8D4E3\"}, \"line\": {\"color\": \"white\"}}, \"type\": \"table\"}]}, \"layout\": {\"annotationdefaults\": {\"arrowcolor\": \"#2a3f5f\", \"arrowhead\": 0, \"arrowwidth\": 1}, \"coloraxis\": {\"colorbar\": {\"outlinewidth\": 0, \"ticks\": \"\"}}, \"colorscale\": {\"diverging\": [[0, \"#8e0152\"], [0.1, \"#c51b7d\"], [0.2, \"#de77ae\"], [0.3, \"#f1b6da\"], [0.4, \"#fde0ef\"], [0.5, \"#f7f7f7\"], [0.6, \"#e6f5d0\"], [0.7, \"#b8e186\"], [0.8, \"#7fbc41\"], [0.9, \"#4d9221\"], [1, \"#276419\"]], \"sequential\": [[0.0, \"#0d0887\"], [0.1111111111111111, \"#46039f\"], [0.2222222222222222, \"#7201a8\"], [0.3333333333333333, \"#9c179e\"], [0.4444444444444444, \"#bd3786\"], [0.5555555555555556, \"#d8576b\"], [0.6666666666666666, \"#ed7953\"], [0.7777777777777778, \"#fb9f3a\"], [0.8888888888888888, \"#fdca26\"], [1.0, \"#f0f921\"]], \"sequentialminus\": [[0.0, \"#0d0887\"], [0.1111111111111111, \"#46039f\"], [0.2222222222222222, \"#7201a8\"], [0.3333333333333333, \"#9c179e\"], [0.4444444444444444, \"#bd3786\"], [0.5555555555555556, \"#d8576b\"], [0.6666666666666666, \"#ed7953\"], [0.7777777777777778, \"#fb9f3a\"], [0.8888888888888888, \"#fdca26\"], [1.0, \"#f0f921\"]]}, \"colorway\": [\"#636efa\", \"#EF553B\", \"#00cc96\", \"#ab63fa\", \"#FFA15A\", \"#19d3f3\", \"#FF6692\", \"#B6E880\", \"#FF97FF\", \"#FECB52\"], \"font\": {\"color\": \"#2a3f5f\"}, \"geo\": {\"bgcolor\": \"white\", \"lakecolor\": \"white\", \"landcolor\": \"#E5ECF6\", \"showlakes\": true, \"showland\": true, \"subunitcolor\": \"white\"}, \"hoverlabel\": {\"align\": \"left\"}, \"hovermode\": \"closest\", \"mapbox\": {\"style\": \"light\"}, \"paper_bgcolor\": \"white\", \"plot_bgcolor\": \"#E5ECF6\", \"polar\": {\"angularaxis\": {\"gridcolor\": \"white\", \"linecolor\": \"white\", \"ticks\": \"\"}, \"bgcolor\": \"#E5ECF6\", \"radialaxis\": {\"gridcolor\": \"white\", \"linecolor\": \"white\", \"ticks\": \"\"}}, \"scene\": {\"xaxis\": {\"backgroundcolor\": \"#E5ECF6\", \"gridcolor\": \"white\", \"gridwidth\": 2, \"linecolor\": \"white\", \"showbackground\": true, \"ticks\": \"\", \"zerolinecolor\": \"white\"}, \"yaxis\": {\"backgroundcolor\": \"#E5ECF6\", \"gridcolor\": \"white\", \"gridwidth\": 2, \"linecolor\": \"white\", \"showbackground\": true, \"ticks\": \"\", \"zerolinecolor\": \"white\"}, \"zaxis\": {\"backgroundcolor\": \"#E5ECF6\", \"gridcolor\": \"white\", \"gridwidth\": 2, \"linecolor\": \"white\", \"showbackground\": true, \"ticks\": \"\", \"zerolinecolor\": \"white\"}}, \"shapedefaults\": {\"line\": {\"color\": \"#2a3f5f\"}}, \"ternary\": {\"aaxis\": {\"gridcolor\": \"white\", \"linecolor\": \"white\", \"ticks\": \"\"}, \"baxis\": {\"gridcolor\": \"white\", \"linecolor\": \"white\", \"ticks\": \"\"}, \"bgcolor\": \"#E5ECF6\", \"caxis\": {\"gridcolor\": \"white\", \"linecolor\": \"white\", \"ticks\": \"\"}}, \"title\": {\"x\": 0.05}, \"xaxis\": {\"automargin\": true, \"gridcolor\": \"white\", \"linecolor\": \"white\", \"ticks\": \"\", \"title\": {\"standoff\": 15}, \"zerolinecolor\": \"white\", \"zerolinewidth\": 2}, \"yaxis\": {\"automargin\": true, \"gridcolor\": \"white\", \"linecolor\": \"white\", \"ticks\": \"\", \"title\": {\"standoff\": 15}, \"zerolinecolor\": \"white\", \"zerolinewidth\": 2}}}, \"title\": {\"font\": {\"size\": 18}, \"text\": \"<b>Seth Jarvis Player Development</b>\", \"x\": 0.5}, \"xaxis\": {\"linecolor\": \"black\", \"linewidth\": 2, \"mirror\": true, \"showline\": true, \"showticklabels\": false, \"title\": {\"text\": \"MeaningleX Axis\"}}, \"yaxis\": {\"linecolor\": \"black\", \"linewidth\": 2, \"mirror\": true, \"showline\": true, \"title\": {\"text\": \"<b>Season Age</b>\"}}},                        {\"displayModeBar\": false, \"responsive\": true}                    ).then(function(){\n",
       "                            \n",
       "var gd = document.getElementById('6d02fc61-c3c1-47bd-8d04-4a9b20153d6f');\n",
       "var x = new MutationObserver(function (mutations, observer) {{\n",
       "        var display = window.getComputedStyle(gd).display;\n",
       "        if (!display || display === 'none') {{\n",
       "            console.log([gd, 'removed!']);\n",
       "            Plotly.purge(gd);\n",
       "            observer.disconnect();\n",
       "        }}\n",
       "}});\n",
       "\n",
       "// Listen for the removal of the full notebook cells\n",
       "var notebookContainer = gd.closest('#notebook-container');\n",
       "if (notebookContainer) {{\n",
       "    x.observe(notebookContainer, {childList: true});\n",
       "}}\n",
       "\n",
       "// Listen for the clearing of the current output cell\n",
       "var outputEl = gd.closest('.output');\n",
       "if (outputEl) {{\n",
       "    x.observe(outputEl, {childList: true});\n",
       "}}\n",
       "\n",
       "                        })                };                });            </script>        </div>"
      ]
     },
     "metadata": {},
     "output_type": "display_data"
    }
   ],
   "source": [
    "get_development_graph(player)"
   ]
  },
  {
   "cell_type": "code",
   "execution_count": 796,
   "metadata": {},
   "outputs": [],
   "source": [
    "subset = player.dataset.loc[(player.dataset.gp >= 20)\n",
    "                            & (player.dataset.league == row['league'])\n",
    "                            & (player.dataset.primary_position == player.position), ['ppg']]"
   ]
  },
  {
   "cell_type": "code",
   "execution_count": 800,
   "metadata": {},
   "outputs": [],
   "source": [
    "def get_role(row):\n",
    "    \n",
    "    subset = player.dataset.loc[(player.dataset.gp >= 20)\n",
    "                                & (player.dataset.league == row['league'])\n",
    "                                & (player.dataset.primary_position == player.position), ['ppg']]\n",
    "    \n",
    "    if player.position == 'D':\n",
    "        return np.where(row['ppg'] > np.percentile(subset.ppg, 20),\n",
    "                        np.where(row['ppg'] > np.percentile(subset.ppg, 50),\n",
    "                                 np.where(row['ppg'] > np.percentile(subset.ppg, 70),\n",
    "                                          np.where(row['ppg'] > np.percentile(subset.ppg, 85),\n",
    "                                                   'Elite',\n",
    "                                                   'Top Pair'\n",
    "                                                  ),\n",
    "                                          'Top 4'\n",
    "                                         ),\n",
    "                                 'Top 6'\n",
    "                                ),\n",
    "                        'Depth'\n",
    "                       )\n",
    "    \n",
    "    else:\n",
    "        return np.where(row['ppg'] > np.percentile(subset.ppg, 30),\n",
    "                        np.where(row['ppg'] > np.percentile(subset.ppg, 50),\n",
    "                                 np.where(row['ppg'] > np.percentile(subset.ppg, 75),\n",
    "                                          np.where(row['ppg'] > np.percentile(subset.ppg, 90),\n",
    "                                                   'Elite',\n",
    "                                                   'Top Line'\n",
    "                                                  ),\n",
    "                                          'Top 6'\n",
    "                                         ),\n",
    "                                 'Top 9'\n",
    "                                ),\n",
    "                        'Depth'\n",
    "                       )\n",
    "    \n",
    "def get_role_rank(row):\n",
    "    \n",
    "    subset = player.dataset.loc[(player.dataset.gp >= 20)\n",
    "                                & (player.dataset.league == row['league'])\n",
    "                                & (player.dataset.primary_position == player.position), ['ppg']]\n",
    "    \n",
    "    return round(stats.percentileofscore(subset.ppg, row['ppg'], kind='strict'))\n",
    "    "
   ]
  },
  {
   "cell_type": "code",
   "execution_count": 32,
   "metadata": {},
   "outputs": [],
   "source": [
    "from matplotlib import cm\n",
    "import matplotlib\n",
    "\n",
    "def matplotlib_to_plotly(cmap, pl_entries):\n",
    "    h = 1.0/(pl_entries-1)\n",
    "    pl_colorscale = []\n",
    "\n",
    "    for k in range(pl_entries):\n",
    "        C = np.array(cmap(k*h)[:3])*255\n",
    "        pl_colorscale.append([k*h, 'rgb'+str((C[0], C[1], C[2]))])\n",
    "\n",
    "    return pl_colorscale\n",
    "\n",
    "colorscale = cm.get_cmap('RdBu_r')\n",
    "scale_rgb = []\n",
    "\n",
    "norm = matplotlib.colors.Normalize(vmin=0, vmax=255)\n",
    "\n",
    "for i in range(0, 255):\n",
    "    k = matplotlib.colors.colorConverter.to_rgb(colorscale(norm(i)))\n",
    "    scale_rgb.append(k)\n",
    "\n",
    "RdBu_r = matplotlib_to_plotly(colorscale, 255)\n",
    "\n"
   ]
  },
  {
   "cell_type": "code",
   "execution_count": null,
   "metadata": {},
   "outputs": [],
   "source": []
  },
  {
   "cell_type": "code",
   "execution_count": null,
   "metadata": {},
   "outputs": [],
   "source": []
  }
 ],
 "metadata": {
  "kernelspec": {
   "display_name": "apple",
   "language": "python",
   "name": "apple"
  },
  "language_info": {
   "codemirror_mode": {
    "name": "ipython",
    "version": 3
   },
   "file_extension": ".py",
   "mimetype": "text/x-python",
   "name": "python",
   "nbconvert_exporter": "python",
   "pygments_lexer": "ipython3",
   "version": "3.7.6"
  }
 },
 "nbformat": 4,
 "nbformat_minor": 2
}
