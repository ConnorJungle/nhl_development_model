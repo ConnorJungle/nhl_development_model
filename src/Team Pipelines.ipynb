{
 "cells": [
  {
   "cell_type": "code",
   "execution_count": 1,
   "metadata": {},
   "outputs": [],
   "source": [
    "from jupyter_dash import JupyterDash\n",
    "import dash_core_components as dcc\n",
    "import dash_html_components as html\n",
    "import dash_bootstrap_components as dbc\n",
    "\n",
    "from dash.dependencies import Input, Output\n",
    "import dash_table\n",
    "\n",
    "from sqlalchemy import create_engine\n",
    "import pandas as pd\n",
    "import numpy as np\n",
    "import time\n",
    "import json\n",
    "import os\n",
    "\n",
    "from data_processing import *\n",
    "\n",
    "import generate_player_seasons as g\n",
    "from datetime import datetime\n",
    "\n",
    "from networkx.drawing.nx_agraph import graphviz_layout\n",
    "from networkx.readwrite import json_graph\n",
    "\n",
    "import networkx as nx\n",
    "\n",
    "import plotly.graph_objects as go\n",
    "\n",
    "from networkx.readwrite import json_graph\n",
    "\n",
    "def load_db_credentials():\n",
    "    '''Load database credentials from bash_profile'''\n",
    "\n",
    "    user = os.environ['db_user']\n",
    "    password = os.environ['db_pass']\n",
    "    server = os.environ['db_host']\n",
    "    database = os.environ['db_name']\n",
    "\n",
    "    return user, password, server, database\n",
    "\n",
    "import numpy as np\n",
    "import matplotlib.pyplot as plt\n",
    "from scipy import stats\n",
    "from scipy.optimize import curve_fit\n",
    "import pickle\n",
    "\n",
    "def get_scoring_labels(graph, position, node):\n",
    "    \n",
    "    G = json_graph.node_link_graph(json.loads(graph))\n",
    "    \n",
    "    floor_rate = str(get_ppg_range(G, node))\n",
    "    ceiling_rate = str(get_ppg_range(G, node, False))\n",
    "    floor_role = get_role(float(floor_rate), position)\n",
    "    ceiling_role = get_role(float(ceiling_rate), position)\n",
    "    \n",
    "    rate_label = np.unique([floor_rate, ceiling_rate])\n",
    "    role_label = np.unique([floor_role, ceiling_role])\n",
    "\n",
    "    if len(rate_label) > 1:\n",
    "    \n",
    "        rate_text = '-'.join([floor_rate, ceiling_rate])\n",
    "            \n",
    "    else:\n",
    "\n",
    "        rate_text = rate_label[0]\n",
    "            \n",
    "    if len(role_label) > 1:\n",
    "        \n",
    "        role_text = '-'.join([floor_role, ceiling_role])\n",
    "            \n",
    "    else:\n",
    "        \n",
    "        role_text = role_label[0]\n",
    "        \n",
    "    return rate_text, role_text\n",
    "\n",
    "def get_scoring_rates(graph, position, node):\n",
    "    \n",
    "    G = json_graph.node_link_graph(json.loads(graph))\n",
    "    \n",
    "    floor_rate = get_ppg_range(G, node)\n",
    "    ceiling_rate = get_ppg_range(G, node, False)\n",
    "        \n",
    "    return floor_rate, ceiling_rate\n",
    "    \n",
    "def check_late_birthday(date_of_birth):\n",
    "\n",
    "    try:\n",
    "        dt = datetime.strptime(date_of_birth, '%Y-%m-%d')\n",
    "        draft = date(dt.year + 18, 9, 15)\n",
    "        if relativedelta(draft, dt).years < 18 :\n",
    "            return True\n",
    "        else:\n",
    "            return False\n",
    "\n",
    "    except:\n",
    "        return None\n",
    "    \n",
    "def get_value_rank(data):\n",
    "            \n",
    "    df = draft_plus5[(draft_plus5.primary_position == data.primary_position)]\n",
    "    \n",
    "    return stats.percentileofscore(df.draft_plus_5_points, data.nhl_expected_value)\n",
    "\n",
    "def calc_draft_value(data):\n",
    "    \n",
    "    if data.late_birthday.sum() > 0:\n",
    "        \n",
    "        return pd.Series({\n",
    "            'draft_plus_5_points' : (data[(data.season_age >= 20) \n",
    "                                         & (data.season_age <= 24)\n",
    "                                         & (data.league == 'NHL')].tp).sum(),\n",
    "            'draft_plus_5_gp' : data[(data.season_age >= 20) \n",
    "                                   & (data.season_age <= 24)\n",
    "                                   & (data.league == 'NHL')].gp.sum(),\n",
    "            'draft_plus_5_g' : data[(data.season_age >= 20) \n",
    "                                   & (data.season_age <= 24)\n",
    "                                   & (data.league == 'NHL')].g.sum(),\n",
    "            'draft_plus_5_a' : data[(data.season_age >= 20) \n",
    "                                       & (data.season_age <= 24)\n",
    "                                       & (data.league == 'NHL')].a.sum()\n",
    "                         })\n",
    "    \n",
    "    else:\n",
    "        return pd.Series({\n",
    "            'draft_plus_5_points' : (data[(data.season_age >= 19) \n",
    "                                         & (data.season_age <= 23)\n",
    "                                         & (data.league == 'NHL')].tp).sum(),\n",
    "            'draft_plus_5_gp' : data[(data.season_age >= 19) \n",
    "                                   & (data.season_age <= 23)\n",
    "                                   & (data.league == 'NHL')].gp.sum(),\n",
    "            'draft_plus_5_g' : data[(data.season_age >= 19) \n",
    "                                       & (data.season_age <= 23)\n",
    "                                       & (data.league == 'NHL')].g.sum(),\n",
    "            'draft_plus_5_a' : data[(data.season_age >= 19) \n",
    "                                       & (data.season_age <= 23)\n",
    "                                       & (data.league == 'NHL')].a.sum()})\n",
    "    \n",
    "def func(x, a, b, c):\n",
    "    return a * np.exp(-b * x) + c\n",
    "\n",
    "def inverse_exp(x, a, b, c):\n",
    "\n",
    "    return np.log((x - c) / a) / -b\n",
    "\n",
    "def fit_draft_curve(data):\n",
    "    \n",
    "    y = data.nhl_expected_value\n",
    "    x = data.draft_pick\n",
    "    \n",
    "    popt, pcov = curve_fit(func,\n",
    "                       x,\n",
    "                       y)\n",
    "    \n",
    "    return popt\n",
    "\n",
    "def get_draft_value(data, clusters):\n",
    "    \n",
    "    X = data[['nhl_expected_value', 'xpick']]\n",
    "    \n",
    "    kmeans = KMeans(n_clusters=clusters).fit(X)\n",
    "    \n",
    "    return kmeans\n",
    "\n",
    "    \n",
    "def get_draft_upside(data, clusters):\n",
    "    \n",
    "    X = data[['ceiling_percentile', 'ceiling_percentile']]\n",
    "    \n",
    "    kmeans = KMeans(n_clusters=clusters).fit(X)\n",
    "    \n",
    "    return kmeans\n",
    "\n",
    "def get_cluster_labels(data, cluster, labels, c_type = 'value'):\n",
    "    \n",
    "    df = data.groupby([cluster])['nhl_expected_value' if c_type == 'value' \\\n",
    "                                 else 'nhl_ceiling'].mean().sort_values(ascending=False)\n",
    "        \n",
    "    return {k:v for k,v in zip(df.index, labels[c_type]['labels'])}\n",
    "\n",
    "def get_ceiling_rank(data):\n",
    "\n",
    "    df = agg[(agg.primary_position == data.primary_position.item())]\n",
    "    \n",
    "    return stats.percentileofscore(df.draft_plus_5_points, data.nhl_ceiling.item())\n",
    " \n",
    "def get_role(rate, position):\n",
    "    \n",
    "    if position == 'D':\n",
    "        return np.where(rate > np.percentile(d_subset.ppg, 25),\n",
    "                        np.where(rate > np.percentile(d_subset.ppg, 50),\n",
    "                                 np.where(rate > np.percentile(d_subset.ppg, 75),\n",
    "                                          np.where(rate > np.percentile(d_subset.ppg, 90),\n",
    "                                                   'Elite',\n",
    "                                                   'Top Pair'\n",
    "                                                  ),\n",
    "                                          'Top 4'\n",
    "                                         ),\n",
    "                                 'Top 6'\n",
    "                                ),\n",
    "                        'Depth'\n",
    "                       ).item()\n",
    "    \n",
    "    else:\n",
    "        return np.where(rate > np.percentile(f_subset.ppg, 25),\n",
    "                        np.where(rate > np.percentile(f_subset.ppg, 50),\n",
    "                                 np.where(rate > np.percentile(f_subset.ppg, 75),\n",
    "                                          np.where(rate > np.percentile(f_subset.ppg, 90),\n",
    "                                                   'Elite',\n",
    "                                                   'Top Line'\n",
    "                                                  ),\n",
    "                                          'Top 6'\n",
    "                                         ),\n",
    "                                 'Top 9'\n",
    "                                ),\n",
    "                        'Depth'\n",
    "                       ).item()\n",
    "    \n",
    "def get_path_ppg(G, node):\n",
    "    \n",
    "    points = []\n",
    "\n",
    "    # points.append(G.nodes[node]['tp'])\n",
    "    if G.nodes[node]['league'] == 'NHL':\n",
    "        points.append(G.nodes[node]['ppg'])\n",
    "\n",
    "    for n in sorted(nx.ancestors(G, node))[::-1]:\n",
    "        if (n != 1) & (G.nodes[n]['league'] == 'NHL'):\n",
    "            # points.append(G.nodes[n]['tp'])\n",
    "            points.append(G.nodes[n]['ppg'])\n",
    "\n",
    "        node=n\n",
    "    # return round(np.sum(points) / (64 * len(points)),2)\n",
    "    return round(np.mean(points),2)\n",
    "\n",
    "def get_ppg_range(G, node, floor=True):\n",
    "    \n",
    "    points = []\n",
    "\n",
    "    # points.append(G.nodes[node]['tp'])\n",
    "    if G.nodes[node]['league'] == 'NHL':\n",
    "        points.append(G.nodes[node]['ppg'])\n",
    "\n",
    "    for n in sorted(nx.ancestors(G, node))[::-1]:\n",
    "        if (n != 1) & (G.nodes[n]['league'] == 'NHL'):\n",
    "            # points.append(G.nodes[n]['tp'])\n",
    "            points.append(G.nodes[n]['ppg'])\n",
    "\n",
    "        node=n\n",
    "    \n",
    "    if points:\n",
    "        if floor:\n",
    "            return round(np.min(points), 2)\n",
    "\n",
    "        else:\n",
    "            return round(np.max(points), 2)\n",
    "    else:\n",
    "        return 0\n",
    "\n",
    "   \n",
    "cluster_labels = {\n",
    "    'F' : {\n",
    "        'value' : {\n",
    "            'num_cluster' : 7,\n",
    "            'labels' : ['Franchise', 'Top 5', 'Top 15', '1st Round', '2nd-3rd Round', 'Mid Round', 'Late Round']\n",
    "        },\n",
    "        'upside' : {\n",
    "            'num_cluster' : 6,\n",
    "            'labels' : ['Top End', 'High End', 'Mid End', 'Safe', 'Project', 'Unknown']\n",
    "        }\n",
    "    },\n",
    "    'D' : {\n",
    "        'value' : {\n",
    "            'num_cluster' : 7,\n",
    "            'labels' : ['Top 5', 'Top 15', '1st Round', '2nd round', '3rd Round', 'Mid Round', 'Late Round']\n",
    "        },\n",
    "        'upside' : {\n",
    "            'num_cluster' : 6,\n",
    "            'labels' : ['Top End', 'High End', 'Mid End', 'Safe', 'Project', 'Unknown']\n",
    "        }\n",
    "    }\n",
    "}\n",
    "\n",
    "f_params = (224.75603480181096, 0.06324523838602378, 2.542136232484409) # 224.75603480181096, 0.06324523838602378, 2.542136232484409\n",
    "d_params = (101.8852594934708, 0.0542482743796363, 1.5254264511302613) # 101.8852594934708, 0.0542482743796363, 1.5254264511302613\n",
    "\n",
    "\n",
    "season_order = {\n",
    "    'DY' : 0,\n",
    "    'D + 1' : 1,\n",
    "    'D + 2' : 2,\n",
    "    'D + 3' : 3,\n",
    "    'D + 4' : 4,\n",
    "    'D + 5' : 5,\n",
    "}\n"
   ]
  },
  {
   "cell_type": "code",
   "execution_count": 14,
   "metadata": {},
   "outputs": [],
   "source": [
    "df = pd.read_csv('../data/draft-rankings-v2.csv')"
   ]
  },
  {
   "cell_type": "code",
   "execution_count": 72,
   "metadata": {},
   "outputs": [],
   "source": [
    "user, password, server, database = load_db_credentials()\n",
    "engine = create_engine(f'postgresql://{user}:{password}@{server}:5432/{database}')\n",
    "\n",
    "player_value = pd.read_sql(f'''select * from summary_projections ''', con=engine)"
   ]
  },
  {
   "cell_type": "code",
   "execution_count": 73,
   "metadata": {},
   "outputs": [],
   "source": [
    "info = pd.read_sql(f''' select * from player_info where catches is NULL ''', engine)"
   ]
  },
  {
   "cell_type": "code",
   "execution_count": 20,
   "metadata": {},
   "outputs": [],
   "source": [
    "# dataset =  pd.read_sql(f'''select playerid, player, gp, g, a, tp, ppg, position, year, team, league  from skater_stats order by gp desc ''', con=engine)\n",
    "dataset = pd.read_sql( open('player_stats.sql', 'r').read(), engine)\n",
    "dataset['primary_position'] = dataset.position.apply(get_primary_position)"
   ]
  },
  {
   "cell_type": "code",
   "execution_count": 23,
   "metadata": {},
   "outputs": [],
   "source": [
    "# merge player information with player seasons\n",
    "dataset = dataset.merge(\n",
    "    info[info.date_of_birth.notnull()].drop('position', axis=1), \n",
    "    on = ['playerid'],\n",
    ")\n",
    "\n",
    "dataset['late_birthday'] = dataset.date_of_birth.apply(check_late_birthday)\n",
    "\n",
    "# get season age per player season\n",
    "dataset['start_year'], dataset['end_year']  = zip(*dataset['year'].apply(lambda x : x.split('-')))\n",
    "dataset = get_season_age(dataset)\n",
    "\n"
   ]
  },
  {
   "cell_type": "code",
   "execution_count": null,
   "metadata": {},
   "outputs": [],
   "source": []
  },
  {
   "cell_type": "code",
   "execution_count": 229,
   "metadata": {},
   "outputs": [],
   "source": [
    "df = pd.read_sql('''select \n",
    "\tleague,\n",
    "\tyear,\n",
    "\tsum(g) as g,\n",
    "\tmax(gp) as gp,\n",
    "\tcount(distinct teamid) teams,\n",
    "\tsum(g) / (max(gp) * count(distinct teamid)) as goals_per_game\n",
    "from skater_stats ss \n",
    "where season_stage not like '%ET%'\n",
    "and season_stage not like '%Cup%'\n",
    "and season_stage not like '%JCWC%'\n",
    "and season_stage not like '%PJHL%'\n",
    "and season_stage not like '%Czech U16 2%' \n",
    "and season_stage not like '%Showcase%'\n",
    "and season_stage not like '%ECC%'\n",
    "and season_stage not like '% Q'\n",
    "and season_stage not like 'MHL Supercup'\n",
    "group by \n",
    "1,\n",
    "2\n",
    "having (max(gp) * count(distinct teamid)) > 0;\n",
    "\n",
    "''', engine)\n",
    "\n",
    "\n",
    "scoring = df.merge(df[df['year'] == '2019-2020'][['league', 'goals_per_game']],\n",
    "              on='league',\n",
    "              suffixes=('', '_base'),\n",
    "              how='left')\n",
    "\n",
    "scoring['goals_per_game'] /= scoring['goals_per_game_base']\n",
    "\n",
    "# deflator"
   ]
  },
  {
   "cell_type": "code",
   "execution_count": 230,
   "metadata": {},
   "outputs": [],
   "source": [
    "dataset = dataset.merge(scoring[['league', 'year', 'goals_per_game']], on = ['league', 'year'])\n",
    "\n",
    "dataset['tp'] /= dataset.goals_per_game\n",
    "dataset['g'] /= dataset.goals_per_game\n",
    "dataset['a'] /= dataset.goals_per_game\n",
    "dataset['gpg'] /= dataset.goals_per_game\n",
    "dataset['apg'] /= dataset.goals_per_game\n",
    "dataset['ppg'] /= dataset.goals_per_game"
   ]
  },
  {
   "cell_type": "code",
   "execution_count": 26,
   "metadata": {},
   "outputs": [
    {
     "name": "stderr",
     "output_type": "stream",
     "text": [
      "/Users/connorjung/.pyenv/versions/apple/lib/python3.7/site-packages/IPython/core/interactiveshell.py:3146: DtypeWarning:\n",
      "\n",
      "Columns (35) have mixed types.Specify dtype option on import or set low_memory=False.\n",
      "\n"
     ]
    }
   ],
   "source": [
    "dataset = pd.read_csv('../../apple-model-app/data/player_season_stats_v3.csv')\n",
    "dataset['primary_position'] = dataset.position.apply(get_primary_position)"
   ]
  },
  {
   "cell_type": "code",
   "execution_count": 79,
   "metadata": {},
   "outputs": [],
   "source": [
    "f_subset = dataset.loc[(dataset.gp >= 20)\n",
    "                            & (dataset.league == 'NHL')\n",
    "                            & (dataset.primary_position == 'F')]\n",
    "\n",
    "d_subset = dataset.loc[(dataset.gp >= 20)\n",
    "                            & (dataset.league == 'NHL')\n",
    "                            & (dataset.primary_position == 'D')]"
   ]
  },
  {
   "cell_type": "markdown",
   "metadata": {},
   "source": [
    "## get scoring rate and role per season "
   ]
  },
  {
   "cell_type": "code",
   "execution_count": 88,
   "metadata": {},
   "outputs": [],
   "source": [
    "dataset = pd.read_csv('../../apple-model-app/data/player_season_stats_v3.csv')\n",
    "dataset['primary_position'] = dataset.position.apply(get_primary_position)\n",
    "dataset['positions'] = dataset['position'].apply(lambda x : x.replace(\"{\", \"['\").replace(\"}\", \"']\").replace(\",\", \"','\"))\n",
    "dataset['positions'] = dataset['positions'].apply(lambda x : ast.literal_eval(x))\n",
    "dataset['late_birthday'] = dataset.date_of_birth.apply(check_late_birthday)\n"
   ]
  },
  {
   "cell_type": "code",
   "execution_count": 75,
   "metadata": {},
   "outputs": [],
   "source": [
    "player_value.draft_year = player_value.draft_year.astype(int)"
   ]
  },
  {
   "cell_type": "code",
   "execution_count": 76,
   "metadata": {},
   "outputs": [],
   "source": [
    "v = np.vectorize(get_scoring_labels)"
   ]
  },
  {
   "cell_type": "code",
   "execution_count": 80,
   "metadata": {},
   "outputs": [],
   "source": [
    "player_value['Projected Rate'], player_value['Projected Role'] = v(player_value.graph, \n",
    "                                                                   player_value.position, \n",
    "                                                                   player_value.nhl_maximizing_node)"
   ]
  },
  {
   "cell_type": "code",
   "execution_count": 81,
   "metadata": {},
   "outputs": [],
   "source": [
    "v = np.vectorize(get_scoring_rates)"
   ]
  },
  {
   "cell_type": "code",
   "execution_count": 82,
   "metadata": {},
   "outputs": [],
   "source": [
    "player_value['Floor Rate'], player_value['Ceiling Rate'] = v(player_value.graph, \n",
    "                                                            player_value.position, \n",
    "                                                            player_value.nhl_maximizing_node)"
   ]
  },
  {
   "cell_type": "code",
   "execution_count": 83,
   "metadata": {},
   "outputs": [],
   "source": [
    "player_value['season_order'] = player_value.base_year.map(season_order)\n",
    "# player_value['playerid'] = player_value.playerid.astype(str)"
   ]
  },
  {
   "cell_type": "code",
   "execution_count": 84,
   "metadata": {},
   "outputs": [],
   "source": [
    "player_value = player_value.merge(info[['playerid', 'height', 'weight', 'rights', 'nation', 'shoots',\n",
    "                                        'draft_round', 'draft_pick', 'draft_team', 'nhl_draft']],\n",
    "                                 on = 'playerid')"
   ]
  },
  {
   "cell_type": "markdown",
   "metadata": {},
   "source": [
    "## get draft value"
   ]
  },
  {
   "cell_type": "code",
   "execution_count": 89,
   "metadata": {},
   "outputs": [],
   "source": [
    "dataset['years_post_draft'] = (dataset.end_year.astype(int) - dataset.draft_year_eligible.astype(float))\n",
    "\n",
    "dataset.dropna(subset=['years_post_draft'], inplace=True)\n",
    "\n",
    "dataset['base_year'] = np.where(dataset.end_year.astype(int) == dataset.draft_year_eligible.astype(int),\n",
    "                                       'DY',\n",
    "                                       'D + '+ dataset.years_post_draft.astype(int).astype(str)\n",
    "                                      )\n",
    "\n",
    "curr_scoring = dataset.groupby(['playerid', 'base_year', 'end_year', 'years_post_draft']).apply(calc_draft_value)\\\n",
    "                            .sort_index(level='years_post_draft')\\\n",
    "                            .groupby(level=0).cumsum().reset_index()"
   ]
  },
  {
   "cell_type": "code",
   "execution_count": 90,
   "metadata": {},
   "outputs": [],
   "source": [
    "curr_scoring.rename(columns={'draft_plus_5_points' : 'current_nhl_pts',\n",
    "                             'draft_plus_5_gp' : 'current_nhl_gp',\n",
    "                             'draft_plus_5_g' : 'current_nhl_g',\n",
    "                             'draft_plus_5_a' : 'current_nhl_a'\n",
    "                            }, inplace=True)"
   ]
  },
  {
   "cell_type": "code",
   "execution_count": 92,
   "metadata": {},
   "outputs": [],
   "source": [
    "player_value['playerid'] = player_value.playerid.astype(int)"
   ]
  },
  {
   "cell_type": "code",
   "execution_count": 93,
   "metadata": {},
   "outputs": [],
   "source": [
    "player_value = player_value.merge(curr_scoring,\n",
    "                   on = ['playerid', 'base_year']\n",
    "                  )"
   ]
  },
  {
   "cell_type": "code",
   "execution_count": 94,
   "metadata": {},
   "outputs": [],
   "source": [
    "agg = dataset.groupby(['playerid', 'primary_position']).apply(calc_draft_value).reset_index()"
   ]
  },
  {
   "cell_type": "code",
   "execution_count": 95,
   "metadata": {},
   "outputs": [],
   "source": [
    "player_value = player_value.merge(agg.drop('primary_position', axis=1),\n",
    "                   on = ['playerid']\n",
    "                  )"
   ]
  },
  {
   "cell_type": "code",
   "execution_count": 96,
   "metadata": {},
   "outputs": [],
   "source": [
    "player_value['primary_position'] = player_value.position"
   ]
  },
  {
   "cell_type": "code",
   "execution_count": 97,
   "metadata": {},
   "outputs": [],
   "source": [
    "player_value['nhl_ceiling'] += player_value['current_nhl_pts']\n",
    "player_value['nhl_expected_value'] += player_value['current_nhl_pts']"
   ]
  },
  {
   "cell_type": "code",
   "execution_count": 98,
   "metadata": {},
   "outputs": [],
   "source": [
    "player_value['ceiling_percentile'] = player_value.groupby(['playerid', 'base_year']).apply(get_ceiling_rank).values"
   ]
  },
  {
   "cell_type": "code",
   "execution_count": 99,
   "metadata": {},
   "outputs": [],
   "source": [
    "player_value['xpick'] = np.nan_to_num(np.where(player_value.position == 'F',\n",
    "                                inverse_exp(player_value.nhl_expected_value, *f_params),\n",
    "                                inverse_exp(player_value.nhl_expected_value, *d_params)\n",
    "                                          ),\n",
    "                                  nan=150)\n",
    "\n",
    "player_value['xpick_value'] = np.where(player_value.position == 'F',\n",
    "                                       func(player_value.draft_pick.astype(float), *f_params),\n",
    "                                       func(player_value.draft_pick.astype(float), *d_params)\n",
    "                                          )"
   ]
  },
  {
   "cell_type": "code",
   "execution_count": 100,
   "metadata": {},
   "outputs": [],
   "source": [
    "f_draft_value = pickle.load(open(\"../models/forward_value_kmeans.pkl\", \"rb\"))\n",
    "f_draft_upside = pickle.load(open(\"../models/forward_upside_kmeans.pkl\", \"rb\"))\n",
    "d_draft_value = pickle.load(open(\"../models/defence_value_kmeans.pkl\", \"rb\"))\n",
    "d_draft_upside = pickle.load(open(\"../models/defence_upside_kmeans.pkl\", \"rb\"))"
   ]
  },
  {
   "cell_type": "code",
   "execution_count": 101,
   "metadata": {},
   "outputs": [],
   "source": [
    "player_value['value_cluster'] = np.where(\n",
    "    player_value.position == 'F',\n",
    "    f_draft_value.predict(player_value[['nhl_expected_value', 'xpick']]),\n",
    "    d_draft_value.predict(player_value[['nhl_expected_value', 'xpick']])\n",
    "                                        )\n",
    "player_value['upside_cluster'] = np.where(\n",
    "    player_value.position == 'F',\n",
    "    f_draft_upside.predict(player_value[['nhl_ceiling', 'ceiling_percentile']]),\n",
    "    d_draft_upside.predict(player_value[['nhl_ceiling', 'ceiling_percentile']])\n",
    "                                        )\n",
    "    \n",
    "player_value['draft_value_range'] = np.where(\n",
    "    player_value.position == 'F',\n",
    "    player_value.value_cluster.map(get_cluster_labels(player_value[player_value.position == 'F'],\n",
    "                                                      'value_cluster',\n",
    "                                                      cluster_labels['F'])),\n",
    "    player_value.value_cluster.map(get_cluster_labels(player_value[player_value.position == 'D'],\n",
    "                                                      'value_cluster',\n",
    "                                                      cluster_labels['D']))\n",
    "                                            )\n",
    "\n",
    "player_value['draft_upside'] = np.where(\n",
    "    player_value.position == 'F',\n",
    "    player_value.upside_cluster.map(get_cluster_labels(player_value[player_value.position == 'F'],\n",
    "                                                       'upside_cluster',\n",
    "                                                       cluster_labels['F'], 'upside')),\n",
    "    player_value.upside_cluster.map(get_cluster_labels(player_value[player_value.position == 'D'],\n",
    "                                                       'upside_cluster',\n",
    "                                                       cluster_labels['D'], 'upside'))\n",
    "                                        )\n",
    "\n"
   ]
  },
  {
   "cell_type": "code",
   "execution_count": 102,
   "metadata": {},
   "outputs": [
    {
     "data": {
      "text/plain": [
       "{3: 'Top End',\n",
       " 2: 'High End',\n",
       " 4: 'Mid End',\n",
       " 0: 'Safe',\n",
       " 1: 'Project',\n",
       " 5: 'Unknown'}"
      ]
     },
     "execution_count": 102,
     "metadata": {},
     "output_type": "execute_result"
    }
   ],
   "source": [
    "get_cluster_labels(player_value[player_value.position == 'D'],\n",
    "                                                       'upside_cluster',\n",
    "                                                       cluster_labels['D'], 'upside')"
   ]
  },
  {
   "cell_type": "code",
   "execution_count": 103,
   "metadata": {},
   "outputs": [],
   "source": [
    "player_value['xpick_value'] = player_value['xpick_value'].astype(int)\n",
    "\n",
    "player_value['surplus'] = (player_value['nhl_expected_value'] - player_value['xpick_value'])\n",
    "\n",
    "x = np.arange(dataset.draft_pick.astype(float).min(), dataset.draft_pick.astype(float).max())\n",
    "y_f = func(x, *f_params)\n",
    "y_d = func(x, *d_params)\n",
    "\n",
    "player_value['surplus_relative'] = np.where(player_value.position == 'F',\n",
    "                                player_value.surplus / y_f.max(),\n",
    "                                player_value.surplus / y_d.max()\n",
    "                                          )"
   ]
  },
  {
   "cell_type": "code",
   "execution_count": 104,
   "metadata": {},
   "outputs": [],
   "source": [
    "player_value = player_value.merge(dataset[['playerid', 'year','league', 'positions',\n",
    "                                            'gp', 'g', 'a', 'tp', 'ppg', 'real_season_age', 'base_year']\n",
    "                                         ].sort_values('gp', ascending=False)\\\n",
    "                                .drop_duplicates(['playerid', 'year']),\n",
    "                   on=['playerid', 'base_year']\n",
    "                  )"
   ]
  },
  {
   "cell_type": "code",
   "execution_count": 105,
   "metadata": {},
   "outputs": [],
   "source": [
    "player_value['draft_plus_5_ppg'] = player_value['draft_plus_5_points'] / player_value['draft_plus_5_gp'] "
   ]
  },
  {
   "cell_type": "code",
   "execution_count": 106,
   "metadata": {},
   "outputs": [],
   "source": [
    "player_value.rename(columns={'player_name' : 'player'}, inplace=True)"
   ]
  },
  {
   "cell_type": "code",
   "execution_count": 248,
   "metadata": {},
   "outputs": [
    {
     "data": {
      "text/html": [
       "<div>\n",
       "<style scoped>\n",
       "    .dataframe tbody tr th:only-of-type {\n",
       "        vertical-align: middle;\n",
       "    }\n",
       "\n",
       "    .dataframe tbody tr th {\n",
       "        vertical-align: top;\n",
       "    }\n",
       "\n",
       "    .dataframe thead th {\n",
       "        text-align: right;\n",
       "    }\n",
       "</style>\n",
       "<table border=\"1\" class=\"dataframe\">\n",
       "  <thead>\n",
       "    <tr style=\"text-align: right;\">\n",
       "      <th></th>\n",
       "      <th>playerid</th>\n",
       "      <th>player</th>\n",
       "      <th>position</th>\n",
       "      <th>nhl_likelihood</th>\n",
       "      <th>most_likely_nhl_node</th>\n",
       "      <th>most_likely_nhl_prob</th>\n",
       "      <th>nhl_floor</th>\n",
       "      <th>nhl_expected_value</th>\n",
       "      <th>nhl_ceiling</th>\n",
       "      <th>nhl_maximizing_node</th>\n",
       "      <th>nhl_ceiling_prob</th>\n",
       "      <th>graph</th>\n",
       "      <th>date_of_birth</th>\n",
       "      <th>base_year</th>\n",
       "      <th>draft_year</th>\n",
       "      <th>Projected Rate</th>\n",
       "      <th>Projected Role</th>\n",
       "      <th>Floor Rate</th>\n",
       "      <th>Ceiling Rate</th>\n",
       "      <th>season_order</th>\n",
       "      <th>height</th>\n",
       "      <th>weight</th>\n",
       "      <th>rights</th>\n",
       "      <th>nation</th>\n",
       "      <th>shoots</th>\n",
       "      <th>draft_round</th>\n",
       "      <th>draft_pick</th>\n",
       "      <th>draft_team</th>\n",
       "      <th>nhl_draft</th>\n",
       "      <th>end_year</th>\n",
       "      <th>years_post_draft</th>\n",
       "      <th>current_nhl_pts</th>\n",
       "      <th>current_nhl_gp</th>\n",
       "      <th>current_nhl_g</th>\n",
       "      <th>current_nhl_a</th>\n",
       "      <th>draft_plus_5_points</th>\n",
       "      <th>draft_plus_5_gp</th>\n",
       "      <th>draft_plus_5_g</th>\n",
       "      <th>draft_plus_5_a</th>\n",
       "      <th>primary_position</th>\n",
       "      <th>ceiling_percentile</th>\n",
       "      <th>xpick</th>\n",
       "      <th>xpick_value</th>\n",
       "      <th>value_cluster</th>\n",
       "      <th>upside_cluster</th>\n",
       "      <th>draft_value_range</th>\n",
       "      <th>draft_upside</th>\n",
       "      <th>surplus</th>\n",
       "      <th>surplus_relative</th>\n",
       "      <th>year</th>\n",
       "      <th>league</th>\n",
       "      <th>gp</th>\n",
       "      <th>g</th>\n",
       "      <th>a</th>\n",
       "      <th>tp</th>\n",
       "      <th>ppg</th>\n",
       "      <th>real_season_age</th>\n",
       "      <th>draft_plus_5_ppg</th>\n",
       "    </tr>\n",
       "  </thead>\n",
       "  <tbody>\n",
       "    <tr>\n",
       "      <th>251</th>\n",
       "      <td>296697</td>\n",
       "      <td>Alexis Lafrenière</td>\n",
       "      <td>F</td>\n",
       "      <td>1.0</td>\n",
       "      <td>16</td>\n",
       "      <td>0.7</td>\n",
       "      <td>284</td>\n",
       "      <td>247.0</td>\n",
       "      <td>284.0</td>\n",
       "      <td>16</td>\n",
       "      <td>0.7</td>\n",
       "      <td>{\"directed\": true, \"multigraph\": false, \"graph...</td>\n",
       "      <td>2001-10-11</td>\n",
       "      <td>DY</td>\n",
       "      <td>2020</td>\n",
       "      <td>0.74-0.99</td>\n",
       "      <td>Top Line-Elite</td>\n",
       "      <td>0.74</td>\n",
       "      <td>0.99</td>\n",
       "      <td>0</td>\n",
       "      <td>186.0</td>\n",
       "      <td>87.0</td>\n",
       "      <td>New York Rangers</td>\n",
       "      <td>Canada</td>\n",
       "      <td>L</td>\n",
       "      <td>1</td>\n",
       "      <td>1</td>\n",
       "      <td>New York Rangers</td>\n",
       "      <td>None</td>\n",
       "      <td>2020</td>\n",
       "      <td>0.0</td>\n",
       "      <td>0.0</td>\n",
       "      <td>0.0</td>\n",
       "      <td>0.0</td>\n",
       "      <td>0.0</td>\n",
       "      <td>0.0</td>\n",
       "      <td>0.0</td>\n",
       "      <td>0.0</td>\n",
       "      <td>0.0</td>\n",
       "      <td>F</td>\n",
       "      <td>99.10146</td>\n",
       "      <td>-1.328597</td>\n",
       "      <td>213</td>\n",
       "      <td>5</td>\n",
       "      <td>2</td>\n",
       "      <td>Franchise</td>\n",
       "      <td>Top End</td>\n",
       "      <td>34.0</td>\n",
       "      <td>0.159233</td>\n",
       "      <td>2019-2020</td>\n",
       "      <td>QMJHL</td>\n",
       "      <td>52.0</td>\n",
       "      <td>35.0</td>\n",
       "      <td>77.0</td>\n",
       "      <td>112.0</td>\n",
       "      <td>2.153846</td>\n",
       "      <td>19.22</td>\n",
       "      <td>NaN</td>\n",
       "    </tr>\n",
       "  </tbody>\n",
       "</table>\n",
       "</div>"
      ],
      "text/plain": [
       "    playerid             player position  nhl_likelihood  most_likely_nhl_node  most_likely_nhl_prob  nhl_floor  nhl_expected_value  nhl_ceiling  ...       year  league    gp     g     a     tp       ppg real_season_age  draft_plus_5_ppg\n",
       "251   296697  Alexis Lafrenière        F             1.0                    16                   0.7        284               247.0        284.0  ...  2019-2020   QMJHL  52.0  35.0  77.0  112.0  2.153846           19.22               NaN\n",
       "\n",
       "[1 rows x 58 columns]"
      ]
     },
     "execution_count": 248,
     "metadata": {},
     "output_type": "execute_result"
    }
   ],
   "source": [
    "player_value[player_value.player == 'Alexis Lafrenière']"
   ]
  },
  {
   "cell_type": "code",
   "execution_count": 107,
   "metadata": {},
   "outputs": [
    {
     "data": {
      "text/html": [
       "<div>\n",
       "<style scoped>\n",
       "    .dataframe tbody tr th:only-of-type {\n",
       "        vertical-align: middle;\n",
       "    }\n",
       "\n",
       "    .dataframe tbody tr th {\n",
       "        vertical-align: top;\n",
       "    }\n",
       "\n",
       "    .dataframe thead th {\n",
       "        text-align: right;\n",
       "    }\n",
       "</style>\n",
       "<table border=\"1\" class=\"dataframe\">\n",
       "  <thead>\n",
       "    <tr style=\"text-align: right;\">\n",
       "      <th></th>\n",
       "      <th>playerid</th>\n",
       "      <th>player</th>\n",
       "      <th>position</th>\n",
       "      <th>nhl_likelihood</th>\n",
       "      <th>most_likely_nhl_node</th>\n",
       "      <th>most_likely_nhl_prob</th>\n",
       "      <th>nhl_floor</th>\n",
       "      <th>nhl_expected_value</th>\n",
       "      <th>nhl_ceiling</th>\n",
       "      <th>nhl_maximizing_node</th>\n",
       "      <th>nhl_ceiling_prob</th>\n",
       "      <th>graph</th>\n",
       "      <th>date_of_birth</th>\n",
       "      <th>base_year</th>\n",
       "      <th>draft_year</th>\n",
       "      <th>Projected Rate</th>\n",
       "      <th>Projected Role</th>\n",
       "      <th>Floor Rate</th>\n",
       "      <th>Ceiling Rate</th>\n",
       "      <th>season_order</th>\n",
       "      <th>height</th>\n",
       "      <th>weight</th>\n",
       "      <th>rights</th>\n",
       "      <th>nation</th>\n",
       "      <th>shoots</th>\n",
       "      <th>draft_round</th>\n",
       "      <th>draft_pick</th>\n",
       "      <th>draft_team</th>\n",
       "      <th>nhl_draft</th>\n",
       "      <th>end_year</th>\n",
       "      <th>years_post_draft</th>\n",
       "      <th>current_nhl_pts</th>\n",
       "      <th>current_nhl_gp</th>\n",
       "      <th>current_nhl_g</th>\n",
       "      <th>current_nhl_a</th>\n",
       "      <th>draft_plus_5_points</th>\n",
       "      <th>draft_plus_5_gp</th>\n",
       "      <th>draft_plus_5_g</th>\n",
       "      <th>draft_plus_5_a</th>\n",
       "      <th>primary_position</th>\n",
       "      <th>ceiling_percentile</th>\n",
       "      <th>xpick</th>\n",
       "      <th>xpick_value</th>\n",
       "      <th>value_cluster</th>\n",
       "      <th>upside_cluster</th>\n",
       "      <th>draft_value_range</th>\n",
       "      <th>draft_upside</th>\n",
       "      <th>surplus</th>\n",
       "      <th>surplus_relative</th>\n",
       "      <th>year</th>\n",
       "      <th>league</th>\n",
       "      <th>positions</th>\n",
       "      <th>gp</th>\n",
       "      <th>g</th>\n",
       "      <th>a</th>\n",
       "      <th>tp</th>\n",
       "      <th>ppg</th>\n",
       "      <th>real_season_age</th>\n",
       "      <th>draft_plus_5_ppg</th>\n",
       "    </tr>\n",
       "  </thead>\n",
       "  <tbody>\n",
       "    <tr>\n",
       "      <th>243</th>\n",
       "      <td>296697</td>\n",
       "      <td>Alexis Lafrenière</td>\n",
       "      <td>F</td>\n",
       "      <td>1.0</td>\n",
       "      <td>16</td>\n",
       "      <td>0.7</td>\n",
       "      <td>284</td>\n",
       "      <td>247.0</td>\n",
       "      <td>284.0</td>\n",
       "      <td>16</td>\n",
       "      <td>0.7</td>\n",
       "      <td>{\"directed\": true, \"multigraph\": false, \"graph...</td>\n",
       "      <td>2001-10-11</td>\n",
       "      <td>DY</td>\n",
       "      <td>2020</td>\n",
       "      <td>0.74-0.99</td>\n",
       "      <td>Top Line-Elite</td>\n",
       "      <td>0.74</td>\n",
       "      <td>0.99</td>\n",
       "      <td>0</td>\n",
       "      <td>186.0</td>\n",
       "      <td>87.0</td>\n",
       "      <td>New York Rangers</td>\n",
       "      <td>Canada</td>\n",
       "      <td>L</td>\n",
       "      <td>1</td>\n",
       "      <td>1</td>\n",
       "      <td>New York Rangers</td>\n",
       "      <td>None</td>\n",
       "      <td>2020</td>\n",
       "      <td>0.0</td>\n",
       "      <td>0.0</td>\n",
       "      <td>0.0</td>\n",
       "      <td>0.0</td>\n",
       "      <td>0.0</td>\n",
       "      <td>0.0</td>\n",
       "      <td>0.0</td>\n",
       "      <td>0.0</td>\n",
       "      <td>0.0</td>\n",
       "      <td>F</td>\n",
       "      <td>98.709905</td>\n",
       "      <td>-1.328597</td>\n",
       "      <td>213</td>\n",
       "      <td>5</td>\n",
       "      <td>2</td>\n",
       "      <td>Franchise</td>\n",
       "      <td>Top End</td>\n",
       "      <td>34.0</td>\n",
       "      <td>0.159233</td>\n",
       "      <td>2019-2020</td>\n",
       "      <td>QMJHL</td>\n",
       "      <td>[LW]</td>\n",
       "      <td>52.0</td>\n",
       "      <td>35.0</td>\n",
       "      <td>77.0</td>\n",
       "      <td>112.0</td>\n",
       "      <td>2.153846</td>\n",
       "      <td>19.22</td>\n",
       "      <td>NaN</td>\n",
       "    </tr>\n",
       "  </tbody>\n",
       "</table>\n",
       "</div>"
      ],
      "text/plain": [
       "     playerid             player position  nhl_likelihood  most_likely_nhl_node  most_likely_nhl_prob  nhl_floor  nhl_expected_value  nhl_ceiling  ...  league  positions    gp     g     a     tp       ppg real_season_age  draft_plus_5_ppg\n",
       "243    296697  Alexis Lafrenière        F             1.0                    16                   0.7        284               247.0        284.0  ...   QMJHL       [LW]  52.0  35.0  77.0  112.0  2.153846           19.22               NaN\n",
       "\n",
       "[1 rows x 59 columns]"
      ]
     },
     "execution_count": 107,
     "metadata": {},
     "output_type": "execute_result"
    }
   ],
   "source": [
    "player_value[player_value.player == 'Alexis Lafrenière']"
   ]
  },
  {
   "cell_type": "markdown",
   "metadata": {},
   "source": [
    "### Write Data to CSV"
   ]
  },
  {
   "cell_type": "code",
   "execution_count": 46,
   "metadata": {},
   "outputs": [],
   "source": [
    "player_value.to_csv('../data/draft-value.csv', index=False)\n",
    "player_value.to_csv('../../apple-model-app/data/draft-value.csv', index=False)"
   ]
  },
  {
   "cell_type": "markdown",
   "metadata": {},
   "source": [
    "### Load data"
   ]
  },
  {
   "cell_type": "code",
   "execution_count": 34,
   "metadata": {},
   "outputs": [],
   "source": [
    "player_value = pd.read_csv('../data/draft-value.csv')\n"
   ]
  },
  {
   "cell_type": "code",
   "execution_count": 35,
   "metadata": {},
   "outputs": [
    {
     "data": {
      "text/html": [
       "<div>\n",
       "<style scoped>\n",
       "    .dataframe tbody tr th:only-of-type {\n",
       "        vertical-align: middle;\n",
       "    }\n",
       "\n",
       "    .dataframe tbody tr th {\n",
       "        vertical-align: top;\n",
       "    }\n",
       "\n",
       "    .dataframe thead th {\n",
       "        text-align: right;\n",
       "    }\n",
       "</style>\n",
       "<table border=\"1\" class=\"dataframe\">\n",
       "  <thead>\n",
       "    <tr style=\"text-align: right;\">\n",
       "      <th></th>\n",
       "      <th>playerid</th>\n",
       "      <th>player</th>\n",
       "      <th>position</th>\n",
       "      <th>nhl_likelihood</th>\n",
       "      <th>most_likely_nhl_node</th>\n",
       "      <th>most_likely_nhl_prob</th>\n",
       "      <th>nhl_floor</th>\n",
       "      <th>nhl_expected_value</th>\n",
       "      <th>nhl_ceiling</th>\n",
       "      <th>nhl_maximizing_node</th>\n",
       "      <th>nhl_ceiling_prob</th>\n",
       "      <th>graph</th>\n",
       "      <th>date_of_birth</th>\n",
       "      <th>base_year</th>\n",
       "      <th>draft_year</th>\n",
       "      <th>Projected Rate</th>\n",
       "      <th>Projected Role</th>\n",
       "      <th>Floor Rate</th>\n",
       "      <th>Ceiling Rate</th>\n",
       "      <th>season_order</th>\n",
       "      <th>height</th>\n",
       "      <th>weight</th>\n",
       "      <th>rights</th>\n",
       "      <th>nation</th>\n",
       "      <th>draft_round</th>\n",
       "      <th>draft_pick</th>\n",
       "      <th>draft_team</th>\n",
       "      <th>nhl_draft</th>\n",
       "      <th>end_year</th>\n",
       "      <th>years_post_draft</th>\n",
       "      <th>current_nhl_pts</th>\n",
       "      <th>current_nhl_gp</th>\n",
       "      <th>current_nhl_g</th>\n",
       "      <th>current_nhl_a</th>\n",
       "      <th>draft_plus_5_points</th>\n",
       "      <th>draft_plus_5_gp</th>\n",
       "      <th>draft_plus_5_g</th>\n",
       "      <th>draft_plus_5_a</th>\n",
       "      <th>primary_position</th>\n",
       "      <th>ceiling_percentile</th>\n",
       "      <th>xpick</th>\n",
       "      <th>xpick_value</th>\n",
       "      <th>value_cluster</th>\n",
       "      <th>upside_cluster</th>\n",
       "      <th>draft_value_range</th>\n",
       "      <th>draft_upside</th>\n",
       "      <th>surplus</th>\n",
       "      <th>surplus_relative</th>\n",
       "      <th>year</th>\n",
       "      <th>league</th>\n",
       "      <th>gp</th>\n",
       "      <th>g</th>\n",
       "      <th>a</th>\n",
       "      <th>tp</th>\n",
       "      <th>ppg</th>\n",
       "      <th>real_season_age</th>\n",
       "      <th>draft_plus_5_ppg</th>\n",
       "    </tr>\n",
       "  </thead>\n",
       "  <tbody>\n",
       "    <tr>\n",
       "      <th>0</th>\n",
       "      <td>201868</td>\n",
       "      <td>Jamie Drysdale</td>\n",
       "      <td>D</td>\n",
       "      <td>0.98</td>\n",
       "      <td>15</td>\n",
       "      <td>0.70</td>\n",
       "      <td>126</td>\n",
       "      <td>107.0</td>\n",
       "      <td>126.0</td>\n",
       "      <td>15</td>\n",
       "      <td>0.70</td>\n",
       "      <td>{\"directed\": true, \"multigraph\": false, \"graph...</td>\n",
       "      <td>2002-04-08</td>\n",
       "      <td>DY</td>\n",
       "      <td>2020</td>\n",
       "      <td>0.4-0.58</td>\n",
       "      <td>Top 4-Top Pair</td>\n",
       "      <td>0.40</td>\n",
       "      <td>0.58</td>\n",
       "      <td>0</td>\n",
       "      <td>180.0</td>\n",
       "      <td>77.0</td>\n",
       "      <td>Anaheim Ducks</td>\n",
       "      <td>Canada</td>\n",
       "      <td>1</td>\n",
       "      <td>6</td>\n",
       "      <td>Anaheim Ducks</td>\n",
       "      <td>NaN</td>\n",
       "      <td>2020</td>\n",
       "      <td>0.0</td>\n",
       "      <td>0.0</td>\n",
       "      <td>0.0</td>\n",
       "      <td>0.0</td>\n",
       "      <td>0.0</td>\n",
       "      <td>0.0</td>\n",
       "      <td>0.0</td>\n",
       "      <td>0.0</td>\n",
       "      <td>0.0</td>\n",
       "      <td>D</td>\n",
       "      <td>49.088089</td>\n",
       "      <td>-0.638226</td>\n",
       "      <td>75</td>\n",
       "      <td>5</td>\n",
       "      <td>2</td>\n",
       "      <td>Top 5</td>\n",
       "      <td>High End</td>\n",
       "      <td>32.0</td>\n",
       "      <td>0.326428</td>\n",
       "      <td>2019-2020</td>\n",
       "      <td>OHL</td>\n",
       "      <td>49.0</td>\n",
       "      <td>9.0</td>\n",
       "      <td>38.0</td>\n",
       "      <td>47.0</td>\n",
       "      <td>0.959184</td>\n",
       "      <td>18.73</td>\n",
       "      <td>NaN</td>\n",
       "    </tr>\n",
       "    <tr>\n",
       "      <th>1</th>\n",
       "      <td>397010</td>\n",
       "      <td>Kasper Simontaival</td>\n",
       "      <td>F</td>\n",
       "      <td>0.02</td>\n",
       "      <td>15</td>\n",
       "      <td>0.02</td>\n",
       "      <td>22</td>\n",
       "      <td>0.0</td>\n",
       "      <td>23.0</td>\n",
       "      <td>15</td>\n",
       "      <td>0.02</td>\n",
       "      <td>{\"directed\": true, \"multigraph\": false, \"graph...</td>\n",
       "      <td>2002-01-11</td>\n",
       "      <td>DY</td>\n",
       "      <td>2020</td>\n",
       "      <td>0.36</td>\n",
       "      <td>Top 9</td>\n",
       "      <td>0.36</td>\n",
       "      <td>0.36</td>\n",
       "      <td>0</td>\n",
       "      <td>175.0</td>\n",
       "      <td>78.0</td>\n",
       "      <td>Los Angeles Kings</td>\n",
       "      <td>Finland</td>\n",
       "      <td>3</td>\n",
       "      <td>66</td>\n",
       "      <td>Los Angeles Kings</td>\n",
       "      <td>NaN</td>\n",
       "      <td>2020</td>\n",
       "      <td>0.0</td>\n",
       "      <td>0.0</td>\n",
       "      <td>0.0</td>\n",
       "      <td>0.0</td>\n",
       "      <td>0.0</td>\n",
       "      <td>0.0</td>\n",
       "      <td>0.0</td>\n",
       "      <td>0.0</td>\n",
       "      <td>0.0</td>\n",
       "      <td>F</td>\n",
       "      <td>49.088089</td>\n",
       "      <td>150.000000</td>\n",
       "      <td>6</td>\n",
       "      <td>0</td>\n",
       "      <td>3</td>\n",
       "      <td>Late Round</td>\n",
       "      <td>Project</td>\n",
       "      <td>-6.0</td>\n",
       "      <td>-0.028100</td>\n",
       "      <td>2019-2020</td>\n",
       "      <td>Jr. A SM-liiga</td>\n",
       "      <td>48.0</td>\n",
       "      <td>25.0</td>\n",
       "      <td>32.0</td>\n",
       "      <td>57.0</td>\n",
       "      <td>1.187500</td>\n",
       "      <td>18.97</td>\n",
       "      <td>NaN</td>\n",
       "    </tr>\n",
       "    <tr>\n",
       "      <th>2</th>\n",
       "      <td>337733</td>\n",
       "      <td>Lukas Svejkovsky</td>\n",
       "      <td>F</td>\n",
       "      <td>0.29</td>\n",
       "      <td>14</td>\n",
       "      <td>0.12</td>\n",
       "      <td>67</td>\n",
       "      <td>11.0</td>\n",
       "      <td>68.0</td>\n",
       "      <td>14</td>\n",
       "      <td>0.12</td>\n",
       "      <td>{\"directed\": true, \"multigraph\": false, \"graph...</td>\n",
       "      <td>2001-11-23</td>\n",
       "      <td>DY</td>\n",
       "      <td>2020</td>\n",
       "      <td>0.27-0.4</td>\n",
       "      <td>Top 9</td>\n",
       "      <td>0.27</td>\n",
       "      <td>0.40</td>\n",
       "      <td>0</td>\n",
       "      <td>178.0</td>\n",
       "      <td>75.0</td>\n",
       "      <td>Pittsburgh Penguins</td>\n",
       "      <td>USA                                           ...</td>\n",
       "      <td>4</td>\n",
       "      <td>108</td>\n",
       "      <td>Pittsburgh Penguins</td>\n",
       "      <td>NaN</td>\n",
       "      <td>2020</td>\n",
       "      <td>0.0</td>\n",
       "      <td>0.0</td>\n",
       "      <td>0.0</td>\n",
       "      <td>0.0</td>\n",
       "      <td>0.0</td>\n",
       "      <td>0.0</td>\n",
       "      <td>0.0</td>\n",
       "      <td>0.0</td>\n",
       "      <td>0.0</td>\n",
       "      <td>F</td>\n",
       "      <td>49.088089</td>\n",
       "      <td>51.860329</td>\n",
       "      <td>2</td>\n",
       "      <td>2</td>\n",
       "      <td>1</td>\n",
       "      <td>2nd-3rd Round</td>\n",
       "      <td>Safe</td>\n",
       "      <td>9.0</td>\n",
       "      <td>0.042150</td>\n",
       "      <td>2019-2020</td>\n",
       "      <td>WHL</td>\n",
       "      <td>52.0</td>\n",
       "      <td>18.0</td>\n",
       "      <td>20.0</td>\n",
       "      <td>38.0</td>\n",
       "      <td>0.730769</td>\n",
       "      <td>19.11</td>\n",
       "      <td>NaN</td>\n",
       "    </tr>\n",
       "    <tr>\n",
       "      <th>3</th>\n",
       "      <td>499424</td>\n",
       "      <td>Topi Niemelä</td>\n",
       "      <td>D</td>\n",
       "      <td>0.02</td>\n",
       "      <td>10</td>\n",
       "      <td>0.02</td>\n",
       "      <td>15</td>\n",
       "      <td>0.0</td>\n",
       "      <td>16.0</td>\n",
       "      <td>10</td>\n",
       "      <td>0.02</td>\n",
       "      <td>{\"directed\": true, \"multigraph\": false, \"graph...</td>\n",
       "      <td>2002-03-25</td>\n",
       "      <td>DY</td>\n",
       "      <td>2020</td>\n",
       "      <td>0.24</td>\n",
       "      <td>Top 6</td>\n",
       "      <td>0.24</td>\n",
       "      <td>0.24</td>\n",
       "      <td>0</td>\n",
       "      <td>182.0</td>\n",
       "      <td>74.0</td>\n",
       "      <td>Toronto Maple Leafs</td>\n",
       "      <td>Finland</td>\n",
       "      <td>3</td>\n",
       "      <td>64</td>\n",
       "      <td>Toronto Maple Leafs</td>\n",
       "      <td>NaN</td>\n",
       "      <td>2020</td>\n",
       "      <td>0.0</td>\n",
       "      <td>0.0</td>\n",
       "      <td>0.0</td>\n",
       "      <td>0.0</td>\n",
       "      <td>0.0</td>\n",
       "      <td>0.0</td>\n",
       "      <td>0.0</td>\n",
       "      <td>0.0</td>\n",
       "      <td>0.0</td>\n",
       "      <td>D</td>\n",
       "      <td>48.892918</td>\n",
       "      <td>150.000000</td>\n",
       "      <td>4</td>\n",
       "      <td>0</td>\n",
       "      <td>1</td>\n",
       "      <td>Late Round</td>\n",
       "      <td>Project</td>\n",
       "      <td>-4.0</td>\n",
       "      <td>-0.040803</td>\n",
       "      <td>2019-2020</td>\n",
       "      <td>Liiga</td>\n",
       "      <td>47.0</td>\n",
       "      <td>1.0</td>\n",
       "      <td>8.0</td>\n",
       "      <td>9.0</td>\n",
       "      <td>0.191489</td>\n",
       "      <td>18.77</td>\n",
       "      <td>NaN</td>\n",
       "    </tr>\n",
       "    <tr>\n",
       "      <th>4</th>\n",
       "      <td>448947</td>\n",
       "      <td>Vasili Ponomaryov</td>\n",
       "      <td>F</td>\n",
       "      <td>0.30</td>\n",
       "      <td>12</td>\n",
       "      <td>0.13</td>\n",
       "      <td>55</td>\n",
       "      <td>12.0</td>\n",
       "      <td>55.0</td>\n",
       "      <td>12</td>\n",
       "      <td>0.13</td>\n",
       "      <td>{\"directed\": true, \"multigraph\": false, \"graph...</td>\n",
       "      <td>2002-03-13</td>\n",
       "      <td>DY</td>\n",
       "      <td>2020</td>\n",
       "      <td>0.39-0.47</td>\n",
       "      <td>Top 9-Top 6</td>\n",
       "      <td>0.39</td>\n",
       "      <td>0.47</td>\n",
       "      <td>0</td>\n",
       "      <td>180.0</td>\n",
       "      <td>80.0</td>\n",
       "      <td>Carolina Hurricanes</td>\n",
       "      <td>Russia</td>\n",
       "      <td>2</td>\n",
       "      <td>53</td>\n",
       "      <td>Carolina Hurricanes</td>\n",
       "      <td>NaN</td>\n",
       "      <td>2020</td>\n",
       "      <td>0.0</td>\n",
       "      <td>0.0</td>\n",
       "      <td>0.0</td>\n",
       "      <td>0.0</td>\n",
       "      <td>0.0</td>\n",
       "      <td>0.0</td>\n",
       "      <td>0.0</td>\n",
       "      <td>0.0</td>\n",
       "      <td>0.0</td>\n",
       "      <td>F</td>\n",
       "      <td>48.892918</td>\n",
       "      <td>50.093399</td>\n",
       "      <td>10</td>\n",
       "      <td>2</td>\n",
       "      <td>1</td>\n",
       "      <td>2nd-3rd Round</td>\n",
       "      <td>Safe</td>\n",
       "      <td>2.0</td>\n",
       "      <td>0.009367</td>\n",
       "      <td>2019-2020</td>\n",
       "      <td>QMJHL</td>\n",
       "      <td>57.0</td>\n",
       "      <td>18.0</td>\n",
       "      <td>31.0</td>\n",
       "      <td>49.0</td>\n",
       "      <td>0.859649</td>\n",
       "      <td>18.80</td>\n",
       "      <td>NaN</td>\n",
       "    </tr>\n",
       "  </tbody>\n",
       "</table>\n",
       "</div>"
      ],
      "text/plain": [
       "   playerid              player position  nhl_likelihood  most_likely_nhl_node  most_likely_nhl_prob  nhl_floor  nhl_expected_value  ...          league    gp     g     a    tp       ppg  real_season_age draft_plus_5_ppg\n",
       "0    201868      Jamie Drysdale        D            0.98                    15                  0.70        126               107.0  ...             OHL  49.0   9.0  38.0  47.0  0.959184            18.73              NaN\n",
       "1    397010  Kasper Simontaival        F            0.02                    15                  0.02         22                 0.0  ...  Jr. A SM-liiga  48.0  25.0  32.0  57.0  1.187500            18.97              NaN\n",
       "2    337733    Lukas Svejkovsky        F            0.29                    14                  0.12         67                11.0  ...             WHL  52.0  18.0  20.0  38.0  0.730769            19.11              NaN\n",
       "3    499424        Topi Niemelä        D            0.02                    10                  0.02         15                 0.0  ...           Liiga  47.0   1.0   8.0   9.0  0.191489            18.77              NaN\n",
       "4    448947   Vasili Ponomaryov        F            0.30                    12                  0.13         55                12.0  ...           QMJHL  57.0  18.0  31.0  49.0  0.859649            18.80              NaN\n",
       "\n",
       "[5 rows x 57 columns]"
      ]
     },
     "execution_count": 35,
     "metadata": {},
     "output_type": "execute_result"
    }
   ],
   "source": [
    "player_value.head()"
   ]
  },
  {
   "cell_type": "markdown",
   "metadata": {},
   "source": [
    "\n",
    "## Subset prospects (>=2015 and < 100 GP)"
   ]
  },
  {
   "cell_type": "code",
   "execution_count": null,
   "metadata": {},
   "outputs": [],
   "source": [
    "!pip install unidecode"
   ]
  },
  {
   "cell_type": "code",
   "execution_count": 47,
   "metadata": {},
   "outputs": [],
   "source": [
    "import datetime\n",
    "now = datetime.datetime.now()\n",
    "\n",
    "def get_current_year(date):\n",
    "    '''Return hockey season label based on what the current date is'''\n",
    "    if date.month >= 1 and date.month <= 9:\n",
    "        return date.year\n",
    "\n",
    "    else:\n",
    "        return date.year + 1"
   ]
  },
  {
   "cell_type": "code",
   "execution_count": 30,
   "metadata": {},
   "outputs": [],
   "source": [
    "import pandas as pd\n",
    "import json"
   ]
  },
  {
   "cell_type": "code",
   "execution_count": 31,
   "metadata": {},
   "outputs": [],
   "source": [
    "player_value = pd.read_csv('../data/draft-value.csv')\n",
    "teams = json.load(open('../../apple-model-app/assets/team-styles.json'))"
   ]
  },
  {
   "cell_type": "markdown",
   "metadata": {},
   "source": [
    "### Prepare Data for dashboard"
   ]
  },
  {
   "cell_type": "code",
   "execution_count": 13,
   "metadata": {},
   "outputs": [
    {
     "ename": "AttributeError",
     "evalue": "'DataFrame' object has no attribute 'positions'",
     "output_type": "error",
     "traceback": [
      "\u001b[0;31m---------------------------------------------------------------------------\u001b[0m",
      "\u001b[0;31mAttributeError\u001b[0m                            Traceback (most recent call last)",
      "\u001b[0;32m<ipython-input-13-fcf87e6df7f3>\u001b[0m in \u001b[0;36m<module>\u001b[0;34m\u001b[0m\n\u001b[1;32m     26\u001b[0m \u001b[0;34m\u001b[0m\u001b[0m\n\u001b[1;32m     27\u001b[0m \u001b[0mprospects\u001b[0m\u001b[0;34m[\u001b[0m\u001b[0;34m'rights'\u001b[0m\u001b[0;34m]\u001b[0m \u001b[0;34m=\u001b[0m \u001b[0mprospects\u001b[0m\u001b[0;34m.\u001b[0m\u001b[0mrights\u001b[0m\u001b[0;34m.\u001b[0m\u001b[0mapply\u001b[0m\u001b[0;34m(\u001b[0m\u001b[0munidecode\u001b[0m\u001b[0;34m)\u001b[0m\u001b[0;34m\u001b[0m\u001b[0;34m\u001b[0m\u001b[0m\n\u001b[0;32m---> 28\u001b[0;31m \u001b[0mprospects\u001b[0m\u001b[0;34m[\u001b[0m\u001b[0;34m'position_count'\u001b[0m\u001b[0;34m]\u001b[0m \u001b[0;34m=\u001b[0m \u001b[0mprospects\u001b[0m\u001b[0;34m.\u001b[0m\u001b[0mpositions\u001b[0m\u001b[0;34m.\u001b[0m\u001b[0mapply\u001b[0m\u001b[0;34m(\u001b[0m\u001b[0;32mlambda\u001b[0m \u001b[0mx\u001b[0m \u001b[0;34m:\u001b[0m \u001b[0mlen\u001b[0m\u001b[0;34m(\u001b[0m\u001b[0mx\u001b[0m\u001b[0;34m)\u001b[0m\u001b[0;34m)\u001b[0m\u001b[0;34m\u001b[0m\u001b[0;34m\u001b[0m\u001b[0m\n\u001b[0m\u001b[1;32m     29\u001b[0m \u001b[0;34m\u001b[0m\u001b[0m\n\u001b[1;32m     30\u001b[0m \u001b[0md_prospects\u001b[0m \u001b[0;34m=\u001b[0m \u001b[0mprospects\u001b[0m\u001b[0;34m[\u001b[0m\u001b[0mprospects\u001b[0m\u001b[0;34m.\u001b[0m\u001b[0mposition\u001b[0m \u001b[0;34m==\u001b[0m \u001b[0;34m'D'\u001b[0m\u001b[0;34m]\u001b[0m\u001b[0;34m\u001b[0m\u001b[0;34m\u001b[0m\u001b[0m\n",
      "\u001b[0;32m~/.pyenv/versions/apple/lib/python3.7/site-packages/pandas/core/generic.py\u001b[0m in \u001b[0;36m__getattr__\u001b[0;34m(self, name)\u001b[0m\n\u001b[1;32m   5128\u001b[0m             \u001b[0;32mif\u001b[0m \u001b[0mself\u001b[0m\u001b[0;34m.\u001b[0m\u001b[0m_info_axis\u001b[0m\u001b[0;34m.\u001b[0m\u001b[0m_can_hold_identifiers_and_holds_name\u001b[0m\u001b[0;34m(\u001b[0m\u001b[0mname\u001b[0m\u001b[0;34m)\u001b[0m\u001b[0;34m:\u001b[0m\u001b[0;34m\u001b[0m\u001b[0;34m\u001b[0m\u001b[0m\n\u001b[1;32m   5129\u001b[0m                 \u001b[0;32mreturn\u001b[0m \u001b[0mself\u001b[0m\u001b[0;34m[\u001b[0m\u001b[0mname\u001b[0m\u001b[0;34m]\u001b[0m\u001b[0;34m\u001b[0m\u001b[0;34m\u001b[0m\u001b[0m\n\u001b[0;32m-> 5130\u001b[0;31m             \u001b[0;32mreturn\u001b[0m \u001b[0mobject\u001b[0m\u001b[0;34m.\u001b[0m\u001b[0m__getattribute__\u001b[0m\u001b[0;34m(\u001b[0m\u001b[0mself\u001b[0m\u001b[0;34m,\u001b[0m \u001b[0mname\u001b[0m\u001b[0;34m)\u001b[0m\u001b[0;34m\u001b[0m\u001b[0;34m\u001b[0m\u001b[0m\n\u001b[0m\u001b[1;32m   5131\u001b[0m \u001b[0;34m\u001b[0m\u001b[0m\n\u001b[1;32m   5132\u001b[0m     \u001b[0;32mdef\u001b[0m \u001b[0m__setattr__\u001b[0m\u001b[0;34m(\u001b[0m\u001b[0mself\u001b[0m\u001b[0;34m,\u001b[0m \u001b[0mname\u001b[0m\u001b[0;34m:\u001b[0m \u001b[0mstr\u001b[0m\u001b[0;34m,\u001b[0m \u001b[0mvalue\u001b[0m\u001b[0;34m)\u001b[0m \u001b[0;34m->\u001b[0m \u001b[0;32mNone\u001b[0m\u001b[0;34m:\u001b[0m\u001b[0;34m\u001b[0m\u001b[0;34m\u001b[0m\u001b[0m\n",
      "\u001b[0;31mAttributeError\u001b[0m: 'DataFrame' object has no attribute 'positions'"
     ]
    }
   ],
   "source": [
    "from unidecode import unidecode\n",
    "import plotly.graph_objects as go\n",
    "from plotly.subplots import make_subplots \n",
    "import numpy as np\n",
    "\n",
    "df = pd.read_csv('../../apple-model-app/data/draft-value.csv')\n",
    "team = 'Toronto Maple Leafs'\n",
    "teams = json.load(open('../../apple-model-app/assets/team-styles.json'))\n",
    "primary_colour = teams['nhl'][team]['color']\n",
    "\n",
    "prospects = df.sort_values(by=['player', 'season_order'],\n",
    "                                 ascending=[True, False])\\\n",
    "        .drop_duplicates(subset=['playerid'])\\\n",
    "        .loc[(\n",
    "                (df.draft_year >= 2016)\n",
    "            )\n",
    "             &\n",
    "            (\n",
    "                (df.end_year == 2020)\n",
    "             )\n",
    "             &\n",
    "                (df.rights.notnull())\n",
    "             &\n",
    "                (df.draft_plus_5_gp < 50)\n",
    "             ]\n",
    "\n",
    "prospects['rights'] = prospects.rights.apply(unidecode)\n",
    "prospects['position_count'] = prospects.positions.apply(lambda x : len(x))\n",
    "\n",
    "d_prospects = prospects[prospects.position == 'D']\n",
    "f_prospects = prospects[prospects.position == 'F']\n",
    "\n",
    "defence = df[df.position == 'D']\n",
    "forwards = df[df.position == 'F']\n",
    "\n",
    "pipeline = prospects[prospects.rights == team].sort_values('Projected Rate', ascending=True)\n",
    "\n",
    "team_forwards = pipeline[pipeline.position == 'F']\n",
    "team_defence = pipeline[pipeline.position == 'D']"
   ]
  },
  {
   "cell_type": "code",
   "execution_count": 14,
   "metadata": {},
   "outputs": [
    {
     "data": {
      "text/html": [
       "<div>\n",
       "<style scoped>\n",
       "    .dataframe tbody tr th:only-of-type {\n",
       "        vertical-align: middle;\n",
       "    }\n",
       "\n",
       "    .dataframe tbody tr th {\n",
       "        vertical-align: top;\n",
       "    }\n",
       "\n",
       "    .dataframe thead th {\n",
       "        text-align: right;\n",
       "    }\n",
       "</style>\n",
       "<table border=\"1\" class=\"dataframe\">\n",
       "  <thead>\n",
       "    <tr style=\"text-align: right;\">\n",
       "      <th></th>\n",
       "      <th>playerid</th>\n",
       "      <th>player</th>\n",
       "      <th>position</th>\n",
       "      <th>nhl_likelihood</th>\n",
       "      <th>most_likely_nhl_node</th>\n",
       "      <th>most_likely_nhl_prob</th>\n",
       "      <th>nhl_floor</th>\n",
       "      <th>nhl_expected_value</th>\n",
       "      <th>nhl_ceiling</th>\n",
       "      <th>nhl_maximizing_node</th>\n",
       "      <th>nhl_ceiling_prob</th>\n",
       "      <th>graph</th>\n",
       "      <th>date_of_birth</th>\n",
       "      <th>base_year</th>\n",
       "      <th>draft_year</th>\n",
       "      <th>Projected Rate</th>\n",
       "      <th>Projected Role</th>\n",
       "      <th>Floor Rate</th>\n",
       "      <th>Ceiling Rate</th>\n",
       "      <th>season_order</th>\n",
       "      <th>height</th>\n",
       "      <th>weight</th>\n",
       "      <th>rights</th>\n",
       "      <th>nation</th>\n",
       "      <th>draft_round</th>\n",
       "      <th>draft_pick</th>\n",
       "      <th>draft_team</th>\n",
       "      <th>nhl_draft</th>\n",
       "      <th>end_year</th>\n",
       "      <th>years_post_draft</th>\n",
       "      <th>current_nhl_pts</th>\n",
       "      <th>current_nhl_gp</th>\n",
       "      <th>current_nhl_g</th>\n",
       "      <th>current_nhl_a</th>\n",
       "      <th>draft_plus_5_points</th>\n",
       "      <th>draft_plus_5_gp</th>\n",
       "      <th>draft_plus_5_g</th>\n",
       "      <th>draft_plus_5_a</th>\n",
       "      <th>primary_position</th>\n",
       "      <th>ceiling_percentile</th>\n",
       "      <th>xpick</th>\n",
       "      <th>xpick_value</th>\n",
       "      <th>value_cluster</th>\n",
       "      <th>upside_cluster</th>\n",
       "      <th>draft_value_range</th>\n",
       "      <th>draft_upside</th>\n",
       "      <th>surplus</th>\n",
       "      <th>surplus_relative</th>\n",
       "      <th>year</th>\n",
       "      <th>league</th>\n",
       "      <th>gp</th>\n",
       "      <th>g</th>\n",
       "      <th>a</th>\n",
       "      <th>tp</th>\n",
       "      <th>ppg</th>\n",
       "      <th>real_season_age</th>\n",
       "      <th>draft_plus_5_ppg</th>\n",
       "    </tr>\n",
       "  </thead>\n",
       "  <tbody>\n",
       "    <tr>\n",
       "      <th>2400</th>\n",
       "      <td>118081</td>\n",
       "      <td>Aapeli Räsänen</td>\n",
       "      <td>F</td>\n",
       "      <td>0.00</td>\n",
       "      <td>1</td>\n",
       "      <td>1.00</td>\n",
       "      <td>0</td>\n",
       "      <td>0.0</td>\n",
       "      <td>0.0</td>\n",
       "      <td>1</td>\n",
       "      <td>1.00</td>\n",
       "      <td>{\"directed\": true, \"multigraph\": false, \"graph...</td>\n",
       "      <td>1998-06-01</td>\n",
       "      <td>D + 4</td>\n",
       "      <td>2016</td>\n",
       "      <td>0</td>\n",
       "      <td>Depth</td>\n",
       "      <td>0.00</td>\n",
       "      <td>0.00</td>\n",
       "      <td>4</td>\n",
       "      <td>183.0</td>\n",
       "      <td>94.0</td>\n",
       "      <td>Edmonton Oilers</td>\n",
       "      <td>Finland</td>\n",
       "      <td>6</td>\n",
       "      <td>153</td>\n",
       "      <td>Edmonton Oilers</td>\n",
       "      <td>NaN</td>\n",
       "      <td>2020</td>\n",
       "      <td>4.0</td>\n",
       "      <td>0.0</td>\n",
       "      <td>0.0</td>\n",
       "      <td>0.0</td>\n",
       "      <td>0.0</td>\n",
       "      <td>0.0</td>\n",
       "      <td>0.0</td>\n",
       "      <td>0.0</td>\n",
       "      <td>0.0</td>\n",
       "      <td>F</td>\n",
       "      <td>99.321894</td>\n",
       "      <td>150.000000</td>\n",
       "      <td>2</td>\n",
       "      <td>0</td>\n",
       "      <td>5</td>\n",
       "      <td>Late Round</td>\n",
       "      <td>Unknown</td>\n",
       "      <td>-2.0</td>\n",
       "      <td>-0.009367</td>\n",
       "      <td>2019-2020</td>\n",
       "      <td>NCAA</td>\n",
       "      <td>34.0</td>\n",
       "      <td>11.0</td>\n",
       "      <td>13.0</td>\n",
       "      <td>24.0</td>\n",
       "      <td>0.705882</td>\n",
       "      <td>22.58</td>\n",
       "      <td>NaN</td>\n",
       "    </tr>\n",
       "    <tr>\n",
       "      <th>1610</th>\n",
       "      <td>299098</td>\n",
       "      <td>Aarne Talvitie</td>\n",
       "      <td>F</td>\n",
       "      <td>0.02</td>\n",
       "      <td>7</td>\n",
       "      <td>0.02</td>\n",
       "      <td>25</td>\n",
       "      <td>0.0</td>\n",
       "      <td>25.0</td>\n",
       "      <td>7</td>\n",
       "      <td>0.02</td>\n",
       "      <td>{\"directed\": true, \"multigraph\": false, \"graph...</td>\n",
       "      <td>1999-02-11</td>\n",
       "      <td>D + 3</td>\n",
       "      <td>2017</td>\n",
       "      <td>0.39</td>\n",
       "      <td>Top 9</td>\n",
       "      <td>0.39</td>\n",
       "      <td>0.39</td>\n",
       "      <td>3</td>\n",
       "      <td>178.0</td>\n",
       "      <td>90.0</td>\n",
       "      <td>New Jersey Devils</td>\n",
       "      <td>Finland</td>\n",
       "      <td>6</td>\n",
       "      <td>160</td>\n",
       "      <td>New Jersey Devils</td>\n",
       "      <td>NaN</td>\n",
       "      <td>2020</td>\n",
       "      <td>3.0</td>\n",
       "      <td>0.0</td>\n",
       "      <td>0.0</td>\n",
       "      <td>0.0</td>\n",
       "      <td>0.0</td>\n",
       "      <td>0.0</td>\n",
       "      <td>0.0</td>\n",
       "      <td>0.0</td>\n",
       "      <td>0.0</td>\n",
       "      <td>F</td>\n",
       "      <td>48.892918</td>\n",
       "      <td>150.000000</td>\n",
       "      <td>2</td>\n",
       "      <td>0</td>\n",
       "      <td>3</td>\n",
       "      <td>Late Round</td>\n",
       "      <td>Project</td>\n",
       "      <td>-2.0</td>\n",
       "      <td>-0.009367</td>\n",
       "      <td>2019-2020</td>\n",
       "      <td>NCAA</td>\n",
       "      <td>30.0</td>\n",
       "      <td>6.0</td>\n",
       "      <td>13.0</td>\n",
       "      <td>19.0</td>\n",
       "      <td>0.633333</td>\n",
       "      <td>21.89</td>\n",
       "      <td>NaN</td>\n",
       "    </tr>\n",
       "    <tr>\n",
       "      <th>331</th>\n",
       "      <td>291514</td>\n",
       "      <td>Adam Beckman</td>\n",
       "      <td>F</td>\n",
       "      <td>0.40</td>\n",
       "      <td>18</td>\n",
       "      <td>0.14</td>\n",
       "      <td>97</td>\n",
       "      <td>24.0</td>\n",
       "      <td>98.0</td>\n",
       "      <td>18</td>\n",
       "      <td>0.14</td>\n",
       "      <td>{\"directed\": true, \"multigraph\": false, \"graph...</td>\n",
       "      <td>2001-05-10</td>\n",
       "      <td>D + 1</td>\n",
       "      <td>2019</td>\n",
       "      <td>0.39-0.61</td>\n",
       "      <td>Top 9-Top 6</td>\n",
       "      <td>0.39</td>\n",
       "      <td>0.61</td>\n",
       "      <td>1</td>\n",
       "      <td>185.0</td>\n",
       "      <td>81.0</td>\n",
       "      <td>Minnesota Wild</td>\n",
       "      <td>Canada</td>\n",
       "      <td>3</td>\n",
       "      <td>75</td>\n",
       "      <td>Minnesota Wild</td>\n",
       "      <td>NaN</td>\n",
       "      <td>2020</td>\n",
       "      <td>1.0</td>\n",
       "      <td>0.0</td>\n",
       "      <td>0.0</td>\n",
       "      <td>0.0</td>\n",
       "      <td>0.0</td>\n",
       "      <td>0.0</td>\n",
       "      <td>0.0</td>\n",
       "      <td>0.0</td>\n",
       "      <td>0.0</td>\n",
       "      <td>F</td>\n",
       "      <td>99.015272</td>\n",
       "      <td>37.139940</td>\n",
       "      <td>4</td>\n",
       "      <td>2</td>\n",
       "      <td>4</td>\n",
       "      <td>2nd-3rd Round</td>\n",
       "      <td>Mid End</td>\n",
       "      <td>20.0</td>\n",
       "      <td>0.093666</td>\n",
       "      <td>2019-2020</td>\n",
       "      <td>WHL</td>\n",
       "      <td>63.0</td>\n",
       "      <td>48.0</td>\n",
       "      <td>59.0</td>\n",
       "      <td>107.0</td>\n",
       "      <td>1.698413</td>\n",
       "      <td>19.64</td>\n",
       "      <td>NaN</td>\n",
       "    </tr>\n",
       "    <tr>\n",
       "      <th>1410</th>\n",
       "      <td>265684</td>\n",
       "      <td>Adam Boqvist</td>\n",
       "      <td>D</td>\n",
       "      <td>0.96</td>\n",
       "      <td>7</td>\n",
       "      <td>0.81</td>\n",
       "      <td>112</td>\n",
       "      <td>101.0</td>\n",
       "      <td>126.0</td>\n",
       "      <td>7</td>\n",
       "      <td>0.80</td>\n",
       "      <td>{\"directed\": true, \"multigraph\": false, \"graph...</td>\n",
       "      <td>2000-08-15</td>\n",
       "      <td>D + 2</td>\n",
       "      <td>2018</td>\n",
       "      <td>0.44-0.59</td>\n",
       "      <td>Top Pair-Elite</td>\n",
       "      <td>0.44</td>\n",
       "      <td>0.59</td>\n",
       "      <td>2</td>\n",
       "      <td>182.0</td>\n",
       "      <td>82.0</td>\n",
       "      <td>Chicago Blackhawks</td>\n",
       "      <td>Sweden</td>\n",
       "      <td>1</td>\n",
       "      <td>8</td>\n",
       "      <td>Chicago Blackhawks</td>\n",
       "      <td>NaN</td>\n",
       "      <td>2020</td>\n",
       "      <td>2.0</td>\n",
       "      <td>13.0</td>\n",
       "      <td>41.0</td>\n",
       "      <td>4.0</td>\n",
       "      <td>9.0</td>\n",
       "      <td>13.0</td>\n",
       "      <td>41.0</td>\n",
       "      <td>4.0</td>\n",
       "      <td>9.0</td>\n",
       "      <td>D</td>\n",
       "      <td>99.321894</td>\n",
       "      <td>0.441400</td>\n",
       "      <td>67</td>\n",
       "      <td>5</td>\n",
       "      <td>2</td>\n",
       "      <td>Top 5</td>\n",
       "      <td>High End</td>\n",
       "      <td>34.0</td>\n",
       "      <td>0.346830</td>\n",
       "      <td>2019-2020</td>\n",
       "      <td>NHL</td>\n",
       "      <td>41.0</td>\n",
       "      <td>4.0</td>\n",
       "      <td>9.0</td>\n",
       "      <td>13.0</td>\n",
       "      <td>0.317073</td>\n",
       "      <td>20.38</td>\n",
       "      <td>0.317073</td>\n",
       "    </tr>\n",
       "    <tr>\n",
       "      <th>592</th>\n",
       "      <td>349951</td>\n",
       "      <td>Adam Edström</td>\n",
       "      <td>F</td>\n",
       "      <td>0.12</td>\n",
       "      <td>20</td>\n",
       "      <td>0.03</td>\n",
       "      <td>17</td>\n",
       "      <td>3.0</td>\n",
       "      <td>69.0</td>\n",
       "      <td>24</td>\n",
       "      <td>0.02</td>\n",
       "      <td>{\"directed\": true, \"multigraph\": false, \"graph...</td>\n",
       "      <td>2000-10-12</td>\n",
       "      <td>D + 1</td>\n",
       "      <td>2019</td>\n",
       "      <td>0.3-0.41</td>\n",
       "      <td>Top 9</td>\n",
       "      <td>0.30</td>\n",
       "      <td>0.41</td>\n",
       "      <td>1</td>\n",
       "      <td>199.0</td>\n",
       "      <td>96.0</td>\n",
       "      <td>New York Rangers</td>\n",
       "      <td>Sweden</td>\n",
       "      <td>6</td>\n",
       "      <td>161</td>\n",
       "      <td>New York Rangers</td>\n",
       "      <td>NaN</td>\n",
       "      <td>2020</td>\n",
       "      <td>1.0</td>\n",
       "      <td>0.0</td>\n",
       "      <td>0.0</td>\n",
       "      <td>0.0</td>\n",
       "      <td>0.0</td>\n",
       "      <td>0.0</td>\n",
       "      <td>0.0</td>\n",
       "      <td>0.0</td>\n",
       "      <td>0.0</td>\n",
       "      <td>F</td>\n",
       "      <td>99.050652</td>\n",
       "      <td>97.970998</td>\n",
       "      <td>2</td>\n",
       "      <td>3</td>\n",
       "      <td>1</td>\n",
       "      <td>Mid Round</td>\n",
       "      <td>Safe</td>\n",
       "      <td>1.0</td>\n",
       "      <td>0.004683</td>\n",
       "      <td>2019-2020</td>\n",
       "      <td>SHL</td>\n",
       "      <td>46.0</td>\n",
       "      <td>4.0</td>\n",
       "      <td>5.0</td>\n",
       "      <td>9.0</td>\n",
       "      <td>0.195652</td>\n",
       "      <td>20.22</td>\n",
       "      <td>NaN</td>\n",
       "    </tr>\n",
       "  </tbody>\n",
       "</table>\n",
       "</div>"
      ],
      "text/plain": [
       "      playerid          player position  nhl_likelihood  most_likely_nhl_node  most_likely_nhl_prob  nhl_floor  nhl_expected_value  nhl_ceiling  ...       year  league    gp     g     a     tp       ppg real_season_age  draft_plus_5_ppg\n",
       "2400    118081  Aapeli Räsänen        F            0.00                     1                  1.00          0                 0.0          0.0  ...  2019-2020    NCAA  34.0  11.0  13.0   24.0  0.705882           22.58               NaN\n",
       "1610    299098  Aarne Talvitie        F            0.02                     7                  0.02         25                 0.0         25.0  ...  2019-2020    NCAA  30.0   6.0  13.0   19.0  0.633333           21.89               NaN\n",
       "331     291514    Adam Beckman        F            0.40                    18                  0.14         97                24.0         98.0  ...  2019-2020     WHL  63.0  48.0  59.0  107.0  1.698413           19.64               NaN\n",
       "1410    265684    Adam Boqvist        D            0.96                     7                  0.81        112               101.0        126.0  ...  2019-2020     NHL  41.0   4.0   9.0   13.0  0.317073           20.38          0.317073\n",
       "592     349951    Adam Edström        F            0.12                    20                  0.03         17                 3.0         69.0  ...  2019-2020     SHL  46.0   4.0   5.0    9.0  0.195652           20.22               NaN\n",
       "\n",
       "[5 rows x 57 columns]"
      ]
     },
     "execution_count": 14,
     "metadata": {},
     "output_type": "execute_result"
    }
   ],
   "source": [
    "prospects.head()"
   ]
  },
  {
   "cell_type": "code",
   "execution_count": 32,
   "metadata": {},
   "outputs": [],
   "source": []
  },
  {
   "cell_type": "code",
   "execution_count": 4,
   "metadata": {},
   "outputs": [],
   "source": []
  },
  {
   "cell_type": "code",
   "execution_count": 191,
   "metadata": {},
   "outputs": [
    {
     "data": {
      "application/vnd.plotly.v1+json": {
       "config": {
        "plotlyServerURL": "https://plot.ly"
       },
       "data": [
        {
         "marker": {
          "color": "rgba(212, 212, 212, 1)",
          "size": 12
         },
         "mode": "markers",
         "name": "NHL Expectation",
         "showlegend": false,
         "type": "scatter",
         "x": [
          0,
          0,
          0,
          0,
          0.32,
          0.33,
          0.34,
          0.36,
          0.38,
          0.38,
          0.43,
          0.47,
          0.47,
          0.64
         ],
         "xaxis": "x",
         "y": [
          "Arsen Khisamutdinov",
          "Blake Biondi",
          "Rafaël Harvey-Pinard",
          "Michael Pezzetta",
          "Jacob Olofsson",
          "Cameron Hillis",
          "Ryan Poehling",
          "Luke Tuch",
          "Alexander Gordin",
          "Brett Stapley",
          "Jesse Ylönen",
          "Jan Mysak",
          "Sean Farrell",
          "Cole Caufield"
         ],
         "yaxis": "y"
        },
        {
         "marker": {
          "color": "rgba(212, 212, 212, 1)",
          "size": 12
         },
         "mode": "markers",
         "name": "NHL Expectation",
         "showlegend": true,
         "type": "scatter",
         "x": [
          0.21,
          0.22,
          0.22,
          0.25,
          0.26,
          0.26,
          0.3
         ],
         "xaxis": "x2",
         "y": [
          "Cale Fleury",
          "Jacob LeGuerrier",
          "Gianni Fairbrother",
          "Alexander Romanov",
          "Mattias Norlinder",
          "Josh Brook",
          "Kaiden Guhle"
         ],
         "yaxis": "y2"
        },
        {
         "marker": {
          "color": "rgba(255,255,255,0)",
          "line": {
           "color": "#aF1E2D",
           "width": 4
          },
          "size": 16
         },
         "mode": "markers",
         "name": "NHL Ceiling",
         "showlegend": false,
         "type": "scatter",
         "x": [
          0,
          0,
          0,
          0,
          0.41,
          0.41,
          0.44,
          0.42,
          0.38,
          0.38,
          0.51,
          0.47,
          0.57,
          0.82
         ],
         "xaxis": "x",
         "y": [
          "Arsen Khisamutdinov",
          "Blake Biondi",
          "Rafaël Harvey-Pinard",
          "Michael Pezzetta",
          "Jacob Olofsson",
          "Cameron Hillis",
          "Ryan Poehling",
          "Luke Tuch",
          "Alexander Gordin",
          "Brett Stapley",
          "Jesse Ylönen",
          "Jan Mysak",
          "Sean Farrell",
          "Cole Caufield"
         ],
         "yaxis": "y"
        },
        {
         "marker": {
          "color": "rgba(255,255,255,0)",
          "line": {
           "color": "#aF1E2D",
           "width": 4
          },
          "size": 16
         },
         "mode": "markers",
         "name": "NHL Ceiling",
         "showlegend": true,
         "type": "scatter",
         "x": [
          0.27,
          0.29,
          0.32,
          0.3,
          0.26,
          0.26,
          0.42
         ],
         "xaxis": "x2",
         "y": [
          "Cale Fleury",
          "Jacob LeGuerrier",
          "Gianni Fairbrother",
          "Alexander Romanov",
          "Mattias Norlinder",
          "Josh Brook",
          "Kaiden Guhle"
         ],
         "yaxis": "y2"
        },
        {
         "marker": {
          "color": "rgba(212, 212, 212, 1)",
          "size": 12
         },
         "mode": "markers",
         "name": "NHL Expectation",
         "showlegend": false,
         "type": "scatter",
         "x": [
          0,
          0,
          0,
          0,
          0.32,
          0.33,
          0.34,
          0.36,
          0.38,
          0.38,
          0.43,
          0.47,
          0.47,
          0.64
         ],
         "xaxis": "x",
         "y": [
          "Arsen Khisamutdinov",
          "Blake Biondi",
          "Rafaël Harvey-Pinard",
          "Michael Pezzetta",
          "Jacob Olofsson",
          "Cameron Hillis",
          "Ryan Poehling",
          "Luke Tuch",
          "Alexander Gordin",
          "Brett Stapley",
          "Jesse Ylönen",
          "Jan Mysak",
          "Sean Farrell",
          "Cole Caufield"
         ],
         "yaxis": "y"
        },
        {
         "marker": {
          "color": "rgba(212, 212, 212, 1)",
          "size": 12
         },
         "mode": "markers",
         "name": "NHL Expectation",
         "showlegend": true,
         "type": "scatter",
         "x": [
          0.21,
          0.22,
          0.22,
          0.25,
          0.26,
          0.26,
          0.3
         ],
         "xaxis": "x2",
         "y": [
          "Cale Fleury",
          "Jacob LeGuerrier",
          "Gianni Fairbrother",
          "Alexander Romanov",
          "Mattias Norlinder",
          "Josh Brook",
          "Kaiden Guhle"
         ],
         "yaxis": "y2"
        }
       ],
       "layout": {
        "annotations": [
         {
          "align": "center",
          "arrowcolor": "rgba(0, 0, 0, 1)",
          "arrowhead": 2,
          "arrowsize": 1,
          "arrowwidth": 2,
          "ax": -30,
          "ay": -30,
          "bgcolor": "rgba(0, 0, 0, 1)",
          "bordercolor": "rgba(0, 0, 0, 1)",
          "borderpad": 2,
          "borderwidth": 2,
          "font": {
           "color": "white"
          },
          "opacity": 0.8,
          "showarrow": false,
          "text": "Top 9",
          "textangle": -90,
          "x": 0.2640713416517392,
          "xref": "x",
          "y": 15,
          "yref": "y"
         },
         {
          "align": "center",
          "arrowcolor": "rgba(0, 0, 0, 1)",
          "arrowhead": 2,
          "arrowsize": 1,
          "arrowwidth": 2,
          "ax": -30,
          "ay": -30,
          "bgcolor": "rgba(0, 0, 0, 1)",
          "bordercolor": "rgba(0, 0, 0, 1)",
          "borderpad": 2,
          "borderwidth": 2,
          "font": {
           "color": "white"
          },
          "opacity": 0.8,
          "showarrow": false,
          "text": "Top 6",
          "textangle": -90,
          "x": 0.4442586786393099,
          "xref": "x",
          "y": 15,
          "yref": "y"
         },
         {
          "align": "center",
          "arrowcolor": "rgba(0, 0, 0, 1)",
          "arrowhead": 2,
          "arrowsize": 1,
          "arrowwidth": 2,
          "ax": -30,
          "ay": -30,
          "bgcolor": "rgba(0, 0, 0, 1)",
          "bordercolor": "rgba(0, 0, 0, 1)",
          "borderpad": 2,
          "borderwidth": 2,
          "font": {
           "color": "white"
          },
          "opacity": 0.8,
          "showarrow": false,
          "text": "Top Line",
          "textangle": -90,
          "x": 0.6820207552204208,
          "xref": "x",
          "y": 15,
          "yref": "y"
         },
         {
          "align": "center",
          "arrowcolor": "rgba(0, 0, 0, 1)",
          "arrowhead": 2,
          "arrowsize": 1,
          "arrowwidth": 2,
          "ax": -30,
          "ay": -30,
          "bgcolor": "rgba(0, 0, 0, 1)",
          "bordercolor": "rgba(0, 0, 0, 1)",
          "borderpad": 2,
          "borderwidth": 2,
          "font": {
           "color": "white"
          },
          "opacity": 0.8,
          "showarrow": false,
          "text": "Elite",
          "textangle": -90,
          "x": 0.8973932715590296,
          "xref": "x",
          "y": 15,
          "yref": "y"
         },
         {
          "align": "center",
          "arrowcolor": "rgba(0,0, 0, 1)",
          "arrowhead": 2,
          "arrowsize": 1,
          "arrowwidth": 2,
          "ax": -30,
          "ay": -30,
          "bgcolor": "rgba(0, 0, 0, 1)",
          "bordercolor": "rgba(0, 0, 0, 1)",
          "borderpad": 2,
          "borderwidth": 2,
          "font": {
           "color": "white"
          },
          "opacity": 0.8,
          "showarrow": false,
          "text": "Top 6",
          "textangle": -90,
          "x": 0.1766036086013275,
          "xref": "x2",
          "y": 8,
          "yref": "y2"
         },
         {
          "align": "center",
          "arrowcolor": "rgba(0,0, 0, 1)",
          "arrowhead": 2,
          "arrowsize": 1,
          "arrowwidth": 2,
          "ax": -30,
          "ay": -30,
          "bgcolor": "rgba(0, 0, 0, 1)",
          "bordercolor": "rgba(0, 0, 0, 1)",
          "borderpad": 2,
          "borderwidth": 2,
          "font": {
           "color": "white"
          },
          "opacity": 0.8,
          "showarrow": false,
          "text": "Top 4",
          "textangle": -90,
          "x": 0.2730208794506842,
          "xref": "x2",
          "y": 8,
          "yref": "y2"
         },
         {
          "align": "center",
          "arrowcolor": "rgba(0,0, 0, 1)",
          "arrowhead": 2,
          "arrowsize": 1,
          "arrowwidth": 2,
          "ax": -30,
          "ay": -30,
          "bgcolor": "rgba(0, 0, 0, 1)",
          "bordercolor": "rgba(0, 0, 0, 1)",
          "borderpad": 2,
          "borderwidth": 2,
          "font": {
           "color": "white"
          },
          "opacity": 0.8,
          "showarrow": false,
          "text": "Top Pair",
          "textangle": -90,
          "x": 0.42361216282161296,
          "xref": "x2",
          "y": 8,
          "yref": "y2"
         },
         {
          "align": "center",
          "arrowcolor": "rgba(0,0, 0, 1)",
          "arrowhead": 2,
          "arrowsize": 1,
          "arrowwidth": 2,
          "ax": -30,
          "ay": -30,
          "bgcolor": "rgba(0, 0, 0, 1)",
          "bordercolor": "rgba(0, 0, 0, 1)",
          "borderpad": 2,
          "borderwidth": 2,
          "font": {
           "color": "white"
          },
          "opacity": 0.8,
          "showarrow": false,
          "text": "Elite",
          "textangle": -90,
          "x": 0.5824838476993234,
          "xref": "x2",
          "y": 8,
          "yref": "y2"
         }
        ],
        "hovermode": "closest",
        "legend": {
         "font": {
          "size": 10
         },
         "x": 0.99,
         "xanchor": "right",
         "y": 0.9,
         "yanchor": "bottom"
        },
        "margin": {
         "b": 10,
         "l": 40,
         "r": 10,
         "t": 10
        },
        "paper_bgcolor": "rgba(0,0,0,0)",
        "plot_bgcolor": "rgb(255,255,255)",
        "shapes": [
         {
          "line": {
           "color": "rgba(0, 0, 0, 0.6)",
           "dash": "dashdot",
           "width": 2
          },
          "type": "line",
          "x0": 0.2640713416517392,
          "x1": 0.2640713416517392,
          "xref": "x",
          "y0": -1,
          "y1": 15,
          "yref": "y"
         },
         {
          "line": {
           "color": "rgba(0, 0, 0, 0.6)",
           "dash": "dashdot",
           "width": 2
          },
          "type": "line",
          "x0": 0.4442586786393099,
          "x1": 0.4442586786393099,
          "xref": "x",
          "y0": -1,
          "y1": 15,
          "yref": "y"
         },
         {
          "line": {
           "color": "rgba(0, 0, 0, 0.6)",
           "dash": "dashdot",
           "width": 2
          },
          "type": "line",
          "x0": 0.6820207552204208,
          "x1": 0.6820207552204208,
          "xref": "x",
          "y0": -1,
          "y1": 15,
          "yref": "y"
         },
         {
          "line": {
           "color": "rgba(0, 0, 0, 0.6)",
           "dash": "dashdot",
           "width": 2
          },
          "type": "line",
          "x0": 0.8973932715590296,
          "x1": 0.8973932715590296,
          "xref": "x",
          "y0": -1,
          "y1": 15,
          "yref": "y"
         },
         {
          "line": {
           "color": "rgba(0, 0, 0, 0.6)",
           "dash": "dashdot",
           "width": 2
          },
          "type": "line",
          "x0": 0.1766036086013275,
          "x1": 0.1766036086013275,
          "xref": "x2",
          "y0": -1,
          "y1": 8,
          "yref": "y2"
         },
         {
          "line": {
           "color": "rgba(0, 0, 0, 0.6)",
           "dash": "dashdot",
           "width": 2
          },
          "type": "line",
          "x0": 0.2730208794506842,
          "x1": 0.2730208794506842,
          "xref": "x2",
          "y0": -1,
          "y1": 8,
          "yref": "y2"
         },
         {
          "line": {
           "color": "rgba(0, 0, 0, 0.6)",
           "dash": "dashdot",
           "width": 2
          },
          "type": "line",
          "x0": 0.42361216282161296,
          "x1": 0.42361216282161296,
          "xref": "x2",
          "y0": -1,
          "y1": 8,
          "yref": "y2"
         },
         {
          "line": {
           "color": "rgba(0, 0, 0, 0.6)",
           "dash": "dashdot",
           "width": 2
          },
          "type": "line",
          "x0": 0.5824838476993234,
          "x1": 0.5824838476993234,
          "xref": "x2",
          "y0": -1,
          "y1": 8,
          "yref": "y2"
         }
        ],
        "template": {
         "data": {
          "bar": [
           {
            "error_x": {
             "color": "#2a3f5f"
            },
            "error_y": {
             "color": "#2a3f5f"
            },
            "marker": {
             "line": {
              "color": "#E5ECF6",
              "width": 0.5
             }
            },
            "type": "bar"
           }
          ],
          "barpolar": [
           {
            "marker": {
             "line": {
              "color": "#E5ECF6",
              "width": 0.5
             }
            },
            "type": "barpolar"
           }
          ],
          "carpet": [
           {
            "aaxis": {
             "endlinecolor": "#2a3f5f",
             "gridcolor": "white",
             "linecolor": "white",
             "minorgridcolor": "white",
             "startlinecolor": "#2a3f5f"
            },
            "baxis": {
             "endlinecolor": "#2a3f5f",
             "gridcolor": "white",
             "linecolor": "white",
             "minorgridcolor": "white",
             "startlinecolor": "#2a3f5f"
            },
            "type": "carpet"
           }
          ],
          "choropleth": [
           {
            "colorbar": {
             "outlinewidth": 0,
             "ticks": ""
            },
            "type": "choropleth"
           }
          ],
          "contour": [
           {
            "colorbar": {
             "outlinewidth": 0,
             "ticks": ""
            },
            "colorscale": [
             [
              0,
              "#0d0887"
             ],
             [
              0.1111111111111111,
              "#46039f"
             ],
             [
              0.2222222222222222,
              "#7201a8"
             ],
             [
              0.3333333333333333,
              "#9c179e"
             ],
             [
              0.4444444444444444,
              "#bd3786"
             ],
             [
              0.5555555555555556,
              "#d8576b"
             ],
             [
              0.6666666666666666,
              "#ed7953"
             ],
             [
              0.7777777777777778,
              "#fb9f3a"
             ],
             [
              0.8888888888888888,
              "#fdca26"
             ],
             [
              1,
              "#f0f921"
             ]
            ],
            "type": "contour"
           }
          ],
          "contourcarpet": [
           {
            "colorbar": {
             "outlinewidth": 0,
             "ticks": ""
            },
            "type": "contourcarpet"
           }
          ],
          "heatmap": [
           {
            "colorbar": {
             "outlinewidth": 0,
             "ticks": ""
            },
            "colorscale": [
             [
              0,
              "#0d0887"
             ],
             [
              0.1111111111111111,
              "#46039f"
             ],
             [
              0.2222222222222222,
              "#7201a8"
             ],
             [
              0.3333333333333333,
              "#9c179e"
             ],
             [
              0.4444444444444444,
              "#bd3786"
             ],
             [
              0.5555555555555556,
              "#d8576b"
             ],
             [
              0.6666666666666666,
              "#ed7953"
             ],
             [
              0.7777777777777778,
              "#fb9f3a"
             ],
             [
              0.8888888888888888,
              "#fdca26"
             ],
             [
              1,
              "#f0f921"
             ]
            ],
            "type": "heatmap"
           }
          ],
          "heatmapgl": [
           {
            "colorbar": {
             "outlinewidth": 0,
             "ticks": ""
            },
            "colorscale": [
             [
              0,
              "#0d0887"
             ],
             [
              0.1111111111111111,
              "#46039f"
             ],
             [
              0.2222222222222222,
              "#7201a8"
             ],
             [
              0.3333333333333333,
              "#9c179e"
             ],
             [
              0.4444444444444444,
              "#bd3786"
             ],
             [
              0.5555555555555556,
              "#d8576b"
             ],
             [
              0.6666666666666666,
              "#ed7953"
             ],
             [
              0.7777777777777778,
              "#fb9f3a"
             ],
             [
              0.8888888888888888,
              "#fdca26"
             ],
             [
              1,
              "#f0f921"
             ]
            ],
            "type": "heatmapgl"
           }
          ],
          "histogram": [
           {
            "marker": {
             "colorbar": {
              "outlinewidth": 0,
              "ticks": ""
             }
            },
            "type": "histogram"
           }
          ],
          "histogram2d": [
           {
            "colorbar": {
             "outlinewidth": 0,
             "ticks": ""
            },
            "colorscale": [
             [
              0,
              "#0d0887"
             ],
             [
              0.1111111111111111,
              "#46039f"
             ],
             [
              0.2222222222222222,
              "#7201a8"
             ],
             [
              0.3333333333333333,
              "#9c179e"
             ],
             [
              0.4444444444444444,
              "#bd3786"
             ],
             [
              0.5555555555555556,
              "#d8576b"
             ],
             [
              0.6666666666666666,
              "#ed7953"
             ],
             [
              0.7777777777777778,
              "#fb9f3a"
             ],
             [
              0.8888888888888888,
              "#fdca26"
             ],
             [
              1,
              "#f0f921"
             ]
            ],
            "type": "histogram2d"
           }
          ],
          "histogram2dcontour": [
           {
            "colorbar": {
             "outlinewidth": 0,
             "ticks": ""
            },
            "colorscale": [
             [
              0,
              "#0d0887"
             ],
             [
              0.1111111111111111,
              "#46039f"
             ],
             [
              0.2222222222222222,
              "#7201a8"
             ],
             [
              0.3333333333333333,
              "#9c179e"
             ],
             [
              0.4444444444444444,
              "#bd3786"
             ],
             [
              0.5555555555555556,
              "#d8576b"
             ],
             [
              0.6666666666666666,
              "#ed7953"
             ],
             [
              0.7777777777777778,
              "#fb9f3a"
             ],
             [
              0.8888888888888888,
              "#fdca26"
             ],
             [
              1,
              "#f0f921"
             ]
            ],
            "type": "histogram2dcontour"
           }
          ],
          "mesh3d": [
           {
            "colorbar": {
             "outlinewidth": 0,
             "ticks": ""
            },
            "type": "mesh3d"
           }
          ],
          "parcoords": [
           {
            "line": {
             "colorbar": {
              "outlinewidth": 0,
              "ticks": ""
             }
            },
            "type": "parcoords"
           }
          ],
          "pie": [
           {
            "automargin": true,
            "type": "pie"
           }
          ],
          "scatter": [
           {
            "marker": {
             "colorbar": {
              "outlinewidth": 0,
              "ticks": ""
             }
            },
            "type": "scatter"
           }
          ],
          "scatter3d": [
           {
            "line": {
             "colorbar": {
              "outlinewidth": 0,
              "ticks": ""
             }
            },
            "marker": {
             "colorbar": {
              "outlinewidth": 0,
              "ticks": ""
             }
            },
            "type": "scatter3d"
           }
          ],
          "scattercarpet": [
           {
            "marker": {
             "colorbar": {
              "outlinewidth": 0,
              "ticks": ""
             }
            },
            "type": "scattercarpet"
           }
          ],
          "scattergeo": [
           {
            "marker": {
             "colorbar": {
              "outlinewidth": 0,
              "ticks": ""
             }
            },
            "type": "scattergeo"
           }
          ],
          "scattergl": [
           {
            "marker": {
             "colorbar": {
              "outlinewidth": 0,
              "ticks": ""
             }
            },
            "type": "scattergl"
           }
          ],
          "scattermapbox": [
           {
            "marker": {
             "colorbar": {
              "outlinewidth": 0,
              "ticks": ""
             }
            },
            "type": "scattermapbox"
           }
          ],
          "scatterpolar": [
           {
            "marker": {
             "colorbar": {
              "outlinewidth": 0,
              "ticks": ""
             }
            },
            "type": "scatterpolar"
           }
          ],
          "scatterpolargl": [
           {
            "marker": {
             "colorbar": {
              "outlinewidth": 0,
              "ticks": ""
             }
            },
            "type": "scatterpolargl"
           }
          ],
          "scatterternary": [
           {
            "marker": {
             "colorbar": {
              "outlinewidth": 0,
              "ticks": ""
             }
            },
            "type": "scatterternary"
           }
          ],
          "surface": [
           {
            "colorbar": {
             "outlinewidth": 0,
             "ticks": ""
            },
            "colorscale": [
             [
              0,
              "#0d0887"
             ],
             [
              0.1111111111111111,
              "#46039f"
             ],
             [
              0.2222222222222222,
              "#7201a8"
             ],
             [
              0.3333333333333333,
              "#9c179e"
             ],
             [
              0.4444444444444444,
              "#bd3786"
             ],
             [
              0.5555555555555556,
              "#d8576b"
             ],
             [
              0.6666666666666666,
              "#ed7953"
             ],
             [
              0.7777777777777778,
              "#fb9f3a"
             ],
             [
              0.8888888888888888,
              "#fdca26"
             ],
             [
              1,
              "#f0f921"
             ]
            ],
            "type": "surface"
           }
          ],
          "table": [
           {
            "cells": {
             "fill": {
              "color": "#EBF0F8"
             },
             "line": {
              "color": "white"
             }
            },
            "header": {
             "fill": {
              "color": "#C8D4E3"
             },
             "line": {
              "color": "white"
             }
            },
            "type": "table"
           }
          ]
         },
         "layout": {
          "annotationdefaults": {
           "arrowcolor": "#2a3f5f",
           "arrowhead": 0,
           "arrowwidth": 1
          },
          "coloraxis": {
           "colorbar": {
            "outlinewidth": 0,
            "ticks": ""
           }
          },
          "colorscale": {
           "diverging": [
            [
             0,
             "#8e0152"
            ],
            [
             0.1,
             "#c51b7d"
            ],
            [
             0.2,
             "#de77ae"
            ],
            [
             0.3,
             "#f1b6da"
            ],
            [
             0.4,
             "#fde0ef"
            ],
            [
             0.5,
             "#f7f7f7"
            ],
            [
             0.6,
             "#e6f5d0"
            ],
            [
             0.7,
             "#b8e186"
            ],
            [
             0.8,
             "#7fbc41"
            ],
            [
             0.9,
             "#4d9221"
            ],
            [
             1,
             "#276419"
            ]
           ],
           "sequential": [
            [
             0,
             "#0d0887"
            ],
            [
             0.1111111111111111,
             "#46039f"
            ],
            [
             0.2222222222222222,
             "#7201a8"
            ],
            [
             0.3333333333333333,
             "#9c179e"
            ],
            [
             0.4444444444444444,
             "#bd3786"
            ],
            [
             0.5555555555555556,
             "#d8576b"
            ],
            [
             0.6666666666666666,
             "#ed7953"
            ],
            [
             0.7777777777777778,
             "#fb9f3a"
            ],
            [
             0.8888888888888888,
             "#fdca26"
            ],
            [
             1,
             "#f0f921"
            ]
           ],
           "sequentialminus": [
            [
             0,
             "#0d0887"
            ],
            [
             0.1111111111111111,
             "#46039f"
            ],
            [
             0.2222222222222222,
             "#7201a8"
            ],
            [
             0.3333333333333333,
             "#9c179e"
            ],
            [
             0.4444444444444444,
             "#bd3786"
            ],
            [
             0.5555555555555556,
             "#d8576b"
            ],
            [
             0.6666666666666666,
             "#ed7953"
            ],
            [
             0.7777777777777778,
             "#fb9f3a"
            ],
            [
             0.8888888888888888,
             "#fdca26"
            ],
            [
             1,
             "#f0f921"
            ]
           ]
          },
          "colorway": [
           "#636efa",
           "#EF553B",
           "#00cc96",
           "#ab63fa",
           "#FFA15A",
           "#19d3f3",
           "#FF6692",
           "#B6E880",
           "#FF97FF",
           "#FECB52"
          ],
          "font": {
           "color": "#2a3f5f"
          },
          "geo": {
           "bgcolor": "white",
           "lakecolor": "white",
           "landcolor": "#E5ECF6",
           "showlakes": true,
           "showland": true,
           "subunitcolor": "white"
          },
          "hoverlabel": {
           "align": "left"
          },
          "hovermode": "closest",
          "mapbox": {
           "style": "light"
          },
          "paper_bgcolor": "white",
          "plot_bgcolor": "#E5ECF6",
          "polar": {
           "angularaxis": {
            "gridcolor": "white",
            "linecolor": "white",
            "ticks": ""
           },
           "bgcolor": "#E5ECF6",
           "radialaxis": {
            "gridcolor": "white",
            "linecolor": "white",
            "ticks": ""
           }
          },
          "scene": {
           "xaxis": {
            "backgroundcolor": "#E5ECF6",
            "gridcolor": "white",
            "gridwidth": 2,
            "linecolor": "white",
            "showbackground": true,
            "ticks": "",
            "zerolinecolor": "white"
           },
           "yaxis": {
            "backgroundcolor": "#E5ECF6",
            "gridcolor": "white",
            "gridwidth": 2,
            "linecolor": "white",
            "showbackground": true,
            "ticks": "",
            "zerolinecolor": "white"
           },
           "zaxis": {
            "backgroundcolor": "#E5ECF6",
            "gridcolor": "white",
            "gridwidth": 2,
            "linecolor": "white",
            "showbackground": true,
            "ticks": "",
            "zerolinecolor": "white"
           }
          },
          "shapedefaults": {
           "line": {
            "color": "#2a3f5f"
           }
          },
          "ternary": {
           "aaxis": {
            "gridcolor": "white",
            "linecolor": "white",
            "ticks": ""
           },
           "baxis": {
            "gridcolor": "white",
            "linecolor": "white",
            "ticks": ""
           },
           "bgcolor": "#E5ECF6",
           "caxis": {
            "gridcolor": "white",
            "linecolor": "white",
            "ticks": ""
           }
          },
          "title": {
           "x": 0.05
          },
          "xaxis": {
           "automargin": true,
           "gridcolor": "white",
           "linecolor": "white",
           "ticks": "",
           "title": {
            "standoff": 15
           },
           "zerolinecolor": "white",
           "zerolinewidth": 2
          },
          "yaxis": {
           "automargin": true,
           "gridcolor": "white",
           "linecolor": "white",
           "ticks": "",
           "title": {
            "standoff": 15
           },
           "zerolinecolor": "white",
           "zerolinewidth": 2
          }
         }
        },
        "xaxis": {
         "anchor": "y",
         "domain": [
          0,
          0.4
         ],
         "linecolor": "black",
         "linewidth": 2,
         "range": [
          0,
          1.8518614338953008
         ],
         "showline": true,
         "tickprefix": "<b>",
         "ticks": "outside",
         "ticksuffix": "</b><br>",
         "title": {
          "text": "Projected Rate"
         }
        },
        "xaxis2": {
         "anchor": "y2",
         "domain": [
          0.6000000000000001,
          1
         ],
         "linecolor": "black",
         "linewidth": 2,
         "range": [
          0,
          1.1985016446451202
         ],
         "showline": true,
         "tickprefix": "<b>",
         "ticks": "outside",
         "ticksuffix": "</b><br>",
         "title": {
          "text": "Projected Rate"
         }
        },
        "yaxis": {
         "anchor": "x",
         "domain": [
          0,
          1
         ],
         "tickmode": "linear",
         "tickprefix": "<b>",
         "ticks": "outside",
         "ticksuffix": "</b>"
        },
        "yaxis2": {
         "anchor": "x2",
         "domain": [
          0,
          1
         ],
         "tickmode": "linear",
         "tickprefix": "<b>",
         "ticks": "outside",
         "ticksuffix": "</b>"
        }
       }
      },
      "text/html": [
       "<div>                            <div id=\"fe9aaf55-47a3-48d6-9ab1-9c40e030115f\" class=\"plotly-graph-div\" style=\"height:525px; width:100%;\"></div>            <script type=\"text/javascript\">                require([\"plotly\"], function(Plotly) {                    window.PLOTLYENV=window.PLOTLYENV || {};                                    if (document.getElementById(\"fe9aaf55-47a3-48d6-9ab1-9c40e030115f\")) {                    Plotly.newPlot(                        \"fe9aaf55-47a3-48d6-9ab1-9c40e030115f\",                        [{\"marker\": {\"color\": \"rgba(212, 212, 212, 1)\", \"size\": 12}, \"mode\": \"markers\", \"name\": \"NHL Expectation\", \"showlegend\": false, \"type\": \"scatter\", \"x\": [0.0, 0.0, 0.0, 0.0, 0.32, 0.33, 0.34, 0.36, 0.38, 0.38, 0.43, 0.47, 0.47, 0.64], \"xaxis\": \"x\", \"y\": [\"Arsen Khisamutdinov\", \"Blake Biondi\", \"Rafa\\u00ebl Harvey-Pinard\", \"Michael Pezzetta\", \"Jacob Olofsson\", \"Cameron Hillis\", \"Ryan Poehling\", \"Luke Tuch\", \"Alexander Gordin\", \"Brett Stapley\", \"Jesse Yl\\u00f6nen\", \"Jan Mysak\", \"Sean Farrell\", \"Cole Caufield\"], \"yaxis\": \"y\"}, {\"marker\": {\"color\": \"rgba(212, 212, 212, 1)\", \"size\": 12}, \"mode\": \"markers\", \"name\": \"NHL Expectation\", \"showlegend\": true, \"type\": \"scatter\", \"x\": [0.21, 0.22, 0.22, 0.25, 0.26, 0.26, 0.3], \"xaxis\": \"x2\", \"y\": [\"Cale Fleury\", \"Jacob LeGuerrier\", \"Gianni Fairbrother\", \"Alexander Romanov\", \"Mattias Norlinder\", \"Josh Brook\", \"Kaiden Guhle\"], \"yaxis\": \"y2\"}, {\"marker\": {\"color\": \"rgba(255,255,255,0)\", \"line\": {\"color\": \"#aF1E2D\", \"width\": 4}, \"size\": 16}, \"mode\": \"markers\", \"name\": \"NHL Ceiling\", \"showlegend\": false, \"type\": \"scatter\", \"x\": [0.0, 0.0, 0.0, 0.0, 0.41, 0.41, 0.44, 0.42, 0.38, 0.38, 0.51, 0.47, 0.57, 0.82], \"xaxis\": \"x\", \"y\": [\"Arsen Khisamutdinov\", \"Blake Biondi\", \"Rafa\\u00ebl Harvey-Pinard\", \"Michael Pezzetta\", \"Jacob Olofsson\", \"Cameron Hillis\", \"Ryan Poehling\", \"Luke Tuch\", \"Alexander Gordin\", \"Brett Stapley\", \"Jesse Yl\\u00f6nen\", \"Jan Mysak\", \"Sean Farrell\", \"Cole Caufield\"], \"yaxis\": \"y\"}, {\"marker\": {\"color\": \"rgba(255,255,255,0)\", \"line\": {\"color\": \"#aF1E2D\", \"width\": 4}, \"size\": 16}, \"mode\": \"markers\", \"name\": \"NHL Ceiling\", \"showlegend\": true, \"type\": \"scatter\", \"x\": [0.27, 0.29, 0.32, 0.3, 0.26, 0.26, 0.42], \"xaxis\": \"x2\", \"y\": [\"Cale Fleury\", \"Jacob LeGuerrier\", \"Gianni Fairbrother\", \"Alexander Romanov\", \"Mattias Norlinder\", \"Josh Brook\", \"Kaiden Guhle\"], \"yaxis\": \"y2\"}, {\"marker\": {\"color\": \"rgba(212, 212, 212, 1)\", \"size\": 12}, \"mode\": \"markers\", \"name\": \"NHL Expectation\", \"showlegend\": false, \"type\": \"scatter\", \"x\": [0.0, 0.0, 0.0, 0.0, 0.32, 0.33, 0.34, 0.36, 0.38, 0.38, 0.43, 0.47, 0.47, 0.64], \"xaxis\": \"x\", \"y\": [\"Arsen Khisamutdinov\", \"Blake Biondi\", \"Rafa\\u00ebl Harvey-Pinard\", \"Michael Pezzetta\", \"Jacob Olofsson\", \"Cameron Hillis\", \"Ryan Poehling\", \"Luke Tuch\", \"Alexander Gordin\", \"Brett Stapley\", \"Jesse Yl\\u00f6nen\", \"Jan Mysak\", \"Sean Farrell\", \"Cole Caufield\"], \"yaxis\": \"y\"}, {\"marker\": {\"color\": \"rgba(212, 212, 212, 1)\", \"size\": 12}, \"mode\": \"markers\", \"name\": \"NHL Expectation\", \"showlegend\": true, \"type\": \"scatter\", \"x\": [0.21, 0.22, 0.22, 0.25, 0.26, 0.26, 0.3], \"xaxis\": \"x2\", \"y\": [\"Cale Fleury\", \"Jacob LeGuerrier\", \"Gianni Fairbrother\", \"Alexander Romanov\", \"Mattias Norlinder\", \"Josh Brook\", \"Kaiden Guhle\"], \"yaxis\": \"y2\"}],                        {\"annotations\": [{\"align\": \"center\", \"arrowcolor\": \"rgba(0, 0, 0, 1)\", \"arrowhead\": 2, \"arrowsize\": 1, \"arrowwidth\": 2, \"ax\": -30, \"ay\": -30, \"bgcolor\": \"rgba(0, 0, 0, 1)\", \"bordercolor\": \"rgba(0, 0, 0, 1)\", \"borderpad\": 2, \"borderwidth\": 2, \"font\": {\"color\": \"white\"}, \"opacity\": 0.8, \"showarrow\": false, \"text\": \"Top 9\", \"textangle\": -90, \"x\": 0.2640713416517392, \"xref\": \"x\", \"y\": 15, \"yref\": \"y\"}, {\"align\": \"center\", \"arrowcolor\": \"rgba(0, 0, 0, 1)\", \"arrowhead\": 2, \"arrowsize\": 1, \"arrowwidth\": 2, \"ax\": -30, \"ay\": -30, \"bgcolor\": \"rgba(0, 0, 0, 1)\", \"bordercolor\": \"rgba(0, 0, 0, 1)\", \"borderpad\": 2, \"borderwidth\": 2, \"font\": {\"color\": \"white\"}, \"opacity\": 0.8, \"showarrow\": false, \"text\": \"Top 6\", \"textangle\": -90, \"x\": 0.4442586786393099, \"xref\": \"x\", \"y\": 15, \"yref\": \"y\"}, {\"align\": \"center\", \"arrowcolor\": \"rgba(0, 0, 0, 1)\", \"arrowhead\": 2, \"arrowsize\": 1, \"arrowwidth\": 2, \"ax\": -30, \"ay\": -30, \"bgcolor\": \"rgba(0, 0, 0, 1)\", \"bordercolor\": \"rgba(0, 0, 0, 1)\", \"borderpad\": 2, \"borderwidth\": 2, \"font\": {\"color\": \"white\"}, \"opacity\": 0.8, \"showarrow\": false, \"text\": \"Top Line\", \"textangle\": -90, \"x\": 0.6820207552204208, \"xref\": \"x\", \"y\": 15, \"yref\": \"y\"}, {\"align\": \"center\", \"arrowcolor\": \"rgba(0, 0, 0, 1)\", \"arrowhead\": 2, \"arrowsize\": 1, \"arrowwidth\": 2, \"ax\": -30, \"ay\": -30, \"bgcolor\": \"rgba(0, 0, 0, 1)\", \"bordercolor\": \"rgba(0, 0, 0, 1)\", \"borderpad\": 2, \"borderwidth\": 2, \"font\": {\"color\": \"white\"}, \"opacity\": 0.8, \"showarrow\": false, \"text\": \"Elite\", \"textangle\": -90, \"x\": 0.8973932715590296, \"xref\": \"x\", \"y\": 15, \"yref\": \"y\"}, {\"align\": \"center\", \"arrowcolor\": \"rgba(0,0, 0, 1)\", \"arrowhead\": 2, \"arrowsize\": 1, \"arrowwidth\": 2, \"ax\": -30, \"ay\": -30, \"bgcolor\": \"rgba(0, 0, 0, 1)\", \"bordercolor\": \"rgba(0, 0, 0, 1)\", \"borderpad\": 2, \"borderwidth\": 2, \"font\": {\"color\": \"white\"}, \"opacity\": 0.8, \"showarrow\": false, \"text\": \"Top 6\", \"textangle\": -90, \"x\": 0.1766036086013275, \"xref\": \"x2\", \"y\": 8, \"yref\": \"y2\"}, {\"align\": \"center\", \"arrowcolor\": \"rgba(0,0, 0, 1)\", \"arrowhead\": 2, \"arrowsize\": 1, \"arrowwidth\": 2, \"ax\": -30, \"ay\": -30, \"bgcolor\": \"rgba(0, 0, 0, 1)\", \"bordercolor\": \"rgba(0, 0, 0, 1)\", \"borderpad\": 2, \"borderwidth\": 2, \"font\": {\"color\": \"white\"}, \"opacity\": 0.8, \"showarrow\": false, \"text\": \"Top 4\", \"textangle\": -90, \"x\": 0.2730208794506842, \"xref\": \"x2\", \"y\": 8, \"yref\": \"y2\"}, {\"align\": \"center\", \"arrowcolor\": \"rgba(0,0, 0, 1)\", \"arrowhead\": 2, \"arrowsize\": 1, \"arrowwidth\": 2, \"ax\": -30, \"ay\": -30, \"bgcolor\": \"rgba(0, 0, 0, 1)\", \"bordercolor\": \"rgba(0, 0, 0, 1)\", \"borderpad\": 2, \"borderwidth\": 2, \"font\": {\"color\": \"white\"}, \"opacity\": 0.8, \"showarrow\": false, \"text\": \"Top Pair\", \"textangle\": -90, \"x\": 0.42361216282161296, \"xref\": \"x2\", \"y\": 8, \"yref\": \"y2\"}, {\"align\": \"center\", \"arrowcolor\": \"rgba(0,0, 0, 1)\", \"arrowhead\": 2, \"arrowsize\": 1, \"arrowwidth\": 2, \"ax\": -30, \"ay\": -30, \"bgcolor\": \"rgba(0, 0, 0, 1)\", \"bordercolor\": \"rgba(0, 0, 0, 1)\", \"borderpad\": 2, \"borderwidth\": 2, \"font\": {\"color\": \"white\"}, \"opacity\": 0.8, \"showarrow\": false, \"text\": \"Elite\", \"textangle\": -90, \"x\": 0.5824838476993234, \"xref\": \"x2\", \"y\": 8, \"yref\": \"y2\"}], \"hovermode\": \"closest\", \"legend\": {\"font\": {\"size\": 10}, \"x\": 0.99, \"xanchor\": \"right\", \"y\": 0.9, \"yanchor\": \"bottom\"}, \"margin\": {\"b\": 10, \"l\": 40, \"r\": 10, \"t\": 10}, \"paper_bgcolor\": \"rgba(0,0,0,0)\", \"plot_bgcolor\": \"rgb(255,255,255)\", \"shapes\": [{\"line\": {\"color\": \"rgba(0, 0, 0, 0.6)\", \"dash\": \"dashdot\", \"width\": 2}, \"type\": \"line\", \"x0\": 0.2640713416517392, \"x1\": 0.2640713416517392, \"xref\": \"x\", \"y0\": -1, \"y1\": 15, \"yref\": \"y\"}, {\"line\": {\"color\": \"rgba(0, 0, 0, 0.6)\", \"dash\": \"dashdot\", \"width\": 2}, \"type\": \"line\", \"x0\": 0.4442586786393099, \"x1\": 0.4442586786393099, \"xref\": \"x\", \"y0\": -1, \"y1\": 15, \"yref\": \"y\"}, {\"line\": {\"color\": \"rgba(0, 0, 0, 0.6)\", \"dash\": \"dashdot\", \"width\": 2}, \"type\": \"line\", \"x0\": 0.6820207552204208, \"x1\": 0.6820207552204208, \"xref\": \"x\", \"y0\": -1, \"y1\": 15, \"yref\": \"y\"}, {\"line\": {\"color\": \"rgba(0, 0, 0, 0.6)\", \"dash\": \"dashdot\", \"width\": 2}, \"type\": \"line\", \"x0\": 0.8973932715590296, \"x1\": 0.8973932715590296, \"xref\": \"x\", \"y0\": -1, \"y1\": 15, \"yref\": \"y\"}, {\"line\": {\"color\": \"rgba(0, 0, 0, 0.6)\", \"dash\": \"dashdot\", \"width\": 2}, \"type\": \"line\", \"x0\": 0.1766036086013275, \"x1\": 0.1766036086013275, \"xref\": \"x2\", \"y0\": -1, \"y1\": 8, \"yref\": \"y2\"}, {\"line\": {\"color\": \"rgba(0, 0, 0, 0.6)\", \"dash\": \"dashdot\", \"width\": 2}, \"type\": \"line\", \"x0\": 0.2730208794506842, \"x1\": 0.2730208794506842, \"xref\": \"x2\", \"y0\": -1, \"y1\": 8, \"yref\": \"y2\"}, {\"line\": {\"color\": \"rgba(0, 0, 0, 0.6)\", \"dash\": \"dashdot\", \"width\": 2}, \"type\": \"line\", \"x0\": 0.42361216282161296, \"x1\": 0.42361216282161296, \"xref\": \"x2\", \"y0\": -1, \"y1\": 8, \"yref\": \"y2\"}, {\"line\": {\"color\": \"rgba(0, 0, 0, 0.6)\", \"dash\": \"dashdot\", \"width\": 2}, \"type\": \"line\", \"x0\": 0.5824838476993234, \"x1\": 0.5824838476993234, \"xref\": \"x2\", \"y0\": -1, \"y1\": 8, \"yref\": \"y2\"}], \"template\": {\"data\": {\"bar\": [{\"error_x\": {\"color\": \"#2a3f5f\"}, \"error_y\": {\"color\": \"#2a3f5f\"}, \"marker\": {\"line\": {\"color\": \"#E5ECF6\", \"width\": 0.5}}, \"type\": \"bar\"}], \"barpolar\": [{\"marker\": {\"line\": {\"color\": \"#E5ECF6\", \"width\": 0.5}}, \"type\": \"barpolar\"}], \"carpet\": [{\"aaxis\": {\"endlinecolor\": \"#2a3f5f\", \"gridcolor\": \"white\", \"linecolor\": \"white\", \"minorgridcolor\": \"white\", \"startlinecolor\": \"#2a3f5f\"}, \"baxis\": {\"endlinecolor\": \"#2a3f5f\", \"gridcolor\": \"white\", \"linecolor\": \"white\", \"minorgridcolor\": \"white\", \"startlinecolor\": \"#2a3f5f\"}, \"type\": \"carpet\"}], \"choropleth\": [{\"colorbar\": {\"outlinewidth\": 0, \"ticks\": \"\"}, \"type\": \"choropleth\"}], \"contour\": [{\"colorbar\": {\"outlinewidth\": 0, \"ticks\": \"\"}, \"colorscale\": [[0.0, \"#0d0887\"], [0.1111111111111111, \"#46039f\"], [0.2222222222222222, \"#7201a8\"], [0.3333333333333333, \"#9c179e\"], [0.4444444444444444, \"#bd3786\"], [0.5555555555555556, \"#d8576b\"], [0.6666666666666666, \"#ed7953\"], [0.7777777777777778, \"#fb9f3a\"], [0.8888888888888888, \"#fdca26\"], [1.0, \"#f0f921\"]], \"type\": \"contour\"}], \"contourcarpet\": [{\"colorbar\": {\"outlinewidth\": 0, \"ticks\": \"\"}, \"type\": \"contourcarpet\"}], \"heatmap\": [{\"colorbar\": {\"outlinewidth\": 0, \"ticks\": \"\"}, \"colorscale\": [[0.0, \"#0d0887\"], [0.1111111111111111, \"#46039f\"], [0.2222222222222222, \"#7201a8\"], [0.3333333333333333, \"#9c179e\"], [0.4444444444444444, \"#bd3786\"], [0.5555555555555556, \"#d8576b\"], [0.6666666666666666, \"#ed7953\"], [0.7777777777777778, \"#fb9f3a\"], [0.8888888888888888, \"#fdca26\"], [1.0, \"#f0f921\"]], \"type\": \"heatmap\"}], \"heatmapgl\": [{\"colorbar\": {\"outlinewidth\": 0, \"ticks\": \"\"}, \"colorscale\": [[0.0, \"#0d0887\"], [0.1111111111111111, \"#46039f\"], [0.2222222222222222, \"#7201a8\"], [0.3333333333333333, \"#9c179e\"], [0.4444444444444444, \"#bd3786\"], [0.5555555555555556, \"#d8576b\"], [0.6666666666666666, \"#ed7953\"], [0.7777777777777778, \"#fb9f3a\"], [0.8888888888888888, \"#fdca26\"], [1.0, \"#f0f921\"]], \"type\": \"heatmapgl\"}], \"histogram\": [{\"marker\": {\"colorbar\": {\"outlinewidth\": 0, \"ticks\": \"\"}}, \"type\": \"histogram\"}], \"histogram2d\": [{\"colorbar\": {\"outlinewidth\": 0, \"ticks\": \"\"}, \"colorscale\": [[0.0, \"#0d0887\"], [0.1111111111111111, \"#46039f\"], [0.2222222222222222, \"#7201a8\"], [0.3333333333333333, \"#9c179e\"], [0.4444444444444444, \"#bd3786\"], [0.5555555555555556, \"#d8576b\"], [0.6666666666666666, \"#ed7953\"], [0.7777777777777778, \"#fb9f3a\"], [0.8888888888888888, \"#fdca26\"], [1.0, \"#f0f921\"]], \"type\": \"histogram2d\"}], \"histogram2dcontour\": [{\"colorbar\": {\"outlinewidth\": 0, \"ticks\": \"\"}, \"colorscale\": [[0.0, \"#0d0887\"], [0.1111111111111111, \"#46039f\"], [0.2222222222222222, \"#7201a8\"], [0.3333333333333333, \"#9c179e\"], [0.4444444444444444, \"#bd3786\"], [0.5555555555555556, \"#d8576b\"], [0.6666666666666666, \"#ed7953\"], [0.7777777777777778, \"#fb9f3a\"], [0.8888888888888888, \"#fdca26\"], [1.0, \"#f0f921\"]], \"type\": \"histogram2dcontour\"}], \"mesh3d\": [{\"colorbar\": {\"outlinewidth\": 0, \"ticks\": \"\"}, \"type\": \"mesh3d\"}], \"parcoords\": [{\"line\": {\"colorbar\": {\"outlinewidth\": 0, \"ticks\": \"\"}}, \"type\": \"parcoords\"}], \"pie\": [{\"automargin\": true, \"type\": \"pie\"}], \"scatter\": [{\"marker\": {\"colorbar\": {\"outlinewidth\": 0, \"ticks\": \"\"}}, \"type\": \"scatter\"}], \"scatter3d\": [{\"line\": {\"colorbar\": {\"outlinewidth\": 0, \"ticks\": \"\"}}, \"marker\": {\"colorbar\": {\"outlinewidth\": 0, \"ticks\": \"\"}}, \"type\": \"scatter3d\"}], \"scattercarpet\": [{\"marker\": {\"colorbar\": {\"outlinewidth\": 0, \"ticks\": \"\"}}, \"type\": \"scattercarpet\"}], \"scattergeo\": [{\"marker\": {\"colorbar\": {\"outlinewidth\": 0, \"ticks\": \"\"}}, \"type\": \"scattergeo\"}], \"scattergl\": [{\"marker\": {\"colorbar\": {\"outlinewidth\": 0, \"ticks\": \"\"}}, \"type\": \"scattergl\"}], \"scattermapbox\": [{\"marker\": {\"colorbar\": {\"outlinewidth\": 0, \"ticks\": \"\"}}, \"type\": \"scattermapbox\"}], \"scatterpolar\": [{\"marker\": {\"colorbar\": {\"outlinewidth\": 0, \"ticks\": \"\"}}, \"type\": \"scatterpolar\"}], \"scatterpolargl\": [{\"marker\": {\"colorbar\": {\"outlinewidth\": 0, \"ticks\": \"\"}}, \"type\": \"scatterpolargl\"}], \"scatterternary\": [{\"marker\": {\"colorbar\": {\"outlinewidth\": 0, \"ticks\": \"\"}}, \"type\": \"scatterternary\"}], \"surface\": [{\"colorbar\": {\"outlinewidth\": 0, \"ticks\": \"\"}, \"colorscale\": [[0.0, \"#0d0887\"], [0.1111111111111111, \"#46039f\"], [0.2222222222222222, \"#7201a8\"], [0.3333333333333333, \"#9c179e\"], [0.4444444444444444, \"#bd3786\"], [0.5555555555555556, \"#d8576b\"], [0.6666666666666666, \"#ed7953\"], [0.7777777777777778, \"#fb9f3a\"], [0.8888888888888888, \"#fdca26\"], [1.0, \"#f0f921\"]], \"type\": \"surface\"}], \"table\": [{\"cells\": {\"fill\": {\"color\": \"#EBF0F8\"}, \"line\": {\"color\": \"white\"}}, \"header\": {\"fill\": {\"color\": \"#C8D4E3\"}, \"line\": {\"color\": \"white\"}}, \"type\": \"table\"}]}, \"layout\": {\"annotationdefaults\": {\"arrowcolor\": \"#2a3f5f\", \"arrowhead\": 0, \"arrowwidth\": 1}, \"coloraxis\": {\"colorbar\": {\"outlinewidth\": 0, \"ticks\": \"\"}}, \"colorscale\": {\"diverging\": [[0, \"#8e0152\"], [0.1, \"#c51b7d\"], [0.2, \"#de77ae\"], [0.3, \"#f1b6da\"], [0.4, \"#fde0ef\"], [0.5, \"#f7f7f7\"], [0.6, \"#e6f5d0\"], [0.7, \"#b8e186\"], [0.8, \"#7fbc41\"], [0.9, \"#4d9221\"], [1, \"#276419\"]], \"sequential\": [[0.0, \"#0d0887\"], [0.1111111111111111, \"#46039f\"], [0.2222222222222222, \"#7201a8\"], [0.3333333333333333, \"#9c179e\"], [0.4444444444444444, \"#bd3786\"], [0.5555555555555556, \"#d8576b\"], [0.6666666666666666, \"#ed7953\"], [0.7777777777777778, \"#fb9f3a\"], [0.8888888888888888, \"#fdca26\"], [1.0, \"#f0f921\"]], \"sequentialminus\": [[0.0, \"#0d0887\"], [0.1111111111111111, \"#46039f\"], [0.2222222222222222, \"#7201a8\"], [0.3333333333333333, \"#9c179e\"], [0.4444444444444444, \"#bd3786\"], [0.5555555555555556, \"#d8576b\"], [0.6666666666666666, \"#ed7953\"], [0.7777777777777778, \"#fb9f3a\"], [0.8888888888888888, \"#fdca26\"], [1.0, \"#f0f921\"]]}, \"colorway\": [\"#636efa\", \"#EF553B\", \"#00cc96\", \"#ab63fa\", \"#FFA15A\", \"#19d3f3\", \"#FF6692\", \"#B6E880\", \"#FF97FF\", \"#FECB52\"], \"font\": {\"color\": \"#2a3f5f\"}, \"geo\": {\"bgcolor\": \"white\", \"lakecolor\": \"white\", \"landcolor\": \"#E5ECF6\", \"showlakes\": true, \"showland\": true, \"subunitcolor\": \"white\"}, \"hoverlabel\": {\"align\": \"left\"}, \"hovermode\": \"closest\", \"mapbox\": {\"style\": \"light\"}, \"paper_bgcolor\": \"white\", \"plot_bgcolor\": \"#E5ECF6\", \"polar\": {\"angularaxis\": {\"gridcolor\": \"white\", \"linecolor\": \"white\", \"ticks\": \"\"}, \"bgcolor\": \"#E5ECF6\", \"radialaxis\": {\"gridcolor\": \"white\", \"linecolor\": \"white\", \"ticks\": \"\"}}, \"scene\": {\"xaxis\": {\"backgroundcolor\": \"#E5ECF6\", \"gridcolor\": \"white\", \"gridwidth\": 2, \"linecolor\": \"white\", \"showbackground\": true, \"ticks\": \"\", \"zerolinecolor\": \"white\"}, \"yaxis\": {\"backgroundcolor\": \"#E5ECF6\", \"gridcolor\": \"white\", \"gridwidth\": 2, \"linecolor\": \"white\", \"showbackground\": true, \"ticks\": \"\", \"zerolinecolor\": \"white\"}, \"zaxis\": {\"backgroundcolor\": \"#E5ECF6\", \"gridcolor\": \"white\", \"gridwidth\": 2, \"linecolor\": \"white\", \"showbackground\": true, \"ticks\": \"\", \"zerolinecolor\": \"white\"}}, \"shapedefaults\": {\"line\": {\"color\": \"#2a3f5f\"}}, \"ternary\": {\"aaxis\": {\"gridcolor\": \"white\", \"linecolor\": \"white\", \"ticks\": \"\"}, \"baxis\": {\"gridcolor\": \"white\", \"linecolor\": \"white\", \"ticks\": \"\"}, \"bgcolor\": \"#E5ECF6\", \"caxis\": {\"gridcolor\": \"white\", \"linecolor\": \"white\", \"ticks\": \"\"}}, \"title\": {\"x\": 0.05}, \"xaxis\": {\"automargin\": true, \"gridcolor\": \"white\", \"linecolor\": \"white\", \"ticks\": \"\", \"title\": {\"standoff\": 15}, \"zerolinecolor\": \"white\", \"zerolinewidth\": 2}, \"yaxis\": {\"automargin\": true, \"gridcolor\": \"white\", \"linecolor\": \"white\", \"ticks\": \"\", \"title\": {\"standoff\": 15}, \"zerolinecolor\": \"white\", \"zerolinewidth\": 2}}}, \"xaxis\": {\"anchor\": \"y\", \"domain\": [0.0, 0.4], \"linecolor\": \"black\", \"linewidth\": 2, \"range\": [0, 1.8518614338953008], \"showline\": true, \"tickprefix\": \"<b>\", \"ticks\": \"outside\", \"ticksuffix\": \"</b><br>\", \"title\": {\"text\": \"Projected Rate\"}}, \"xaxis2\": {\"anchor\": \"y2\", \"domain\": [0.6000000000000001, 1.0], \"linecolor\": \"black\", \"linewidth\": 2, \"range\": [0, 1.1985016446451202], \"showline\": true, \"tickprefix\": \"<b>\", \"ticks\": \"outside\", \"ticksuffix\": \"</b><br>\", \"title\": {\"text\": \"Projected Rate\"}}, \"yaxis\": {\"anchor\": \"x\", \"domain\": [0.0, 1.0], \"tickmode\": \"linear\", \"tickprefix\": \"<b>\", \"ticks\": \"outside\", \"ticksuffix\": \"</b>\"}, \"yaxis2\": {\"anchor\": \"x2\", \"domain\": [0.0, 1.0], \"tickmode\": \"linear\", \"tickprefix\": \"<b>\", \"ticks\": \"outside\", \"ticksuffix\": \"</b>\"}},                        {\"responsive\": true}                    ).then(function(){\n",
       "                            \n",
       "var gd = document.getElementById('fe9aaf55-47a3-48d6-9ab1-9c40e030115f');\n",
       "var x = new MutationObserver(function (mutations, observer) {{\n",
       "        var display = window.getComputedStyle(gd).display;\n",
       "        if (!display || display === 'none') {{\n",
       "            console.log([gd, 'removed!']);\n",
       "            Plotly.purge(gd);\n",
       "            observer.disconnect();\n",
       "        }}\n",
       "}});\n",
       "\n",
       "// Listen for the removal of the full notebook cells\n",
       "var notebookContainer = gd.closest('#notebook-container');\n",
       "if (notebookContainer) {{\n",
       "    x.observe(notebookContainer, {childList: true});\n",
       "}}\n",
       "\n",
       "// Listen for the clearing of the current output cell\n",
       "var outputEl = gd.closest('.output');\n",
       "if (outputEl) {{\n",
       "    x.observe(outputEl, {childList: true});\n",
       "}}\n",
       "\n",
       "                        })                };                });            </script>        </div>"
      ]
     },
     "metadata": {},
     "output_type": "display_data"
    }
   ],
   "source": [
    "f_role_labels = [[25, 'Top 9'], [50, 'Top 6'], [75, 'Top Line'], [90, 'Elite']]\n",
    "d_role_labels = [[25, 'Top 6'], [50, 'Top 4'], [75, 'Top Pair'], [90, 'Elite']]\n",
    "\n",
    "layout = go.Layout(\n",
    "    plot_bgcolor='rgb(255,255,255)',\n",
    "    paper_bgcolor='rgba(0,0,0,0)',\n",
    "    hovermode='closest',\n",
    "    margin=dict(b=10,l=40,r=10,t=10),\n",
    "    legend=dict(font=dict(size=10), yanchor=\"bottom\", xanchor=\"right\", y=0.9, x=0.99)\n",
    ")\n",
    "\n",
    "fig = make_subplots(rows=1, cols=2, horizontal_spacing = 0.2)\n",
    "fig.update_layout(layout)\n",
    "fig['layout']['xaxis1'].update(range=[0, f_subset['ppg'].max()], title='Projected Rate', ticks='outside', showline=True,  linewidth=2,  linecolor='black', tickprefix=\"<b>\",ticksuffix =\"</b><br>\")\n",
    "fig['layout']['xaxis2'].update(range=[0, d_subset['ppg'].max()], title='Projected Rate', ticks='outside', showline=True,  linewidth=2, linecolor='black', tickprefix=\"<b>\",ticksuffix =\"</b><br>\")\n",
    "fig.update_yaxes(ticks='outside',tickmode='linear', tickprefix=\"<b>\",ticksuffix =\"</b>\")\n",
    "\n",
    "d1 = go.Scatter(\n",
    "            x=team_forwards['Floor Rate'],\n",
    "            y=team_forwards['player'],\n",
    "            mode='markers',\n",
    "            showlegend=False,\n",
    "            name='NHL Expectation',\n",
    "            marker=dict(\n",
    "                color='rgba(212, 212, 212, 1)', \n",
    "                size=12\n",
    "            )\n",
    "        )\n",
    "\n",
    "d2 = go.Scatter(\n",
    "            x=team_defence['Floor Rate'],\n",
    "            y=team_defence['player'],\n",
    "            mode='markers',\n",
    "            showlegend=True,\n",
    "            name='NHL Expectation',\n",
    "            marker=dict(\n",
    "                color='rgba(212, 212, 212, 1)', \n",
    "                size=12\n",
    "            )\n",
    "        )\n",
    "\n",
    "d1_ = go.Scatter(\n",
    "            x=team_forwards['Ceiling Rate'],\n",
    "            y=team_forwards['player'],\n",
    "            mode='markers',\n",
    "            name='NHL Ceiling',\n",
    "            showlegend=False,\n",
    "            marker=dict(\n",
    "                line=dict(color=primary_colour, width=4),\n",
    "                color='rgba(255,255,255,0)', \n",
    "                size=16\n",
    "            )\n",
    "        )\n",
    "\n",
    "d2_ = go.Scatter(\n",
    "            x=team_defence['Ceiling Rate'],\n",
    "            y=team_defence['player'],\n",
    "            mode='markers',\n",
    "            name='NHL Ceiling',\n",
    "            marker=dict(\n",
    "                line=dict(color=primary_colour, width=4),\n",
    "                color='rgba(255,255,255,0)',\n",
    "                size=16\n",
    "            ),\n",
    "            showlegend=True\n",
    "        )\n",
    "\n",
    "\n",
    "fig.add_trace(d1, row=1, col=1)\n",
    "fig.add_trace(d2, row=1, col=2)\n",
    "fig.add_trace(d1_, row=1, col=1)\n",
    "fig.add_trace(d2_, row=1, col=2)\n",
    "\n",
    "\n",
    "fig.add_trace(d1, row=1, col=1)\n",
    "fig.add_trace(d2, row=1, col=2)\n",
    "\n",
    "for value, label in f_role_labels:\n",
    "    fig.add_shape(\n",
    "            # Line Horizontal\n",
    "                type=\"line\",\n",
    "                y0=-1,\n",
    "                x1=np.percentile(f_subset.ppg, value),\n",
    "                x0=np.percentile(f_subset.ppg, value),\n",
    "                y1=len(team_forwards)+1,\n",
    "                line=dict(\n",
    "                    color=\"rgba(0, 0, 0, 0.6)\",\n",
    "                    width=2,\n",
    "                    dash=\"dashdot\",\n",
    "                ),\n",
    "                row=1, \n",
    "                col=1\n",
    "    )\n",
    "    fig.add_annotation(\n",
    "        x=np.percentile(f_subset.ppg, value),\n",
    "        y= len(team_forwards) +1,\n",
    "        xref=\"x\",\n",
    "        yref=\"y\",\n",
    "        text=label,\n",
    "        showarrow=False,\n",
    "        font=dict(\n",
    "            color=\"white\"\n",
    "            ),\n",
    "        align=\"center\",\n",
    "        arrowhead=2,\n",
    "        arrowsize=1,\n",
    "        arrowwidth=2,\n",
    "        arrowcolor=\"rgba(0, 0, 0, 1)\",\n",
    "        ax=-30,\n",
    "        ay=-30,\n",
    "        bordercolor=\"rgba(0, 0, 0, 1)\",\n",
    "        borderwidth=2,\n",
    "        borderpad=2,\n",
    "        bgcolor=\"rgba(0, 0, 0, 1)\",\n",
    "        opacity=0.8,\n",
    "        textangle=-90,\n",
    "        row=1, \n",
    "        col=1\n",
    "    )\n",
    "\n",
    "for value, label in d_role_labels:\n",
    "\n",
    "    if label != 'Depth':\n",
    "        fig.add_shape(\n",
    "                # Line Horizontal\n",
    "                    type=\"line\",\n",
    "                    y0=-1,\n",
    "                    x1=np.percentile(d_subset.ppg, value),\n",
    "                    x0=np.percentile(d_subset.ppg, value),\n",
    "                    y1=len(team_defence) + 1,\n",
    "                    line=dict(\n",
    "                        color=\"rgba(0, 0, 0, 0.6)\",\n",
    "                        width=2,\n",
    "                        dash=\"dashdot\",\n",
    "                    ),\n",
    "                    row=1, \n",
    "                    col=2\n",
    "        )\n",
    "\n",
    "        fig.add_annotation(\n",
    "            x=np.percentile(d_subset.ppg, value),\n",
    "            y=len(team_defence) + 1,\n",
    "            xref=\"x\",\n",
    "            yref=\"y\",\n",
    "            text=label,\n",
    "            showarrow=False,\n",
    "            font=dict(\n",
    "                color=\"white\"\n",
    "                ),\n",
    "            align=\"center\",\n",
    "            arrowhead=2,\n",
    "            arrowsize=1,\n",
    "            arrowwidth=2,\n",
    "            arrowcolor=\"rgba(0,0, 0, 1)\",\n",
    "            ax=-30,\n",
    "            ay=-30,\n",
    "            bordercolor=\"rgba(0, 0, 0, 1)\",\n",
    "            borderwidth=2,\n",
    "            borderpad=2,\n",
    "            bgcolor=\"rgba(0, 0, 0, 1)\",\n",
    "            opacity=0.8,\n",
    "            textangle=-90,\n",
    "            row=1, \n",
    "            col=2\n",
    "        )\n",
    "\n",
    "fig.show()\n"
   ]
  },
  {
   "cell_type": "code",
   "execution_count": 76,
   "metadata": {},
   "outputs": [],
   "source": [
    "import plotly.graph_objects as go\n",
    "from plotly.subplots import make_subplots \n",
    "import numpy as np\n",
    "\n",
    "def get_team_prospect_graph(team):\n",
    "    \n",
    "    teams = json.load(open('../../apple-model-app/assets/team-styles.json'))\n",
    "    primary_colour = teams[team]['color']\n",
    "\n",
    "    prospects = df.sort_values(by=['player', 'season_order'],\n",
    "                                     ascending=[True, False])\\\n",
    "            .drop_duplicates(subset=['playerid'])\\\n",
    "            .loc[(\n",
    "                    (df.draft_year >= 2016)\n",
    "                )\n",
    "                 &\n",
    "                (\n",
    "                    (df.end_year == 2020)\n",
    "                 )\n",
    "                 &\n",
    "                    (df.rights.notnull())\n",
    "                 &\n",
    "                    (df.draft_plus_5_gp < 50)\n",
    "                 ]\n",
    "\n",
    "    prospects['rights'] = prospects.rights.apply(unidecode)\n",
    "\n",
    "    d_prospects = prospects[prospects.position == 'D']\n",
    "    f_prospects = prospects[prospects.position == 'F']\n",
    "\n",
    "    defence = df[df.position == 'D']\n",
    "    forwards = df[df.position == 'F']\n",
    "\n",
    "    pipeline = prospects[prospects.rights == team].sort_values('Ceiling Rate', ascending=True)\n",
    "\n",
    "    team_forwards = pipeline[pipeline.position == 'F']\n",
    "    team_defence = pipeline[pipeline.position == 'D']\n",
    "\n",
    "    f_role_labels = [[30, 'Top 9'], [50, 'Top 6'], [75, 'Top Line'], [95, 'Elite']]\n",
    "    d_role_labels = [[20, 'Top 6'], [50, 'Top 4'], [70, 'Top Pair'], [90, 'Elite']]\n",
    "\n",
    "    layout = go.Layout(\n",
    "    plot_bgcolor='rgb(255,255,255)',\n",
    "    paper_bgcolor='rgba(0,0,0,0)',\n",
    "    hovermode='closest',\n",
    "    margin=dict(b=10,l=40,r=10,t=10),\n",
    "    legend=dict(font=dict(size=10), yanchor=\"bottom\", xanchor=\"right\", y=0.9, x=0.99)\n",
    ")\n",
    "\n",
    "    fig = make_subplots(rows=1, cols=2, horizontal_spacing = 0.2)\n",
    "    fig.update_layout(layout)\n",
    "    fig['layout']['xaxis1'].update(range=[0, f_subset['ppg'].max()], title='Projected Rate', ticks='outside', showline=True,  linewidth=2,  linecolor='black', tickprefix=\"<b>\",ticksuffix =\"</b><br>\")\n",
    "    fig['layout']['xaxis2'].update(range=[0, d_subset['ppg'].max()], title='Projected Rate', ticks='outside', showline=True,  linewidth=2, linecolor='black', tickprefix=\"<b>\",ticksuffix =\"</b><br>\")\n",
    "    fig.update_yaxes(ticks='outside',tickmode='linear', tickprefix=\"<b>\",ticksuffix =\"</b>\")\n",
    "\n",
    "    d1 = go.Scatter(\n",
    "                x=team_forwards['Floor Rate'],\n",
    "                y=team_forwards['player'],\n",
    "                mode='markers',\n",
    "                showlegend=False,\n",
    "                name='NHL Floor',\n",
    "                marker=dict(\n",
    "                    color='rgba(212, 212, 212, 1)', \n",
    "                    size=12\n",
    "                )\n",
    "            )\n",
    "\n",
    "    d2 = go.Scatter(\n",
    "                x=team_defence['Floor Rate'],\n",
    "                y=team_defence['player'],\n",
    "                mode='markers',\n",
    "                showlegend=True,\n",
    "                name='NHL Floor',\n",
    "                marker=dict(\n",
    "                    color='rgba(212, 212, 212, 1)', \n",
    "                    size=12\n",
    "                )\n",
    "            )\n",
    "\n",
    "    d1_ = go.Scatter(\n",
    "                x=team_forwards['Ceiling Rate'],\n",
    "                y=team_forwards['player'],\n",
    "                mode='markers',\n",
    "                name='NHL Ceiling',\n",
    "                showlegend=False,\n",
    "                marker=dict(\n",
    "                    line=dict(color=primary_colour, width=4),\n",
    "                    color='rgba(255,255,255,0)', \n",
    "                    size=16\n",
    "                )\n",
    "            )\n",
    "\n",
    "    d2_ = go.Scatter(\n",
    "                x=team_defence['Ceiling Rate'],\n",
    "                y=team_defence['player'],\n",
    "                mode='markers',\n",
    "                name='NHL Ceiling',\n",
    "                marker=dict(\n",
    "                    line=dict(color=primary_colour, width=4),\n",
    "                    color='rgba(255,255,255,0)',\n",
    "                    size=16\n",
    "                ),\n",
    "                showlegend=True\n",
    "            )\n",
    "\n",
    "\n",
    "    fig.add_trace(d1, row=1, col=1)\n",
    "    fig.add_trace(d2, row=1, col=2)\n",
    "    fig.add_trace(d1_, row=1, col=1)\n",
    "    fig.add_trace(d2_, row=1, col=2)\n",
    "\n",
    "    for value, label in f_role_labels:\n",
    "        fig.add_shape(\n",
    "                # Line Horizontal\n",
    "                    type=\"line\",\n",
    "                    y0=-1,\n",
    "                    x1=np.percentile(f_subset.ppg, value),\n",
    "                    x0=np.percentile(f_subset.ppg, value),\n",
    "                    y1=len(team_forwards)+1,\n",
    "                    line=dict(\n",
    "                        color=\"rgba(0, 0, 0, 0.6)\",\n",
    "                        width=2,\n",
    "                        dash=\"dashdot\",\n",
    "                    ),\n",
    "                    row=1, \n",
    "                    col=1\n",
    "        )\n",
    "        fig.add_annotation(\n",
    "            x=np.percentile(f_subset.ppg, value),\n",
    "            y= len(team_forwards) +1,\n",
    "            xref=\"x\",\n",
    "            yref=\"y\",\n",
    "            text=label,\n",
    "            showarrow=False,\n",
    "            font=dict(\n",
    "                color=\"white\"\n",
    "                ),\n",
    "            align=\"center\",\n",
    "            arrowhead=2,\n",
    "            arrowsize=1,\n",
    "            arrowwidth=2,\n",
    "            arrowcolor=\"rgba(0, 0, 0, 1)\",\n",
    "            ax=-30,\n",
    "            ay=-30,\n",
    "            bordercolor=\"rgba(0, 0, 0, 1)\",\n",
    "            borderwidth=2,\n",
    "            borderpad=2,\n",
    "            bgcolor=\"rgba(0, 0, 0, 1)\",\n",
    "            opacity=0.8,\n",
    "            textangle=-90,\n",
    "            row=1, \n",
    "            col=1\n",
    "        )\n",
    "\n",
    "    for value, label in d_role_labels:\n",
    "\n",
    "        if label != 'Depth':\n",
    "            fig.add_shape(\n",
    "                    # Line Horizontal\n",
    "                        type=\"line\",\n",
    "                        y0=-1,\n",
    "                        x1=np.percentile(d_subset.ppg, value),\n",
    "                        x0=np.percentile(d_subset.ppg, value),\n",
    "                        y1=len(team_defence) + 1,\n",
    "                        line=dict(\n",
    "                            color=\"rgba(0, 0, 0, 0.6)\",\n",
    "                            width=2,\n",
    "                            dash=\"dashdot\",\n",
    "                        ),\n",
    "                        row=1, \n",
    "                        col=2\n",
    "            )\n",
    "\n",
    "            fig.add_annotation(\n",
    "                x=np.percentile(d_subset.ppg, value),\n",
    "                y=len(team_defence) + 1,\n",
    "                xref=\"x\",\n",
    "                yref=\"y\",\n",
    "                text=label,\n",
    "                showarrow=False,\n",
    "                font=dict(\n",
    "                    color=\"white\"\n",
    "                    ),\n",
    "                align=\"center\",\n",
    "                arrowhead=2,\n",
    "                arrowsize=1,\n",
    "                arrowwidth=2,\n",
    "                arrowcolor=\"rgba(0,0, 0, 1)\",\n",
    "                ax=-30,\n",
    "                ay=-30,\n",
    "                bordercolor=\"rgba(0, 0, 0, 1)\",\n",
    "                borderwidth=2,\n",
    "                borderpad=2,\n",
    "                bgcolor=\"rgba(0, 0, 0, 1)\",\n",
    "                opacity=0.8,\n",
    "                textangle=-90,\n",
    "                row=1, \n",
    "                col=2\n",
    "            )\n",
    "        \n",
    "    return fig"
   ]
  },
  {
   "cell_type": "code",
   "execution_count": 77,
   "metadata": {},
   "outputs": [
    {
     "data": {
      "application/vnd.plotly.v1+json": {
       "config": {
        "plotlyServerURL": "https://plot.ly"
       },
       "data": [
        {
         "marker": {
          "color": "rgba(212, 212, 212, 1)",
          "size": 12
         },
         "mode": "markers",
         "name": "NHL Floor",
         "showlegend": false,
         "type": "scatter",
         "x": [
          0,
          0,
          0.3,
          0.33,
          0.3,
          0.38,
          0.39,
          0.34,
          0.4,
          0.38,
          0.37,
          0.48,
          0.53
         ],
         "xaxis": "x",
         "y": [
          "Vladislav Kara",
          "Semyon Kizimov",
          "Pontus Holmberg",
          "Wyatt Schingoethe",
          "Semyon Der-Arguchintsev",
          "Dmitri Ovchinnikov",
          "Veeti Miettinen",
          "Mikhail Abramov",
          "Roni Hirvonen",
          "Filip Hållander",
          "Ryan Tverberg",
          "Rodion Amirov",
          "Nicholas Robertson"
         ],
         "yaxis": "y"
        },
        {
         "marker": {
          "color": "rgba(212, 212, 212, 1)",
          "size": 12
         },
         "mode": "markers",
         "name": "NHL Floor",
         "showlegend": true,
         "type": "scatter",
         "x": [
          0,
          0,
          0.23,
          0.24,
          0.22,
          0.3,
          0.27,
          0.28,
          0.29,
          0.3,
          0.38,
          0.39
         ],
         "xaxis": "x2",
         "y": [
          "James Greenway",
          "Mike Koster",
          "Eemeli Räsänen",
          "Topi Niemelä",
          "Kalle Loponen",
          "Axel Rindell",
          "Mikko Kokkonen",
          "William Villeneuve",
          "Mac Hollowell",
          "Filip Král",
          "Timothy Liljegren",
          "Rasmus Sandin"
         ],
         "yaxis": "y2"
        },
        {
         "marker": {
          "color": "rgba(255,255,255,0)",
          "line": {
           "color": "#00205b",
           "width": 4
          },
          "size": 16
         },
         "mode": "markers",
         "name": "NHL Ceiling",
         "showlegend": false,
         "type": "scatter",
         "x": [
          0,
          0,
          0.3,
          0.33,
          0.37,
          0.38,
          0.39,
          0.42,
          0.48,
          0.48,
          0.5,
          0.7,
          0.81
         ],
         "xaxis": "x",
         "y": [
          "Vladislav Kara",
          "Semyon Kizimov",
          "Pontus Holmberg",
          "Wyatt Schingoethe",
          "Semyon Der-Arguchintsev",
          "Dmitri Ovchinnikov",
          "Veeti Miettinen",
          "Mikhail Abramov",
          "Roni Hirvonen",
          "Filip Hållander",
          "Ryan Tverberg",
          "Rodion Amirov",
          "Nicholas Robertson"
         ],
         "yaxis": "y"
        },
        {
         "marker": {
          "color": "rgba(255,255,255,0)",
          "line": {
           "color": "#00205b",
           "width": 4
          },
          "size": 16
         },
         "mode": "markers",
         "name": "NHL Ceiling",
         "showlegend": true,
         "type": "scatter",
         "x": [
          0,
          0,
          0.23,
          0.24,
          0.29,
          0.3,
          0.33,
          0.35,
          0.37,
          0.42,
          0.44,
          0.52
         ],
         "xaxis": "x2",
         "y": [
          "James Greenway",
          "Mike Koster",
          "Eemeli Räsänen",
          "Topi Niemelä",
          "Kalle Loponen",
          "Axel Rindell",
          "Mikko Kokkonen",
          "William Villeneuve",
          "Mac Hollowell",
          "Filip Král",
          "Timothy Liljegren",
          "Rasmus Sandin"
         ],
         "yaxis": "y2"
        }
       ],
       "layout": {
        "annotations": [
         {
          "align": "center",
          "arrowcolor": "rgba(0, 0, 0, 1)",
          "arrowhead": 2,
          "arrowsize": 1,
          "arrowwidth": 2,
          "ax": -30,
          "ay": -30,
          "bgcolor": "rgba(0, 0, 0, 1)",
          "bordercolor": "rgba(0, 0, 0, 1)",
          "borderpad": 2,
          "borderwidth": 2,
          "font": {
           "color": "white"
          },
          "opacity": 0.8,
          "showarrow": false,
          "text": "Top 9",
          "textangle": -90,
          "x": 0.29711961528470876,
          "xref": "x",
          "y": 14,
          "yref": "y"
         },
         {
          "align": "center",
          "arrowcolor": "rgba(0, 0, 0, 1)",
          "arrowhead": 2,
          "arrowsize": 1,
          "arrowwidth": 2,
          "ax": -30,
          "ay": -30,
          "bgcolor": "rgba(0, 0, 0, 1)",
          "bordercolor": "rgba(0, 0, 0, 1)",
          "borderpad": 2,
          "borderwidth": 2,
          "font": {
           "color": "white"
          },
          "opacity": 0.8,
          "showarrow": false,
          "text": "Top 6",
          "textangle": -90,
          "x": 0.4442586786393099,
          "xref": "x",
          "y": 14,
          "yref": "y"
         },
         {
          "align": "center",
          "arrowcolor": "rgba(0, 0, 0, 1)",
          "arrowhead": 2,
          "arrowsize": 1,
          "arrowwidth": 2,
          "ax": -30,
          "ay": -30,
          "bgcolor": "rgba(0, 0, 0, 1)",
          "bordercolor": "rgba(0, 0, 0, 1)",
          "borderpad": 2,
          "borderwidth": 2,
          "font": {
           "color": "white"
          },
          "opacity": 0.8,
          "showarrow": false,
          "text": "Top Line",
          "textangle": -90,
          "x": 0.6820207552204208,
          "xref": "x",
          "y": 14,
          "yref": "y"
         },
         {
          "align": "center",
          "arrowcolor": "rgba(0, 0, 0, 1)",
          "arrowhead": 2,
          "arrowsize": 1,
          "arrowwidth": 2,
          "ax": -30,
          "ay": -30,
          "bgcolor": "rgba(0, 0, 0, 1)",
          "bordercolor": "rgba(0, 0, 0, 1)",
          "borderpad": 2,
          "borderwidth": 2,
          "font": {
           "color": "white"
          },
          "opacity": 0.8,
          "showarrow": false,
          "text": "Elite",
          "textangle": -90,
          "x": 1.024404472481474,
          "xref": "x",
          "y": 14,
          "yref": "y"
         },
         {
          "align": "center",
          "arrowcolor": "rgba(0,0, 0, 1)",
          "arrowhead": 2,
          "arrowsize": 1,
          "arrowwidth": 2,
          "ax": -30,
          "ay": -30,
          "bgcolor": "rgba(0, 0, 0, 1)",
          "bordercolor": "rgba(0, 0, 0, 1)",
          "borderpad": 2,
          "borderwidth": 2,
          "font": {
           "color": "white"
          },
          "opacity": 0.8,
          "showarrow": false,
          "text": "Top 6",
          "textangle": -90,
          "x": 0.1592219530492972,
          "xref": "x2",
          "y": 13,
          "yref": "y2"
         },
         {
          "align": "center",
          "arrowcolor": "rgba(0,0, 0, 1)",
          "arrowhead": 2,
          "arrowsize": 1,
          "arrowwidth": 2,
          "ax": -30,
          "ay": -30,
          "bgcolor": "rgba(0, 0, 0, 1)",
          "bordercolor": "rgba(0, 0, 0, 1)",
          "borderpad": 2,
          "borderwidth": 2,
          "font": {
           "color": "white"
          },
          "opacity": 0.8,
          "showarrow": false,
          "text": "Top 4",
          "textangle": -90,
          "x": 0.2730208794506842,
          "xref": "x2",
          "y": 13,
          "yref": "y2"
         },
         {
          "align": "center",
          "arrowcolor": "rgba(0,0, 0, 1)",
          "arrowhead": 2,
          "arrowsize": 1,
          "arrowwidth": 2,
          "ax": -30,
          "ay": -30,
          "bgcolor": "rgba(0, 0, 0, 1)",
          "bordercolor": "rgba(0, 0, 0, 1)",
          "borderpad": 2,
          "borderwidth": 2,
          "font": {
           "color": "white"
          },
          "opacity": 0.8,
          "showarrow": false,
          "text": "Top Pair",
          "textangle": -90,
          "x": 0.38570296957863504,
          "xref": "x2",
          "y": 13,
          "yref": "y2"
         },
         {
          "align": "center",
          "arrowcolor": "rgba(0,0, 0, 1)",
          "arrowhead": 2,
          "arrowsize": 1,
          "arrowwidth": 2,
          "ax": -30,
          "ay": -30,
          "bgcolor": "rgba(0, 0, 0, 1)",
          "bordercolor": "rgba(0, 0, 0, 1)",
          "borderpad": 2,
          "borderwidth": 2,
          "font": {
           "color": "white"
          },
          "opacity": 0.8,
          "showarrow": false,
          "text": "Elite",
          "textangle": -90,
          "x": 0.5824838476993234,
          "xref": "x2",
          "y": 13,
          "yref": "y2"
         }
        ],
        "hovermode": "closest",
        "legend": {
         "font": {
          "size": 10
         },
         "x": 0.99,
         "xanchor": "right",
         "y": 0.9,
         "yanchor": "bottom"
        },
        "margin": {
         "b": 10,
         "l": 40,
         "r": 10,
         "t": 10
        },
        "paper_bgcolor": "rgba(0,0,0,0)",
        "plot_bgcolor": "rgb(255,255,255)",
        "shapes": [
         {
          "line": {
           "color": "rgba(0, 0, 0, 0.6)",
           "dash": "dashdot",
           "width": 2
          },
          "type": "line",
          "x0": 0.29711961528470876,
          "x1": 0.29711961528470876,
          "xref": "x",
          "y0": -1,
          "y1": 14,
          "yref": "y"
         },
         {
          "line": {
           "color": "rgba(0, 0, 0, 0.6)",
           "dash": "dashdot",
           "width": 2
          },
          "type": "line",
          "x0": 0.4442586786393099,
          "x1": 0.4442586786393099,
          "xref": "x",
          "y0": -1,
          "y1": 14,
          "yref": "y"
         },
         {
          "line": {
           "color": "rgba(0, 0, 0, 0.6)",
           "dash": "dashdot",
           "width": 2
          },
          "type": "line",
          "x0": 0.6820207552204208,
          "x1": 0.6820207552204208,
          "xref": "x",
          "y0": -1,
          "y1": 14,
          "yref": "y"
         },
         {
          "line": {
           "color": "rgba(0, 0, 0, 0.6)",
           "dash": "dashdot",
           "width": 2
          },
          "type": "line",
          "x0": 1.024404472481474,
          "x1": 1.024404472481474,
          "xref": "x",
          "y0": -1,
          "y1": 14,
          "yref": "y"
         },
         {
          "line": {
           "color": "rgba(0, 0, 0, 0.6)",
           "dash": "dashdot",
           "width": 2
          },
          "type": "line",
          "x0": 0.1592219530492972,
          "x1": 0.1592219530492972,
          "xref": "x2",
          "y0": -1,
          "y1": 13,
          "yref": "y2"
         },
         {
          "line": {
           "color": "rgba(0, 0, 0, 0.6)",
           "dash": "dashdot",
           "width": 2
          },
          "type": "line",
          "x0": 0.2730208794506842,
          "x1": 0.2730208794506842,
          "xref": "x2",
          "y0": -1,
          "y1": 13,
          "yref": "y2"
         },
         {
          "line": {
           "color": "rgba(0, 0, 0, 0.6)",
           "dash": "dashdot",
           "width": 2
          },
          "type": "line",
          "x0": 0.38570296957863504,
          "x1": 0.38570296957863504,
          "xref": "x2",
          "y0": -1,
          "y1": 13,
          "yref": "y2"
         },
         {
          "line": {
           "color": "rgba(0, 0, 0, 0.6)",
           "dash": "dashdot",
           "width": 2
          },
          "type": "line",
          "x0": 0.5824838476993234,
          "x1": 0.5824838476993234,
          "xref": "x2",
          "y0": -1,
          "y1": 13,
          "yref": "y2"
         }
        ],
        "template": {
         "data": {
          "bar": [
           {
            "error_x": {
             "color": "#2a3f5f"
            },
            "error_y": {
             "color": "#2a3f5f"
            },
            "marker": {
             "line": {
              "color": "#E5ECF6",
              "width": 0.5
             }
            },
            "type": "bar"
           }
          ],
          "barpolar": [
           {
            "marker": {
             "line": {
              "color": "#E5ECF6",
              "width": 0.5
             }
            },
            "type": "barpolar"
           }
          ],
          "carpet": [
           {
            "aaxis": {
             "endlinecolor": "#2a3f5f",
             "gridcolor": "white",
             "linecolor": "white",
             "minorgridcolor": "white",
             "startlinecolor": "#2a3f5f"
            },
            "baxis": {
             "endlinecolor": "#2a3f5f",
             "gridcolor": "white",
             "linecolor": "white",
             "minorgridcolor": "white",
             "startlinecolor": "#2a3f5f"
            },
            "type": "carpet"
           }
          ],
          "choropleth": [
           {
            "colorbar": {
             "outlinewidth": 0,
             "ticks": ""
            },
            "type": "choropleth"
           }
          ],
          "contour": [
           {
            "colorbar": {
             "outlinewidth": 0,
             "ticks": ""
            },
            "colorscale": [
             [
              0,
              "#0d0887"
             ],
             [
              0.1111111111111111,
              "#46039f"
             ],
             [
              0.2222222222222222,
              "#7201a8"
             ],
             [
              0.3333333333333333,
              "#9c179e"
             ],
             [
              0.4444444444444444,
              "#bd3786"
             ],
             [
              0.5555555555555556,
              "#d8576b"
             ],
             [
              0.6666666666666666,
              "#ed7953"
             ],
             [
              0.7777777777777778,
              "#fb9f3a"
             ],
             [
              0.8888888888888888,
              "#fdca26"
             ],
             [
              1,
              "#f0f921"
             ]
            ],
            "type": "contour"
           }
          ],
          "contourcarpet": [
           {
            "colorbar": {
             "outlinewidth": 0,
             "ticks": ""
            },
            "type": "contourcarpet"
           }
          ],
          "heatmap": [
           {
            "colorbar": {
             "outlinewidth": 0,
             "ticks": ""
            },
            "colorscale": [
             [
              0,
              "#0d0887"
             ],
             [
              0.1111111111111111,
              "#46039f"
             ],
             [
              0.2222222222222222,
              "#7201a8"
             ],
             [
              0.3333333333333333,
              "#9c179e"
             ],
             [
              0.4444444444444444,
              "#bd3786"
             ],
             [
              0.5555555555555556,
              "#d8576b"
             ],
             [
              0.6666666666666666,
              "#ed7953"
             ],
             [
              0.7777777777777778,
              "#fb9f3a"
             ],
             [
              0.8888888888888888,
              "#fdca26"
             ],
             [
              1,
              "#f0f921"
             ]
            ],
            "type": "heatmap"
           }
          ],
          "heatmapgl": [
           {
            "colorbar": {
             "outlinewidth": 0,
             "ticks": ""
            },
            "colorscale": [
             [
              0,
              "#0d0887"
             ],
             [
              0.1111111111111111,
              "#46039f"
             ],
             [
              0.2222222222222222,
              "#7201a8"
             ],
             [
              0.3333333333333333,
              "#9c179e"
             ],
             [
              0.4444444444444444,
              "#bd3786"
             ],
             [
              0.5555555555555556,
              "#d8576b"
             ],
             [
              0.6666666666666666,
              "#ed7953"
             ],
             [
              0.7777777777777778,
              "#fb9f3a"
             ],
             [
              0.8888888888888888,
              "#fdca26"
             ],
             [
              1,
              "#f0f921"
             ]
            ],
            "type": "heatmapgl"
           }
          ],
          "histogram": [
           {
            "marker": {
             "colorbar": {
              "outlinewidth": 0,
              "ticks": ""
             }
            },
            "type": "histogram"
           }
          ],
          "histogram2d": [
           {
            "colorbar": {
             "outlinewidth": 0,
             "ticks": ""
            },
            "colorscale": [
             [
              0,
              "#0d0887"
             ],
             [
              0.1111111111111111,
              "#46039f"
             ],
             [
              0.2222222222222222,
              "#7201a8"
             ],
             [
              0.3333333333333333,
              "#9c179e"
             ],
             [
              0.4444444444444444,
              "#bd3786"
             ],
             [
              0.5555555555555556,
              "#d8576b"
             ],
             [
              0.6666666666666666,
              "#ed7953"
             ],
             [
              0.7777777777777778,
              "#fb9f3a"
             ],
             [
              0.8888888888888888,
              "#fdca26"
             ],
             [
              1,
              "#f0f921"
             ]
            ],
            "type": "histogram2d"
           }
          ],
          "histogram2dcontour": [
           {
            "colorbar": {
             "outlinewidth": 0,
             "ticks": ""
            },
            "colorscale": [
             [
              0,
              "#0d0887"
             ],
             [
              0.1111111111111111,
              "#46039f"
             ],
             [
              0.2222222222222222,
              "#7201a8"
             ],
             [
              0.3333333333333333,
              "#9c179e"
             ],
             [
              0.4444444444444444,
              "#bd3786"
             ],
             [
              0.5555555555555556,
              "#d8576b"
             ],
             [
              0.6666666666666666,
              "#ed7953"
             ],
             [
              0.7777777777777778,
              "#fb9f3a"
             ],
             [
              0.8888888888888888,
              "#fdca26"
             ],
             [
              1,
              "#f0f921"
             ]
            ],
            "type": "histogram2dcontour"
           }
          ],
          "mesh3d": [
           {
            "colorbar": {
             "outlinewidth": 0,
             "ticks": ""
            },
            "type": "mesh3d"
           }
          ],
          "parcoords": [
           {
            "line": {
             "colorbar": {
              "outlinewidth": 0,
              "ticks": ""
             }
            },
            "type": "parcoords"
           }
          ],
          "pie": [
           {
            "automargin": true,
            "type": "pie"
           }
          ],
          "scatter": [
           {
            "marker": {
             "colorbar": {
              "outlinewidth": 0,
              "ticks": ""
             }
            },
            "type": "scatter"
           }
          ],
          "scatter3d": [
           {
            "line": {
             "colorbar": {
              "outlinewidth": 0,
              "ticks": ""
             }
            },
            "marker": {
             "colorbar": {
              "outlinewidth": 0,
              "ticks": ""
             }
            },
            "type": "scatter3d"
           }
          ],
          "scattercarpet": [
           {
            "marker": {
             "colorbar": {
              "outlinewidth": 0,
              "ticks": ""
             }
            },
            "type": "scattercarpet"
           }
          ],
          "scattergeo": [
           {
            "marker": {
             "colorbar": {
              "outlinewidth": 0,
              "ticks": ""
             }
            },
            "type": "scattergeo"
           }
          ],
          "scattergl": [
           {
            "marker": {
             "colorbar": {
              "outlinewidth": 0,
              "ticks": ""
             }
            },
            "type": "scattergl"
           }
          ],
          "scattermapbox": [
           {
            "marker": {
             "colorbar": {
              "outlinewidth": 0,
              "ticks": ""
             }
            },
            "type": "scattermapbox"
           }
          ],
          "scatterpolar": [
           {
            "marker": {
             "colorbar": {
              "outlinewidth": 0,
              "ticks": ""
             }
            },
            "type": "scatterpolar"
           }
          ],
          "scatterpolargl": [
           {
            "marker": {
             "colorbar": {
              "outlinewidth": 0,
              "ticks": ""
             }
            },
            "type": "scatterpolargl"
           }
          ],
          "scatterternary": [
           {
            "marker": {
             "colorbar": {
              "outlinewidth": 0,
              "ticks": ""
             }
            },
            "type": "scatterternary"
           }
          ],
          "surface": [
           {
            "colorbar": {
             "outlinewidth": 0,
             "ticks": ""
            },
            "colorscale": [
             [
              0,
              "#0d0887"
             ],
             [
              0.1111111111111111,
              "#46039f"
             ],
             [
              0.2222222222222222,
              "#7201a8"
             ],
             [
              0.3333333333333333,
              "#9c179e"
             ],
             [
              0.4444444444444444,
              "#bd3786"
             ],
             [
              0.5555555555555556,
              "#d8576b"
             ],
             [
              0.6666666666666666,
              "#ed7953"
             ],
             [
              0.7777777777777778,
              "#fb9f3a"
             ],
             [
              0.8888888888888888,
              "#fdca26"
             ],
             [
              1,
              "#f0f921"
             ]
            ],
            "type": "surface"
           }
          ],
          "table": [
           {
            "cells": {
             "fill": {
              "color": "#EBF0F8"
             },
             "line": {
              "color": "white"
             }
            },
            "header": {
             "fill": {
              "color": "#C8D4E3"
             },
             "line": {
              "color": "white"
             }
            },
            "type": "table"
           }
          ]
         },
         "layout": {
          "annotationdefaults": {
           "arrowcolor": "#2a3f5f",
           "arrowhead": 0,
           "arrowwidth": 1
          },
          "coloraxis": {
           "colorbar": {
            "outlinewidth": 0,
            "ticks": ""
           }
          },
          "colorscale": {
           "diverging": [
            [
             0,
             "#8e0152"
            ],
            [
             0.1,
             "#c51b7d"
            ],
            [
             0.2,
             "#de77ae"
            ],
            [
             0.3,
             "#f1b6da"
            ],
            [
             0.4,
             "#fde0ef"
            ],
            [
             0.5,
             "#f7f7f7"
            ],
            [
             0.6,
             "#e6f5d0"
            ],
            [
             0.7,
             "#b8e186"
            ],
            [
             0.8,
             "#7fbc41"
            ],
            [
             0.9,
             "#4d9221"
            ],
            [
             1,
             "#276419"
            ]
           ],
           "sequential": [
            [
             0,
             "#0d0887"
            ],
            [
             0.1111111111111111,
             "#46039f"
            ],
            [
             0.2222222222222222,
             "#7201a8"
            ],
            [
             0.3333333333333333,
             "#9c179e"
            ],
            [
             0.4444444444444444,
             "#bd3786"
            ],
            [
             0.5555555555555556,
             "#d8576b"
            ],
            [
             0.6666666666666666,
             "#ed7953"
            ],
            [
             0.7777777777777778,
             "#fb9f3a"
            ],
            [
             0.8888888888888888,
             "#fdca26"
            ],
            [
             1,
             "#f0f921"
            ]
           ],
           "sequentialminus": [
            [
             0,
             "#0d0887"
            ],
            [
             0.1111111111111111,
             "#46039f"
            ],
            [
             0.2222222222222222,
             "#7201a8"
            ],
            [
             0.3333333333333333,
             "#9c179e"
            ],
            [
             0.4444444444444444,
             "#bd3786"
            ],
            [
             0.5555555555555556,
             "#d8576b"
            ],
            [
             0.6666666666666666,
             "#ed7953"
            ],
            [
             0.7777777777777778,
             "#fb9f3a"
            ],
            [
             0.8888888888888888,
             "#fdca26"
            ],
            [
             1,
             "#f0f921"
            ]
           ]
          },
          "colorway": [
           "#636efa",
           "#EF553B",
           "#00cc96",
           "#ab63fa",
           "#FFA15A",
           "#19d3f3",
           "#FF6692",
           "#B6E880",
           "#FF97FF",
           "#FECB52"
          ],
          "font": {
           "color": "#2a3f5f"
          },
          "geo": {
           "bgcolor": "white",
           "lakecolor": "white",
           "landcolor": "#E5ECF6",
           "showlakes": true,
           "showland": true,
           "subunitcolor": "white"
          },
          "hoverlabel": {
           "align": "left"
          },
          "hovermode": "closest",
          "mapbox": {
           "style": "light"
          },
          "paper_bgcolor": "white",
          "plot_bgcolor": "#E5ECF6",
          "polar": {
           "angularaxis": {
            "gridcolor": "white",
            "linecolor": "white",
            "ticks": ""
           },
           "bgcolor": "#E5ECF6",
           "radialaxis": {
            "gridcolor": "white",
            "linecolor": "white",
            "ticks": ""
           }
          },
          "scene": {
           "xaxis": {
            "backgroundcolor": "#E5ECF6",
            "gridcolor": "white",
            "gridwidth": 2,
            "linecolor": "white",
            "showbackground": true,
            "ticks": "",
            "zerolinecolor": "white"
           },
           "yaxis": {
            "backgroundcolor": "#E5ECF6",
            "gridcolor": "white",
            "gridwidth": 2,
            "linecolor": "white",
            "showbackground": true,
            "ticks": "",
            "zerolinecolor": "white"
           },
           "zaxis": {
            "backgroundcolor": "#E5ECF6",
            "gridcolor": "white",
            "gridwidth": 2,
            "linecolor": "white",
            "showbackground": true,
            "ticks": "",
            "zerolinecolor": "white"
           }
          },
          "shapedefaults": {
           "line": {
            "color": "#2a3f5f"
           }
          },
          "ternary": {
           "aaxis": {
            "gridcolor": "white",
            "linecolor": "white",
            "ticks": ""
           },
           "baxis": {
            "gridcolor": "white",
            "linecolor": "white",
            "ticks": ""
           },
           "bgcolor": "#E5ECF6",
           "caxis": {
            "gridcolor": "white",
            "linecolor": "white",
            "ticks": ""
           }
          },
          "title": {
           "x": 0.05
          },
          "xaxis": {
           "automargin": true,
           "gridcolor": "white",
           "linecolor": "white",
           "ticks": "",
           "title": {
            "standoff": 15
           },
           "zerolinecolor": "white",
           "zerolinewidth": 2
          },
          "yaxis": {
           "automargin": true,
           "gridcolor": "white",
           "linecolor": "white",
           "ticks": "",
           "title": {
            "standoff": 15
           },
           "zerolinecolor": "white",
           "zerolinewidth": 2
          }
         }
        },
        "xaxis": {
         "anchor": "y",
         "domain": [
          0,
          0.4
         ],
         "linecolor": "black",
         "linewidth": 2,
         "range": [
          0,
          1.8518614338953008
         ],
         "showline": true,
         "tickprefix": "<b>",
         "ticks": "outside",
         "ticksuffix": "</b><br>",
         "title": {
          "text": "Projected Rate"
         }
        },
        "xaxis2": {
         "anchor": "y2",
         "domain": [
          0.6000000000000001,
          1
         ],
         "linecolor": "black",
         "linewidth": 2,
         "range": [
          0,
          1.1985016446451202
         ],
         "showline": true,
         "tickprefix": "<b>",
         "ticks": "outside",
         "ticksuffix": "</b><br>",
         "title": {
          "text": "Projected Rate"
         }
        },
        "yaxis": {
         "anchor": "x",
         "domain": [
          0,
          1
         ],
         "tickmode": "linear",
         "tickprefix": "<b>",
         "ticks": "outside",
         "ticksuffix": "</b>"
        },
        "yaxis2": {
         "anchor": "x2",
         "domain": [
          0,
          1
         ],
         "tickmode": "linear",
         "tickprefix": "<b>",
         "ticks": "outside",
         "ticksuffix": "</b>"
        }
       }
      },
      "text/html": [
       "<div>                            <div id=\"abc05fa5-be8a-43a6-9814-b8145b0433ed\" class=\"plotly-graph-div\" style=\"height:525px; width:100%;\"></div>            <script type=\"text/javascript\">                require([\"plotly\"], function(Plotly) {                    window.PLOTLYENV=window.PLOTLYENV || {};                                    if (document.getElementById(\"abc05fa5-be8a-43a6-9814-b8145b0433ed\")) {                    Plotly.newPlot(                        \"abc05fa5-be8a-43a6-9814-b8145b0433ed\",                        [{\"marker\": {\"color\": \"rgba(212, 212, 212, 1)\", \"size\": 12}, \"mode\": \"markers\", \"name\": \"NHL Floor\", \"showlegend\": false, \"type\": \"scatter\", \"x\": [0.0, 0.0, 0.3, 0.33, 0.3, 0.38, 0.39, 0.34, 0.4, 0.38, 0.37, 0.48, 0.53], \"xaxis\": \"x\", \"y\": [\"Vladislav Kara\", \"Semyon Kizimov\", \"Pontus Holmberg\", \"Wyatt Schingoethe\", \"Semyon Der-Arguchintsev\", \"Dmitri Ovchinnikov\", \"Veeti Miettinen\", \"Mikhail Abramov\", \"Roni Hirvonen\", \"Filip H\\u00e5llander\", \"Ryan Tverberg\", \"Rodion Amirov\", \"Nicholas Robertson\"], \"yaxis\": \"y\"}, {\"marker\": {\"color\": \"rgba(212, 212, 212, 1)\", \"size\": 12}, \"mode\": \"markers\", \"name\": \"NHL Floor\", \"showlegend\": true, \"type\": \"scatter\", \"x\": [0.0, 0.0, 0.23, 0.24, 0.22, 0.3, 0.27, 0.28, 0.29, 0.3, 0.38, 0.39], \"xaxis\": \"x2\", \"y\": [\"James Greenway\", \"Mike Koster\", \"Eemeli R\\u00e4s\\u00e4nen\", \"Topi Niemel\\u00e4\", \"Kalle Loponen\", \"Axel Rindell\", \"Mikko Kokkonen\", \"William Villeneuve\", \"Mac Hollowell\", \"Filip Kr\\u00e1l\", \"Timothy Liljegren\", \"Rasmus Sandin\"], \"yaxis\": \"y2\"}, {\"marker\": {\"color\": \"rgba(255,255,255,0)\", \"line\": {\"color\": \"#00205b\", \"width\": 4}, \"size\": 16}, \"mode\": \"markers\", \"name\": \"NHL Ceiling\", \"showlegend\": false, \"type\": \"scatter\", \"x\": [0.0, 0.0, 0.3, 0.33, 0.37, 0.38, 0.39, 0.42, 0.48, 0.48, 0.5, 0.7, 0.81], \"xaxis\": \"x\", \"y\": [\"Vladislav Kara\", \"Semyon Kizimov\", \"Pontus Holmberg\", \"Wyatt Schingoethe\", \"Semyon Der-Arguchintsev\", \"Dmitri Ovchinnikov\", \"Veeti Miettinen\", \"Mikhail Abramov\", \"Roni Hirvonen\", \"Filip H\\u00e5llander\", \"Ryan Tverberg\", \"Rodion Amirov\", \"Nicholas Robertson\"], \"yaxis\": \"y\"}, {\"marker\": {\"color\": \"rgba(255,255,255,0)\", \"line\": {\"color\": \"#00205b\", \"width\": 4}, \"size\": 16}, \"mode\": \"markers\", \"name\": \"NHL Ceiling\", \"showlegend\": true, \"type\": \"scatter\", \"x\": [0.0, 0.0, 0.23, 0.24, 0.29, 0.3, 0.33, 0.35, 0.37, 0.42, 0.44, 0.52], \"xaxis\": \"x2\", \"y\": [\"James Greenway\", \"Mike Koster\", \"Eemeli R\\u00e4s\\u00e4nen\", \"Topi Niemel\\u00e4\", \"Kalle Loponen\", \"Axel Rindell\", \"Mikko Kokkonen\", \"William Villeneuve\", \"Mac Hollowell\", \"Filip Kr\\u00e1l\", \"Timothy Liljegren\", \"Rasmus Sandin\"], \"yaxis\": \"y2\"}],                        {\"annotations\": [{\"align\": \"center\", \"arrowcolor\": \"rgba(0, 0, 0, 1)\", \"arrowhead\": 2, \"arrowsize\": 1, \"arrowwidth\": 2, \"ax\": -30, \"ay\": -30, \"bgcolor\": \"rgba(0, 0, 0, 1)\", \"bordercolor\": \"rgba(0, 0, 0, 1)\", \"borderpad\": 2, \"borderwidth\": 2, \"font\": {\"color\": \"white\"}, \"opacity\": 0.8, \"showarrow\": false, \"text\": \"Top 9\", \"textangle\": -90, \"x\": 0.29711961528470876, \"xref\": \"x\", \"y\": 14, \"yref\": \"y\"}, {\"align\": \"center\", \"arrowcolor\": \"rgba(0, 0, 0, 1)\", \"arrowhead\": 2, \"arrowsize\": 1, \"arrowwidth\": 2, \"ax\": -30, \"ay\": -30, \"bgcolor\": \"rgba(0, 0, 0, 1)\", \"bordercolor\": \"rgba(0, 0, 0, 1)\", \"borderpad\": 2, \"borderwidth\": 2, \"font\": {\"color\": \"white\"}, \"opacity\": 0.8, \"showarrow\": false, \"text\": \"Top 6\", \"textangle\": -90, \"x\": 0.4442586786393099, \"xref\": \"x\", \"y\": 14, \"yref\": \"y\"}, {\"align\": \"center\", \"arrowcolor\": \"rgba(0, 0, 0, 1)\", \"arrowhead\": 2, \"arrowsize\": 1, \"arrowwidth\": 2, \"ax\": -30, \"ay\": -30, \"bgcolor\": \"rgba(0, 0, 0, 1)\", \"bordercolor\": \"rgba(0, 0, 0, 1)\", \"borderpad\": 2, \"borderwidth\": 2, \"font\": {\"color\": \"white\"}, \"opacity\": 0.8, \"showarrow\": false, \"text\": \"Top Line\", \"textangle\": -90, \"x\": 0.6820207552204208, \"xref\": \"x\", \"y\": 14, \"yref\": \"y\"}, {\"align\": \"center\", \"arrowcolor\": \"rgba(0, 0, 0, 1)\", \"arrowhead\": 2, \"arrowsize\": 1, \"arrowwidth\": 2, \"ax\": -30, \"ay\": -30, \"bgcolor\": \"rgba(0, 0, 0, 1)\", \"bordercolor\": \"rgba(0, 0, 0, 1)\", \"borderpad\": 2, \"borderwidth\": 2, \"font\": {\"color\": \"white\"}, \"opacity\": 0.8, \"showarrow\": false, \"text\": \"Elite\", \"textangle\": -90, \"x\": 1.024404472481474, \"xref\": \"x\", \"y\": 14, \"yref\": \"y\"}, {\"align\": \"center\", \"arrowcolor\": \"rgba(0,0, 0, 1)\", \"arrowhead\": 2, \"arrowsize\": 1, \"arrowwidth\": 2, \"ax\": -30, \"ay\": -30, \"bgcolor\": \"rgba(0, 0, 0, 1)\", \"bordercolor\": \"rgba(0, 0, 0, 1)\", \"borderpad\": 2, \"borderwidth\": 2, \"font\": {\"color\": \"white\"}, \"opacity\": 0.8, \"showarrow\": false, \"text\": \"Top 6\", \"textangle\": -90, \"x\": 0.1592219530492972, \"xref\": \"x2\", \"y\": 13, \"yref\": \"y2\"}, {\"align\": \"center\", \"arrowcolor\": \"rgba(0,0, 0, 1)\", \"arrowhead\": 2, \"arrowsize\": 1, \"arrowwidth\": 2, \"ax\": -30, \"ay\": -30, \"bgcolor\": \"rgba(0, 0, 0, 1)\", \"bordercolor\": \"rgba(0, 0, 0, 1)\", \"borderpad\": 2, \"borderwidth\": 2, \"font\": {\"color\": \"white\"}, \"opacity\": 0.8, \"showarrow\": false, \"text\": \"Top 4\", \"textangle\": -90, \"x\": 0.2730208794506842, \"xref\": \"x2\", \"y\": 13, \"yref\": \"y2\"}, {\"align\": \"center\", \"arrowcolor\": \"rgba(0,0, 0, 1)\", \"arrowhead\": 2, \"arrowsize\": 1, \"arrowwidth\": 2, \"ax\": -30, \"ay\": -30, \"bgcolor\": \"rgba(0, 0, 0, 1)\", \"bordercolor\": \"rgba(0, 0, 0, 1)\", \"borderpad\": 2, \"borderwidth\": 2, \"font\": {\"color\": \"white\"}, \"opacity\": 0.8, \"showarrow\": false, \"text\": \"Top Pair\", \"textangle\": -90, \"x\": 0.38570296957863504, \"xref\": \"x2\", \"y\": 13, \"yref\": \"y2\"}, {\"align\": \"center\", \"arrowcolor\": \"rgba(0,0, 0, 1)\", \"arrowhead\": 2, \"arrowsize\": 1, \"arrowwidth\": 2, \"ax\": -30, \"ay\": -30, \"bgcolor\": \"rgba(0, 0, 0, 1)\", \"bordercolor\": \"rgba(0, 0, 0, 1)\", \"borderpad\": 2, \"borderwidth\": 2, \"font\": {\"color\": \"white\"}, \"opacity\": 0.8, \"showarrow\": false, \"text\": \"Elite\", \"textangle\": -90, \"x\": 0.5824838476993234, \"xref\": \"x2\", \"y\": 13, \"yref\": \"y2\"}], \"hovermode\": \"closest\", \"legend\": {\"font\": {\"size\": 10}, \"x\": 0.99, \"xanchor\": \"right\", \"y\": 0.9, \"yanchor\": \"bottom\"}, \"margin\": {\"b\": 10, \"l\": 40, \"r\": 10, \"t\": 10}, \"paper_bgcolor\": \"rgba(0,0,0,0)\", \"plot_bgcolor\": \"rgb(255,255,255)\", \"shapes\": [{\"line\": {\"color\": \"rgba(0, 0, 0, 0.6)\", \"dash\": \"dashdot\", \"width\": 2}, \"type\": \"line\", \"x0\": 0.29711961528470876, \"x1\": 0.29711961528470876, \"xref\": \"x\", \"y0\": -1, \"y1\": 14, \"yref\": \"y\"}, {\"line\": {\"color\": \"rgba(0, 0, 0, 0.6)\", \"dash\": \"dashdot\", \"width\": 2}, \"type\": \"line\", \"x0\": 0.4442586786393099, \"x1\": 0.4442586786393099, \"xref\": \"x\", \"y0\": -1, \"y1\": 14, \"yref\": \"y\"}, {\"line\": {\"color\": \"rgba(0, 0, 0, 0.6)\", \"dash\": \"dashdot\", \"width\": 2}, \"type\": \"line\", \"x0\": 0.6820207552204208, \"x1\": 0.6820207552204208, \"xref\": \"x\", \"y0\": -1, \"y1\": 14, \"yref\": \"y\"}, {\"line\": {\"color\": \"rgba(0, 0, 0, 0.6)\", \"dash\": \"dashdot\", \"width\": 2}, \"type\": \"line\", \"x0\": 1.024404472481474, \"x1\": 1.024404472481474, \"xref\": \"x\", \"y0\": -1, \"y1\": 14, \"yref\": \"y\"}, {\"line\": {\"color\": \"rgba(0, 0, 0, 0.6)\", \"dash\": \"dashdot\", \"width\": 2}, \"type\": \"line\", \"x0\": 0.1592219530492972, \"x1\": 0.1592219530492972, \"xref\": \"x2\", \"y0\": -1, \"y1\": 13, \"yref\": \"y2\"}, {\"line\": {\"color\": \"rgba(0, 0, 0, 0.6)\", \"dash\": \"dashdot\", \"width\": 2}, \"type\": \"line\", \"x0\": 0.2730208794506842, \"x1\": 0.2730208794506842, \"xref\": \"x2\", \"y0\": -1, \"y1\": 13, \"yref\": \"y2\"}, {\"line\": {\"color\": \"rgba(0, 0, 0, 0.6)\", \"dash\": \"dashdot\", \"width\": 2}, \"type\": \"line\", \"x0\": 0.38570296957863504, \"x1\": 0.38570296957863504, \"xref\": \"x2\", \"y0\": -1, \"y1\": 13, \"yref\": \"y2\"}, {\"line\": {\"color\": \"rgba(0, 0, 0, 0.6)\", \"dash\": \"dashdot\", \"width\": 2}, \"type\": \"line\", \"x0\": 0.5824838476993234, \"x1\": 0.5824838476993234, \"xref\": \"x2\", \"y0\": -1, \"y1\": 13, \"yref\": \"y2\"}], \"template\": {\"data\": {\"bar\": [{\"error_x\": {\"color\": \"#2a3f5f\"}, \"error_y\": {\"color\": \"#2a3f5f\"}, \"marker\": {\"line\": {\"color\": \"#E5ECF6\", \"width\": 0.5}}, \"type\": \"bar\"}], \"barpolar\": [{\"marker\": {\"line\": {\"color\": \"#E5ECF6\", \"width\": 0.5}}, \"type\": \"barpolar\"}], \"carpet\": [{\"aaxis\": {\"endlinecolor\": \"#2a3f5f\", \"gridcolor\": \"white\", \"linecolor\": \"white\", \"minorgridcolor\": \"white\", \"startlinecolor\": \"#2a3f5f\"}, \"baxis\": {\"endlinecolor\": \"#2a3f5f\", \"gridcolor\": \"white\", \"linecolor\": \"white\", \"minorgridcolor\": \"white\", \"startlinecolor\": \"#2a3f5f\"}, \"type\": \"carpet\"}], \"choropleth\": [{\"colorbar\": {\"outlinewidth\": 0, \"ticks\": \"\"}, \"type\": \"choropleth\"}], \"contour\": [{\"colorbar\": {\"outlinewidth\": 0, \"ticks\": \"\"}, \"colorscale\": [[0.0, \"#0d0887\"], [0.1111111111111111, \"#46039f\"], [0.2222222222222222, \"#7201a8\"], [0.3333333333333333, \"#9c179e\"], [0.4444444444444444, \"#bd3786\"], [0.5555555555555556, \"#d8576b\"], [0.6666666666666666, \"#ed7953\"], [0.7777777777777778, \"#fb9f3a\"], [0.8888888888888888, \"#fdca26\"], [1.0, \"#f0f921\"]], \"type\": \"contour\"}], \"contourcarpet\": [{\"colorbar\": {\"outlinewidth\": 0, \"ticks\": \"\"}, \"type\": \"contourcarpet\"}], \"heatmap\": [{\"colorbar\": {\"outlinewidth\": 0, \"ticks\": \"\"}, \"colorscale\": [[0.0, \"#0d0887\"], [0.1111111111111111, \"#46039f\"], [0.2222222222222222, \"#7201a8\"], [0.3333333333333333, \"#9c179e\"], [0.4444444444444444, \"#bd3786\"], [0.5555555555555556, \"#d8576b\"], [0.6666666666666666, \"#ed7953\"], [0.7777777777777778, \"#fb9f3a\"], [0.8888888888888888, \"#fdca26\"], [1.0, \"#f0f921\"]], \"type\": \"heatmap\"}], \"heatmapgl\": [{\"colorbar\": {\"outlinewidth\": 0, \"ticks\": \"\"}, \"colorscale\": [[0.0, \"#0d0887\"], [0.1111111111111111, \"#46039f\"], [0.2222222222222222, \"#7201a8\"], [0.3333333333333333, \"#9c179e\"], [0.4444444444444444, \"#bd3786\"], [0.5555555555555556, \"#d8576b\"], [0.6666666666666666, \"#ed7953\"], [0.7777777777777778, \"#fb9f3a\"], [0.8888888888888888, \"#fdca26\"], [1.0, \"#f0f921\"]], \"type\": \"heatmapgl\"}], \"histogram\": [{\"marker\": {\"colorbar\": {\"outlinewidth\": 0, \"ticks\": \"\"}}, \"type\": \"histogram\"}], \"histogram2d\": [{\"colorbar\": {\"outlinewidth\": 0, \"ticks\": \"\"}, \"colorscale\": [[0.0, \"#0d0887\"], [0.1111111111111111, \"#46039f\"], [0.2222222222222222, \"#7201a8\"], [0.3333333333333333, \"#9c179e\"], [0.4444444444444444, \"#bd3786\"], [0.5555555555555556, \"#d8576b\"], [0.6666666666666666, \"#ed7953\"], [0.7777777777777778, \"#fb9f3a\"], [0.8888888888888888, \"#fdca26\"], [1.0, \"#f0f921\"]], \"type\": \"histogram2d\"}], \"histogram2dcontour\": [{\"colorbar\": {\"outlinewidth\": 0, \"ticks\": \"\"}, \"colorscale\": [[0.0, \"#0d0887\"], [0.1111111111111111, \"#46039f\"], [0.2222222222222222, \"#7201a8\"], [0.3333333333333333, \"#9c179e\"], [0.4444444444444444, \"#bd3786\"], [0.5555555555555556, \"#d8576b\"], [0.6666666666666666, \"#ed7953\"], [0.7777777777777778, \"#fb9f3a\"], [0.8888888888888888, \"#fdca26\"], [1.0, \"#f0f921\"]], \"type\": \"histogram2dcontour\"}], \"mesh3d\": [{\"colorbar\": {\"outlinewidth\": 0, \"ticks\": \"\"}, \"type\": \"mesh3d\"}], \"parcoords\": [{\"line\": {\"colorbar\": {\"outlinewidth\": 0, \"ticks\": \"\"}}, \"type\": \"parcoords\"}], \"pie\": [{\"automargin\": true, \"type\": \"pie\"}], \"scatter\": [{\"marker\": {\"colorbar\": {\"outlinewidth\": 0, \"ticks\": \"\"}}, \"type\": \"scatter\"}], \"scatter3d\": [{\"line\": {\"colorbar\": {\"outlinewidth\": 0, \"ticks\": \"\"}}, \"marker\": {\"colorbar\": {\"outlinewidth\": 0, \"ticks\": \"\"}}, \"type\": \"scatter3d\"}], \"scattercarpet\": [{\"marker\": {\"colorbar\": {\"outlinewidth\": 0, \"ticks\": \"\"}}, \"type\": \"scattercarpet\"}], \"scattergeo\": [{\"marker\": {\"colorbar\": {\"outlinewidth\": 0, \"ticks\": \"\"}}, \"type\": \"scattergeo\"}], \"scattergl\": [{\"marker\": {\"colorbar\": {\"outlinewidth\": 0, \"ticks\": \"\"}}, \"type\": \"scattergl\"}], \"scattermapbox\": [{\"marker\": {\"colorbar\": {\"outlinewidth\": 0, \"ticks\": \"\"}}, \"type\": \"scattermapbox\"}], \"scatterpolar\": [{\"marker\": {\"colorbar\": {\"outlinewidth\": 0, \"ticks\": \"\"}}, \"type\": \"scatterpolar\"}], \"scatterpolargl\": [{\"marker\": {\"colorbar\": {\"outlinewidth\": 0, \"ticks\": \"\"}}, \"type\": \"scatterpolargl\"}], \"scatterternary\": [{\"marker\": {\"colorbar\": {\"outlinewidth\": 0, \"ticks\": \"\"}}, \"type\": \"scatterternary\"}], \"surface\": [{\"colorbar\": {\"outlinewidth\": 0, \"ticks\": \"\"}, \"colorscale\": [[0.0, \"#0d0887\"], [0.1111111111111111, \"#46039f\"], [0.2222222222222222, \"#7201a8\"], [0.3333333333333333, \"#9c179e\"], [0.4444444444444444, \"#bd3786\"], [0.5555555555555556, \"#d8576b\"], [0.6666666666666666, \"#ed7953\"], [0.7777777777777778, \"#fb9f3a\"], [0.8888888888888888, \"#fdca26\"], [1.0, \"#f0f921\"]], \"type\": \"surface\"}], \"table\": [{\"cells\": {\"fill\": {\"color\": \"#EBF0F8\"}, \"line\": {\"color\": \"white\"}}, \"header\": {\"fill\": {\"color\": \"#C8D4E3\"}, \"line\": {\"color\": \"white\"}}, \"type\": \"table\"}]}, \"layout\": {\"annotationdefaults\": {\"arrowcolor\": \"#2a3f5f\", \"arrowhead\": 0, \"arrowwidth\": 1}, \"coloraxis\": {\"colorbar\": {\"outlinewidth\": 0, \"ticks\": \"\"}}, \"colorscale\": {\"diverging\": [[0, \"#8e0152\"], [0.1, \"#c51b7d\"], [0.2, \"#de77ae\"], [0.3, \"#f1b6da\"], [0.4, \"#fde0ef\"], [0.5, \"#f7f7f7\"], [0.6, \"#e6f5d0\"], [0.7, \"#b8e186\"], [0.8, \"#7fbc41\"], [0.9, \"#4d9221\"], [1, \"#276419\"]], \"sequential\": [[0.0, \"#0d0887\"], [0.1111111111111111, \"#46039f\"], [0.2222222222222222, \"#7201a8\"], [0.3333333333333333, \"#9c179e\"], [0.4444444444444444, \"#bd3786\"], [0.5555555555555556, \"#d8576b\"], [0.6666666666666666, \"#ed7953\"], [0.7777777777777778, \"#fb9f3a\"], [0.8888888888888888, \"#fdca26\"], [1.0, \"#f0f921\"]], \"sequentialminus\": [[0.0, \"#0d0887\"], [0.1111111111111111, \"#46039f\"], [0.2222222222222222, \"#7201a8\"], [0.3333333333333333, \"#9c179e\"], [0.4444444444444444, \"#bd3786\"], [0.5555555555555556, \"#d8576b\"], [0.6666666666666666, \"#ed7953\"], [0.7777777777777778, \"#fb9f3a\"], [0.8888888888888888, \"#fdca26\"], [1.0, \"#f0f921\"]]}, \"colorway\": [\"#636efa\", \"#EF553B\", \"#00cc96\", \"#ab63fa\", \"#FFA15A\", \"#19d3f3\", \"#FF6692\", \"#B6E880\", \"#FF97FF\", \"#FECB52\"], \"font\": {\"color\": \"#2a3f5f\"}, \"geo\": {\"bgcolor\": \"white\", \"lakecolor\": \"white\", \"landcolor\": \"#E5ECF6\", \"showlakes\": true, \"showland\": true, \"subunitcolor\": \"white\"}, \"hoverlabel\": {\"align\": \"left\"}, \"hovermode\": \"closest\", \"mapbox\": {\"style\": \"light\"}, \"paper_bgcolor\": \"white\", \"plot_bgcolor\": \"#E5ECF6\", \"polar\": {\"angularaxis\": {\"gridcolor\": \"white\", \"linecolor\": \"white\", \"ticks\": \"\"}, \"bgcolor\": \"#E5ECF6\", \"radialaxis\": {\"gridcolor\": \"white\", \"linecolor\": \"white\", \"ticks\": \"\"}}, \"scene\": {\"xaxis\": {\"backgroundcolor\": \"#E5ECF6\", \"gridcolor\": \"white\", \"gridwidth\": 2, \"linecolor\": \"white\", \"showbackground\": true, \"ticks\": \"\", \"zerolinecolor\": \"white\"}, \"yaxis\": {\"backgroundcolor\": \"#E5ECF6\", \"gridcolor\": \"white\", \"gridwidth\": 2, \"linecolor\": \"white\", \"showbackground\": true, \"ticks\": \"\", \"zerolinecolor\": \"white\"}, \"zaxis\": {\"backgroundcolor\": \"#E5ECF6\", \"gridcolor\": \"white\", \"gridwidth\": 2, \"linecolor\": \"white\", \"showbackground\": true, \"ticks\": \"\", \"zerolinecolor\": \"white\"}}, \"shapedefaults\": {\"line\": {\"color\": \"#2a3f5f\"}}, \"ternary\": {\"aaxis\": {\"gridcolor\": \"white\", \"linecolor\": \"white\", \"ticks\": \"\"}, \"baxis\": {\"gridcolor\": \"white\", \"linecolor\": \"white\", \"ticks\": \"\"}, \"bgcolor\": \"#E5ECF6\", \"caxis\": {\"gridcolor\": \"white\", \"linecolor\": \"white\", \"ticks\": \"\"}}, \"title\": {\"x\": 0.05}, \"xaxis\": {\"automargin\": true, \"gridcolor\": \"white\", \"linecolor\": \"white\", \"ticks\": \"\", \"title\": {\"standoff\": 15}, \"zerolinecolor\": \"white\", \"zerolinewidth\": 2}, \"yaxis\": {\"automargin\": true, \"gridcolor\": \"white\", \"linecolor\": \"white\", \"ticks\": \"\", \"title\": {\"standoff\": 15}, \"zerolinecolor\": \"white\", \"zerolinewidth\": 2}}}, \"xaxis\": {\"anchor\": \"y\", \"domain\": [0.0, 0.4], \"linecolor\": \"black\", \"linewidth\": 2, \"range\": [0, 1.8518614338953008], \"showline\": true, \"tickprefix\": \"<b>\", \"ticks\": \"outside\", \"ticksuffix\": \"</b><br>\", \"title\": {\"text\": \"Projected Rate\"}}, \"xaxis2\": {\"anchor\": \"y2\", \"domain\": [0.6000000000000001, 1.0], \"linecolor\": \"black\", \"linewidth\": 2, \"range\": [0, 1.1985016446451202], \"showline\": true, \"tickprefix\": \"<b>\", \"ticks\": \"outside\", \"ticksuffix\": \"</b><br>\", \"title\": {\"text\": \"Projected Rate\"}}, \"yaxis\": {\"anchor\": \"x\", \"domain\": [0.0, 1.0], \"tickmode\": \"linear\", \"tickprefix\": \"<b>\", \"ticks\": \"outside\", \"ticksuffix\": \"</b>\"}, \"yaxis2\": {\"anchor\": \"x2\", \"domain\": [0.0, 1.0], \"tickmode\": \"linear\", \"tickprefix\": \"<b>\", \"ticks\": \"outside\", \"ticksuffix\": \"</b>\"}},                        {\"responsive\": true}                    ).then(function(){\n",
       "                            \n",
       "var gd = document.getElementById('abc05fa5-be8a-43a6-9814-b8145b0433ed');\n",
       "var x = new MutationObserver(function (mutations, observer) {{\n",
       "        var display = window.getComputedStyle(gd).display;\n",
       "        if (!display || display === 'none') {{\n",
       "            console.log([gd, 'removed!']);\n",
       "            Plotly.purge(gd);\n",
       "            observer.disconnect();\n",
       "        }}\n",
       "}});\n",
       "\n",
       "// Listen for the removal of the full notebook cells\n",
       "var notebookContainer = gd.closest('#notebook-container');\n",
       "if (notebookContainer) {{\n",
       "    x.observe(notebookContainer, {childList: true});\n",
       "}}\n",
       "\n",
       "// Listen for the clearing of the current output cell\n",
       "var outputEl = gd.closest('.output');\n",
       "if (outputEl) {{\n",
       "    x.observe(outputEl, {childList: true});\n",
       "}}\n",
       "\n",
       "                        })                };                });            </script>        </div>"
      ]
     },
     "metadata": {},
     "output_type": "display_data"
    }
   ],
   "source": [
    "get_team_prospect_graph(team)"
   ]
  },
  {
   "cell_type": "markdown",
   "metadata": {},
   "source": [
    "### Surplus"
   ]
  },
  {
   "cell_type": "code",
   "execution_count": 323,
   "metadata": {},
   "outputs": [],
   "source": [
    "def get_team_surplus_graph(team):\n",
    "    \n",
    "    teams = json.load(open('../../apple-model-app/assets/team-styles.json'))\n",
    "    primary_colour = teams[team]['color']\n",
    "    \n",
    "    prospects = df.sort_values(by=['player', 'season_order'],\n",
    "                                     ascending=[True, False])\\\n",
    "            .drop_duplicates(subset=['playerid'])\\\n",
    "            .loc[(\n",
    "                    (df.draft_year >= 2016)\n",
    "                )\n",
    "                 &\n",
    "                (\n",
    "                    (df.end_year == 2020)\n",
    "                 )]\n",
    "\n",
    "    layout = go.Layout(\n",
    "        plot_bgcolor='rgb(255,255,255)',\n",
    "        paper_bgcolor='rgba(0,0,0,0)',\n",
    "        hovermode='closest',\n",
    "    )\n",
    "\n",
    "    order = prospects.groupby(['rights']).surplus.sum().sort_values(ascending=False).index\n",
    "    color=np.array(['rgb(212,212,212)']*order.shape[0])\n",
    "    color[order == team] = primary_colour\n",
    "\n",
    "    f = go.Figure(\n",
    "        go.Bar(x=prospects.groupby(['rights']).surplus.sum().sort_values(ascending=False).index,\n",
    "               y=prospects.groupby(['rights']).surplus.sum().sort_values(ascending=False), \n",
    "               marker=dict(color=color.tolist()) \n",
    "        ),\n",
    "        layout=layout,\n",
    "    )\n",
    "\n",
    "    # Change the bar mode\n",
    "    f.update_layout(barmode='stack',xaxis={'categoryorder':'array', 'categoryarray':order},yaxis={'title' : 'draft value added'})\n",
    "    \n",
    "    return f"
   ]
  },
  {
   "cell_type": "code",
   "execution_count": null,
   "metadata": {},
   "outputs": [],
   "source": []
  },
  {
   "cell_type": "markdown",
   "metadata": {},
   "source": [
    "### Quantity vs. Quality"
   ]
  },
  {
   "cell_type": "code",
   "execution_count": 366,
   "metadata": {},
   "outputs": [],
   "source": [
    "def get_team_composition_card(team):\n",
    "\n",
    "    # Prospect composition\n",
    "    f_col_order = ['Depth', 'Top 9', 'Top 6', 'Top Line', 'Elite']\n",
    "    d_col_order = ['Depth', 'Top 6', 'Top 4', 'Top Pair', 'Elite']\n",
    "    \n",
    "    teams = json.load(open('../../apple-model-app/assets/team-styles.json'))\n",
    "    primary_colour = teams[team]['color']\n",
    "    \n",
    "    prospects = df.sort_values(by=['player', 'season_order'],\n",
    "                                     ascending=[True, False])\\\n",
    "            .drop_duplicates(subset=['playerid'])\\\n",
    "            .loc[(\n",
    "                    (df.draft_year >= 2016)\n",
    "                )\n",
    "                 &\n",
    "                (\n",
    "                    (df.end_year == 2020)\n",
    "                 )]\n",
    "    \n",
    "    d_prospects = prospects[prospects.position == 'D']\n",
    "    f_prospects = prospects[prospects.position == 'F']\n",
    "\n",
    "    team_forward_roles = pd.pivot_table(f_prospects,\n",
    "                   values=['playerid'], \n",
    "                   columns=['Projected Role'],\n",
    "                   index=['rights'],\n",
    "                   aggfunc='count').fillna(0).astype(int).droplevel(0, axis=1)[f_col_order]\n",
    "\n",
    "    team_defence_roles = pd.pivot_table(d_prospects,\n",
    "                   values=['playerid'], \n",
    "                   columns=['Projected Role'],\n",
    "                   index=['rights'],\n",
    "                   aggfunc='count').fillna(0).astype(int).droplevel(0, axis=1)[d_col_order]\n",
    "\n",
    "    team_forward_roles['Prospects Total'] = team_forward_roles.sum(axis=1)\n",
    "    team_defence_roles['Prospects Total'] = team_defence_roles.sum(axis=1)\n",
    "\n",
    "    composition = [\n",
    "        dbc.Col([\n",
    "            dbc.Row(\n",
    "                dbc.Card(\n",
    "                    dbc.CardBody(\n",
    "                        [\n",
    "                            html.H5(index, className=\"card-title\"),\n",
    "                            html.P(val, className=\"card-text\")\n",
    "                        ]\n",
    "                    )\n",
    "                )) for index, val in roles.iteritems()\n",
    "        ]) for roles in [team_defence_roles.loc[team], \n",
    "                        team_forward_roles.loc[team]]\n",
    "    ]\n",
    "    \n",
    "    return composition\n",
    "\n",
    "def get_team_summary_card(team):\n",
    "    \n",
    "    prospects = df.sort_values(by=['player', 'season_order'],\n",
    "                                     ascending=[True, False])\\\n",
    "            .drop_duplicates(subset=['playerid'])\\\n",
    "            .loc[(\n",
    "                    (df.draft_year >= 2016)\n",
    "                )\n",
    "                 &\n",
    "                (\n",
    "                    (df.end_year == 2020)\n",
    "                 )]\n",
    "    \n",
    "    d_prospects = prospects[prospects.position == 'D']\n",
    "    f_prospects = prospects[prospects.position == 'F']\n",
    "    \n",
    "    team_forward_total = f_prospects.groupby(['rights']).agg({\n",
    "        'nhl_likelihood' : 'sum',\n",
    "        'Projected Rate' : 'mean',\n",
    "    }).sort_values('Projected Rate', ascending=False).round(2)\n",
    "\n",
    "    team_defence_total = d_prospects.groupby(['rights']).agg({\n",
    "        'nhl_likelihood' : 'sum',\n",
    "        'Projected Rate' : 'mean',\n",
    "    }).sort_values('Projected Rate', ascending=False).round(2)\n",
    "    \n",
    "    team_forward_total['prospect_quantity_rank'] = team_forward_total['nhl_likelihood'].rank(method='min', ascending=False).astype(int)\n",
    "    team_forward_total['prospect_quality_rank'] = team_forward_total['Projected Rate'].rank(method='min', ascending=False).astype(int)\n",
    "    team_defence_total['prospect_quantity_rank'] = team_defence_total['nhl_likelihood'].rank(method='min', ascending=False).astype(int)\n",
    "    team_defence_total['prospect_quality_rank'] = team_defence_total['Projected Rate'].rank(method='min', ascending=False).astype(int)\n",
    "    \n",
    "    card_content = [\n",
    "                dbc.Row([\n",
    "                    dbc.Col(\n",
    "                        dbc.Card(\n",
    "                            dbc.CardBody(\n",
    "                                [\n",
    "                                    html.H5(index, className=\"card-title\"),\n",
    "                                    html.P(val, className=\"card-text\")\n",
    "                                ]\n",
    "                            )\n",
    "                        )\n",
    "                    ) for index, val in players.iteritems()\n",
    "                ]) for players in [team_defence_total.loc[team], \n",
    "                                    team_forward_total.loc[team]]\n",
    "            ]\n",
    "    \n",
    "    return card_content"
   ]
  },
  {
   "cell_type": "code",
   "execution_count": 200,
   "metadata": {},
   "outputs": [],
   "source": [
    "team = 'Calgary Flames'"
   ]
  },
  {
   "cell_type": "code",
   "execution_count": 201,
   "metadata": {},
   "outputs": [],
   "source": [
    "\n",
    "prospects = df.sort_values(by=['player', 'season_order'],\n",
    "                                 ascending=[True, False])\\\n",
    "        .drop_duplicates(subset=['playerid'])\\\n",
    "        .loc[(\n",
    "                (df.draft_year >= 2016)\n",
    "            )\n",
    "             &\n",
    "            (\n",
    "                (df.end_year == 2020)\n",
    "             )\n",
    "             &\n",
    "                (df.rights.notnull())\n",
    "             &\n",
    "                (df.draft_plus_5_gp < 50)\n",
    "             ]\n",
    "\n",
    "prospects['rights'] = prospects.rights.apply(unidecode)\n",
    "\n",
    "d_prospects = prospects[prospects.position == 'D']\n",
    "f_prospects = prospects[prospects.position == 'F']\n",
    "\n",
    "defence = df[df.position == 'D']\n",
    "forwards = df[df.position == 'F']\n",
    "\n",
    "pipeline = prospects[prospects.rights == team].sort_values('nhl_expected_value', ascending=True)\n",
    "\n",
    "team_forwards = pipeline[pipeline.position == 'F']\n",
    "team_defence = pipeline[pipeline.position == 'D']\n",
    "\n",
    "team_forward_total = f_prospects.groupby(['rights']).agg({\n",
    "    'nhl_likelihood' : 'sum',\n",
    "    'Ceiling Rate' : 'mean',\n",
    "    'surplus' : 'sum',\n",
    "}).sort_values('Ceiling Rate', ascending=False).round(2)\n",
    "\n",
    "team_defence_total = d_prospects.groupby(['rights']).agg({\n",
    "    'nhl_likelihood' : 'sum',\n",
    "    'Ceiling Rate' : 'mean',\n",
    "    'surplus' : 'sum',\n",
    "}).sort_values('Ceiling Rate', ascending=False).round(2)\n"
   ]
  },
  {
   "cell_type": "code",
   "execution_count": 193,
   "metadata": {},
   "outputs": [],
   "source": [
    "\n",
    "team_forward_total['prospect_quantity_rank'] = team_forward_total['nhl_likelihood'].rank(method='min', ascending=False)\n",
    "team_forward_total['prospect_quality_rank'] = team_forward_total['Ceiling Rate'].rank(method='min', ascending=False)\n",
    "team_defence_total['prospect_quantity_rank'] = team_defence_total['nhl_likelihood'].rank(method='min', ascending=False)\n",
    "team_defence_total['prospect_quality_rank'] = team_defence_total['Ceiling Rate'].rank(method='min', ascending=False)\n",
    "team_forward_total['prospect_surplus_rank'] = team_forward_total['surplus'].rank(method='min', ascending=False)\n",
    "team_defence_total['prospect_surplus_rank'] = team_defence_total['surplus'].rank(method='min', ascending=False)\n",
    "\n",
    "cols = [\n",
    "    {'id' : 'nhl_likelihood' , 'name' : [\"xPlayers\"]},\n",
    "    {'id' : 'prospect_quantity_rank' , 'name' : [\"xPlayers Rank\"]},\n",
    "    {'id' : 'Ceiling Rate' , 'name' : [\"Scoring Rate\"]},\n",
    "    {'id' : 'prospect_quality_rank' , 'name' : [\"Scoring Rank\"]},\n",
    "    {'id' : 'surplus' , 'name' : [\"Draft Surplus\"]},\n",
    "    {'id' : 'prospect_quality_rank' , 'name' : [\"Surplus Rank\"]},\n",
    "    ]\n",
    "\n",
    "team_summary = pd.concat([team_defence_total.loc[team].rename('D'),\n",
    "          team_forward_total.loc[team].rename('F')], axis=1)"
   ]
  },
  {
   "cell_type": "code",
   "execution_count": 211,
   "metadata": {},
   "outputs": [
    {
     "data": {
      "text/html": [
       "<div>\n",
       "<style scoped>\n",
       "    .dataframe tbody tr th:only-of-type {\n",
       "        vertical-align: middle;\n",
       "    }\n",
       "\n",
       "    .dataframe tbody tr th {\n",
       "        vertical-align: top;\n",
       "    }\n",
       "\n",
       "    .dataframe thead th {\n",
       "        text-align: right;\n",
       "    }\n",
       "</style>\n",
       "<table border=\"1\" class=\"dataframe\">\n",
       "  <thead>\n",
       "    <tr style=\"text-align: right;\">\n",
       "      <th></th>\n",
       "      <th>playerid</th>\n",
       "      <th>player</th>\n",
       "      <th>position</th>\n",
       "      <th>nhl_likelihood</th>\n",
       "      <th>most_likely_nhl_node</th>\n",
       "      <th>most_likely_nhl_prob</th>\n",
       "      <th>nhl_floor</th>\n",
       "      <th>nhl_expected_value</th>\n",
       "      <th>nhl_ceiling</th>\n",
       "      <th>nhl_maximizing_node</th>\n",
       "      <th>nhl_ceiling_prob</th>\n",
       "      <th>graph</th>\n",
       "      <th>date_of_birth</th>\n",
       "      <th>base_year</th>\n",
       "      <th>draft_year</th>\n",
       "      <th>Projected Rate</th>\n",
       "      <th>Projected Role</th>\n",
       "      <th>Floor Rate</th>\n",
       "      <th>Ceiling Rate</th>\n",
       "      <th>season_order</th>\n",
       "      <th>height</th>\n",
       "      <th>weight</th>\n",
       "      <th>rights</th>\n",
       "      <th>nation</th>\n",
       "      <th>draft_round</th>\n",
       "      <th>draft_pick</th>\n",
       "      <th>draft_team</th>\n",
       "      <th>nhl_draft</th>\n",
       "      <th>end_year</th>\n",
       "      <th>years_post_draft</th>\n",
       "      <th>current_nhl_pts</th>\n",
       "      <th>current_nhl_gp</th>\n",
       "      <th>current_nhl_g</th>\n",
       "      <th>current_nhl_a</th>\n",
       "      <th>draft_plus_5_points</th>\n",
       "      <th>draft_plus_5_gp</th>\n",
       "      <th>draft_plus_5_g</th>\n",
       "      <th>draft_plus_5_a</th>\n",
       "      <th>primary_position</th>\n",
       "      <th>ceiling_percentile</th>\n",
       "      <th>xpick</th>\n",
       "      <th>xpick_value</th>\n",
       "      <th>value_cluster</th>\n",
       "      <th>upside_cluster</th>\n",
       "      <th>draft_value_range</th>\n",
       "      <th>draft_upside</th>\n",
       "      <th>surplus</th>\n",
       "      <th>surplus_relative</th>\n",
       "      <th>year</th>\n",
       "      <th>league</th>\n",
       "      <th>gp</th>\n",
       "      <th>g</th>\n",
       "      <th>a</th>\n",
       "      <th>tp</th>\n",
       "      <th>ppg</th>\n",
       "      <th>real_season_age</th>\n",
       "      <th>draft_plus_5_ppg</th>\n",
       "    </tr>\n",
       "  </thead>\n",
       "  <tbody>\n",
       "    <tr>\n",
       "      <th>1727</th>\n",
       "      <td>221525</td>\n",
       "      <td>Juuso Välimäki</td>\n",
       "      <td>D</td>\n",
       "      <td>0.93</td>\n",
       "      <td>22</td>\n",
       "      <td>0.27</td>\n",
       "      <td>107</td>\n",
       "      <td>64.000000</td>\n",
       "      <td>107.000000</td>\n",
       "      <td>22</td>\n",
       "      <td>0.27</td>\n",
       "      <td>{\"directed\": true, \"multigraph\": false, \"graph...</td>\n",
       "      <td>1998-10-06</td>\n",
       "      <td>DY</td>\n",
       "      <td>2017</td>\n",
       "      <td>0.32-0.49</td>\n",
       "      <td>Top 4-Top Pair</td>\n",
       "      <td>0.32</td>\n",
       "      <td>0.49</td>\n",
       "      <td>0</td>\n",
       "      <td>187.0</td>\n",
       "      <td>93.0</td>\n",
       "      <td>Calgary Flames</td>\n",
       "      <td>Finland</td>\n",
       "      <td>1</td>\n",
       "      <td>16</td>\n",
       "      <td>Calgary Flames</td>\n",
       "      <td>NaN</td>\n",
       "      <td>2017</td>\n",
       "      <td>0.0</td>\n",
       "      <td>0.000000</td>\n",
       "      <td>0.0</td>\n",
       "      <td>0.000000</td>\n",
       "      <td>0.000000</td>\n",
       "      <td>2.948066</td>\n",
       "      <td>24.0</td>\n",
       "      <td>0.982689</td>\n",
       "      <td>1.965377</td>\n",
       "      <td>D</td>\n",
       "      <td>49.088089</td>\n",
       "      <td>9.015727</td>\n",
       "      <td>44</td>\n",
       "      <td>2</td>\n",
       "      <td>2</td>\n",
       "      <td>Top 15</td>\n",
       "      <td>High End</td>\n",
       "      <td>20.000000</td>\n",
       "      <td>0.204017</td>\n",
       "      <td>2016-2017</td>\n",
       "      <td>WHL</td>\n",
       "      <td>60.0</td>\n",
       "      <td>17.960604</td>\n",
       "      <td>39.702388</td>\n",
       "      <td>57.662992</td>\n",
       "      <td>0.961050</td>\n",
       "      <td>19.24</td>\n",
       "      <td>0.122836</td>\n",
       "    </tr>\n",
       "    <tr>\n",
       "      <th>1728</th>\n",
       "      <td>221525</td>\n",
       "      <td>Juuso Välimäki</td>\n",
       "      <td>D</td>\n",
       "      <td>0.93</td>\n",
       "      <td>21</td>\n",
       "      <td>0.29</td>\n",
       "      <td>108</td>\n",
       "      <td>66.000000</td>\n",
       "      <td>109.000000</td>\n",
       "      <td>21</td>\n",
       "      <td>0.29</td>\n",
       "      <td>{\"directed\": true, \"multigraph\": false, \"graph...</td>\n",
       "      <td>1998-10-06</td>\n",
       "      <td>D + 1</td>\n",
       "      <td>2017</td>\n",
       "      <td>0.32-0.49</td>\n",
       "      <td>Top 4-Top Pair</td>\n",
       "      <td>0.32</td>\n",
       "      <td>0.49</td>\n",
       "      <td>1</td>\n",
       "      <td>187.0</td>\n",
       "      <td>93.0</td>\n",
       "      <td>Calgary Flames</td>\n",
       "      <td>Finland</td>\n",
       "      <td>1</td>\n",
       "      <td>16</td>\n",
       "      <td>Calgary Flames</td>\n",
       "      <td>NaN</td>\n",
       "      <td>2018</td>\n",
       "      <td>1.0</td>\n",
       "      <td>0.000000</td>\n",
       "      <td>0.0</td>\n",
       "      <td>0.000000</td>\n",
       "      <td>0.000000</td>\n",
       "      <td>2.948066</td>\n",
       "      <td>24.0</td>\n",
       "      <td>0.982689</td>\n",
       "      <td>1.965377</td>\n",
       "      <td>D</td>\n",
       "      <td>49.088089</td>\n",
       "      <td>8.434855</td>\n",
       "      <td>44</td>\n",
       "      <td>2</td>\n",
       "      <td>2</td>\n",
       "      <td>Top 15</td>\n",
       "      <td>High End</td>\n",
       "      <td>22.000000</td>\n",
       "      <td>0.224419</td>\n",
       "      <td>2017-2018</td>\n",
       "      <td>WHL</td>\n",
       "      <td>43.0</td>\n",
       "      <td>12.964640</td>\n",
       "      <td>28.707416</td>\n",
       "      <td>41.672056</td>\n",
       "      <td>0.969118</td>\n",
       "      <td>20.24</td>\n",
       "      <td>0.122836</td>\n",
       "    </tr>\n",
       "    <tr>\n",
       "      <th>1729</th>\n",
       "      <td>221525</td>\n",
       "      <td>Juuso Välimäki</td>\n",
       "      <td>D</td>\n",
       "      <td>0.92</td>\n",
       "      <td>7</td>\n",
       "      <td>0.60</td>\n",
       "      <td>75</td>\n",
       "      <td>56.948066</td>\n",
       "      <td>77.948066</td>\n",
       "      <td>7</td>\n",
       "      <td>0.60</td>\n",
       "      <td>{\"directed\": true, \"multigraph\": false, \"graph...</td>\n",
       "      <td>1998-10-06</td>\n",
       "      <td>D + 2</td>\n",
       "      <td>2017</td>\n",
       "      <td>0.31-0.42</td>\n",
       "      <td>Top 4</td>\n",
       "      <td>0.31</td>\n",
       "      <td>0.42</td>\n",
       "      <td>2</td>\n",
       "      <td>187.0</td>\n",
       "      <td>93.0</td>\n",
       "      <td>Calgary Flames</td>\n",
       "      <td>Finland</td>\n",
       "      <td>1</td>\n",
       "      <td>16</td>\n",
       "      <td>Calgary Flames</td>\n",
       "      <td>NaN</td>\n",
       "      <td>2019</td>\n",
       "      <td>2.0</td>\n",
       "      <td>2.948066</td>\n",
       "      <td>24.0</td>\n",
       "      <td>0.982689</td>\n",
       "      <td>1.965377</td>\n",
       "      <td>2.948066</td>\n",
       "      <td>24.0</td>\n",
       "      <td>0.982689</td>\n",
       "      <td>1.965377</td>\n",
       "      <td>D</td>\n",
       "      <td>99.327791</td>\n",
       "      <td>11.223566</td>\n",
       "      <td>44</td>\n",
       "      <td>2</td>\n",
       "      <td>4</td>\n",
       "      <td>Top 15</td>\n",
       "      <td>Mid End</td>\n",
       "      <td>12.948066</td>\n",
       "      <td>0.132082</td>\n",
       "      <td>2018-2019</td>\n",
       "      <td>NHL</td>\n",
       "      <td>24.0</td>\n",
       "      <td>0.982689</td>\n",
       "      <td>1.965377</td>\n",
       "      <td>2.948066</td>\n",
       "      <td>0.122836</td>\n",
       "      <td>21.24</td>\n",
       "      <td>0.122836</td>\n",
       "    </tr>\n",
       "  </tbody>\n",
       "</table>\n",
       "</div>"
      ],
      "text/plain": [
       "      playerid          player position  nhl_likelihood  most_likely_nhl_node  most_likely_nhl_prob  nhl_floor  nhl_expected_value  nhl_ceiling  ...       year  league    gp          g          a         tp       ppg real_season_age  draft_plus_5_ppg\n",
       "1727    221525  Juuso Välimäki        D            0.93                    22                  0.27        107           64.000000   107.000000  ...  2016-2017     WHL  60.0  17.960604  39.702388  57.662992  0.961050           19.24          0.122836\n",
       "1728    221525  Juuso Välimäki        D            0.93                    21                  0.29        108           66.000000   109.000000  ...  2017-2018     WHL  43.0  12.964640  28.707416  41.672056  0.969118           20.24          0.122836\n",
       "1729    221525  Juuso Välimäki        D            0.92                     7                  0.60         75           56.948066    77.948066  ...  2018-2019     NHL  24.0   0.982689   1.965377   2.948066  0.122836           21.24          0.122836\n",
       "\n",
       "[3 rows x 57 columns]"
      ]
     },
     "execution_count": 211,
     "metadata": {},
     "output_type": "execute_result"
    }
   ],
   "source": [
    "df[df.player.str.contains('Juuso Välimäki')]"
   ]
  },
  {
   "cell_type": "code",
   "execution_count": 158,
   "metadata": {},
   "outputs": [],
   "source": []
  },
  {
   "cell_type": "code",
   "execution_count": 159,
   "metadata": {},
   "outputs": [
    {
     "data": {
      "text/html": [
       "<div>\n",
       "<style scoped>\n",
       "    .dataframe tbody tr th:only-of-type {\n",
       "        vertical-align: middle;\n",
       "    }\n",
       "\n",
       "    .dataframe tbody tr th {\n",
       "        vertical-align: top;\n",
       "    }\n",
       "\n",
       "    .dataframe thead th {\n",
       "        text-align: right;\n",
       "    }\n",
       "</style>\n",
       "<table border=\"1\" class=\"dataframe\">\n",
       "  <thead>\n",
       "    <tr style=\"text-align: right;\">\n",
       "      <th></th>\n",
       "      <th>D</th>\n",
       "      <th>F</th>\n",
       "    </tr>\n",
       "  </thead>\n",
       "  <tbody>\n",
       "    <tr>\n",
       "      <th>nhl_likelihood</th>\n",
       "      <td>2.87</td>\n",
       "      <td>4.05</td>\n",
       "    </tr>\n",
       "    <tr>\n",
       "      <th>Ceiling Rate</th>\n",
       "      <td>0.31</td>\n",
       "      <td>0.39</td>\n",
       "    </tr>\n",
       "    <tr>\n",
       "      <th>surplus</th>\n",
       "      <td>44.77</td>\n",
       "      <td>-98.64</td>\n",
       "    </tr>\n",
       "    <tr>\n",
       "      <th>prospect_quantity_rank</th>\n",
       "      <td>4.00</td>\n",
       "      <td>13.00</td>\n",
       "    </tr>\n",
       "    <tr>\n",
       "      <th>prospect_quality_rank</th>\n",
       "      <td>7.00</td>\n",
       "      <td>16.00</td>\n",
       "    </tr>\n",
       "    <tr>\n",
       "      <th>prospect_surplus_rank</th>\n",
       "      <td>13.00</td>\n",
       "      <td>26.00</td>\n",
       "    </tr>\n",
       "  </tbody>\n",
       "</table>\n",
       "</div>"
      ],
      "text/plain": [
       "                            D      F\n",
       "nhl_likelihood           2.87   4.05\n",
       "Ceiling Rate             0.31   0.39\n",
       "surplus                 44.77 -98.64\n",
       "prospect_quantity_rank   4.00  13.00\n",
       "prospect_quality_rank    7.00  16.00\n",
       "prospect_surplus_rank   13.00  26.00"
      ]
     },
     "execution_count": 159,
     "metadata": {},
     "output_type": "execute_result"
    }
   ],
   "source": [
    "team_summary"
   ]
  },
  {
   "cell_type": "code",
   "execution_count": 178,
   "metadata": {},
   "outputs": [],
   "source": []
  },
  {
   "cell_type": "markdown",
   "metadata": {},
   "source": [
    "### Team Avg Draft Position Matrix "
   ]
  },
  {
   "cell_type": "code",
   "execution_count": 73,
   "metadata": {},
   "outputs": [
    {
     "data": {
      "text/html": [
       "<div>\n",
       "<style scoped>\n",
       "    .dataframe tbody tr th:only-of-type {\n",
       "        vertical-align: middle;\n",
       "    }\n",
       "\n",
       "    .dataframe tbody tr th {\n",
       "        vertical-align: top;\n",
       "    }\n",
       "\n",
       "    .dataframe thead th {\n",
       "        text-align: right;\n",
       "    }\n",
       "</style>\n",
       "<table border=\"1\" class=\"dataframe\">\n",
       "  <thead>\n",
       "    <tr style=\"text-align: right;\">\n",
       "      <th>draft_round</th>\n",
       "      <th>1</th>\n",
       "      <th>2</th>\n",
       "      <th>3</th>\n",
       "      <th>4</th>\n",
       "      <th>5</th>\n",
       "      <th>6</th>\n",
       "      <th>7</th>\n",
       "    </tr>\n",
       "    <tr>\n",
       "      <th>draft_team</th>\n",
       "      <th></th>\n",
       "      <th></th>\n",
       "      <th></th>\n",
       "      <th></th>\n",
       "      <th></th>\n",
       "      <th></th>\n",
       "      <th></th>\n",
       "    </tr>\n",
       "  </thead>\n",
       "  <tbody>\n",
       "    <tr>\n",
       "      <th>Anaheim Ducks</th>\n",
       "      <td>21</td>\n",
       "      <td>48</td>\n",
       "      <td>82</td>\n",
       "      <td>107</td>\n",
       "      <td>134</td>\n",
       "      <td>172</td>\n",
       "      <td>200</td>\n",
       "    </tr>\n",
       "    <tr>\n",
       "      <th>Arizona Coyotes</th>\n",
       "      <td>14</td>\n",
       "      <td>42</td>\n",
       "      <td>74</td>\n",
       "      <td>106</td>\n",
       "      <td>133</td>\n",
       "      <td>168</td>\n",
       "      <td>196</td>\n",
       "    </tr>\n",
       "    <tr>\n",
       "      <th>Atlanta Thrashers</th>\n",
       "      <td>8</td>\n",
       "      <td>0</td>\n",
       "      <td>87</td>\n",
       "      <td>101</td>\n",
       "      <td>150</td>\n",
       "      <td>161</td>\n",
       "      <td>199</td>\n",
       "    </tr>\n",
       "    <tr>\n",
       "      <th>Boston Bruins</th>\n",
       "      <td>16</td>\n",
       "      <td>47</td>\n",
       "      <td>85</td>\n",
       "      <td>112</td>\n",
       "      <td>142</td>\n",
       "      <td>173</td>\n",
       "      <td>203</td>\n",
       "    </tr>\n",
       "    <tr>\n",
       "      <th>Buffalo Sabres</th>\n",
       "      <td>11</td>\n",
       "      <td>41</td>\n",
       "      <td>76</td>\n",
       "      <td>100</td>\n",
       "      <td>132</td>\n",
       "      <td>159</td>\n",
       "      <td>193</td>\n",
       "    </tr>\n",
       "    <tr>\n",
       "      <th>Calgary Flames</th>\n",
       "      <td>15</td>\n",
       "      <td>52</td>\n",
       "      <td>69</td>\n",
       "      <td>106</td>\n",
       "      <td>133</td>\n",
       "      <td>166</td>\n",
       "      <td>192</td>\n",
       "    </tr>\n",
       "    <tr>\n",
       "      <th>Carolina Hurricanes</th>\n",
       "      <td>11</td>\n",
       "      <td>43</td>\n",
       "      <td>72</td>\n",
       "      <td>104</td>\n",
       "      <td>133</td>\n",
       "      <td>166</td>\n",
       "      <td>193</td>\n",
       "    </tr>\n",
       "    <tr>\n",
       "      <th>Chicago Blackhawks</th>\n",
       "      <td>21</td>\n",
       "      <td>47</td>\n",
       "      <td>79</td>\n",
       "      <td>113</td>\n",
       "      <td>143</td>\n",
       "      <td>173</td>\n",
       "      <td>204</td>\n",
       "    </tr>\n",
       "    <tr>\n",
       "      <th>Colorado Avalanche</th>\n",
       "      <td>10</td>\n",
       "      <td>38</td>\n",
       "      <td>74</td>\n",
       "      <td>99</td>\n",
       "      <td>134</td>\n",
       "      <td>161</td>\n",
       "      <td>191</td>\n",
       "    </tr>\n",
       "    <tr>\n",
       "      <th>Columbus Blue Jackets</th>\n",
       "      <td>14</td>\n",
       "      <td>44</td>\n",
       "      <td>74</td>\n",
       "      <td>103</td>\n",
       "      <td>134</td>\n",
       "      <td>163</td>\n",
       "      <td>195</td>\n",
       "    </tr>\n",
       "    <tr>\n",
       "      <th>Dallas Stars</th>\n",
       "      <td>16</td>\n",
       "      <td>46</td>\n",
       "      <td>77</td>\n",
       "      <td>106</td>\n",
       "      <td>137</td>\n",
       "      <td>166</td>\n",
       "      <td>191</td>\n",
       "    </tr>\n",
       "    <tr>\n",
       "      <th>Detroit Red Wings</th>\n",
       "      <td>17</td>\n",
       "      <td>47</td>\n",
       "      <td>75</td>\n",
       "      <td>107</td>\n",
       "      <td>139</td>\n",
       "      <td>168</td>\n",
       "      <td>198</td>\n",
       "    </tr>\n",
       "    <tr>\n",
       "      <th>Edmonton Oilers</th>\n",
       "      <td>7</td>\n",
       "      <td>39</td>\n",
       "      <td>78</td>\n",
       "      <td>101</td>\n",
       "      <td>132</td>\n",
       "      <td>160</td>\n",
       "      <td>197</td>\n",
       "    </tr>\n",
       "    <tr>\n",
       "      <th>Florida Panthers</th>\n",
       "      <td>12</td>\n",
       "      <td>39</td>\n",
       "      <td>79</td>\n",
       "      <td>101</td>\n",
       "      <td>130</td>\n",
       "      <td>166</td>\n",
       "      <td>196</td>\n",
       "    </tr>\n",
       "    <tr>\n",
       "      <th>Los Angeles Kings</th>\n",
       "      <td>19</td>\n",
       "      <td>47</td>\n",
       "      <td>79</td>\n",
       "      <td>111</td>\n",
       "      <td>142</td>\n",
       "      <td>168</td>\n",
       "      <td>200</td>\n",
       "    </tr>\n",
       "    <tr>\n",
       "      <th>Minnesota Wild</th>\n",
       "      <td>16</td>\n",
       "      <td>50</td>\n",
       "      <td>79</td>\n",
       "      <td>105</td>\n",
       "      <td>140</td>\n",
       "      <td>169</td>\n",
       "      <td>199</td>\n",
       "    </tr>\n",
       "    <tr>\n",
       "      <th>Montréal Canadiens</th>\n",
       "      <td>18</td>\n",
       "      <td>46</td>\n",
       "      <td>73</td>\n",
       "      <td>107</td>\n",
       "      <td>134</td>\n",
       "      <td>167</td>\n",
       "      <td>200</td>\n",
       "    </tr>\n",
       "    <tr>\n",
       "      <th>Nashville Predators</th>\n",
       "      <td>16</td>\n",
       "      <td>49</td>\n",
       "      <td>76</td>\n",
       "      <td>107</td>\n",
       "      <td>136</td>\n",
       "      <td>168</td>\n",
       "      <td>201</td>\n",
       "    </tr>\n",
       "    <tr>\n",
       "      <th>New Jersey Devils</th>\n",
       "      <td>14</td>\n",
       "      <td>44</td>\n",
       "      <td>75</td>\n",
       "      <td>102</td>\n",
       "      <td>137</td>\n",
       "      <td>162</td>\n",
       "      <td>201</td>\n",
       "    </tr>\n",
       "    <tr>\n",
       "      <th>New York Islanders</th>\n",
       "      <td>15</td>\n",
       "      <td>42</td>\n",
       "      <td>73</td>\n",
       "      <td>105</td>\n",
       "      <td>132</td>\n",
       "      <td>166</td>\n",
       "      <td>196</td>\n",
       "    </tr>\n",
       "    <tr>\n",
       "      <th>New York Rangers</th>\n",
       "      <td>16</td>\n",
       "      <td>49</td>\n",
       "      <td>77</td>\n",
       "      <td>109</td>\n",
       "      <td>135</td>\n",
       "      <td>166</td>\n",
       "      <td>203</td>\n",
       "    </tr>\n",
       "    <tr>\n",
       "      <th>Ottawa Senators</th>\n",
       "      <td>17</td>\n",
       "      <td>46</td>\n",
       "      <td>74</td>\n",
       "      <td>105</td>\n",
       "      <td>134</td>\n",
       "      <td>168</td>\n",
       "      <td>193</td>\n",
       "    </tr>\n",
       "    <tr>\n",
       "      <th>Philadelphia Flyers</th>\n",
       "      <td>16</td>\n",
       "      <td>43</td>\n",
       "      <td>78</td>\n",
       "      <td>110</td>\n",
       "      <td>137</td>\n",
       "      <td>170</td>\n",
       "      <td>201</td>\n",
       "    </tr>\n",
       "    <tr>\n",
       "      <th>Phoenix Coyotes</th>\n",
       "      <td>17</td>\n",
       "      <td>52</td>\n",
       "      <td>79</td>\n",
       "      <td>110</td>\n",
       "      <td>139</td>\n",
       "      <td>165</td>\n",
       "      <td>196</td>\n",
       "    </tr>\n",
       "    <tr>\n",
       "      <th>Pittsburgh Penguins</th>\n",
       "      <td>19</td>\n",
       "      <td>54</td>\n",
       "      <td>81</td>\n",
       "      <td>109</td>\n",
       "      <td>145</td>\n",
       "      <td>172</td>\n",
       "      <td>207</td>\n",
       "    </tr>\n",
       "    <tr>\n",
       "      <th>San Jose Sharks</th>\n",
       "      <td>20</td>\n",
       "      <td>49</td>\n",
       "      <td>83</td>\n",
       "      <td>106</td>\n",
       "      <td>139</td>\n",
       "      <td>173</td>\n",
       "      <td>200</td>\n",
       "    </tr>\n",
       "    <tr>\n",
       "      <th>St. Louis Blues</th>\n",
       "      <td>22</td>\n",
       "      <td>46</td>\n",
       "      <td>80</td>\n",
       "      <td>110</td>\n",
       "      <td>133</td>\n",
       "      <td>171</td>\n",
       "      <td>202</td>\n",
       "    </tr>\n",
       "    <tr>\n",
       "      <th>Tampa Bay Lightning</th>\n",
       "      <td>16</td>\n",
       "      <td>47</td>\n",
       "      <td>74</td>\n",
       "      <td>115</td>\n",
       "      <td>148</td>\n",
       "      <td>169</td>\n",
       "      <td>200</td>\n",
       "    </tr>\n",
       "    <tr>\n",
       "      <th>Toronto Maple Leafs</th>\n",
       "      <td>14</td>\n",
       "      <td>47</td>\n",
       "      <td>74</td>\n",
       "      <td>108</td>\n",
       "      <td>136</td>\n",
       "      <td>162</td>\n",
       "      <td>196</td>\n",
       "    </tr>\n",
       "    <tr>\n",
       "      <th>Vancouver Canucks</th>\n",
       "      <td>16</td>\n",
       "      <td>46</td>\n",
       "      <td>71</td>\n",
       "      <td>113</td>\n",
       "      <td>142</td>\n",
       "      <td>173</td>\n",
       "      <td>198</td>\n",
       "    </tr>\n",
       "    <tr>\n",
       "      <th>Vegas Golden Knights</th>\n",
       "      <td>13</td>\n",
       "      <td>50</td>\n",
       "      <td>74</td>\n",
       "      <td>107</td>\n",
       "      <td>139</td>\n",
       "      <td>173</td>\n",
       "      <td>202</td>\n",
       "    </tr>\n",
       "    <tr>\n",
       "      <th>Washington Capitals</th>\n",
       "      <td>21</td>\n",
       "      <td>54</td>\n",
       "      <td>86</td>\n",
       "      <td>111</td>\n",
       "      <td>144</td>\n",
       "      <td>171</td>\n",
       "      <td>203</td>\n",
       "    </tr>\n",
       "    <tr>\n",
       "      <th>Winnipeg Jets</th>\n",
       "      <td>14</td>\n",
       "      <td>46</td>\n",
       "      <td>77</td>\n",
       "      <td>107</td>\n",
       "      <td>140</td>\n",
       "      <td>163</td>\n",
       "      <td>199</td>\n",
       "    </tr>\n",
       "  </tbody>\n",
       "</table>\n",
       "</div>"
      ],
      "text/plain": [
       "draft_round             1   2   3    4    5    6    7\n",
       "draft_team                                           \n",
       "Anaheim Ducks          21  48  82  107  134  172  200\n",
       "Arizona Coyotes        14  42  74  106  133  168  196\n",
       "Atlanta Thrashers       8   0  87  101  150  161  199\n",
       "Boston Bruins          16  47  85  112  142  173  203\n",
       "Buffalo Sabres         11  41  76  100  132  159  193\n",
       "Calgary Flames         15  52  69  106  133  166  192\n",
       "Carolina Hurricanes    11  43  72  104  133  166  193\n",
       "Chicago Blackhawks     21  47  79  113  143  173  204\n",
       "Colorado Avalanche     10  38  74   99  134  161  191\n",
       "Columbus Blue Jackets  14  44  74  103  134  163  195\n",
       "Dallas Stars           16  46  77  106  137  166  191\n",
       "Detroit Red Wings      17  47  75  107  139  168  198\n",
       "Edmonton Oilers         7  39  78  101  132  160  197\n",
       "Florida Panthers       12  39  79  101  130  166  196\n",
       "Los Angeles Kings      19  47  79  111  142  168  200\n",
       "Minnesota Wild         16  50  79  105  140  169  199\n",
       "Montréal Canadiens     18  46  73  107  134  167  200\n",
       "Nashville Predators    16  49  76  107  136  168  201\n",
       "New Jersey Devils      14  44  75  102  137  162  201\n",
       "New York Islanders     15  42  73  105  132  166  196\n",
       "New York Rangers       16  49  77  109  135  166  203\n",
       "Ottawa Senators        17  46  74  105  134  168  193\n",
       "Philadelphia Flyers    16  43  78  110  137  170  201\n",
       "Phoenix Coyotes        17  52  79  110  139  165  196\n",
       "Pittsburgh Penguins    19  54  81  109  145  172  207\n",
       "San Jose Sharks        20  49  83  106  139  173  200\n",
       "St. Louis Blues        22  46  80  110  133  171  202\n",
       "Tampa Bay Lightning    16  47  74  115  148  169  200\n",
       "Toronto Maple Leafs    14  47  74  108  136  162  196\n",
       "Vancouver Canucks      16  46  71  113  142  173  198\n",
       "Vegas Golden Knights   13  50  74  107  139  173  202\n",
       "Washington Capitals    21  54  86  111  144  171  203\n",
       "Winnipeg Jets          14  46  77  107  140  163  199"
      ]
     },
     "execution_count": 73,
     "metadata": {},
     "output_type": "execute_result"
    }
   ],
   "source": [
    "df[df.draft_year >= 2010].groupby(['draft_team', 'draft_round'])['draft_pick'].mean().unstack(1).fillna(0).round(0).astype(int)"
   ]
  },
  {
   "cell_type": "markdown",
   "metadata": {},
   "source": [
    "### Dash Page"
   ]
  },
  {
   "cell_type": "markdown",
   "metadata": {},
   "source": [
    "### creating div"
   ]
  },
  {
   "cell_type": "code",
   "execution_count": 1,
   "metadata": {},
   "outputs": [],
   "source": [
    "import sys\n",
    "import pandas as pd\n",
    "\n",
    "sys.path.append('../../apple-model-app/')\n",
    "\n",
    "from helpers import *"
   ]
  },
  {
   "cell_type": "code",
   "execution_count": 251,
   "metadata": {},
   "outputs": [],
   "source": [
    "def get_logo(team, size=60):\n",
    "\n",
    "    from unidecode import unidecode\n",
    "    import json\n",
    "\n",
    "    # load team logos\n",
    "    teams = json.load(open('../../apple-model-app/assets/team-styles.json'))\n",
    "\n",
    "    try:\n",
    "        logo = teams[unidecode(team)]['logo']\n",
    "\n",
    "    except:\n",
    "        logo = None \n",
    "\n",
    "    return logo\n",
    "\n",
    "def get_logo_dims(team, size=60):\n",
    "\n",
    "    from unidecode import unidecode\n",
    "    import json\n",
    "\n",
    "    # load team logos\n",
    "    teams = json.load(open('../../apple-model-app/assets/team-styles.json'))\n",
    "\n",
    "    try:\n",
    "        logo = teams[unidecode(team)]['logo']\n",
    "        _, (width, height) = getsizes(logo)\n",
    "        \n",
    "        if  height >= width:\n",
    "            width = (width / height) * size\n",
    "            height = (height / height) * size\n",
    "        else:\n",
    "            height = (height / width) * size\n",
    "            width = (width / width) * size    \n",
    "    except:\n",
    "        logo = None \n",
    "        width = size\n",
    "        height = size\n",
    "\n",
    "    return {'height' : f\"{height}px\", 'width' : f\"{width}px\"}\n"
   ]
  },
  {
   "cell_type": "code",
   "execution_count": 187,
   "metadata": {},
   "outputs": [],
   "source": [
    "table = dash_table.DataTable(\n",
    "            id='team-summary-table',\n",
    "            columns=[{'id' : c , 'name' : c} for c in team_summary.columns],\n",
    "            data=team_summary.to_dict(\"records\"),\n",
    "            style_table={\n",
    "                'width': '98%', # both are needed to make virtualization table fill screen\n",
    "                'maxWidth' : '100%',\n",
    "                'padding-left' : '2%',\n",
    "                'height': '98%', # both are needed to make virtualization table fill screen\n",
    "                'maxHeight' : '100%',\n",
    "            },\n",
    "            style_cell={\n",
    "                \"textAlign\": \"center\",\n",
    "                \"border\": \"4px solid white\",\n",
    "                \"color\"  : 'black',\n",
    "                \"minWidth\": \"40%\",\n",
    "                \"minHeight\": \"200px\",\n",
    "                \"maxHeight\": \"200px\",\n",
    "                \"maxWidth\": \"40%\",\n",
    "            },\n",
    "        )\n"
   ]
  },
  {
   "cell_type": "code",
   "execution_count": 188,
   "metadata": {},
   "outputs": [
    {
     "name": "stdout",
     "output_type": "stream",
     "text": [
      "Dash app running on http://127.0.0.1:7777/\n"
     ]
    }
   ],
   "source": [
    "from jupyter_dash import JupyterDash\n",
    "import dash_core_components as dcc\n",
    "import dash_html_components as html\n",
    "import dash_bootstrap_components as dbc\n",
    "\n",
    "app = JupyterDash(__name__)\n",
    "app.layout = html.Div(\n",
    "    children=[\n",
    "        table,\n",
    "    ],\n",
    "    style={'height': '60vh', 'width' : '33vw'}\n",
    ")\n",
    "\n",
    "if __name__ == '__main__':\n",
    "    app.run_server( port='7777')"
   ]
  },
  {
   "cell_type": "markdown",
   "metadata": {},
   "source": [
    "### Extras"
   ]
  },
  {
   "cell_type": "code",
   "execution_count": null,
   "metadata": {},
   "outputs": [],
   "source": [
    "### gets team primary colours and logos\n",
    "import requests\n",
    "from bs4 import BeautifulSoup\n",
    "import webbrowser\n",
    "from unidecode import unidecode\n",
    "\n",
    "team_colors = {}\n",
    "team_logos = {}\n",
    "    \n",
    "for team in player_value.rights.dropna().unique():\n",
    "    \n",
    "    team = unidecode(team)\n",
    "    \n",
    "    team_url = team.lower().replace(' ', '-')\n",
    "\n",
    "    url = f'https://teamcolorcodes.com/{team_url}-color-codes/'\n",
    "    \n",
    "    r = requests.get(url)\n",
    "    if r.status_code == 404:\n",
    "        url = url.strip('-codes/') + 's'\n",
    "        r = requests.get(url)\n",
    "    \n",
    "    soup = BeautifulSoup(r.text, 'html.parser')\n",
    "    \n",
    "    for i, div in enumerate(soup.find_all('div', class_='colorblock')):\n",
    "        if i == 0:\n",
    "            color = div['style'].split('background-color: ', maxsplit=1)[1].split(';', maxsplit=1)[0]\n",
    "            team_colors[team] = color\n",
    "            break\n",
    "            \n",
    "    soup = BeautifulSoup(r.text, 'html.parser')\n",
    "    for img in soup.find_all('img', {'class':['aligncenter', 'size-full', 'alignnone', 'size-medium']}):\n",
    "        team_logos[team] = img['src']\n",
    "        webbrowser.open(img['src'])\n",
    "        break\n",
    "teams = {unidecode(team) : {'color' : team_colors[ unidecode(team)],\n",
    "                    'logo' : team_logos[ unidecode(team)]} for team in player_value.rights.dropna().unique()} \n",
    "\n",
    "teams['Seattle Kraken'] = {\n",
    "    'logo': 'https://upload.wikimedia.org/wikipedia/en/thumb/4/48/Seattle_Kraken_official_logo.svg/1200px-Seattle_Kraken_official_logo.svg.png',\n",
    "    'color' : '#001628'\n",
    "}\n",
    "\n",
    "import json\n",
    "\n",
    "with open('../../apple-model-app/assets/team-styles.json', 'w') as f:\n",
    "    json.dump(teams, f )"
   ]
  },
  {
   "cell_type": "code",
   "execution_count": 5,
   "metadata": {},
   "outputs": [
    {
     "name": "stdout",
     "output_type": "stream",
     "text": [
      "102.0851240158081\n"
     ]
    }
   ],
   "source": [
    "import time\n",
    "\n",
    "start = time.time()\n",
    "d = get_s3_data('data/projections.csv')\n",
    "print(time.time() - start)"
   ]
  },
  {
   "cell_type": "code",
   "execution_count": 6,
   "metadata": {},
   "outputs": [],
   "source": [
    "db_user, db_pass, db_host, db_name = os.environ['db_user'], os.environ['db_pass'], os.environ['db_host'], os.environ['db_name']\n",
    "engine = create_engine(f'postgresql://{db_user}:{db_pass}@{db_host}:5432/{db_name}')"
   ]
  },
  {
   "cell_type": "code",
   "execution_count": 8,
   "metadata": {},
   "outputs": [
    {
     "name": "stdout",
     "output_type": "stream",
     "text": [
      "70.26026892662048\n"
     ]
    }
   ],
   "source": [
    "start = time.time()\n",
    "projections = pd.read_sql(f'''select * from projections''', con=engine)\n",
    "print(time.time() - start)"
   ]
  },
  {
   "cell_type": "code",
   "execution_count": 10,
   "metadata": {},
   "outputs": [
    {
     "name": "stderr",
     "output_type": "stream",
     "text": [
      "/Users/connorjung/.pyenv/versions/apple/lib/python3.7/site-packages/IPython/core/interactiveshell.py:3146: DtypeWarning: Columns (33) have mixed types.Specify dtype option on import or set low_memory=False.\n",
      "  interactivity=interactivity, compiler=compiler, result=result)\n"
     ]
    }
   ],
   "source": [
    "dataset = pd.read_csv('../data/player_season_stats_v2.csv')"
   ]
  },
  {
   "cell_type": "code",
   "execution_count": 11,
   "metadata": {},
   "outputs": [
    {
     "data": {
      "text/plain": [
       "(170337, 43)"
      ]
     },
     "execution_count": 11,
     "metadata": {},
     "output_type": "execute_result"
    }
   ],
   "source": [
    "dataset.shape"
   ]
  },
  {
   "cell_type": "markdown",
   "metadata": {},
   "source": [
    "\n",
    "### Adding WJC"
   ]
  },
  {
   "cell_type": "code",
   "execution_count": 293,
   "metadata": {},
   "outputs": [],
   "source": [
    "teams = json.load(open('../../apple-model-app/assets/team-styles.json'))"
   ]
  },
  {
   "cell_type": "code",
   "execution_count": 254,
   "metadata": {},
   "outputs": [],
   "source": [
    "rosters = pd.read_csv('../../apple-model-app/data/wjc-rosters.csv')"
   ]
  },
  {
   "cell_type": "code",
   "execution_count": 251,
   "metadata": {},
   "outputs": [],
   "source": [
    "teams['AUS'] = {'logo' : 'https://cdn.countryflags.com/thumbs/austria/flag-800.png'}\n",
    "teams['CAN'] = {'logo' : 'https://cdn.countryflags.com/thumbs/canada/flag-800.png'}\n",
    "teams['CZE'] = {'logo' : 'https://cdn.countryflags.com/thumbs/czech-republic/flag-800.png'}\n",
    "teams['FIN'] = {'logo' : 'https://cdn.countryflags.com/thumbs/finland/flag-800.png'}\n",
    "teams['GER'] = {'logo' : 'https://cdn.countryflags.com/thumbs/germany/flag-800.png'}\n",
    "teams['RUS'] = {'logo' : 'https://cdn.countryflags.com/thumbs/russia/flag-800.png'}\n",
    "teams['SLO'] = {'logo' : 'https://cdn.countryflags.com/thumbs/slovakia/flag-800.png'}\n",
    "teams['SWE'] = {'logo' : 'https://cdn.countryflags.com/thumbs/sweden/flag-800.png'}\n",
    "teams['SWI'] = {'logo' : 'https://cdn.countryflags.com/thumbs/switzerland/flag-800.png'}\n",
    "teams['USA'] = {'logo' : 'https://cdn.countryflags.com/thumbs/united-states-of-america/flag-800.png'}"
   ]
  },
  {
   "cell_type": "code",
   "execution_count": 260,
   "metadata": {},
   "outputs": [],
   "source": [
    "styles = dict(\n",
    "    wjc= {k : v for k, v in teams.items() if k in rosters.team.unique()} ,\n",
    "    nhl= {k : v for k, v in teams.items() if k not in rosters.team.unique()}\n",
    ")"
   ]
  },
  {
   "cell_type": "code",
   "execution_count": 263,
   "metadata": {},
   "outputs": [],
   "source": [
    "with open('../../apple-model-app/assets/team-styles.json', 'w') as f:\n",
    "    json.dump(styles, f )"
   ]
  },
  {
   "cell_type": "code",
   "execution_count": 280,
   "metadata": {},
   "outputs": [],
   "source": [
    "url = 'https://cdn.countryflags.com/thumbs/canada/flag-800.png'"
   ]
  },
  {
   "cell_type": "code",
   "execution_count": 296,
   "metadata": {},
   "outputs": [],
   "source": [
    "url = teams['nhl']['Vancouver Canucks']['logo']"
   ]
  },
  {
   "cell_type": "code",
   "execution_count": 310,
   "metadata": {},
   "outputs": [],
   "source": [
    "def getsizes(uri):\n",
    "    from io import BytesIO\n",
    "    from PIL import Image\n",
    "\n",
    "    image_raw = requests.get(uri)\n",
    "    image = Image.open(BytesIO(image_raw.content))\n",
    "    width, height = image.size\n",
    "\n",
    "    return width, height"
   ]
  },
  {
   "cell_type": "code",
   "execution_count": 306,
   "metadata": {},
   "outputs": [],
   "source": [
    "def get_logo_dims(team, league='nhl', size=60):\n",
    "\n",
    "    from unidecode import unidecode\n",
    "    import json\n",
    "\n",
    "    # load team logos\n",
    "    teams = json.load(open('../../apple-model-app/assets/team-styles.json'))\n",
    "\n",
    "#     try:\n",
    "    logo = teams[league][unidecode(team)]['logo']\n",
    "    width, height = getsizes(logo)\n",
    "\n",
    "    if  height >= width:\n",
    "        width = (width / height) * size\n",
    "        height = (height / height) * size\n",
    "    else:\n",
    "        height = (height / width) * size\n",
    "        width = (width / width) * size    \n",
    "\n",
    "    return {'height' : f\"{height}px\", 'width' : f\"{width}px\"}"
   ]
  },
  {
   "cell_type": "code",
   "execution_count": 315,
   "metadata": {},
   "outputs": [
    {
     "data": {
      "text/plain": [
       "(1200, 676)"
      ]
     },
     "execution_count": 315,
     "metadata": {},
     "output_type": "execute_result"
    }
   ],
   "source": [
    "url = 'https://upload.wikimedia.org/wikipedia/en/thumb/7/72/Anaheim_Ducks.svg/1200px-Anaheim_Ducks.svg.png'\n",
    "getsizes(url)"
   ]
  },
  {
   "cell_type": "code",
   "execution_count": 316,
   "metadata": {},
   "outputs": [
    {
     "data": {
      "text/plain": [
       "{'height': '33.800000000000004px', 'width': '60.0px'}"
      ]
     },
     "execution_count": 316,
     "metadata": {},
     "output_type": "execute_result"
    }
   ],
   "source": [
    "get_logo_dims('Anaheim Ducks')"
   ]
  },
  {
   "cell_type": "markdown",
   "metadata": {},
   "source": [
    "### Team Pipeline roster"
   ]
  },
  {
   "cell_type": "code",
   "execution_count": 9,
   "metadata": {},
   "outputs": [],
   "source": [
    "import sys\n",
    "\n",
    "sys.path.append('../../apple-model-app/')\n",
    "from helpers import *\n"
   ]
  },
  {
   "cell_type": "code",
   "execution_count": 108,
   "metadata": {},
   "outputs": [
    {
     "ename": "KeyError",
     "evalue": "'position_count'",
     "output_type": "error",
     "traceback": [
      "\u001b[0;31m---------------------------------------------------------------------------\u001b[0m",
      "\u001b[0;31mKeyError\u001b[0m                                  Traceback (most recent call last)",
      "\u001b[0;32m<ipython-input-108-468fa2cab133>\u001b[0m in \u001b[0;36m<module>\u001b[0;34m\u001b[0m\n\u001b[0;32m----> 1\u001b[0;31m \u001b[0mget_forward_ids\u001b[0m\u001b[0;34m(\u001b[0m\u001b[0mpipeline\u001b[0m\u001b[0;34m)\u001b[0m\u001b[0;34m\u001b[0m\u001b[0;34m\u001b[0m\u001b[0m\n\u001b[0m",
      "\u001b[0;32m~/analytics/apple-model-app/helpers.py\u001b[0m in \u001b[0;36mget_forward_ids\u001b[0;34m(team_roster)\u001b[0m\n\u001b[1;32m    669\u001b[0m     \u001b[0mforwards\u001b[0m \u001b[0;34m=\u001b[0m \u001b[0mteam_roster\u001b[0m\u001b[0;34m[\u001b[0m\u001b[0mteam_roster\u001b[0m\u001b[0;34m.\u001b[0m\u001b[0mposition\u001b[0m \u001b[0;34m==\u001b[0m \u001b[0;34m'F'\u001b[0m\u001b[0;34m]\u001b[0m\u001b[0;34m\u001b[0m\u001b[0;34m\u001b[0m\u001b[0m\n\u001b[1;32m    670\u001b[0m \u001b[0;34m\u001b[0m\u001b[0m\n\u001b[0;32m--> 671\u001b[0;31m     \u001b[0mleft_wing\u001b[0m \u001b[0;34m=\u001b[0m \u001b[0;34m[\u001b[0m\u001b[0mf\u001b[0m\u001b[0;34m[\u001b[0m\u001b[0;34m'playerid'\u001b[0m\u001b[0;34m]\u001b[0m \u001b[0;32mfor\u001b[0m \u001b[0mf\u001b[0m \u001b[0;32min\u001b[0m \u001b[0mforwards\u001b[0m\u001b[0;34m.\u001b[0m\u001b[0mto_dict\u001b[0m\u001b[0;34m(\u001b[0m\u001b[0;34m'records'\u001b[0m\u001b[0;34m)\u001b[0m \u001b[0;32mif\u001b[0m \u001b[0;34m(\u001b[0m\u001b[0mf\u001b[0m\u001b[0;34m[\u001b[0m\u001b[0;34m'position_count'\u001b[0m\u001b[0;34m]\u001b[0m \u001b[0;34m==\u001b[0m \u001b[0;36m1\u001b[0m\u001b[0;34m)\u001b[0m \u001b[0;34m&\u001b[0m \u001b[0;34m(\u001b[0m\u001b[0;34m'LW'\u001b[0m \u001b[0;32min\u001b[0m \u001b[0mf\u001b[0m\u001b[0;34m[\u001b[0m\u001b[0;34m'positions'\u001b[0m\u001b[0;34m]\u001b[0m\u001b[0;34m)\u001b[0m\u001b[0;34m]\u001b[0m\u001b[0;34m\u001b[0m\u001b[0;34m\u001b[0m\u001b[0m\n\u001b[0m\u001b[1;32m    672\u001b[0m     \u001b[0mcenters\u001b[0m \u001b[0;34m=\u001b[0m \u001b[0;34m[\u001b[0m\u001b[0mf\u001b[0m\u001b[0;34m[\u001b[0m\u001b[0;34m'playerid'\u001b[0m\u001b[0;34m]\u001b[0m \u001b[0;32mfor\u001b[0m \u001b[0mf\u001b[0m \u001b[0;32min\u001b[0m \u001b[0mforwards\u001b[0m\u001b[0;34m.\u001b[0m\u001b[0mto_dict\u001b[0m\u001b[0;34m(\u001b[0m\u001b[0;34m'records'\u001b[0m\u001b[0;34m)\u001b[0m \u001b[0;32mif\u001b[0m \u001b[0;34m(\u001b[0m\u001b[0mf\u001b[0m\u001b[0;34m[\u001b[0m\u001b[0;34m'position_count'\u001b[0m\u001b[0;34m]\u001b[0m \u001b[0;34m==\u001b[0m \u001b[0;36m1\u001b[0m\u001b[0;34m)\u001b[0m \u001b[0;34m&\u001b[0m \u001b[0;34m(\u001b[0m\u001b[0;34m'C'\u001b[0m \u001b[0;32min\u001b[0m \u001b[0mf\u001b[0m\u001b[0;34m[\u001b[0m\u001b[0;34m'positions'\u001b[0m\u001b[0;34m]\u001b[0m\u001b[0;34m)\u001b[0m\u001b[0;34m]\u001b[0m\u001b[0;34m\u001b[0m\u001b[0;34m\u001b[0m\u001b[0m\n\u001b[1;32m    673\u001b[0m     \u001b[0mright_wing\u001b[0m \u001b[0;34m=\u001b[0m \u001b[0;34m[\u001b[0m\u001b[0mf\u001b[0m\u001b[0;34m[\u001b[0m\u001b[0;34m'playerid'\u001b[0m\u001b[0;34m]\u001b[0m \u001b[0;32mfor\u001b[0m \u001b[0mf\u001b[0m \u001b[0;32min\u001b[0m \u001b[0mforwards\u001b[0m\u001b[0;34m.\u001b[0m\u001b[0mto_dict\u001b[0m\u001b[0;34m(\u001b[0m\u001b[0;34m'records'\u001b[0m\u001b[0;34m)\u001b[0m \u001b[0;32mif\u001b[0m \u001b[0;34m(\u001b[0m\u001b[0mf\u001b[0m\u001b[0;34m[\u001b[0m\u001b[0;34m'position_count'\u001b[0m\u001b[0;34m]\u001b[0m \u001b[0;34m==\u001b[0m \u001b[0;36m1\u001b[0m\u001b[0;34m)\u001b[0m \u001b[0;34m&\u001b[0m \u001b[0;34m(\u001b[0m\u001b[0;34m'RW'\u001b[0m \u001b[0;32min\u001b[0m \u001b[0mf\u001b[0m\u001b[0;34m[\u001b[0m\u001b[0;34m'positions'\u001b[0m\u001b[0;34m]\u001b[0m\u001b[0;34m)\u001b[0m\u001b[0;34m]\u001b[0m\u001b[0;34m\u001b[0m\u001b[0;34m\u001b[0m\u001b[0m\n",
      "\u001b[0;32m~/analytics/apple-model-app/helpers.py\u001b[0m in \u001b[0;36m<listcomp>\u001b[0;34m(.0)\u001b[0m\n\u001b[1;32m    669\u001b[0m     \u001b[0mforwards\u001b[0m \u001b[0;34m=\u001b[0m \u001b[0mteam_roster\u001b[0m\u001b[0;34m[\u001b[0m\u001b[0mteam_roster\u001b[0m\u001b[0;34m.\u001b[0m\u001b[0mposition\u001b[0m \u001b[0;34m==\u001b[0m \u001b[0;34m'F'\u001b[0m\u001b[0;34m]\u001b[0m\u001b[0;34m\u001b[0m\u001b[0;34m\u001b[0m\u001b[0m\n\u001b[1;32m    670\u001b[0m \u001b[0;34m\u001b[0m\u001b[0m\n\u001b[0;32m--> 671\u001b[0;31m     \u001b[0mleft_wing\u001b[0m \u001b[0;34m=\u001b[0m \u001b[0;34m[\u001b[0m\u001b[0mf\u001b[0m\u001b[0;34m[\u001b[0m\u001b[0;34m'playerid'\u001b[0m\u001b[0;34m]\u001b[0m \u001b[0;32mfor\u001b[0m \u001b[0mf\u001b[0m \u001b[0;32min\u001b[0m \u001b[0mforwards\u001b[0m\u001b[0;34m.\u001b[0m\u001b[0mto_dict\u001b[0m\u001b[0;34m(\u001b[0m\u001b[0;34m'records'\u001b[0m\u001b[0;34m)\u001b[0m \u001b[0;32mif\u001b[0m \u001b[0;34m(\u001b[0m\u001b[0mf\u001b[0m\u001b[0;34m[\u001b[0m\u001b[0;34m'position_count'\u001b[0m\u001b[0;34m]\u001b[0m \u001b[0;34m==\u001b[0m \u001b[0;36m1\u001b[0m\u001b[0;34m)\u001b[0m \u001b[0;34m&\u001b[0m \u001b[0;34m(\u001b[0m\u001b[0;34m'LW'\u001b[0m \u001b[0;32min\u001b[0m \u001b[0mf\u001b[0m\u001b[0;34m[\u001b[0m\u001b[0;34m'positions'\u001b[0m\u001b[0;34m]\u001b[0m\u001b[0;34m)\u001b[0m\u001b[0;34m]\u001b[0m\u001b[0;34m\u001b[0m\u001b[0;34m\u001b[0m\u001b[0m\n\u001b[0m\u001b[1;32m    672\u001b[0m     \u001b[0mcenters\u001b[0m \u001b[0;34m=\u001b[0m \u001b[0;34m[\u001b[0m\u001b[0mf\u001b[0m\u001b[0;34m[\u001b[0m\u001b[0;34m'playerid'\u001b[0m\u001b[0;34m]\u001b[0m \u001b[0;32mfor\u001b[0m \u001b[0mf\u001b[0m \u001b[0;32min\u001b[0m \u001b[0mforwards\u001b[0m\u001b[0;34m.\u001b[0m\u001b[0mto_dict\u001b[0m\u001b[0;34m(\u001b[0m\u001b[0;34m'records'\u001b[0m\u001b[0;34m)\u001b[0m \u001b[0;32mif\u001b[0m \u001b[0;34m(\u001b[0m\u001b[0mf\u001b[0m\u001b[0;34m[\u001b[0m\u001b[0;34m'position_count'\u001b[0m\u001b[0;34m]\u001b[0m \u001b[0;34m==\u001b[0m \u001b[0;36m1\u001b[0m\u001b[0;34m)\u001b[0m \u001b[0;34m&\u001b[0m \u001b[0;34m(\u001b[0m\u001b[0;34m'C'\u001b[0m \u001b[0;32min\u001b[0m \u001b[0mf\u001b[0m\u001b[0;34m[\u001b[0m\u001b[0;34m'positions'\u001b[0m\u001b[0;34m]\u001b[0m\u001b[0;34m)\u001b[0m\u001b[0;34m]\u001b[0m\u001b[0;34m\u001b[0m\u001b[0;34m\u001b[0m\u001b[0m\n\u001b[1;32m    673\u001b[0m     \u001b[0mright_wing\u001b[0m \u001b[0;34m=\u001b[0m \u001b[0;34m[\u001b[0m\u001b[0mf\u001b[0m\u001b[0;34m[\u001b[0m\u001b[0;34m'playerid'\u001b[0m\u001b[0;34m]\u001b[0m \u001b[0;32mfor\u001b[0m \u001b[0mf\u001b[0m \u001b[0;32min\u001b[0m \u001b[0mforwards\u001b[0m\u001b[0;34m.\u001b[0m\u001b[0mto_dict\u001b[0m\u001b[0;34m(\u001b[0m\u001b[0;34m'records'\u001b[0m\u001b[0;34m)\u001b[0m \u001b[0;32mif\u001b[0m \u001b[0;34m(\u001b[0m\u001b[0mf\u001b[0m\u001b[0;34m[\u001b[0m\u001b[0;34m'position_count'\u001b[0m\u001b[0;34m]\u001b[0m \u001b[0;34m==\u001b[0m \u001b[0;36m1\u001b[0m\u001b[0;34m)\u001b[0m \u001b[0;34m&\u001b[0m \u001b[0;34m(\u001b[0m\u001b[0;34m'RW'\u001b[0m \u001b[0;32min\u001b[0m \u001b[0mf\u001b[0m\u001b[0;34m[\u001b[0m\u001b[0;34m'positions'\u001b[0m\u001b[0;34m]\u001b[0m\u001b[0;34m)\u001b[0m\u001b[0;34m]\u001b[0m\u001b[0;34m\u001b[0m\u001b[0;34m\u001b[0m\u001b[0m\n",
      "\u001b[0;31mKeyError\u001b[0m: 'position_count'"
     ]
    }
   ],
   "source": [
    "get_forward_ids(pipeline)"
   ]
  },
  {
   "cell_type": "code",
   "execution_count": null,
   "metadata": {},
   "outputs": [],
   "source": []
  },
  {
   "cell_type": "code",
   "execution_count": null,
   "metadata": {},
   "outputs": [],
   "source": []
  }
 ],
 "metadata": {
  "kernelspec": {
   "display_name": "apple",
   "language": "python",
   "name": "apple"
  },
  "language_info": {
   "codemirror_mode": {
    "name": "ipython",
    "version": 3
   },
   "file_extension": ".py",
   "mimetype": "text/x-python",
   "name": "python",
   "nbconvert_exporter": "python",
   "pygments_lexer": "ipython3",
   "version": "3.7.6"
  }
 },
 "nbformat": 4,
 "nbformat_minor": 4
}
